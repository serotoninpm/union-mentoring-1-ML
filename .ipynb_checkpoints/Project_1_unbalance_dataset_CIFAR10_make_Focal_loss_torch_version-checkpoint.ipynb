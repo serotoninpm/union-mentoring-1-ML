{
 "cells": [
  {
   "cell_type": "markdown",
   "metadata": {
    "id": "8M3eOnh39bfO"
   },
   "source": [
    "1. torchvision을 사용하여 CIFAR10의 학습용 데이터, 시험용 데이터 불러오기, 정규화\n",
    "2. 합성곱 신경망 정의\n",
    "3. 손실 함수 정의\n",
    "4. 학습용 데이터를 사용하여 신경망 학습\n",
    "5. 시험용 데이터를 사용하여 신경망 검사"
   ]
  },
  {
   "cell_type": "code",
   "execution_count": 1,
   "metadata": {
    "id": "uXuITn8289eq"
   },
   "outputs": [],
   "source": [
    "#결과 inline에 출력\n",
    "%matplotlib inline"
   ]
  },
  {
   "cell_type": "code",
   "execution_count": 2,
   "metadata": {
    "id": "FEH4NGb6-KeH"
   },
   "outputs": [],
   "source": [
    "import torch\n",
    "import torchvision\n",
    "from torchvision.datasets import CIFAR10\n",
    "import torchvision.transforms as transforms\n",
    "import collections\n",
    "from sklearn import datasets\n",
    "from imblearn import under_sampling\n",
    "from typing import Any, Callable, Dict, List, Optional, Tuple\n",
    "import os\n",
    "import numpy as np\n",
    "from torch.nn import functional as F"
   ]
  },
  {
   "cell_type": "code",
   "execution_count": 3,
   "metadata": {
    "id": "WbDcVbDtYQxy"
   },
   "outputs": [],
   "source": [
    "device = torch.device(\"cuda:0\" if torch.cuda.is_available() else \"cpu\")"
   ]
  },
  {
   "cell_type": "code",
   "execution_count": 4,
   "metadata": {},
   "outputs": [
    {
     "name": "stdout",
     "output_type": "stream",
     "text": [
      "2\n"
     ]
    }
   ],
   "source": [
    "print(torch.cuda.device_count())"
   ]
  },
  {
   "cell_type": "code",
   "execution_count": 5,
   "metadata": {
    "scrolled": true
   },
   "outputs": [
    {
     "name": "stdout",
     "output_type": "stream",
     "text": [
      "1.7.1+cu101\n"
     ]
    }
   ],
   "source": [
    "print(torch.__version__)"
   ]
  },
  {
   "cell_type": "code",
   "execution_count": 6,
   "metadata": {},
   "outputs": [
    {
     "name": "stdout",
     "output_type": "stream",
     "text": [
      "0.8.2+cu101\n"
     ]
    }
   ],
   "source": [
    "print(torchvision.__version__)"
   ]
  },
  {
   "cell_type": "code",
   "execution_count": 7,
   "metadata": {
    "colab": {
     "base_uri": "https://localhost:8080/"
    },
    "id": "qwxpmJonGrsb",
    "outputId": "0fab87ba-52f8-4d2a-88bf-81fec7f02dc4"
   },
   "outputs": [
    {
     "name": "stdout",
     "output_type": "stream",
     "text": [
      "Files already downloaded and verified\n",
      "Files already downloaded and verified\n"
     ]
    }
   ],
   "source": [
    "transform = transforms.Compose(\n",
    "    [transforms.ToTensor(),\n",
    "     transforms.Normalize((0.5,), (0.5,))])\n",
    "\n",
    "batch_size = 2048\n",
    "\n",
    "trainset = torchvision.datasets.CIFAR10(root='./data', train=True,\n",
    "                                        download=True, transform=transform)\n",
    "trainloader = torch.utils.data.DataLoader(trainset, batch_size=batch_size,\n",
    "                                          shuffle=True, num_workers= 8 ,pin_memory= True)\n",
    "\n",
    "testset = torchvision.datasets.CIFAR10(root='./data', train=False,\n",
    "                                       download=True, transform=transform)\n",
    "testloader = torch.utils.data.DataLoader(testset, batch_size=batch_size,\n",
    "                                         shuffle=False, num_workers=8, pin_memory= True)\n",
    "\n",
    "classes = ('plane', 'car', 'bird', 'cat',\n",
    "           'deer', 'dog', 'frog', 'horse', 'ship', 'truck')"
   ]
  },
  {
   "cell_type": "code",
   "execution_count": 8,
   "metadata": {},
   "outputs": [
    {
     "data": {
      "text/plain": [
       "numpy.ndarray"
      ]
     },
     "execution_count": 8,
     "metadata": {},
     "output_type": "execute_result"
    }
   ],
   "source": [
    "type(trainset.data)"
   ]
  },
  {
   "cell_type": "code",
   "execution_count": 9,
   "metadata": {},
   "outputs": [
    {
     "data": {
      "text/plain": [
       "(50000, 32, 32, 3)"
      ]
     },
     "execution_count": 9,
     "metadata": {},
     "output_type": "execute_result"
    }
   ],
   "source": [
    "trainset.data.shape"
   ]
  },
  {
   "cell_type": "code",
   "execution_count": 10,
   "metadata": {},
   "outputs": [
    {
     "data": {
      "text/plain": [
       "array([[ 59,  62,  63],\n",
       "       [ 43,  46,  45],\n",
       "       [ 50,  48,  43],\n",
       "       [ 68,  54,  42],\n",
       "       [ 98,  73,  52],\n",
       "       [119,  91,  63],\n",
       "       [139, 107,  75],\n",
       "       [145, 110,  80],\n",
       "       [149, 117,  89],\n",
       "       [149, 120,  93],\n",
       "       [131, 103,  77],\n",
       "       [125,  99,  76],\n",
       "       [142, 115,  91],\n",
       "       [144, 112,  86],\n",
       "       [137, 105,  79],\n",
       "       [129,  97,  71],\n",
       "       [137, 106,  79],\n",
       "       [134, 106,  76],\n",
       "       [124,  97,  64],\n",
       "       [139, 113,  78],\n",
       "       [139, 112,  75],\n",
       "       [133, 105,  69],\n",
       "       [136, 105,  74],\n",
       "       [139, 108,  77],\n",
       "       [152, 120,  89],\n",
       "       [163, 131, 100],\n",
       "       [168, 136, 108],\n",
       "       [159, 129, 102],\n",
       "       [158, 130, 104],\n",
       "       [158, 132, 108],\n",
       "       [152, 125, 102],\n",
       "       [148, 124, 103]], dtype=uint8)"
      ]
     },
     "execution_count": 10,
     "metadata": {},
     "output_type": "execute_result"
    }
   ],
   "source": [
    "trainset.data[0][0]"
   ]
  },
  {
   "cell_type": "code",
   "execution_count": 11,
   "metadata": {},
   "outputs": [
    {
     "data": {
      "text/plain": [
       "list"
      ]
     },
     "execution_count": 11,
     "metadata": {},
     "output_type": "execute_result"
    }
   ],
   "source": [
    "type(trainset.targets)"
   ]
  },
  {
   "cell_type": "code",
   "execution_count": 12,
   "metadata": {},
   "outputs": [
    {
     "name": "stdout",
     "output_type": "stream",
     "text": [
      "Original dataset shape Counter({6: 5000, 9: 5000, 4: 5000, 1: 5000, 2: 5000, 7: 5000, 8: 5000, 3: 5000, 5: 5000, 0: 5000})\n"
     ]
    }
   ],
   "source": [
    "print('Original dataset shape %s' % collections.Counter(trainset.targets))\n"
   ]
  },
  {
   "cell_type": "code",
   "execution_count": 13,
   "metadata": {},
   "outputs": [],
   "source": [
    "class unbalance_CIFAR10(CIFAR10):\n",
    "     def __init__(\n",
    "            self,\n",
    "            root: str,\n",
    "            train: bool = True,\n",
    "            transform: Optional[Callable] = None,\n",
    "            target_transform: Optional[Callable] = None,\n",
    "            download: bool = False,\n",
    "    ) -> None:\n",
    "        super(unbalance_CIFAR10, self).__init__(root, transform=transform,\n",
    "                                    target_transform=target_transform)\n",
    "        \n",
    "\n",
    "     \n",
    "        rus = under_sampling.RandomUnderSampler(\n",
    "            sampling_strategy={\n",
    "                0: 500,\n",
    "                1: 5000,\n",
    "                2: 500,\n",
    "                3: 5000,\n",
    "                4: 500,\n",
    "                5: 5000,\n",
    "                6: 500,\n",
    "                7: 5000,\n",
    "                8: 500,\n",
    "                9: 5000\n",
    "                \n",
    "            },\n",
    "            random_state=42\n",
    "        )\n",
    "        self.data, self.targets = rus.fit_resample(np.array(self.data).reshape(50000,32*32*3), np.array(self.targets))\n",
    "#         self.data, self.targets = torch.Tensor(self.data.reshape(-1,32,32,3)).to(dtype=torch.uint8), torch.Tensor(self.targets).to(dtype=torch.uint8)\n",
    "        self.data, self.targets = self.data.reshape(-1,32,32,3), self.targets\n",
    "\n"
   ]
  },
  {
   "cell_type": "code",
   "execution_count": 14,
   "metadata": {},
   "outputs": [
    {
     "name": "stdout",
     "output_type": "stream",
     "text": [
      "Files already downloaded and verified\n"
     ]
    }
   ],
   "source": [
    "transform = transforms.Compose(\n",
    "    [transforms.ToTensor(),\n",
    "     transforms.Normalize((0.5,), (0.5,))])\n",
    "\n",
    "batch_size = 2048\n",
    "\n",
    "trainset = unbalance_CIFAR10(root='./data', train=True,\n",
    "                                        download=True, transform=transform)\n",
    "\n",
    "trainloader = torch.utils.data.DataLoader(trainset, batch_size=batch_size,\n",
    "                                          shuffle=True, num_workers= 8 ,pin_memory= True)\n",
    "\n",
    "testset = torchvision.datasets.CIFAR10(root='./data', train=False,\n",
    "                                       download=True, transform=transform)\n",
    "testloader = torch.utils.data.DataLoader(testset, batch_size=batch_size,\n",
    "                                         shuffle=True, num_workers=8, pin_memory= True)\n",
    "\n",
    "classes = ('plane', 'car', 'bird', 'cat',\n",
    "           'deer', 'dog', 'frog', 'horse', 'ship', 'truck')"
   ]
  },
  {
   "cell_type": "code",
   "execution_count": 15,
   "metadata": {},
   "outputs": [
    {
     "name": "stdout",
     "output_type": "stream",
     "text": [
      "reshape dataset shape Counter({1: 5000, 3: 5000, 5: 5000, 7: 5000, 9: 5000, 0: 500, 2: 500, 4: 500, 6: 500, 8: 500})\n"
     ]
    }
   ],
   "source": [
    "print('reshape dataset shape %s' % collections.Counter(trainset.targets.tolist()))"
   ]
  },
  {
   "cell_type": "code",
   "execution_count": 16,
   "metadata": {},
   "outputs": [
    {
     "data": {
      "text/plain": [
       "numpy.ndarray"
      ]
     },
     "execution_count": 16,
     "metadata": {},
     "output_type": "execute_result"
    }
   ],
   "source": [
    "type(trainset.data)"
   ]
  },
  {
   "cell_type": "code",
   "execution_count": 17,
   "metadata": {},
   "outputs": [
    {
     "data": {
      "text/plain": [
       "numpy.ndarray"
      ]
     },
     "execution_count": 17,
     "metadata": {},
     "output_type": "execute_result"
    }
   ],
   "source": [
    "type(testset.data)"
   ]
  },
  {
   "cell_type": "code",
   "execution_count": 18,
   "metadata": {},
   "outputs": [
    {
     "data": {
      "text/plain": [
       "(27500, 32, 32, 3)"
      ]
     },
     "execution_count": 18,
     "metadata": {},
     "output_type": "execute_result"
    }
   ],
   "source": [
    "trainset.data.shape"
   ]
  },
  {
   "cell_type": "code",
   "execution_count": 19,
   "metadata": {},
   "outputs": [
    {
     "data": {
      "text/plain": [
       "numpy.ndarray"
      ]
     },
     "execution_count": 19,
     "metadata": {},
     "output_type": "execute_result"
    }
   ],
   "source": [
    "type(trainset.targets)"
   ]
  },
  {
   "cell_type": "code",
   "execution_count": 20,
   "metadata": {},
   "outputs": [
    {
     "data": {
      "text/plain": [
       "27500"
      ]
     },
     "execution_count": 20,
     "metadata": {},
     "output_type": "execute_result"
    }
   ],
   "source": [
    "len(trainset.data)"
   ]
  },
  {
   "cell_type": "code",
   "execution_count": 21,
   "metadata": {
    "colab": {
     "base_uri": "https://localhost:8080/",
     "height": 307
    },
    "id": "rgQfhxpXJZ5f",
    "outputId": "859af676-6ece-430a-a4ff-0b0346bd5bc7"
   },
   "outputs": [
    {
     "name": "stdout",
     "output_type": "stream",
     "text": [
      "<torch.utils.data.dataloader._MultiProcessingDataLoaderIter object at 0x7f94ddfbd0f0>\n"
     ]
    },
    {
     "data": {
      "image/png": "[encoded data removed]",
      "text/plain": [
       "<Figure size 432x288 with 1 Axes>"
      ]
     },
     "metadata": {},
     "output_type": "display_data"
    },
    {
     "name": "stdout",
     "output_type": "stream",
     "text": [
      "truck truck truck   dog\n"
     ]
    }
   ],
   "source": [
    "import matplotlib.pyplot as plt\n",
    "import numpy as np\n",
    "\n",
    "# 이미지를 보여주기 위한 함수\n",
    "\n",
    "def imshow(img):\n",
    "    img = img / 2 + 0.5     # unnormalize\n",
    "    npimg = img.numpy()\n",
    "    plt.imshow(np.transpose(npimg, (1, 2, 0)))\n",
    "    plt.show()\n",
    "\n",
    "\n",
    "# 학습용 이미지를 무작위로 가져오기\n",
    "dataiter = iter(trainloader)\n",
    "print(dataiter)\n",
    "images, labels = dataiter.next()\n",
    "# 이미지 보여주기\n",
    "imshow(torchvision.utils.make_grid(images))\n",
    "# 정답(label) 출력\n",
    "print(' '.join('%5s' % classes[labels[j]] for j in range(4)))"
   ]
  },
  {
   "cell_type": "code",
   "execution_count": 22,
   "metadata": {
    "colab": {
     "base_uri": "https://localhost:8080/"
    },
    "id": "NB7aQV8uJZv6",
    "outputId": "a827f329-4e7f-4478-b1c1-839409b5d2a3"
   },
   "outputs": [
    {
     "data": {
      "text/plain": [
       "DataParallel(\n",
       "  (module): Net(\n",
       "    (layer1): Sequential(\n",
       "      (0): Conv2d(3, 32, kernel_size=(3, 3), stride=(1, 1))\n",
       "      (1): ReLU()\n",
       "      (2): Conv2d(32, 32, kernel_size=(3, 3), stride=(1, 1))\n",
       "      (3): ReLU()\n",
       "      (4): MaxPool2d(kernel_size=2, stride=2, padding=0, dilation=1, ceil_mode=False)\n",
       "      (5): Dropout(p=0.2, inplace=False)\n",
       "    )\n",
       "    (layer2): Sequential(\n",
       "      (0): Conv2d(32, 64, kernel_size=(3, 3), stride=(1, 1))\n",
       "      (1): ReLU()\n",
       "      (2): Conv2d(64, 64, kernel_size=(3, 3), stride=(1, 1))\n",
       "      (3): ReLU()\n",
       "      (4): MaxPool2d(kernel_size=2, stride=2, padding=0, dilation=1, ceil_mode=False)\n",
       "      (5): Dropout(p=0.2, inplace=False)\n",
       "    )\n",
       "    (fc1): Linear(in_features=1600, out_features=120, bias=True)\n",
       "    (bn1): BatchNorm1d(120, eps=1e-05, momentum=0.1, affine=True, track_running_stats=True)\n",
       "    (bn2): BatchNorm1d(84, eps=1e-05, momentum=0.1, affine=True, track_running_stats=True)\n",
       "    (fc2): Linear(in_features=120, out_features=84, bias=True)\n",
       "    (fc3): Linear(in_features=84, out_features=10, bias=True)\n",
       "  )\n",
       ")"
      ]
     },
     "execution_count": 22,
     "metadata": {},
     "output_type": "execute_result"
    }
   ],
   "source": [
    "import torch.nn as nn\n",
    "import torch.nn.functional as F\n",
    "\n",
    "\n",
    "class Net(nn.Module):\n",
    "    def __init__(self):\n",
    "        super().__init__()\n",
    "        self.layer1 = torch.nn.Sequential(\n",
    "          nn.Conv2d(3, 32, 3),\n",
    "          nn.ReLU(),\n",
    "          nn.Conv2d(32, 32, 3),\n",
    "          nn.ReLU(),\n",
    "          nn.MaxPool2d(2, 2),\n",
    "          nn.Dropout(0.2)\n",
    "        )\n",
    "\n",
    "        self.layer2 = torch.nn.Sequential(\n",
    "          nn.Conv2d(32, 64, 3),\n",
    "          nn.ReLU(),\n",
    "          nn.Conv2d(64, 64, 3),\n",
    "          nn.ReLU(),\n",
    "          nn.MaxPool2d(2, 2),\n",
    "          nn.Dropout(0.2)\n",
    "        )\n",
    "\n",
    "\n",
    "        self.fc1 = nn.Linear(1600, 120)\n",
    "        self.bn1 = nn.BatchNorm1d(120)\n",
    "        self.bn2 = nn.BatchNorm1d(84)\n",
    "        self.fc2 = nn.Linear(120, 84)\n",
    "        self.fc3 = nn.Linear(84, 10)\n",
    "\n",
    "\n",
    "    def forward(self, x):\n",
    "        x = self.layer1(x)\n",
    "        x = self.layer2(x)\n",
    "        x = torch.flatten(x, 1) # 배치를 제외한 모든 차원을 평탄화(flatten)\n",
    "        x = F.relu(self.bn1(self.fc1(x)))\n",
    "        x = F.relu(self.bn2(self.fc2(x)))\n",
    "        x = self.fc3(x)\n",
    "        return x\n",
    "\n",
    "\n",
    "net = Net()\n",
    "\n",
    "if torch.cuda.device_count() > 1:\n",
    "    net = nn.DataParallel(net)\n",
    "\n",
    "net.to(device)"
   ]
  },
  {
   "cell_type": "code",
   "execution_count": 23,
   "metadata": {
    "id": "NmP7RK2FWytM"
   },
   "outputs": [],
   "source": [
    "import torch.optim as optim\n",
    "\n",
    "# criterion = nn.CrossEntropyLoss()\n",
    "optimizer = optim.Adam(net.parameters(), lr=0.001)"
   ]
  },
  {
   "cell_type": "code",
   "execution_count": 24,
   "metadata": {},
   "outputs": [],
   "source": [
    "#torch 를 이용해서 재구성하기, for문을 사용하면 느려질 수 밖에 없음"
   ]
  },
  {
   "cell_type": "code",
   "execution_count": null,
   "metadata": {},
   "outputs": [],
   "source": []
  },
  {
   "cell_type": "code",
   "execution_count": 25,
   "metadata": {},
   "outputs": [],
   "source": [
    "def custom_CE_tensor(output,labels):\n",
    "    log_prob = -1.0 * F.log_softmax(output, 1)\n",
    "    loss = log_prob.gather(1, labels.unsqueeze(1))\n",
    "    loss = loss.mean()\n",
    "    return loss"
   ]
  },
  {
   "cell_type": "code",
   "execution_count": 26,
   "metadata": {},
   "outputs": [],
   "source": [
    "import time\n",
    "start = time.time()  # 시작 시간 저장"
   ]
  },
  {
   "cell_type": "code",
   "execution_count": 27,
   "metadata": {
    "colab": {
     "base_uri": "https://localhost:8080/"
    },
    "id": "sPYggzAfW0Be",
    "outputId": "14b7fb32-dfdf-4530-c83d-f03b72f2b92a"
   },
   "outputs": [
    {
     "name": "stdout",
     "output_type": "stream",
     "text": [
      "[1,    10] loss: 1.864\n",
      "[2,    10] loss: 1.364\n",
      "[3,    10] loss: 1.180\n",
      "[4,    10] loss: 1.063\n",
      "[5,    10] loss: 0.978\n",
      "[6,    10] loss: 0.895\n",
      "[7,    10] loss: 0.836\n",
      "[8,    10] loss: 0.783\n",
      "[9,    10] loss: 0.734\n",
      "[10,    10] loss: 0.681\n",
      "[11,    10] loss: 0.642\n",
      "[12,    10] loss: 0.600\n",
      "[13,    10] loss: 0.565\n",
      "[14,    10] loss: 0.540\n",
      "[15,    10] loss: 0.504\n",
      "[16,    10] loss: 0.480\n",
      "[17,    10] loss: 0.452\n",
      "[18,    10] loss: 0.423\n",
      "[19,    10] loss: 0.398\n",
      "[20,    10] loss: 0.386\n",
      "[21,    10] loss: 0.358\n",
      "[22,    10] loss: 0.342\n",
      "[23,    10] loss: 0.314\n",
      "[24,    10] loss: 0.295\n",
      "[25,    10] loss: 0.283\n",
      "[26,    10] loss: 0.260\n",
      "[27,    10] loss: 0.245\n",
      "[28,    10] loss: 0.235\n",
      "[29,    10] loss: 0.217\n",
      "[30,    10] loss: 0.212\n",
      "[31,    10] loss: 0.213\n",
      "[32,    10] loss: 0.197\n",
      "[33,    10] loss: 0.186\n",
      "[34,    10] loss: 0.170\n",
      "[35,    10] loss: 0.153\n",
      "[36,    10] loss: 0.154\n",
      "[37,    10] loss: 0.152\n",
      "[38,    10] loss: 0.143\n",
      "[39,    10] loss: 0.139\n",
      "[40,    10] loss: 0.129\n",
      "[41,    10] loss: 0.128\n",
      "[42,    10] loss: 0.126\n",
      "[43,    10] loss: 0.121\n",
      "[44,    10] loss: 0.117\n",
      "[45,    10] loss: 0.112\n",
      "[46,    10] loss: 0.107\n",
      "[47,    10] loss: 0.104\n",
      "[48,    10] loss: 0.102\n",
      "[49,    10] loss: 0.095\n",
      "[50,    10] loss: 0.092\n",
      "[51,    10] loss: 0.090\n",
      "[52,    10] loss: 0.088\n",
      "[53,    10] loss: 0.091\n",
      "[54,    10] loss: 0.082\n",
      "[55,    10] loss: 0.084\n",
      "[56,    10] loss: 0.082\n",
      "[57,    10] loss: 0.078\n",
      "[58,    10] loss: 0.078\n",
      "[59,    10] loss: 0.075\n",
      "[60,    10] loss: 0.072\n",
      "[61,    10] loss: 0.078\n",
      "[62,    10] loss: 0.072\n",
      "[63,    10] loss: 0.069\n",
      "[64,    10] loss: 0.070\n",
      "[65,    10] loss: 0.070\n",
      "[66,    10] loss: 0.067\n",
      "[67,    10] loss: 0.061\n",
      "[68,    10] loss: 0.064\n",
      "[69,    10] loss: 0.067\n",
      "[70,    10] loss: 0.065\n",
      "[71,    10] loss: 0.060\n",
      "[72,    10] loss: 0.058\n",
      "[73,    10] loss: 0.060\n",
      "[74,    10] loss: 0.057\n",
      "[75,    10] loss: 0.058\n",
      "[76,    10] loss: 0.056\n",
      "[77,    10] loss: 0.057\n",
      "[78,    10] loss: 0.056\n",
      "[79,    10] loss: 0.054\n",
      "[80,    10] loss: 0.058\n",
      "[81,    10] loss: 0.057\n",
      "[82,    10] loss: 0.055\n",
      "[83,    10] loss: 0.052\n",
      "[84,    10] loss: 0.049\n",
      "[85,    10] loss: 0.049\n",
      "[86,    10] loss: 0.051\n",
      "[87,    10] loss: 0.048\n",
      "[88,    10] loss: 0.048\n",
      "[89,    10] loss: 0.044\n",
      "[90,    10] loss: 0.047\n",
      "[91,    10] loss: 0.043\n",
      "[92,    10] loss: 0.045\n",
      "[93,    10] loss: 0.041\n",
      "[94,    10] loss: 0.044\n",
      "[95,    10] loss: 0.046\n",
      "[96,    10] loss: 0.049\n",
      "[97,    10] loss: 0.046\n",
      "[98,    10] loss: 0.045\n",
      "[99,    10] loss: 0.045\n",
      "[100,    10] loss: 0.045\n",
      "[101,    10] loss: 0.046\n",
      "[102,    10] loss: 0.046\n",
      "[103,    10] loss: 0.041\n",
      "[104,    10] loss: 0.046\n",
      "[105,    10] loss: 0.043\n",
      "[106,    10] loss: 0.042\n",
      "[107,    10] loss: 0.041\n",
      "[108,    10] loss: 0.045\n",
      "[109,    10] loss: 0.045\n",
      "[110,    10] loss: 0.040\n",
      "[111,    10] loss: 0.044\n",
      "[112,    10] loss: 0.042\n",
      "[113,    10] loss: 0.043\n",
      "[114,    10] loss: 0.042\n",
      "[115,    10] loss: 0.038\n",
      "[116,    10] loss: 0.039\n",
      "[117,    10] loss: 0.036\n",
      "[118,    10] loss: 0.036\n",
      "[119,    10] loss: 0.034\n",
      "[120,    10] loss: 0.038\n",
      "[121,    10] loss: 0.037\n",
      "[122,    10] loss: 0.036\n",
      "[123,    10] loss: 0.033\n",
      "[124,    10] loss: 0.034\n",
      "[125,    10] loss: 0.034\n",
      "[126,    10] loss: 0.038\n",
      "[127,    10] loss: 0.039\n",
      "[128,    10] loss: 0.037\n",
      "[129,    10] loss: 0.035\n",
      "[130,    10] loss: 0.037\n",
      "[131,    10] loss: 0.033\n",
      "[132,    10] loss: 0.032\n",
      "[133,    10] loss: 0.034\n",
      "[134,    10] loss: 0.033\n",
      "[135,    10] loss: 0.032\n",
      "[136,    10] loss: 0.034\n",
      "[137,    10] loss: 0.034\n",
      "[138,    10] loss: 0.037\n",
      "[139,    10] loss: 0.037\n",
      "[140,    10] loss: 0.031\n",
      "[141,    10] loss: 0.032\n",
      "[142,    10] loss: 0.034\n",
      "[143,    10] loss: 0.032\n",
      "[144,    10] loss: 0.029\n",
      "[145,    10] loss: 0.034\n",
      "[146,    10] loss: 0.030\n",
      "[147,    10] loss: 0.030\n",
      "[148,    10] loss: 0.032\n",
      "[149,    10] loss: 0.031\n",
      "[150,    10] loss: 0.032\n",
      "[151,    10] loss: 0.031\n",
      "[152,    10] loss: 0.033\n",
      "[153,    10] loss: 0.032\n",
      "[154,    10] loss: 0.030\n",
      "[155,    10] loss: 0.030\n",
      "[156,    10] loss: 0.033\n",
      "[157,    10] loss: 0.029\n",
      "[158,    10] loss: 0.031\n",
      "[159,    10] loss: 0.029\n",
      "[160,    10] loss: 0.030\n",
      "[161,    10] loss: 0.029\n",
      "[162,    10] loss: 0.029\n",
      "[163,    10] loss: 0.032\n",
      "[164,    10] loss: 0.030\n",
      "[165,    10] loss: 0.029\n",
      "[166,    10] loss: 0.028\n",
      "[167,    10] loss: 0.030\n",
      "[168,    10] loss: 0.027\n",
      "[169,    10] loss: 0.028\n",
      "[170,    10] loss: 0.029\n",
      "[171,    10] loss: 0.028\n",
      "[172,    10] loss: 0.031\n",
      "[173,    10] loss: 0.031\n",
      "[174,    10] loss: 0.030\n",
      "[175,    10] loss: 0.028\n",
      "[176,    10] loss: 0.031\n",
      "[177,    10] loss: 0.030\n",
      "[178,    10] loss: 0.026\n",
      "[179,    10] loss: 0.026\n",
      "[180,    10] loss: 0.027\n",
      "[181,    10] loss: 0.026\n",
      "[182,    10] loss: 0.026\n",
      "[183,    10] loss: 0.027\n",
      "[184,    10] loss: 0.025\n",
      "[185,    10] loss: 0.027\n",
      "[186,    10] loss: 0.027\n",
      "[187,    10] loss: 0.024\n",
      "[188,    10] loss: 0.026\n",
      "[189,    10] loss: 0.026\n",
      "[190,    10] loss: 0.025\n",
      "[191,    10] loss: 0.022\n",
      "[192,    10] loss: 0.029\n",
      "[193,    10] loss: 0.032\n",
      "[194,    10] loss: 0.031\n",
      "[195,    10] loss: 0.030\n",
      "[196,    10] loss: 0.029\n",
      "[197,    10] loss: 0.030\n",
      "[198,    10] loss: 0.028\n",
      "[199,    10] loss: 0.032\n",
      "[200,    10] loss: 0.028\n",
      "Finished Training\n"
     ]
    }
   ],
   "source": [
    "net.train()\n",
    "for epoch in range(200):   # 데이터셋을 수차례 반복합니다.\n",
    "    running_loss = 0.0\n",
    "    for i, data in enumerate(trainloader, 0):\n",
    "        # [inputs, labels]의 목록인 data로부터 입력을 받은 후;\n",
    "        inputs, labels = data[0].to(device), data[1].to(device)\n",
    "\n",
    "        # 변화도(Gradient) 매개변수를 0으로 만들고\n",
    "        optimizer.zero_grad()\n",
    "\n",
    "        # 순전파 + 역전파 + 최적화를 한 후\n",
    "        outputs = net(inputs)\n",
    "        loss = custom_CE_tensor(outputs, labels)\n",
    "        loss.backward()\n",
    "        optimizer.step()\n",
    "\n",
    "        # 통계를 출력합니다.\n",
    "        running_loss += loss.item()\n",
    "        if i % 10 == 9:    # print every 2000 mini-batches\n",
    "            print('[%d, %5d] loss: %.3f' %\n",
    "                  (epoch + 1, i + 1, running_loss / 10))\n",
    "            running_loss = 0.0\n",
    "\n",
    "print('Finished Training')"
   ]
  },
  {
   "cell_type": "code",
   "execution_count": 28,
   "metadata": {},
   "outputs": [
    {
     "name": "stdout",
     "output_type": "stream",
     "text": [
      "time : 415.81495666503906\n"
     ]
    }
   ],
   "source": [
    "print(\"time :\", time.time() - start)  # 현재시각 - 시작시간 = 실행 시간"
   ]
  },
  {
   "cell_type": "code",
   "execution_count": 29,
   "metadata": {
    "id": "SYFO6TofWz-0"
   },
   "outputs": [],
   "source": [
    "# PATH = './fashion_net.pth'\n",
    "# torch.save(net.state_dict(), PATH)"
   ]
  },
  {
   "cell_type": "code",
   "execution_count": 30,
   "metadata": {
    "colab": {
     "base_uri": "https://localhost:8080/"
    },
    "id": "xi8HjximWz5-",
    "outputId": "688f3e8e-f55b-4d0d-b51c-d29a5e2c8c53"
   },
   "outputs": [
    {
     "name": "stdout",
     "output_type": "stream",
     "text": [
      "GroundTruth:    dog truck plane   cat horse  frog   dog  ship plane horse  ship  ship  deer  frog  ship  deer  ship   dog plane  bird   car truck   car horse   dog horse truck   car   dog horse  deer   cat  frog  bird   car horse   cat truck  deer   cat   dog truck  frog  ship horse   dog plane   car plane   dog   car  bird  ship   cat  deer   car   car   car  deer  bird plane   car horse   dog\n"
     ]
    }
   ],
   "source": [
    "dataiter = iter(testloader)\n",
    "images, labels = dataiter.next()\n",
    "images = images.to(device)\n",
    "labels = labels.to(device)\n",
    "# 이미지를 출력합니다.\n",
    "# imshow(torchvision.utils.make_grid(images))\n",
    "print('GroundTruth: ', ' '.join('%5s' % classes[labels[j]] for j in range(64)))"
   ]
  },
  {
   "cell_type": "code",
   "execution_count": 31,
   "metadata": {
    "id": "eAQ14i67Xzdk"
   },
   "outputs": [],
   "source": [
    "# net = Net()\n",
    "# net.to(device)\n",
    "# net.load_state_dict(torch.load(PATH))"
   ]
  },
  {
   "cell_type": "code",
   "execution_count": 32,
   "metadata": {
    "id": "xW5s_VvOX2Kr"
   },
   "outputs": [],
   "source": [
    "net.train()\n",
    "outputs = net(images)"
   ]
  },
  {
   "cell_type": "code",
   "execution_count": 33,
   "metadata": {
    "colab": {
     "base_uri": "https://localhost:8080/"
    },
    "id": "-EUVmr_-X2IL",
    "outputId": "07dd4599-2c71-46e0-f132-e1f09e678af2"
   },
   "outputs": [
    {
     "name": "stdout",
     "output_type": "stream",
     "text": [
      "Predicted:    dog truck   cat   cat horse   dog   dog   car horse horse   car  ship horse   dog   cat horse  ship   dog   cat   car   car truck   car horse   dog horse truck   car   dog horse horse   cat  frog   cat   car horse horse truck horse   cat   dog truck   cat  ship horse   dog  ship   car   cat horse truck   dog  ship truck   dog   car   car   car   dog   cat plane   car horse   dog   cat plane  ship horse horse horse   cat   dog horse truck truck   cat horse horse  ship   dog   car horse truck  ship   car truck truck  frog   car truck   dog   cat truck  frog   dog   cat truck   car truck   car plane plane   car   cat  frog truck   dog truck   cat   cat   dog   car truck truck  ship   car   cat plane   dog horse truck   cat   dog   cat  deer   car   cat   cat horse horse   dog   cat   car horse plane   dog truck  bird   car   cat horse   cat truck  bird   dog   car   cat   cat horse   cat horse  deer truck   car   cat   dog   cat truck truck   dog  bird horse   dog   dog   car truck horse  ship plane truck truck truck plane   cat   cat   cat   cat horse   dog   cat   dog  ship truck   dog truck   dog  ship horse   car   dog truck  deer truck plane truck horse truck   car truck   car   cat horse truck horse horse   cat horse truck  bird  ship   dog  ship horse   cat  frog   car plane   car   car   cat truck   car   dog   car   car   cat horse truck  frog horse truck horse   dog horse   car horse horse horse  bird truck truck   cat   cat   car horse   cat plane   cat   cat   cat horse   car  ship  bird   cat   cat truck plane plane   cat  ship horse truck   cat horse  bird horse   dog   car horse  frog  ship truck   cat   car   dog plane horse horse   dog  deer   car   cat   car truck horse horse   car horse   dog truck   cat  deer   dog  ship   dog  ship  deer   car   car   cat   cat   car   cat   car   dog   dog   car truck   dog truck   car   dog   car horse   dog   cat truck   dog horse  bird   car   car   dog   cat   cat   dog   dog  ship truck   cat   dog  ship   car horse   dog truck horse truck   cat truck   cat  frog horse  bird   car   car  ship  frog   car horse   car   cat   cat   dog   cat   cat horse plane   car   dog  bird horse   cat horse horse  bird horse   car   cat truck horse   car   car truck truck horse   car horse   cat   car   dog  frog   cat   cat horse truck  bird   cat truck horse   cat   car truck   cat   cat truck   cat truck   dog   dog  deer truck   dog   cat   cat  ship   dog   dog   dog   car   cat   cat horse truck truck   dog   car  frog  ship   car   cat   cat   dog truck plane   car  bird truck  frog horse truck  bird   cat   car  bird horse truck   dog   dog truck   car   dog   car   dog  frog   cat   dog  bird horse  deer   car   dog  frog  bird truck   cat   cat   car horse   car horse truck  bird  ship horse horse   dog plane   cat   dog horse plane   dog   car   cat truck truck   cat   car horse truck plane truck   cat   cat  ship horse   car  frog   car   cat   dog   dog horse   cat   car   cat   car truck  ship   car   cat horse  deer   car truck truck   dog   car horse   car  ship truck   car truck  ship   dog   car  deer   dog plane   cat horse truck   dog plane   dog   car   car   cat   car   dog   cat truck  frog truck truck truck   cat   cat plane  ship   cat   car  bird   cat   car horse   cat   cat   cat   car   dog horse   dog   car truck horse   cat  deer truck horse   dog   car   dog   dog   cat   cat   dog horse   car   dog   car   car  ship   car   car  bird truck   dog   cat   car   dog   car plane  ship   cat   cat   car   cat   car   car plane truck   cat truck   cat truck   dog   dog plane   car horse horse truck   car horse truck truck  deer   dog   cat truck   car horse truck   car   dog   dog   dog truck truck  bird  deer   cat   car   cat   dog   car   car   dog   cat   car   car   cat plane  frog truck   cat   dog   dog horse   car   car   car truck   cat   car   cat horse horse  ship horse   cat   cat horse   cat   dog   dog   dog   dog   dog horse   dog   dog  bird truck horse plane   dog horse truck truck truck   dog truck plane horse truck   dog   cat horse horse horse  frog  bird   car   car   car   cat   dog   dog  deer   dog   cat   dog   dog horse   dog horse   cat   cat horse horse   dog   cat   car plane truck horse   dog   car   car   cat horse horse   cat truck   cat plane truck   cat horse horse   dog horse truck horse  deer horse   cat truck plane horse   dog   car horse   car   cat   car   dog   cat   dog   car horse horse truck   car   cat  deer horse  frog   car truck truck horse horse   cat  frog   cat   dog  ship horse   car   car   dog truck  frog   cat horse   car  bird  frog  deer truck  deer truck   dog   car truck  ship truck truck horse horse   cat horse horse   cat  deer   dog   dog   dog   dog   cat horse truck   cat  frog   dog   car  frog   dog plane horse   dog   dog  frog  bird  frog truck truck   dog   dog   dog horse truck   dog   cat  bird   cat horse   dog truck  bird   cat  frog horse   car horse  frog   cat truck truck   dog   car  ship   car truck truck   dog   dog   cat  bird   cat   dog horse  frog plane   car   car  ship   cat truck  deer   car   dog   cat   cat truck truck truck horse   cat   cat plane  ship   cat truck truck plane   cat  ship horse truck  ship   dog truck  deer truck  frog   cat   car truck   dog   cat horse  ship   car   dog  ship horse   car   car horse   car   dog   dog   car   dog  bird truck  deer horse   cat   cat truck   dog   cat   car   dog   car   dog   car horse   cat  frog   cat   dog   car   dog   cat horse  ship horse   dog truck   cat truck  frog   dog horse   cat   car   car horse horse horse   cat  ship   cat  ship   car   dog truck   cat horse horse horse horse   cat truck   cat   dog   car   car   dog horse   cat  bird   dog truck   dog horse truck   cat   car  bird truck horse   cat   car truck   dog horse   car  ship horse  deer truck  frog   dog  deer plane truck plane   cat  bird horse   dog   cat horse truck   car   dog  ship horse horse   dog  ship   car   cat   cat   car truck  frog   dog horse truck  deer  deer  deer   cat  ship   car   dog truck   car plane   dog plane horse horse  bird   car   cat horse   cat plane horse   car   car   dog   car   car  ship truck   dog   car   dog   car horse truck horse   car   cat horse   dog horse horse   car horse  ship horse   car   cat horse horse  ship horse   dog truck  ship   car truck truck horse   car   dog   cat  bird truck horse   cat plane   car truck   cat   car   cat   car horse   car horse   cat   car   cat   car truck truck horse truck  ship truck truck truck   cat   car truck   cat   dog   dog truck  ship   car  ship  ship truck   dog   cat truck truck   cat   dog   car   cat truck truck   dog   dog  ship truck  deer horse  frog   cat   dog   dog   car   cat horse truck  frog horse truck horse   cat  deer   dog  deer plane   dog  bird plane  bird   car  bird   car horse truck   cat  frog horse   dog horse   cat   car horse truck   dog   car truck   dog   car truck   cat horse plane  ship   car   car   cat truck truck   cat   cat   car   dog   car   cat   car   car  deer truck horse horse   car   car   cat truck truck   dog  ship   cat   dog   dog   cat truck horse   car   dog  deer   dog plane   car horse horse truck   dog  deer   cat truck   dog   dog   dog plane truck  frog plane  frog horse  deer truck horse truck   cat   cat   cat   dog truck   dog   cat   dog horse  deer horse   cat   car   car  ship   cat   cat  frog  deer   cat   dog horse horse   cat plane truck horse  ship   dog   car   car horse   cat truck   cat   dog   dog truck  frog horse horse   car horse   cat truck  ship horse truck   cat   dog truck  ship   dog   cat   cat horse   cat   cat  ship   cat  deer   dog horse  bird  ship truck horse   dog horse   car   cat  frog horse  deer   dog   dog   cat   cat horse   dog   cat horse horse   cat   car horse   cat   dog truck   dog truck horse   dog   dog   car truck truck   car  bird horse   dog horse truck truck truck  ship plane truck   cat   cat   cat truck  bird horse   dog   dog horse   car plane   dog  deer   cat   dog truck   car   dog   dog   dog   car horse horse   cat   dog horse plane   dog   dog plane  ship   car   dog plane truck   dog  ship   dog   car   car truck   car horse  bird horse truck truck  frog  ship   car   cat  deer  ship   dog   cat truck plane   car   cat   dog   cat truck   car   car horse   dog   cat truck   car  bird   car   cat truck horse   dog  ship   dog   cat horse   dog truck  deer  frog   dog  ship   car   cat   car   cat   cat   dog   dog truck   car horse   car   cat horse horse   dog   cat   car   cat   cat horse   cat   dog   car   cat horse   cat  frog   dog horse truck   car   car   dog truck   cat truck   car   cat truck   car   cat truck   dog   cat horse   cat   cat  frog truck  frog   cat   car horse   cat   car horse   dog truck   dog   cat   dog horse horse   cat truck   cat   cat   cat  bird horse horse   cat   cat horse   dog horse  frog   cat   dog   car  frog  frog   dog   cat   car   cat   cat  deer truck  frog   cat horse horse truck   dog truck   cat horse   cat   cat plane   car   cat truck horse truck horse truck  frog plane horse truck  ship   dog   dog horse   dog   car  frog   car horse truck truck   car horse  bird  bird truck   dog truck truck   cat truck  bird truck truck horse horse   dog truck   cat truck   cat horse  ship   dog   car   car  deer truck   cat  frog  ship   dog   cat   car horse   dog  deer   car   car   dog   dog truck  bird horse  deer   car   cat horse   car truck   car horse truck horse   car   dog horse   dog   dog   car   dog horse   cat   car truck   cat truck   dog horse truck horse truck horse   car   cat   car   cat   dog   cat   car plane   car   cat  bird   car plane   dog   car  ship horse  bird   cat horse   dog horse plane truck   car  deer horse  bird truck   car   cat truck   dog   cat  frog  bird truck   car   cat truck  frog   car  deer   cat   car   cat   dog horse truck   car   dog   dog truck   dog   car truck   cat  ship   cat   cat   dog horse horse   cat truck  deer  deer  ship   car   dog truck   dog   dog   dog   dog  frog   cat truck  ship   cat truck plane  deer   dog   cat   cat horse horse   dog truck horse   cat   cat   car horse   car   dog horse   cat   dog   car   car truck horse  deer   cat   cat truck   car truck horse   dog horse   cat horse   dog   dog  ship  frog   cat   car horse horse truck   dog horse  deer truck   dog horse horse   dog   car  ship   cat   car   dog truck  frog   car   car plane   cat   dog   cat   cat   dog truck horse horse  frog horse horse   car   cat horse   dog   dog  ship   dog truck truck   car   car   car  bird  ship   car  deer   car  frog  frog   cat   car truck   dog  deer   dog   dog   dog plane  bird horse  ship  deer   cat truck  frog horse   dog   dog  bird   car   cat   dog horse   dog plane  frog truck truck truck   dog   dog   car truck truck  ship   dog   car horse   dog truck horse   car   car   cat   dog truck   dog   car   cat truck  frog   cat horse   car   car   dog horse truck   cat   dog truck horse horse   car   dog   dog truck  ship truck   dog   dog  ship   dog   cat horse  frog   car   car   cat   car   car  ship  deer   dog plane   cat truck horse   car horse   cat truck   dog horse  ship   car  frog   car truck   cat plane plane   cat  bird truck truck truck   dog   car horse   cat   dog   cat   dog  bird   dog plane horse   cat plane truck   car truck   dog horse  frog   cat truck truck   dog plane  frog truck horse   car truck truck  ship  deer   dog   cat truck   dog   dog   dog   dog horse truck   dog horse  frog   car truck horse   cat truck horse   cat   cat   cat horse truck   cat  bird horse   dog plane   dog horse truck horse   cat truck horse   cat  ship   cat   dog   car   cat   dog   car   cat   car   cat   dog   car   car   car   car truck truck horse   car  ship  frog truck   car   dog   dog truck   car truck  frog truck horse horse horse truck   dog   car truck   dog truck   dog   dog plane   car  frog  bird   dog horse   dog   cat   car  frog   cat horse   cat horse   car  frog   car  frog  frog horse   cat   dog   cat   car truck truck plane horse   dog  ship  ship   dog   cat   dog   car plane   car horse   cat   dog  bird plane   cat   cat   dog\n"
     ]
    }
   ],
   "source": [
    "_, predicted = torch.max(outputs, 1)\n",
    "\n",
    "print('Predicted: ', ' '.join('%5s' % classes[predicted[j]]\n",
    "                              for j in range(batch_size)))"
   ]
  },
  {
   "cell_type": "code",
   "execution_count": 34,
   "metadata": {
    "colab": {
     "base_uri": "https://localhost:8080/"
    },
    "id": "_fKdJHWbX2DR",
    "outputId": "038c26f6-4ab3-4954-c104-504a9fdd2d05"
   },
   "outputs": [
    {
     "name": "stdout",
     "output_type": "stream",
     "text": [
      "Accuracy of the network on the 10000 test images: 63 %\n"
     ]
    }
   ],
   "source": [
    "net.eval()\n",
    "correct = 0\n",
    "total = 0\n",
    "# 학습 중이 아니므로, 출력에 대한 변화도를 계산할 필요가 없습니다\n",
    "with torch.no_grad():\n",
    "    for data in testloader:\n",
    "        images, labels = data[0].to(device), data[1].to(device)\n",
    "\n",
    "        # 신경망에 이미지를 통과시켜 출력을 계산합니다\n",
    "        outputs = net(images)\n",
    "        # 가장 높은 값(energy)를 갖는 분류(class)를 정답으로 선택하겠습니다\n",
    "        _, predicted = torch.max(outputs.data, 1)\n",
    "        total += labels.size(0)\n",
    "        correct += (predicted == labels).sum().item()\n",
    "\n",
    "print('Accuracy of the network on the 10000 test images: %d %%' % (\n",
    "    100 * correct / total))"
   ]
  },
  {
   "cell_type": "code",
   "execution_count": 35,
   "metadata": {
    "colab": {
     "base_uri": "https://localhost:8080/"
    },
    "id": "zSiYXtBCYEJx",
    "outputId": "26710488-3eac-49fe-defb-67c03011007c"
   },
   "outputs": [
    {
     "name": "stdout",
     "output_type": "stream",
     "text": [
      "Accuracy for class plane is: 48.1 %\n",
      "Accuracy for class car   is: 92.3 %\n",
      "Accuracy for class bird  is: 33.3 %\n",
      "Accuracy for class cat   is: 73.8 %\n",
      "Accuracy for class deer  is: 29.8 %\n",
      "Accuracy for class dog   is: 73.2 %\n",
      "Accuracy for class frog  is: 53.8 %\n",
      "Accuracy for class horse is: 84.1 %\n",
      "Accuracy for class ship  is: 64.4 %\n",
      "Accuracy for class truck is: 85.2 %\n"
     ]
    }
   ],
   "source": [
    "# 각 분류(class)에 대한 예측값 계산을 위해 준비\n",
    "correct_pred = {classname: 0 for classname in classes}\n",
    "total_pred = {classname: 0 for classname in classes}\n",
    "\n",
    "# 변화도는 여전히 필요하지 않습니다\n",
    "with torch.no_grad():\n",
    "    for data in testloader:\n",
    "        images, labels = data[0].to(device), data[1].to(device)\n",
    "        outputs = net(images)\n",
    "        _, predictions = torch.max(outputs, 1)\n",
    "        # 각 분류별로 올바른 예측 수를 모읍니다\n",
    "        for label, prediction in zip(labels, predictions):\n",
    "            if label == prediction:\n",
    "                correct_pred[classes[label]] += 1\n",
    "            total_pred[classes[label]] += 1\n",
    "\n",
    "\n",
    "# 각 분류별 정확도(accuracy)를 출력합니다\n",
    "for classname, correct_count in correct_pred.items():\n",
    "    accuracy = 100 * float(correct_count) / total_pred[classname]\n",
    "    print(\"Accuracy for class {:5s} is: {:.1f} %\".format(classname,\n",
    "                                                   accuracy))"
   ]
  },
  {
   "cell_type": "code",
   "execution_count": 36,
   "metadata": {
    "id": "0UorzWjiYEG7"
   },
   "outputs": [
    {
     "name": "stdout",
     "output_type": "stream",
     "text": [
      "truck\n",
      "horse\n",
      "ship\n",
      "plane\n",
      "horse\n",
      "bird\n",
      "horse\n",
      "bird\n",
      "frog\n",
      "plane\n"
     ]
    }
   ],
   "source": [
    "for i in range(10):\n",
    "    print(classes[labels[i]])"
   ]
  },
  {
   "cell_type": "code",
   "execution_count": null,
   "metadata": {},
   "outputs": [],
   "source": []
  }
 ],
 "metadata": {
  "accelerator": "GPU",
  "colab": {
   "authorship_tag": "ABX9TyOJSwc78vQi4Iw7xpvGyCs6",
   "include_colab_link": true,
   "name": "Project 0. pytorch tutorial_jaewook.ipynb",
   "provenance": []
  },
  "kernelspec": {
   "display_name": "Environment (conda_pytorch_p36)",
   "language": "python",
   "name": "conda_pytorch_p36"
  },
  "language_info": {
   "codemirror_mode": {
    "name": "ipython",
    "version": 3
   },
   "file_extension": ".py",
   "mimetype": "text/x-python",
   "name": "python",
   "nbconvert_exporter": "python",
   "pygments_lexer": "ipython3",
   "version": "3.6.5"
  }
 },
 "nbformat": 4,
 "nbformat_minor": 1
}
