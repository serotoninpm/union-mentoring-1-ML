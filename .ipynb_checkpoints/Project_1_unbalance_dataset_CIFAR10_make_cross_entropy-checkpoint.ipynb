{
 "cells": [
  {
   "cell_type": "markdown",
   "metadata": {
    "id": "8M3eOnh39bfO"
   },
   "source": [
    "1. torchvision을 사용하여 CIFAR10의 학습용 데이터, 시험용 데이터 불러오기, 정규화\n",
    "2. 합성곱 신경망 정의\n",
    "3. 손실 함수 정의\n",
    "4. 학습용 데이터를 사용하여 신경망 학습\n",
    "5. 시험용 데이터를 사용하여 신경망 검사"
   ]
  },
  {
   "cell_type": "code",
   "execution_count": 1,
   "metadata": {
    "id": "uXuITn8289eq"
   },
   "outputs": [],
   "source": [
    "#결과 inline에 출력\n",
    "%matplotlib inline"
   ]
  },
  {
   "cell_type": "code",
   "execution_count": 2,
   "metadata": {
    "id": "FEH4NGb6-KeH"
   },
   "outputs": [],
   "source": [
    "import torch\n",
    "import torchvision\n",
    "from torchvision.datasets import CIFAR10\n",
    "import torchvision.transforms as transforms\n",
    "import collections\n",
    "from sklearn import datasets\n",
    "from imblearn import under_sampling\n",
    "from typing import Any, Callable, Dict, List, Optional, Tuple\n",
    "import os\n",
    "import numpy as np"
   ]
  },
  {
   "cell_type": "code",
   "execution_count": 3,
   "metadata": {
    "id": "WbDcVbDtYQxy"
   },
   "outputs": [],
   "source": [
    "device = torch.device(\"cuda:0\" if torch.cuda.is_available() else \"cpu\")"
   ]
  },
  {
   "cell_type": "code",
   "execution_count": 4,
   "metadata": {},
   "outputs": [
    {
     "name": "stdout",
     "output_type": "stream",
     "text": [
      "2\n"
     ]
    }
   ],
   "source": [
    "print(torch.cuda.device_count())"
   ]
  },
  {
   "cell_type": "code",
   "execution_count": 5,
   "metadata": {
    "scrolled": true
   },
   "outputs": [
    {
     "name": "stdout",
     "output_type": "stream",
     "text": [
      "1.7.1+cu101\n"
     ]
    }
   ],
   "source": [
    "print(torch.__version__)"
   ]
  },
  {
   "cell_type": "code",
   "execution_count": 6,
   "metadata": {},
   "outputs": [
    {
     "name": "stdout",
     "output_type": "stream",
     "text": [
      "0.8.2+cu101\n"
     ]
    }
   ],
   "source": [
    "print(torchvision.__version__)"
   ]
  },
  {
   "cell_type": "code",
   "execution_count": 7,
   "metadata": {
    "colab": {
     "base_uri": "https://localhost:8080/"
    },
    "id": "qwxpmJonGrsb",
    "outputId": "0fab87ba-52f8-4d2a-88bf-81fec7f02dc4"
   },
   "outputs": [
    {
     "name": "stdout",
     "output_type": "stream",
     "text": [
      "Files already downloaded and verified\n",
      "Files already downloaded and verified\n"
     ]
    }
   ],
   "source": [
    "transform = transforms.Compose(\n",
    "    [transforms.ToTensor(),\n",
    "     transforms.Normalize((0.5,), (0.5,))])\n",
    "\n",
    "batch_size = 2048\n",
    "\n",
    "trainset = torchvision.datasets.CIFAR10(root='./data', train=True,\n",
    "                                        download=True, transform=transform)\n",
    "trainloader = torch.utils.data.DataLoader(trainset, batch_size=batch_size,\n",
    "                                          shuffle=True, num_workers= 8 ,pin_memory= True)\n",
    "\n",
    "testset = torchvision.datasets.CIFAR10(root='./data', train=False,\n",
    "                                       download=True, transform=transform)\n",
    "testloader = torch.utils.data.DataLoader(testset, batch_size=batch_size,\n",
    "                                         shuffle=False, num_workers=8, pin_memory= True)\n",
    "\n",
    "classes = ('plane', 'car', 'bird', 'cat',\n",
    "           'deer', 'dog', 'frog', 'horse', 'ship', 'truck')"
   ]
  },
  {
   "cell_type": "code",
   "execution_count": 8,
   "metadata": {},
   "outputs": [
    {
     "data": {
      "text/plain": [
       "numpy.ndarray"
      ]
     },
     "execution_count": 8,
     "metadata": {},
     "output_type": "execute_result"
    }
   ],
   "source": [
    "type(trainset.data)"
   ]
  },
  {
   "cell_type": "code",
   "execution_count": 9,
   "metadata": {},
   "outputs": [
    {
     "data": {
      "text/plain": [
       "(50000, 32, 32, 3)"
      ]
     },
     "execution_count": 9,
     "metadata": {},
     "output_type": "execute_result"
    }
   ],
   "source": [
    "trainset.data.shape"
   ]
  },
  {
   "cell_type": "code",
   "execution_count": 10,
   "metadata": {},
   "outputs": [
    {
     "data": {
      "text/plain": [
       "array([[ 59,  62,  63],\n",
       "       [ 43,  46,  45],\n",
       "       [ 50,  48,  43],\n",
       "       [ 68,  54,  42],\n",
       "       [ 98,  73,  52],\n",
       "       [119,  91,  63],\n",
       "       [139, 107,  75],\n",
       "       [145, 110,  80],\n",
       "       [149, 117,  89],\n",
       "       [149, 120,  93],\n",
       "       [131, 103,  77],\n",
       "       [125,  99,  76],\n",
       "       [142, 115,  91],\n",
       "       [144, 112,  86],\n",
       "       [137, 105,  79],\n",
       "       [129,  97,  71],\n",
       "       [137, 106,  79],\n",
       "       [134, 106,  76],\n",
       "       [124,  97,  64],\n",
       "       [139, 113,  78],\n",
       "       [139, 112,  75],\n",
       "       [133, 105,  69],\n",
       "       [136, 105,  74],\n",
       "       [139, 108,  77],\n",
       "       [152, 120,  89],\n",
       "       [163, 131, 100],\n",
       "       [168, 136, 108],\n",
       "       [159, 129, 102],\n",
       "       [158, 130, 104],\n",
       "       [158, 132, 108],\n",
       "       [152, 125, 102],\n",
       "       [148, 124, 103]], dtype=uint8)"
      ]
     },
     "execution_count": 10,
     "metadata": {},
     "output_type": "execute_result"
    }
   ],
   "source": [
    "trainset.data[0][0]"
   ]
  },
  {
   "cell_type": "code",
   "execution_count": 11,
   "metadata": {},
   "outputs": [
    {
     "data": {
      "text/plain": [
       "list"
      ]
     },
     "execution_count": 11,
     "metadata": {},
     "output_type": "execute_result"
    }
   ],
   "source": [
    "type(trainset.targets)"
   ]
  },
  {
   "cell_type": "code",
   "execution_count": 12,
   "metadata": {},
   "outputs": [
    {
     "name": "stdout",
     "output_type": "stream",
     "text": [
      "Original dataset shape Counter({6: 5000, 9: 5000, 4: 5000, 1: 5000, 2: 5000, 7: 5000, 8: 5000, 3: 5000, 5: 5000, 0: 5000})\n"
     ]
    }
   ],
   "source": [
    "print('Original dataset shape %s' % collections.Counter(trainset.targets))\n"
   ]
  },
  {
   "cell_type": "code",
   "execution_count": 13,
   "metadata": {},
   "outputs": [],
   "source": [
    "class unbalance_CIFAR10(CIFAR10):\n",
    "     def __init__(\n",
    "            self,\n",
    "            root: str,\n",
    "            train: bool = True,\n",
    "            transform: Optional[Callable] = None,\n",
    "            target_transform: Optional[Callable] = None,\n",
    "            download: bool = False,\n",
    "    ) -> None:\n",
    "        super(unbalance_CIFAR10, self).__init__(root, transform=transform,\n",
    "                                    target_transform=target_transform)\n",
    "        \n",
    "\n",
    "     \n",
    "        rus = under_sampling.RandomUnderSampler(\n",
    "            sampling_strategy={\n",
    "                0: 500,\n",
    "                1: 5000,\n",
    "                2: 500,\n",
    "                3: 5000,\n",
    "                4: 500,\n",
    "                5: 5000,\n",
    "                6: 500,\n",
    "                7: 5000,\n",
    "                8: 500,\n",
    "                9: 5000\n",
    "                \n",
    "            },\n",
    "            random_state=42\n",
    "        )\n",
    "        self.data, self.targets = rus.fit_resample(np.array(self.data).reshape(50000,32*32*3), np.array(self.targets))\n",
    "#         self.data, self.targets = torch.Tensor(self.data.reshape(-1,32,32,3)).to(dtype=torch.uint8), torch.Tensor(self.targets).to(dtype=torch.uint8)\n",
    "        self.data, self.targets = self.data.reshape(-1,32,32,3), self.targets\n",
    "\n"
   ]
  },
  {
   "cell_type": "code",
   "execution_count": 14,
   "metadata": {},
   "outputs": [
    {
     "name": "stdout",
     "output_type": "stream",
     "text": [
      "Files already downloaded and verified\n"
     ]
    }
   ],
   "source": [
    "transform = transforms.Compose(\n",
    "    [transforms.ToTensor(),\n",
    "     transforms.Normalize((0.5,), (0.5,))])\n",
    "\n",
    "batch_size = 2048\n",
    "\n",
    "trainset = unbalance_CIFAR10(root='./data', train=True,\n",
    "                                        download=True, transform=transform)\n",
    "\n",
    "trainloader = torch.utils.data.DataLoader(trainset, batch_size=batch_size,\n",
    "                                          shuffle=True, num_workers= 8 ,pin_memory= True)\n",
    "\n",
    "testset = torchvision.datasets.CIFAR10(root='./data', train=False,\n",
    "                                       download=True, transform=transform)\n",
    "testloader = torch.utils.data.DataLoader(testset, batch_size=batch_size,\n",
    "                                         shuffle=True, num_workers=8, pin_memory= True)\n",
    "\n",
    "classes = ('plane', 'car', 'bird', 'cat',\n",
    "           'deer', 'dog', 'frog', 'horse', 'ship', 'truck')"
   ]
  },
  {
   "cell_type": "code",
   "execution_count": 15,
   "metadata": {},
   "outputs": [
    {
     "name": "stdout",
     "output_type": "stream",
     "text": [
      "reshape dataset shape Counter({1: 5000, 3: 5000, 5: 5000, 7: 5000, 9: 5000, 0: 500, 2: 500, 4: 500, 6: 500, 8: 500})\n"
     ]
    }
   ],
   "source": [
    "print('reshape dataset shape %s' % collections.Counter(trainset.targets.tolist()))"
   ]
  },
  {
   "cell_type": "code",
   "execution_count": 16,
   "metadata": {},
   "outputs": [
    {
     "data": {
      "text/plain": [
       "numpy.ndarray"
      ]
     },
     "execution_count": 16,
     "metadata": {},
     "output_type": "execute_result"
    }
   ],
   "source": [
    "type(trainset.data)"
   ]
  },
  {
   "cell_type": "code",
   "execution_count": 17,
   "metadata": {},
   "outputs": [
    {
     "data": {
      "text/plain": [
       "numpy.ndarray"
      ]
     },
     "execution_count": 17,
     "metadata": {},
     "output_type": "execute_result"
    }
   ],
   "source": [
    "type(testset.data)"
   ]
  },
  {
   "cell_type": "code",
   "execution_count": 18,
   "metadata": {},
   "outputs": [
    {
     "data": {
      "text/plain": [
       "(27500, 32, 32, 3)"
      ]
     },
     "execution_count": 18,
     "metadata": {},
     "output_type": "execute_result"
    }
   ],
   "source": [
    "trainset.data.shape"
   ]
  },
  {
   "cell_type": "code",
   "execution_count": 19,
   "metadata": {},
   "outputs": [
    {
     "data": {
      "text/plain": [
       "numpy.ndarray"
      ]
     },
     "execution_count": 19,
     "metadata": {},
     "output_type": "execute_result"
    }
   ],
   "source": [
    "type(trainset.targets)"
   ]
  },
  {
   "cell_type": "code",
   "execution_count": 20,
   "metadata": {},
   "outputs": [
    {
     "data": {
      "text/plain": [
       "27500"
      ]
     },
     "execution_count": 20,
     "metadata": {},
     "output_type": "execute_result"
    }
   ],
   "source": [
    "len(trainset.data)"
   ]
  },
  {
   "cell_type": "code",
   "execution_count": 21,
   "metadata": {
    "colab": {
     "base_uri": "https://localhost:8080/",
     "height": 307
    },
    "id": "rgQfhxpXJZ5f",
    "outputId": "859af676-6ece-430a-a4ff-0b0346bd5bc7"
   },
   "outputs": [
    {
     "name": "stdout",
     "output_type": "stream",
     "text": [
      "<torch.utils.data.dataloader._MultiProcessingDataLoaderIter object at 0x7fce31392358>\n"
     ]
    },
    {
     "data": {
      "image/png": "[encoded data removed]",
      "text/plain": [
       "<Figure size 432x288 with 1 Axes>"
      ]
     },
     "metadata": {},
     "output_type": "display_data"
    },
    {
     "name": "stdout",
     "output_type": "stream",
     "text": [
      "truck   car   car   cat\n"
     ]
    }
   ],
   "source": [
    "import matplotlib.pyplot as plt\n",
    "import numpy as np\n",
    "\n",
    "# 이미지를 보여주기 위한 함수\n",
    "\n",
    "def imshow(img):\n",
    "    img = img / 2 + 0.5     # unnormalize\n",
    "    npimg = img.numpy()\n",
    "    plt.imshow(np.transpose(npimg, (1, 2, 0)))\n",
    "    plt.show()\n",
    "\n",
    "\n",
    "# 학습용 이미지를 무작위로 가져오기\n",
    "dataiter = iter(trainloader)\n",
    "print(dataiter)\n",
    "images, labels = dataiter.next()\n",
    "# 이미지 보여주기\n",
    "imshow(torchvision.utils.make_grid(images))\n",
    "# 정답(label) 출력\n",
    "print(' '.join('%5s' % classes[labels[j]] for j in range(4)))"
   ]
  },
  {
   "cell_type": "code",
   "execution_count": 22,
   "metadata": {
    "colab": {
     "base_uri": "https://localhost:8080/"
    },
    "id": "NB7aQV8uJZv6",
    "outputId": "a827f329-4e7f-4478-b1c1-839409b5d2a3"
   },
   "outputs": [
    {
     "data": {
      "text/plain": [
       "DataParallel(\n",
       "  (module): Net(\n",
       "    (layer1): Sequential(\n",
       "      (0): Conv2d(3, 32, kernel_size=(3, 3), stride=(1, 1))\n",
       "      (1): ReLU()\n",
       "      (2): Conv2d(32, 32, kernel_size=(3, 3), stride=(1, 1))\n",
       "      (3): ReLU()\n",
       "      (4): MaxPool2d(kernel_size=2, stride=2, padding=0, dilation=1, ceil_mode=False)\n",
       "      (5): Dropout(p=0.2, inplace=False)\n",
       "    )\n",
       "    (layer2): Sequential(\n",
       "      (0): Conv2d(32, 64, kernel_size=(3, 3), stride=(1, 1))\n",
       "      (1): ReLU()\n",
       "      (2): Conv2d(64, 64, kernel_size=(3, 3), stride=(1, 1))\n",
       "      (3): ReLU()\n",
       "      (4): MaxPool2d(kernel_size=2, stride=2, padding=0, dilation=1, ceil_mode=False)\n",
       "      (5): Dropout(p=0.2, inplace=False)\n",
       "    )\n",
       "    (fc1): Linear(in_features=1600, out_features=120, bias=True)\n",
       "    (bn1): BatchNorm1d(120, eps=1e-05, momentum=0.1, affine=True, track_running_stats=True)\n",
       "    (bn2): BatchNorm1d(84, eps=1e-05, momentum=0.1, affine=True, track_running_stats=True)\n",
       "    (fc2): Linear(in_features=120, out_features=84, bias=True)\n",
       "    (fc3): Linear(in_features=84, out_features=10, bias=True)\n",
       "  )\n",
       ")"
      ]
     },
     "execution_count": 22,
     "metadata": {},
     "output_type": "execute_result"
    }
   ],
   "source": [
    "import torch.nn as nn\n",
    "import torch.nn.functional as F\n",
    "\n",
    "\n",
    "class Net(nn.Module):\n",
    "    def __init__(self):\n",
    "        super().__init__()\n",
    "        self.layer1 = torch.nn.Sequential(\n",
    "          nn.Conv2d(3, 32, 3),\n",
    "          nn.ReLU(),\n",
    "          nn.Conv2d(32, 32, 3),\n",
    "          nn.ReLU(),\n",
    "          nn.MaxPool2d(2, 2),\n",
    "          nn.Dropout(0.2)\n",
    "        )\n",
    "\n",
    "        self.layer2 = torch.nn.Sequential(\n",
    "          nn.Conv2d(32, 64, 3),\n",
    "          nn.ReLU(),\n",
    "          nn.Conv2d(64, 64, 3),\n",
    "          nn.ReLU(),\n",
    "          nn.MaxPool2d(2, 2),\n",
    "          nn.Dropout(0.2)\n",
    "        )\n",
    "\n",
    "\n",
    "        self.fc1 = nn.Linear(1600, 120)\n",
    "        self.bn1 = nn.BatchNorm1d(120)\n",
    "        self.bn2 = nn.BatchNorm1d(84)\n",
    "        self.fc2 = nn.Linear(120, 84)\n",
    "        self.fc3 = nn.Linear(84, 10)\n",
    "\n",
    "\n",
    "    def forward(self, x):\n",
    "        x = self.layer1(x)\n",
    "        x = self.layer2(x)\n",
    "        x = torch.flatten(x, 1) # 배치를 제외한 모든 차원을 평탄화(flatten)\n",
    "        x = F.relu(self.bn1(self.fc1(x)))\n",
    "        x = F.relu(self.bn2(self.fc2(x)))\n",
    "        x = self.fc3(x)\n",
    "        return x\n",
    "\n",
    "\n",
    "net = Net()\n",
    "\n",
    "if torch.cuda.device_count() > 1:\n",
    "    net = nn.DataParallel(net)\n",
    "\n",
    "net.to(device)"
   ]
  },
  {
   "cell_type": "code",
   "execution_count": 23,
   "metadata": {
    "id": "NmP7RK2FWytM"
   },
   "outputs": [],
   "source": [
    "import torch.optim as optim\n",
    "\n",
    "criterion = nn.CrossEntropyLoss()\n",
    "optimizer = optim.Adam(net.parameters(), lr=0.001)"
   ]
  },
  {
   "cell_type": "code",
   "execution_count": 24,
   "metadata": {},
   "outputs": [],
   "source": [
    "import time\n",
    "start = time.time()  # 시작 시간 저장"
   ]
  },
  {
   "cell_type": "code",
   "execution_count": 25,
   "metadata": {
    "colab": {
     "base_uri": "https://localhost:8080/"
    },
    "id": "sPYggzAfW0Be",
    "outputId": "14b7fb32-dfdf-4530-c83d-f03b72f2b92a"
   },
   "outputs": [
    {
     "name": "stdout",
     "output_type": "stream",
     "text": [
      "[1,    10] loss: 1.887\n",
      "[2,    10] loss: 1.368\n",
      "[3,    10] loss: 1.166\n",
      "[4,    10] loss: 1.045\n",
      "[5,    10] loss: 0.957\n",
      "[6,    10] loss: 0.878\n",
      "[7,    10] loss: 0.814\n",
      "[8,    10] loss: 0.771\n",
      "[9,    10] loss: 0.723\n",
      "[10,    10] loss: 0.676\n",
      "[11,    10] loss: 0.635\n",
      "[12,    10] loss: 0.596\n",
      "[13,    10] loss: 0.568\n",
      "[14,    10] loss: 0.530\n",
      "[15,    10] loss: 0.495\n",
      "[16,    10] loss: 0.474\n",
      "[17,    10] loss: 0.451\n",
      "[18,    10] loss: 0.425\n",
      "[19,    10] loss: 0.406\n",
      "[20,    10] loss: 0.379\n",
      "[21,    10] loss: 0.353\n",
      "[22,    10] loss: 0.329\n",
      "[23,    10] loss: 0.309\n",
      "[24,    10] loss: 0.291\n",
      "[25,    10] loss: 0.272\n",
      "[26,    10] loss: 0.267\n",
      "[27,    10] loss: 0.246\n",
      "[28,    10] loss: 0.231\n",
      "[29,    10] loss: 0.219\n",
      "[30,    10] loss: 0.204\n",
      "[31,    10] loss: 0.198\n",
      "[32,    10] loss: 0.188\n",
      "[33,    10] loss: 0.171\n",
      "[34,    10] loss: 0.166\n",
      "[35,    10] loss: 0.158\n",
      "[36,    10] loss: 0.159\n",
      "[37,    10] loss: 0.150\n",
      "[38,    10] loss: 0.143\n",
      "[39,    10] loss: 0.141\n",
      "[40,    10] loss: 0.127\n",
      "[41,    10] loss: 0.124\n",
      "[42,    10] loss: 0.121\n",
      "[43,    10] loss: 0.123\n",
      "[44,    10] loss: 0.111\n",
      "[45,    10] loss: 0.110\n",
      "[46,    10] loss: 0.101\n",
      "[47,    10] loss: 0.102\n",
      "[48,    10] loss: 0.092\n",
      "[49,    10] loss: 0.093\n",
      "[50,    10] loss: 0.092\n",
      "[51,    10] loss: 0.087\n",
      "[52,    10] loss: 0.084\n",
      "[53,    10] loss: 0.082\n",
      "[54,    10] loss: 0.080\n",
      "[55,    10] loss: 0.079\n",
      "[56,    10] loss: 0.085\n",
      "[57,    10] loss: 0.081\n",
      "[58,    10] loss: 0.078\n",
      "[59,    10] loss: 0.080\n",
      "[60,    10] loss: 0.076\n",
      "[61,    10] loss: 0.070\n",
      "[62,    10] loss: 0.070\n",
      "[63,    10] loss: 0.069\n",
      "[64,    10] loss: 0.065\n",
      "[65,    10] loss: 0.061\n",
      "[66,    10] loss: 0.061\n",
      "[67,    10] loss: 0.063\n",
      "[68,    10] loss: 0.061\n",
      "[69,    10] loss: 0.058\n",
      "[70,    10] loss: 0.061\n",
      "[71,    10] loss: 0.060\n",
      "[72,    10] loss: 0.063\n",
      "[73,    10] loss: 0.062\n",
      "[74,    10] loss: 0.057\n",
      "[75,    10] loss: 0.055\n",
      "[76,    10] loss: 0.048\n",
      "[77,    10] loss: 0.054\n",
      "[78,    10] loss: 0.054\n",
      "[79,    10] loss: 0.051\n",
      "[80,    10] loss: 0.049\n",
      "[81,    10] loss: 0.049\n",
      "[82,    10] loss: 0.053\n",
      "[83,    10] loss: 0.047\n",
      "[84,    10] loss: 0.051\n",
      "[85,    10] loss: 0.044\n",
      "[86,    10] loss: 0.045\n",
      "[87,    10] loss: 0.044\n",
      "[88,    10] loss: 0.047\n",
      "[89,    10] loss: 0.045\n",
      "[90,    10] loss: 0.047\n",
      "[91,    10] loss: 0.047\n",
      "[92,    10] loss: 0.044\n",
      "[93,    10] loss: 0.049\n",
      "[94,    10] loss: 0.044\n",
      "[95,    10] loss: 0.047\n",
      "[96,    10] loss: 0.045\n",
      "[97,    10] loss: 0.049\n",
      "[98,    10] loss: 0.045\n",
      "[99,    10] loss: 0.045\n",
      "[100,    10] loss: 0.039\n",
      "[101,    10] loss: 0.043\n",
      "[102,    10] loss: 0.039\n",
      "[103,    10] loss: 0.040\n",
      "[104,    10] loss: 0.039\n",
      "[105,    10] loss: 0.039\n",
      "[106,    10] loss: 0.035\n",
      "[107,    10] loss: 0.036\n",
      "[108,    10] loss: 0.038\n",
      "[109,    10] loss: 0.037\n",
      "[110,    10] loss: 0.040\n",
      "[111,    10] loss: 0.037\n",
      "[112,    10] loss: 0.037\n",
      "[113,    10] loss: 0.036\n",
      "[114,    10] loss: 0.038\n",
      "[115,    10] loss: 0.034\n",
      "[116,    10] loss: 0.034\n",
      "[117,    10] loss: 0.038\n",
      "[118,    10] loss: 0.041\n",
      "[119,    10] loss: 0.037\n",
      "[120,    10] loss: 0.038\n",
      "[121,    10] loss: 0.040\n",
      "[122,    10] loss: 0.038\n",
      "[123,    10] loss: 0.032\n",
      "[124,    10] loss: 0.034\n",
      "[125,    10] loss: 0.032\n",
      "[126,    10] loss: 0.033\n",
      "[127,    10] loss: 0.035\n",
      "[128,    10] loss: 0.033\n",
      "[129,    10] loss: 0.033\n",
      "[130,    10] loss: 0.036\n",
      "[131,    10] loss: 0.037\n",
      "[132,    10] loss: 0.039\n",
      "[133,    10] loss: 0.038\n",
      "[134,    10] loss: 0.034\n",
      "[135,    10] loss: 0.034\n",
      "[136,    10] loss: 0.037\n",
      "[137,    10] loss: 0.032\n",
      "[138,    10] loss: 0.033\n",
      "[139,    10] loss: 0.033\n",
      "[140,    10] loss: 0.032\n",
      "[141,    10] loss: 0.031\n",
      "[142,    10] loss: 0.030\n",
      "[143,    10] loss: 0.035\n",
      "[144,    10] loss: 0.033\n",
      "[145,    10] loss: 0.033\n",
      "[146,    10] loss: 0.031\n",
      "[147,    10] loss: 0.027\n",
      "[148,    10] loss: 0.030\n",
      "[149,    10] loss: 0.030\n",
      "[150,    10] loss: 0.032\n",
      "[151,    10] loss: 0.030\n",
      "[152,    10] loss: 0.034\n",
      "[153,    10] loss: 0.030\n",
      "[154,    10] loss: 0.025\n",
      "[155,    10] loss: 0.029\n",
      "[156,    10] loss: 0.030\n",
      "[157,    10] loss: 0.028\n",
      "[158,    10] loss: 0.027\n",
      "[159,    10] loss: 0.033\n",
      "[160,    10] loss: 0.029\n",
      "[161,    10] loss: 0.028\n",
      "[162,    10] loss: 0.029\n",
      "[163,    10] loss: 0.029\n",
      "[164,    10] loss: 0.031\n",
      "[165,    10] loss: 0.029\n",
      "[166,    10] loss: 0.030\n",
      "[167,    10] loss: 0.029\n",
      "[168,    10] loss: 0.027\n",
      "[169,    10] loss: 0.030\n",
      "[170,    10] loss: 0.035\n",
      "[171,    10] loss: 0.030\n",
      "[172,    10] loss: 0.028\n",
      "[173,    10] loss: 0.029\n",
      "[174,    10] loss: 0.026\n",
      "[175,    10] loss: 0.026\n",
      "[176,    10] loss: 0.026\n",
      "[177,    10] loss: 0.025\n",
      "[178,    10] loss: 0.027\n",
      "[179,    10] loss: 0.024\n",
      "[180,    10] loss: 0.024\n",
      "[181,    10] loss: 0.026\n",
      "[182,    10] loss: 0.030\n",
      "[183,    10] loss: 0.027\n",
      "[184,    10] loss: 0.028\n",
      "[185,    10] loss: 0.024\n",
      "[186,    10] loss: 0.024\n",
      "[187,    10] loss: 0.026\n",
      "[188,    10] loss: 0.025\n",
      "[189,    10] loss: 0.026\n",
      "[190,    10] loss: 0.027\n",
      "[191,    10] loss: 0.026\n",
      "[192,    10] loss: 0.026\n",
      "[193,    10] loss: 0.027\n",
      "[194,    10] loss: 0.027\n",
      "[195,    10] loss: 0.028\n",
      "[196,    10] loss: 0.025\n",
      "[197,    10] loss: 0.027\n",
      "[198,    10] loss: 0.025\n",
      "[199,    10] loss: 0.026\n",
      "[200,    10] loss: 0.028\n",
      "Finished Training\n"
     ]
    }
   ],
   "source": [
    "net.train()\n",
    "for epoch in range(200):   # 데이터셋을 수차례 반복합니다.\n",
    "    running_loss = 0.0\n",
    "    for i, data in enumerate(trainloader, 0):\n",
    "        # [inputs, labels]의 목록인 data로부터 입력을 받은 후;\n",
    "        inputs, labels = data[0].to(device), data[1].to(device)\n",
    "\n",
    "        # 변화도(Gradient) 매개변수를 0으로 만들고\n",
    "        optimizer.zero_grad()\n",
    "\n",
    "        # 순전파 + 역전파 + 최적화를 한 후\n",
    "        outputs = net(inputs)\n",
    "        loss = criterion(outputs, labels)\n",
    "        loss.backward()\n",
    "        optimizer.step()\n",
    "\n",
    "        # 통계를 출력합니다.\n",
    "        running_loss += loss.item()\n",
    "        if i % 10 == 9:    # print every 2000 mini-batches\n",
    "            print('[%d, %5d] loss: %.3f' %\n",
    "                  (epoch + 1, i + 1, running_loss / 10))\n",
    "            running_loss = 0.0\n",
    "\n",
    "print('Finished Training')"
   ]
  },
  {
   "cell_type": "code",
   "execution_count": 26,
   "metadata": {},
   "outputs": [
    {
     "name": "stdout",
     "output_type": "stream",
     "text": [
      "time : 413.4421956539154\n"
     ]
    }
   ],
   "source": [
    "print(\"time :\", time.time() - start)  # 현재시각 - 시작시간 = 실행 시간"
   ]
  },
  {
   "cell_type": "code",
   "execution_count": 27,
   "metadata": {
    "id": "SYFO6TofWz-0"
   },
   "outputs": [],
   "source": [
    "# PATH = './fashion_net.pth'\n",
    "# torch.save(net.state_dict(), PATH)"
   ]
  },
  {
   "cell_type": "code",
   "execution_count": 28,
   "metadata": {
    "colab": {
     "base_uri": "https://localhost:8080/"
    },
    "id": "xi8HjximWz5-",
    "outputId": "688f3e8e-f55b-4d0d-b51c-d29a5e2c8c53"
   },
   "outputs": [
    {
     "name": "stdout",
     "output_type": "stream",
     "text": [
      "GroundTruth:  plane truck truck  deer   cat  deer horse  frog horse plane  frog   dog  ship   dog  frog plane   car plane truck   car  ship  bird   car horse   cat  ship   dog   car   car horse plane truck  frog   cat   cat horse  deer   car  bird   cat   dog   car  deer   dog   cat  deer   dog   car truck  bird  deer   dog   cat  deer horse  ship   cat horse plane  bird  frog  deer horse   dog\n"
     ]
    }
   ],
   "source": [
    "dataiter = iter(testloader)\n",
    "images, labels = dataiter.next()\n",
    "images = images.to(device)\n",
    "labels = labels.to(device)\n",
    "# 이미지를 출력합니다.\n",
    "# imshow(torchvision.utils.make_grid(images))\n",
    "print('GroundTruth: ', ' '.join('%5s' % classes[labels[j]] for j in range(64)))"
   ]
  },
  {
   "cell_type": "code",
   "execution_count": 29,
   "metadata": {
    "id": "eAQ14i67Xzdk"
   },
   "outputs": [],
   "source": [
    "# net = Net()\n",
    "# net.to(device)\n",
    "# net.load_state_dict(torch.load(PATH))"
   ]
  },
  {
   "cell_type": "code",
   "execution_count": 30,
   "metadata": {
    "id": "xW5s_VvOX2Kr"
   },
   "outputs": [],
   "source": [
    "net.train()\n",
    "outputs = net(images)"
   ]
  },
  {
   "cell_type": "code",
   "execution_count": 31,
   "metadata": {
    "colab": {
     "base_uri": "https://localhost:8080/"
    },
    "id": "-EUVmr_-X2IL",
    "outputId": "07dd4599-2c71-46e0-f132-e1f09e678af2"
   },
   "outputs": [
    {
     "name": "stdout",
     "output_type": "stream",
     "text": [
      "Predicted:    cat truck truck  deer   cat   dog horse  frog horse  bird   cat   dog truck   cat   cat   car   car   car truck   car   car   dog   car horse   cat   car   dog   car   car   cat plane truck  frog   cat   dog horse  deer   car horse   cat   dog   car horse   dog horse horse   dog   car truck   cat horse   dog   dog horse horse   car   dog horse   car  ship   car  bird   cat   dog horse   cat   cat   dog horse   cat   dog   car plane truck   cat   car   cat truck   cat   cat   cat   car  bird   car   cat   cat  frog horse   cat  bird   cat   cat horse  ship truck   cat  deer truck   dog   dog   dog  frog truck   car   car   cat truck   dog   dog horse horse   dog   dog truck truck   dog horse horse   car   car   cat truck   car horse   car   cat horse truck   cat   car truck horse plane   dog   dog   dog  frog horse   cat horse   car   dog truck plane  bird horse   cat  ship   cat   cat  bird truck   car plane horse horse  bird   dog  frog   cat   dog truck   cat  frog  frog   cat   car  frog   dog   car horse   cat truck horse truck   car   car   dog   car   dog  ship   car   cat   cat   car  frog   car   dog   cat   dog   dog   car  deer   car   car  frog  ship   dog plane truck  frog truck truck   cat   car   dog truck   dog horse   car  deer truck truck  ship   dog horse   dog   cat  bird horse horse  frog   dog  deer   cat  frog truck horse horse horse  frog   car   cat horse   car  ship truck   dog   dog  deer   car truck   car  frog horse   dog  frog   dog   dog   cat plane   cat   car horse horse  deer truck plane truck horse   dog plane horse   car horse   cat  bird   car truck   car   car   dog   car horse   car   cat plane   car truck  bird   car truck   cat horse   car   car   dog   dog truck   dog truck   car horse truck   dog   cat truck  ship   cat horse plane   dog horse   dog   dog   cat horse truck   dog   cat  deer   cat   car   cat   car   cat   cat truck horse   cat  frog   dog   car   car plane horse plane horse   dog   dog   dog   cat horse   cat truck horse horse   car truck horse   cat  ship horse horse  deer truck   cat truck   cat truck truck truck horse   dog  bird  ship   car   cat   dog plane  frog horse truck  bird   car horse   cat  deer plane   cat  frog   dog truck plane truck truck   cat   dog truck horse  frog  bird horse   car horse truck   dog horse   dog   car   cat   car truck  frog   cat   cat  frog   car   dog   dog   cat   dog   car   cat   dog  frog  ship horse  deer  deer truck   car truck   car horse   dog horse   cat   car   car  deer horse horse   car  bird   car   car truck truck horse  frog   dog   cat  bird   car  bird   cat   car   cat truck   dog   dog   dog   dog   dog   dog horse   dog   dog   car   car truck horse truck horse   dog plane   car   dog  ship horse   cat   dog  ship   dog   car  frog truck   cat   dog truck horse  bird  frog   dog horse   car   dog   car   dog   dog  frog   cat   dog   dog   dog   car   car  frog   car   dog  ship   cat horse truck  frog   car  frog   car   car horse  frog   dog   dog truck plane  frog   cat   car truck   dog truck truck   cat   car   cat horse truck  deer   car   cat   car   dog truck   cat   dog truck  frog  bird   dog  frog  ship   car  bird horse   car horse   dog truck   dog  bird  deer   dog   car   car   car  deer  deer horse   car horse   cat horse   dog truck  frog   dog   dog truck  ship   cat   cat   cat   dog  bird   cat   cat   car  bird   car   dog   dog   dog truck horse   cat  frog horse   cat plane horse  deer truck horse  ship  deer   dog  frog truck truck horse   dog horse  frog   dog   dog horse truck truck  frog  ship truck   dog   dog plane   dog  frog   dog   car  frog truck   car   cat  frog   car   car   dog   cat   cat   car horse truck   car truck   cat   car  bird   dog  bird  deer horse horse   dog horse   cat   cat horse   car  ship   dog truck   dog horse truck truck   car horse horse truck   cat horse truck   car   dog  bird  frog   car   dog   car truck horse   car   dog   car  deer horse   dog horse  bird  frog   dog   dog   dog   car horse   car  ship   car truck   car truck  deer   cat   car horse   cat  frog   dog horse   car  frog truck truck   car   car  frog   dog   dog truck   cat plane   cat   dog truck   cat   cat   dog   car   cat   cat  bird   dog truck truck  ship plane truck  bird   dog   cat   dog horse plane horse truck truck   car  ship   cat   cat   dog horse truck horse  frog horse   dog   cat  ship truck   cat truck   car  frog plane   car   dog   dog horse   cat horse  ship truck plane plane  frog plane   cat   cat truck truck   cat   dog   car  frog  ship   cat  frog horse   car truck horse   cat plane truck  frog   car   car horse  frog truck   dog horse horse  frog truck horse   car  frog   dog   dog   cat   dog horse   dog truck   cat truck  ship truck   car   car truck   dog horse   dog truck horse   cat truck truck   car   dog   car   car   dog horse   cat horse   car horse horse   cat truck horse   dog horse   car horse plane horse   cat plane horse   dog   dog   cat   dog truck   dog  ship   cat horse horse   car truck truck  deer   cat truck plane horse   cat horse truck   dog horse truck   dog   dog   cat truck   dog   car horse  ship horse truck   dog   dog   car horse horse   car   cat  frog   dog  frog   dog   cat horse horse truck  deer truck  ship horse   car  ship horse   cat truck   cat   cat  deer   cat  ship  ship   car horse   car   car   cat  frog horse   cat  bird truck horse   cat truck   cat   dog   car   cat   car horse   cat   cat   cat   car  frog horse  frog horse truck   car   dog truck   cat plane   dog   car horse   cat   car truck truck horse   dog  bird   cat   cat   car horse   cat   cat truck   dog plane   cat   cat   dog truck truck   car   cat truck   dog   cat   dog truck   car   car horse   cat horse   cat horse   cat plane   car  ship  deer   car truck truck truck   car   dog  ship horse truck   car truck horse plane truck   dog truck plane   cat   dog   car  ship truck  ship horse  bird truck plane   cat horse horse truck   dog   cat  frog plane   dog   cat   car truck   car truck   car  frog truck horse horse  ship truck truck truck truck truck   cat horse   dog truck   car plane horse   cat  ship   dog   cat  bird   car   dog truck horse   dog   cat horse   cat   car   cat plane horse   car truck truck  ship   cat plane   cat   car truck   cat horse  ship horse truck  ship horse   car horse   dog  frog truck horse truck truck   cat truck   cat   dog  deer   cat truck horse  frog truck   car   car   dog horse  frog   cat   car plane horse   car horse   car   dog horse   car  frog  frog   car   dog truck  frog truck   cat  frog truck   cat   dog   dog   car truck horse plane   car horse truck   car   dog   car horse   cat   dog truck   car   cat horse  ship   dog  bird   dog horse   car  deer   dog   cat   car horse truck plane truck  bird   dog  ship truck   dog truck   car   cat   car horse horse horse horse horse truck  frog   dog   car horse  frog horse   dog horse truck plane   cat   dog   car truck truck truck   cat horse horse   dog   car horse   car   car plane plane truck   car   dog  bird   dog   cat   dog  frog   dog plane plane   cat   cat   cat truck truck   cat  frog truck truck  ship horse truck horse  ship   dog   dog   car  ship   cat   car  ship horse   dog truck plane truck   cat truck  frog  frog   car   cat   cat   dog   cat  bird plane   dog   dog truck horse  frog horse   car  ship horse   car horse   dog   car   car horse   car   car  frog  bird horse   dog horse   cat   cat plane horse truck   cat   cat   cat   cat   car truck   dog   car horse   dog truck  deer   car   dog  ship   dog   car   dog   car   cat  frog truck   car   dog   dog   car horse   dog  deer plane horse   cat   dog   cat horse  bird horse horse   cat truck truck   dog   dog  ship truck   cat   dog horse   cat   cat   cat   dog truck   dog   car horse horse   cat  frog plane   dog truck   dog   dog   car   dog plane   dog   dog  ship   dog truck   dog   cat   cat  frog truck   car   car horse horse   cat   dog horse   dog   cat   dog truck truck truck horse   dog   dog horse plane truck plane truck   car horse horse horse  frog   car   car   dog   cat   dog   car horse horse  frog horse   cat truck  frog truck   dog   cat truck  ship   car truck  bird horse   cat truck horse   dog truck truck  frog   car   cat   cat horse  deer horse horse   dog horse horse  frog  bird   dog truck plane   cat   cat  deer   car   cat  deer   car  bird   cat truck   cat  ship   cat truck plane truck   dog   dog  frog horse   cat horse  frog truck   dog truck  ship   dog   car horse   dog truck   car   dog plane   car horse   car truck   cat horse   cat   car   cat truck plane   cat   cat  bird   dog  bird   cat   cat   car   dog truck truck   car truck   car  frog truck   car plane truck  deer  frog   dog  ship   car   dog truck   dog horse truck   cat   car horse   car horse   car  frog   dog   cat horse   dog   cat   car horse plane   car horse horse  deer truck   cat   car horse   dog truck   car   cat horse   car truck  frog plane   dog   cat   dog   cat   dog plane   dog truck   dog   cat truck   dog   dog horse   dog   cat  frog horse truck truck horse  frog   car plane   dog truck   car horse   car   dog truck  deer   cat   cat  bird   dog   car  deer horse horse truck horse horse   car   car   cat truck   cat  deer   dog   dog   cat   cat   cat truck   car horse horse   cat plane  bird   cat  deer   cat horse  bird   dog   dog horse horse   dog   car   cat horse   dog   dog   cat  ship   car   dog horse plane   cat truck   dog   car   car   dog   dog   car truck  ship truck  bird   cat   dog  ship   car   car  bird horse truck plane   dog truck   car   dog   dog horse   cat truck truck  frog truck   cat  bird   cat   dog   car truck truck horse truck horse   dog plane horse   dog truck   dog truck   dog horse   cat plane  frog  frog   cat   cat horse   dog truck horse horse   car horse truck   dog horse horse   car   dog horse   cat   cat plane   cat   car horse   dog   car   car   car horse truck truck  deer truck   dog horse truck   dog   dog  bird truck   car horse  frog truck   car horse   car   cat horse   cat  bird  bird  ship   dog truck   dog   car   cat plane horse horse   car   car   car   car   car   cat   dog horse horse  bird   car truck   dog   cat   dog   dog truck   dog   dog   car   dog   car   car horse   dog horse truck   car   dog   cat   cat truck  ship truck horse horse   cat   cat  bird horse  frog   cat   cat truck   cat horse   car truck horse   car  frog   dog truck   cat  bird   cat   dog   car  ship   dog   dog   car   cat   dog plane horse   car horse   dog   dog   car   dog truck truck horse horse   dog   dog   dog   car   cat   cat truck   car  bird   cat horse   cat   car  deer   dog   car truck truck   dog   dog truck  frog   car   car   car horse   cat   cat horse truck   car   car   car   dog   dog   car truck horse   car  ship horse   car truck   dog   cat   dog   cat   car truck   car  deer   car   cat truck   dog horse horse truck horse horse  bird   dog   cat   car   cat  ship   car  frog horse   car horse horse  bird  bird   cat truck horse   dog  deer horse horse   car truck horse truck   car   cat horse   cat truck   cat horse  deer truck   cat   car   car   car   dog   cat   cat   dog   dog horse   cat   cat horse  deer truck   car horse horse truck plane   dog   cat   car truck horse   car horse   cat  bird  bird truck horse truck horse plane truck  deer truck horse   cat truck   car truck   cat   dog   car truck   cat horse   cat truck truck   cat   dog   car   car horse   dog truck   cat  ship   car horse   car horse horse   cat   dog   dog truck   dog truck   cat horse   cat horse horse  ship truck  frog   dog   cat   dog   car horse   cat   car horse   car truck  ship truck   dog   car horse  frog horse  frog plane   dog horse   car   car   dog   car   dog   dog   dog truck  bird truck   cat   dog horse   cat   car   cat   dog  bird   dog   car   car truck truck   car  frog  deer horse   car   car   dog   cat  frog truck  ship   cat truck   dog  frog  deer   cat   car   car   cat  frog   car   car   dog   cat truck truck   cat   dog horse   car   dog   car  ship  ship horse   dog   dog truck   dog   dog   cat   dog  frog   cat\n"
     ]
    }
   ],
   "source": [
    "_, predicted = torch.max(outputs, 1)\n",
    "\n",
    "print('Predicted: ', ' '.join('%5s' % classes[predicted[j]]\n",
    "                              for j in range(batch_size)))"
   ]
  },
  {
   "cell_type": "code",
   "execution_count": 32,
   "metadata": {
    "colab": {
     "base_uri": "https://localhost:8080/"
    },
    "id": "_fKdJHWbX2DR",
    "outputId": "038c26f6-4ab3-4954-c104-504a9fdd2d05"
   },
   "outputs": [
    {
     "name": "stdout",
     "output_type": "stream",
     "text": [
      "Accuracy of the network on the 10000 test images: 62 %\n"
     ]
    }
   ],
   "source": [
    "net.eval()\n",
    "correct = 0\n",
    "total = 0\n",
    "# 학습 중이 아니므로, 출력에 대한 변화도를 계산할 필요가 없습니다\n",
    "with torch.no_grad():\n",
    "    for data in testloader:\n",
    "        images, labels = data[0].to(device), data[1].to(device)\n",
    "\n",
    "        # 신경망에 이미지를 통과시켜 출력을 계산합니다\n",
    "        outputs = net(images)\n",
    "        # 가장 높은 값(energy)를 갖는 분류(class)를 정답으로 선택하겠습니다\n",
    "        _, predicted = torch.max(outputs.data, 1)\n",
    "        total += labels.size(0)\n",
    "        correct += (predicted == labels).sum().item()\n",
    "\n",
    "print('Accuracy of the network on the 10000 test images: %d %%' % (\n",
    "    100 * correct / total))"
   ]
  },
  {
   "cell_type": "code",
   "execution_count": 33,
   "metadata": {
    "colab": {
     "base_uri": "https://localhost:8080/"
    },
    "id": "zSiYXtBCYEJx",
    "outputId": "26710488-3eac-49fe-defb-67c03011007c"
   },
   "outputs": [
    {
     "name": "stdout",
     "output_type": "stream",
     "text": [
      "Accuracy for class plane is: 42.2 %\n",
      "Accuracy for class car   is: 92.3 %\n",
      "Accuracy for class bird  is: 29.9 %\n",
      "Accuracy for class cat   is: 68.9 %\n",
      "Accuracy for class deer  is: 28.7 %\n",
      "Accuracy for class dog   is: 72.5 %\n",
      "Accuracy for class frog  is: 61.8 %\n",
      "Accuracy for class horse is: 83.9 %\n",
      "Accuracy for class ship  is: 57.3 %\n",
      "Accuracy for class truck is: 89.9 %\n"
     ]
    }
   ],
   "source": [
    "# 각 분류(class)에 대한 예측값 계산을 위해 준비\n",
    "correct_pred = {classname: 0 for classname in classes}\n",
    "total_pred = {classname: 0 for classname in classes}\n",
    "\n",
    "# 변화도는 여전히 필요하지 않습니다\n",
    "with torch.no_grad():\n",
    "    for data in testloader:\n",
    "        images, labels = data[0].to(device), data[1].to(device)\n",
    "        outputs = net(images)\n",
    "        _, predictions = torch.max(outputs, 1)\n",
    "        # 각 분류별로 올바른 예측 수를 모읍니다\n",
    "        for label, prediction in zip(labels, predictions):\n",
    "            if label == prediction:\n",
    "                correct_pred[classes[label]] += 1\n",
    "            total_pred[classes[label]] += 1\n",
    "\n",
    "\n",
    "# 각 분류별 정확도(accuracy)를 출력합니다\n",
    "for classname, correct_count in correct_pred.items():\n",
    "    accuracy = 100 * float(correct_count) / total_pred[classname]\n",
    "    print(\"Accuracy for class {:5s} is: {:.1f} %\".format(classname,\n",
    "                                                   accuracy))"
   ]
  },
  {
   "cell_type": "code",
   "execution_count": 34,
   "metadata": {
    "id": "0UorzWjiYEG7"
   },
   "outputs": [
    {
     "name": "stdout",
     "output_type": "stream",
     "text": [
      "horse\n",
      "cat\n",
      "plane\n",
      "cat\n",
      "deer\n",
      "ship\n",
      "car\n",
      "bird\n",
      "car\n",
      "ship\n"
     ]
    }
   ],
   "source": [
    "for i in range(10):\n",
    "    print(classes[labels[i]])"
   ]
  },
  {
   "cell_type": "code",
   "execution_count": null,
   "metadata": {},
   "outputs": [],
   "source": []
  }
 ],
 "metadata": {
  "accelerator": "GPU",
  "colab": {
   "authorship_tag": "ABX9TyOJSwc78vQi4Iw7xpvGyCs6",
   "include_colab_link": true,
   "name": "Project 0. pytorch tutorial_jaewook.ipynb",
   "provenance": []
  },
  "kernelspec": {
   "display_name": "Environment (conda_pytorch_p36)",
   "language": "python",
   "name": "conda_pytorch_p36"
  },
  "language_info": {
   "codemirror_mode": {
    "name": "ipython",
    "version": 3
   },
   "file_extension": ".py",
   "mimetype": "text/x-python",
   "name": "python",
   "nbconvert_exporter": "python",
   "pygments_lexer": "ipython3",
   "version": "3.6.5"
  }
 },
 "nbformat": 4,
 "nbformat_minor": 1
}
