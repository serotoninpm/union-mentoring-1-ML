{
 "cells": [
  {
   "cell_type": "markdown",
   "metadata": {
    "id": "8M3eOnh39bfO"
   },
   "source": [
    "1. torchvision을 사용하여 CIFAR10의 학습용 데이터, 시험용 데이터 불러오기, 정규화\n",
    "2. 합성곱 신경망 정의\n",
    "3. 손실 함수 정의\n",
    "4. 학습용 데이터를 사용하여 신경망 학습\n",
    "5. 시험용 데이터를 사용하여 신경망 검사"
   ]
  },
  {
   "cell_type": "code",
   "execution_count": 1,
   "metadata": {
    "id": "uXuITn8289eq"
   },
   "outputs": [],
   "source": [
    "#결과 inline에 출력\n",
    "%matplotlib inline"
   ]
  },
  {
   "cell_type": "code",
   "execution_count": 2,
   "metadata": {
    "id": "FEH4NGb6-KeH"
   },
   "outputs": [],
   "source": [
    "import torch\n",
    "import torchvision\n",
    "from torchvision.datasets import FashionMNIST\n",
    "# from torchvision.datasets import MNIST\n",
    "import torchvision.transforms as transforms\n",
    "import collections\n",
    "from sklearn import datasets\n",
    "from imblearn import under_sampling\n",
    "from typing import Any, Callable, Dict, List, Optional, Tuple\n",
    "import os\n",
    "import numpy as np"
   ]
  },
  {
   "cell_type": "code",
   "execution_count": 3,
   "metadata": {
    "id": "WbDcVbDtYQxy"
   },
   "outputs": [],
   "source": [
    "device = torch.device(\"cuda:0\" if torch.cuda.is_available() else \"cpu\")"
   ]
  },
  {
   "cell_type": "code",
   "execution_count": 4,
   "metadata": {},
   "outputs": [
    {
     "name": "stdout",
     "output_type": "stream",
     "text": [
      "2\n"
     ]
    }
   ],
   "source": [
    "print(torch.cuda.device_count())"
   ]
  },
  {
   "cell_type": "code",
   "execution_count": 5,
   "metadata": {
    "scrolled": true
   },
   "outputs": [
    {
     "name": "stdout",
     "output_type": "stream",
     "text": [
      "1.7.1+cu101\n"
     ]
    }
   ],
   "source": [
    "print(torch.__version__)"
   ]
  },
  {
   "cell_type": "code",
   "execution_count": 23,
   "metadata": {
    "colab": {
     "base_uri": "https://localhost:8080/"
    },
    "id": "qwxpmJonGrsb",
    "outputId": "0fab87ba-52f8-4d2a-88bf-81fec7f02dc4"
   },
   "outputs": [],
   "source": [
    "transform = transforms.Compose(\n",
    "    [transforms.ToTensor(),\n",
    "     transforms.Normalize((0.5,), (0.5,))])\n",
    "\n",
    "batch_size = 2048\n",
    "\n",
    "trainset = torchvision.datasets.FashionMNIST(root='./data', train=True,\n",
    "                                        download=True, transform=transform)\n",
    "trainloader = torch.utils.data.DataLoader(trainset, batch_size=batch_size,\n",
    "                                          shuffle=True, num_workers= 8 ,pin_memory= True)\n",
    "\n",
    "testset = torchvision.datasets.FashionMNIST(root='./data', train=False,\n",
    "                                       download=True, transform=transform)\n",
    "testloader = torch.utils.data.DataLoader(testset, batch_size=batch_size,\n",
    "                                         shuffle=False, num_workers=8, pin_memory= True)\n",
    "\n",
    "classes = ('T-shirt/top', 'Trouser', 'Pullover', 'Dress', 'Coat', 'Sandal',\n",
    "               'Shirt', 'Sneaker', 'Bag', 'Ankle boot')"
   ]
  },
  {
   "cell_type": "code",
   "execution_count": 24,
   "metadata": {},
   "outputs": [
    {
     "data": {
      "text/plain": [
       "torch.Tensor"
      ]
     },
     "execution_count": 24,
     "metadata": {},
     "output_type": "execute_result"
    }
   ],
   "source": [
    "type(trainset.data)"
   ]
  },
  {
   "cell_type": "code",
   "execution_count": 25,
   "metadata": {},
   "outputs": [
    {
     "data": {
      "text/plain": [
       "torch.Tensor"
      ]
     },
     "execution_count": 25,
     "metadata": {},
     "output_type": "execute_result"
    }
   ],
   "source": [
    "type(trainset.targets)"
   ]
  },
  {
   "cell_type": "code",
   "execution_count": 27,
   "metadata": {},
   "outputs": [
    {
     "name": "stdout",
     "output_type": "stream",
     "text": [
      "Original dataset shape Counter({9: 6000, 0: 6000, 3: 6000, 2: 6000, 7: 6000, 5: 6000, 1: 6000, 6: 6000, 4: 6000, 8: 6000})\n"
     ]
    }
   ],
   "source": [
    "print('Original dataset shape %s' % collections.Counter(trainset.targets.tolist()))\n"
   ]
  },
  {
   "cell_type": "code",
   "execution_count": 6,
   "metadata": {},
   "outputs": [],
   "source": [
    "class unbalance_FashionMNIST(FashionMNIST):\n",
    "     def __init__(\n",
    "            self,\n",
    "            root: str,\n",
    "            train: bool = True,\n",
    "            transform: Optional[Callable] = None,\n",
    "            target_transform: Optional[Callable] = None,\n",
    "            download: bool = False,\n",
    "    ) -> None:\n",
    "        super(unbalance_FashionMNIST, self).__init__(root, transform=transform,\n",
    "                                    target_transform=target_transform)\n",
    "        \n",
    "        if self.train:\n",
    "            data_file = self.training_file\n",
    "        else:\n",
    "            data_file = self.test_file\n",
    "     \n",
    "        self.data, self.targets = torch.load(os.path.join(self.processed_folder, data_file))\n",
    "        rus = under_sampling.RandomUnderSampler(\n",
    "            sampling_strategy={\n",
    "                0: 600,\n",
    "                1: 6000,\n",
    "                2: 600,\n",
    "                3: 6000,\n",
    "                4: 600,\n",
    "                5: 6000,\n",
    "                6: 600,\n",
    "                7: 6000,\n",
    "                8: 600,\n",
    "                9: 6000\n",
    "                \n",
    "            },\n",
    "            random_state=42\n",
    "        )\n",
    "        self.data, self.targets = rus.fit_resample(np.array(self.data).reshape(60000,28*28), np.array(self.targets))\n",
    "        self.data, self.targets = torch.Tensor(self.data.reshape(-1,28,28)).to(dtype=torch.uint8), torch.Tensor(self.targets).to(dtype=torch.uint8)\n",
    "\n"
   ]
  },
  {
   "cell_type": "code",
   "execution_count": 7,
   "metadata": {},
   "outputs": [],
   "source": [
    "transform = transforms.Compose(\n",
    "    [transforms.ToTensor(),\n",
    "     transforms.Normalize((0.5,), (0.5,))])\n",
    "\n",
    "batch_size = 2048\n",
    "\n",
    "trainset = unbalance_FashionMNIST(root='./data', train=True,\n",
    "                                        download=True, transform=transform)\n",
    "trainloader = torch.utils.data.DataLoader(trainset, batch_size=batch_size,\n",
    "                                          shuffle=True, num_workers= 8 ,pin_memory= True)\n",
    "\n",
    "testset = torchvision.datasets.FashionMNIST(root='./data', train=False,\n",
    "                                       download=True, transform=transform)\n",
    "testloader = torch.utils.data.DataLoader(testset, batch_size=batch_size,\n",
    "                                         shuffle=True, num_workers=8, pin_memory= True)\n",
    "\n",
    "classes = ('T-shirt/top', 'Trouser', 'Pullover', 'Dress', 'Coat', 'Sandal',\n",
    "               'Shirt', 'Sneaker', 'Bag', 'Ankle boot')"
   ]
  },
  {
   "cell_type": "code",
   "execution_count": 8,
   "metadata": {},
   "outputs": [
    {
     "name": "stdout",
     "output_type": "stream",
     "text": [
      "reshape dataset shape Counter({1: 6000, 3: 6000, 5: 6000, 7: 6000, 9: 6000, 0: 600, 2: 600, 4: 600, 6: 600, 8: 600})\n"
     ]
    }
   ],
   "source": [
    "print('reshape dataset shape %s' % collections.Counter(trainset.targets.tolist()))"
   ]
  },
  {
   "cell_type": "code",
   "execution_count": 9,
   "metadata": {},
   "outputs": [
    {
     "data": {
      "text/plain": [
       "torch.Tensor"
      ]
     },
     "execution_count": 9,
     "metadata": {},
     "output_type": "execute_result"
    }
   ],
   "source": [
    "type(trainset.data)"
   ]
  },
  {
   "cell_type": "code",
   "execution_count": 10,
   "metadata": {},
   "outputs": [
    {
     "data": {
      "text/plain": [
       "torch.Tensor"
      ]
     },
     "execution_count": 10,
     "metadata": {},
     "output_type": "execute_result"
    }
   ],
   "source": [
    "type(trainset.targets)"
   ]
  },
  {
   "cell_type": "code",
   "execution_count": 11,
   "metadata": {},
   "outputs": [
    {
     "data": {
      "text/plain": [
       "33000"
      ]
     },
     "execution_count": 11,
     "metadata": {},
     "output_type": "execute_result"
    }
   ],
   "source": [
    "len(trainset.data)"
   ]
  },
  {
   "cell_type": "code",
   "execution_count": 13,
   "metadata": {
    "colab": {
     "base_uri": "https://localhost:8080/",
     "height": 307
    },
    "id": "rgQfhxpXJZ5f",
    "outputId": "859af676-6ece-430a-a4ff-0b0346bd5bc7"
   },
   "outputs": [
    {
     "name": "stdout",
     "output_type": "stream",
     "text": [
      "<torch.utils.data.dataloader._MultiProcessingDataLoaderIter object at 0x7fc33aacc198>\n"
     ]
    },
    {
     "data": {
      "image/png": "[encoded data removed]",
      "text/plain": [
       "<Figure size 432x288 with 1 Axes>"
      ]
     },
     "metadata": {},
     "output_type": "display_data"
    },
    {
     "name": "stdout",
     "output_type": "stream",
     "text": [
      "Pullover Sneaker   Bag Sneaker\n"
     ]
    }
   ],
   "source": [
    "import matplotlib.pyplot as plt\n",
    "import numpy as np\n",
    "\n",
    "# 이미지를 보여주기 위한 함수\n",
    "\n",
    "def imshow(img):\n",
    "    img = img / 2 + 0.5     # unnormalize\n",
    "    npimg = img.numpy()\n",
    "    plt.imshow(np.transpose(npimg, (1, 2, 0)))\n",
    "    plt.show()\n",
    "\n",
    "\n",
    "# 학습용 이미지를 무작위로 가져오기\n",
    "dataiter = iter(trainloader)\n",
    "print(dataiter)\n",
    "images, labels = dataiter.next()\n",
    "# 이미지 보여주기\n",
    "imshow(torchvision.utils.make_grid(images))\n",
    "# 정답(label) 출력\n",
    "print(' '.join('%5s' % classes[labels[j]] for j in range(4)))"
   ]
  },
  {
   "cell_type": "code",
   "execution_count": 14,
   "metadata": {
    "colab": {
     "base_uri": "https://localhost:8080/"
    },
    "id": "NB7aQV8uJZv6",
    "outputId": "a827f329-4e7f-4478-b1c1-839409b5d2a3"
   },
   "outputs": [
    {
     "data": {
      "text/plain": [
       "DataParallel(\n",
       "  (module): Net(\n",
       "    (layer1): Sequential(\n",
       "      (0): Conv2d(1, 32, kernel_size=(3, 3), stride=(1, 1))\n",
       "      (1): ReLU()\n",
       "      (2): Conv2d(32, 32, kernel_size=(3, 3), stride=(1, 1))\n",
       "      (3): ReLU()\n",
       "      (4): MaxPool2d(kernel_size=2, stride=2, padding=0, dilation=1, ceil_mode=False)\n",
       "      (5): Dropout(p=0.2, inplace=False)\n",
       "    )\n",
       "    (layer2): Sequential(\n",
       "      (0): Conv2d(32, 64, kernel_size=(3, 3), stride=(1, 1))\n",
       "      (1): ReLU()\n",
       "      (2): Conv2d(64, 64, kernel_size=(3, 3), stride=(1, 1))\n",
       "      (3): ReLU()\n",
       "      (4): MaxPool2d(kernel_size=2, stride=2, padding=0, dilation=1, ceil_mode=False)\n",
       "      (5): Dropout(p=0.2, inplace=False)\n",
       "    )\n",
       "    (fc1): Linear(in_features=1024, out_features=120, bias=True)\n",
       "    (bn1): BatchNorm1d(120, eps=1e-05, momentum=0.1, affine=True, track_running_stats=True)\n",
       "    (bn2): BatchNorm1d(84, eps=1e-05, momentum=0.1, affine=True, track_running_stats=True)\n",
       "    (fc2): Linear(in_features=120, out_features=84, bias=True)\n",
       "    (fc3): Linear(in_features=84, out_features=10, bias=True)\n",
       "  )\n",
       ")"
      ]
     },
     "execution_count": 14,
     "metadata": {},
     "output_type": "execute_result"
    }
   ],
   "source": [
    "import torch.nn as nn\n",
    "import torch.nn.functional as F\n",
    "\n",
    "\n",
    "class Net(nn.Module):\n",
    "    def __init__(self):\n",
    "        super().__init__()\n",
    "        self.layer1 = torch.nn.Sequential(\n",
    "          nn.Conv2d(1, 32, 3),\n",
    "          nn.ReLU(),\n",
    "          nn.Conv2d(32, 32, 3),\n",
    "          nn.ReLU(),\n",
    "          nn.MaxPool2d(2, 2),\n",
    "          nn.Dropout(0.2)\n",
    "        )\n",
    "\n",
    "        self.layer2 = torch.nn.Sequential(\n",
    "          nn.Conv2d(32, 64, 3),\n",
    "          nn.ReLU(),\n",
    "          nn.Conv2d(64, 64, 3),\n",
    "          nn.ReLU(),\n",
    "          nn.MaxPool2d(2, 2),\n",
    "          nn.Dropout(0.2)\n",
    "        )\n",
    "\n",
    "\n",
    "        self.fc1 = nn.Linear(1024, 120)\n",
    "        self.bn1 = nn.BatchNorm1d(120)\n",
    "        self.bn2 = nn.BatchNorm1d(84)\n",
    "        self.fc2 = nn.Linear(120, 84)\n",
    "        self.fc3 = nn.Linear(84, 10)\n",
    "\n",
    "\n",
    "    def forward(self, x):\n",
    "        x = self.layer1(x)\n",
    "        x = self.layer2(x)\n",
    "        x = torch.flatten(x, 1) # 배치를 제외한 모든 차원을 평탄화(flatten)\n",
    "        x = F.relu(self.bn1(self.fc1(x)))\n",
    "        x = F.relu(self.bn2(self.fc2(x)))\n",
    "        x = self.fc3(x)\n",
    "        return x\n",
    "\n",
    "\n",
    "net = Net()\n",
    "\n",
    "if torch.cuda.device_count() > 1:\n",
    "    net = nn.DataParallel(net)\n",
    "\n",
    "net.to(device)"
   ]
  },
  {
   "cell_type": "code",
   "execution_count": 15,
   "metadata": {
    "id": "NmP7RK2FWytM"
   },
   "outputs": [],
   "source": [
    "import torch.optim as optim\n",
    "\n",
    "criterion = nn.CrossEntropyLoss()\n",
    "optimizer = optim.Adam(net.parameters(), lr=0.001)"
   ]
  },
  {
   "cell_type": "code",
   "execution_count": 16,
   "metadata": {
    "colab": {
     "base_uri": "https://localhost:8080/"
    },
    "id": "sPYggzAfW0Be",
    "outputId": "14b7fb32-dfdf-4530-c83d-f03b72f2b92a"
   },
   "outputs": [
    {
     "name": "stdout",
     "output_type": "stream",
     "text": [
      "[1,    10] loss: 1.316\n",
      "[2,    10] loss: 0.540\n",
      "[3,    10] loss: 0.367\n",
      "[4,    10] loss: 0.284\n",
      "[5,    10] loss: 0.234\n",
      "[6,    10] loss: 0.202\n",
      "[7,    10] loss: 0.178\n",
      "[8,    10] loss: 0.163\n",
      "[9,    10] loss: 0.158\n",
      "[10,    10] loss: 0.138\n",
      "[11,    10] loss: 0.134\n",
      "[12,    10] loss: 0.122\n",
      "[13,    10] loss: 0.117\n",
      "[14,    10] loss: 0.115\n",
      "[15,    10] loss: 0.108\n",
      "[16,    10] loss: 0.100\n",
      "[17,    10] loss: 0.091\n",
      "[18,    10] loss: 0.092\n",
      "[19,    10] loss: 0.087\n",
      "[20,    10] loss: 0.086\n",
      "[21,    10] loss: 0.080\n",
      "[22,    10] loss: 0.077\n",
      "[23,    10] loss: 0.073\n",
      "[24,    10] loss: 0.067\n",
      "[25,    10] loss: 0.076\n",
      "[26,    10] loss: 0.064\n",
      "[27,    10] loss: 0.061\n",
      "[28,    10] loss: 0.058\n",
      "[29,    10] loss: 0.053\n",
      "[30,    10] loss: 0.052\n",
      "[31,    10] loss: 0.051\n",
      "[32,    10] loss: 0.051\n",
      "[33,    10] loss: 0.045\n",
      "[34,    10] loss: 0.049\n",
      "[35,    10] loss: 0.044\n",
      "[36,    10] loss: 0.045\n",
      "[37,    10] loss: 0.046\n",
      "[38,    10] loss: 0.044\n",
      "[39,    10] loss: 0.036\n",
      "[40,    10] loss: 0.034\n",
      "[41,    10] loss: 0.037\n",
      "[42,    10] loss: 0.033\n",
      "[43,    10] loss: 0.035\n",
      "[44,    10] loss: 0.032\n",
      "[45,    10] loss: 0.035\n",
      "[46,    10] loss: 0.031\n",
      "[47,    10] loss: 0.031\n",
      "[48,    10] loss: 0.026\n",
      "[49,    10] loss: 0.025\n",
      "[50,    10] loss: 0.023\n",
      "[51,    10] loss: 0.024\n",
      "[52,    10] loss: 0.024\n",
      "[53,    10] loss: 0.023\n",
      "[54,    10] loss: 0.029\n",
      "[55,    10] loss: 0.035\n",
      "[56,    10] loss: 0.028\n",
      "[57,    10] loss: 0.032\n",
      "[58,    10] loss: 0.025\n",
      "[59,    10] loss: 0.024\n",
      "[60,    10] loss: 0.021\n",
      "[61,    10] loss: 0.021\n",
      "[62,    10] loss: 0.020\n",
      "[63,    10] loss: 0.017\n",
      "[64,    10] loss: 0.018\n",
      "[65,    10] loss: 0.017\n",
      "[66,    10] loss: 0.015\n",
      "[67,    10] loss: 0.018\n",
      "[68,    10] loss: 0.017\n",
      "[69,    10] loss: 0.018\n",
      "[70,    10] loss: 0.016\n",
      "[71,    10] loss: 0.015\n",
      "[72,    10] loss: 0.016\n",
      "[73,    10] loss: 0.015\n",
      "[74,    10] loss: 0.013\n",
      "[75,    10] loss: 0.013\n",
      "[76,    10] loss: 0.012\n",
      "[77,    10] loss: 0.013\n",
      "[78,    10] loss: 0.012\n",
      "[79,    10] loss: 0.011\n",
      "[80,    10] loss: 0.014\n",
      "[81,    10] loss: 0.015\n",
      "[82,    10] loss: 0.012\n",
      "[83,    10] loss: 0.014\n",
      "[84,    10] loss: 0.012\n",
      "[85,    10] loss: 0.014\n",
      "[86,    10] loss: 0.014\n",
      "[87,    10] loss: 0.011\n",
      "[88,    10] loss: 0.011\n",
      "[89,    10] loss: 0.010\n",
      "[90,    10] loss: 0.015\n",
      "[91,    10] loss: 0.019\n",
      "[92,    10] loss: 0.015\n",
      "[93,    10] loss: 0.013\n",
      "[94,    10] loss: 0.015\n",
      "[95,    10] loss: 0.017\n",
      "[96,    10] loss: 0.018\n",
      "[97,    10] loss: 0.014\n",
      "[98,    10] loss: 0.012\n",
      "[99,    10] loss: 0.010\n",
      "[100,    10] loss: 0.011\n",
      "[101,    10] loss: 0.009\n",
      "[102,    10] loss: 0.008\n",
      "[103,    10] loss: 0.008\n",
      "[104,    10] loss: 0.009\n",
      "[105,    10] loss: 0.009\n",
      "[106,    10] loss: 0.010\n",
      "[107,    10] loss: 0.008\n",
      "[108,    10] loss: 0.008\n",
      "[109,    10] loss: 0.009\n",
      "[110,    10] loss: 0.010\n",
      "[111,    10] loss: 0.012\n",
      "[112,    10] loss: 0.013\n",
      "[113,    10] loss: 0.008\n",
      "[114,    10] loss: 0.007\n",
      "[115,    10] loss: 0.011\n",
      "[116,    10] loss: 0.008\n",
      "[117,    10] loss: 0.011\n",
      "[118,    10] loss: 0.010\n",
      "[119,    10] loss: 0.011\n",
      "[120,    10] loss: 0.013\n",
      "[121,    10] loss: 0.013\n",
      "[122,    10] loss: 0.015\n",
      "[123,    10] loss: 0.014\n",
      "[124,    10] loss: 0.011\n",
      "[125,    10] loss: 0.012\n",
      "[126,    10] loss: 0.010\n",
      "[127,    10] loss: 0.010\n",
      "[128,    10] loss: 0.008\n",
      "[129,    10] loss: 0.008\n",
      "[130,    10] loss: 0.007\n",
      "[131,    10] loss: 0.008\n",
      "[132,    10] loss: 0.007\n",
      "[133,    10] loss: 0.009\n",
      "[134,    10] loss: 0.009\n",
      "[135,    10] loss: 0.007\n",
      "[136,    10] loss: 0.007\n",
      "[137,    10] loss: 0.007\n",
      "[138,    10] loss: 0.006\n",
      "[139,    10] loss: 0.005\n",
      "[140,    10] loss: 0.007\n",
      "[141,    10] loss: 0.008\n",
      "[142,    10] loss: 0.006\n",
      "[143,    10] loss: 0.008\n",
      "[144,    10] loss: 0.008\n",
      "[145,    10] loss: 0.009\n",
      "[146,    10] loss: 0.007\n",
      "[147,    10] loss: 0.006\n",
      "[148,    10] loss: 0.005\n",
      "[149,    10] loss: 0.004\n",
      "[150,    10] loss: 0.004\n",
      "[151,    10] loss: 0.004\n",
      "[152,    10] loss: 0.004\n",
      "[153,    10] loss: 0.008\n",
      "[154,    10] loss: 0.009\n",
      "[155,    10] loss: 0.008\n",
      "[156,    10] loss: 0.008\n",
      "[157,    10] loss: 0.006\n",
      "[158,    10] loss: 0.007\n",
      "[159,    10] loss: 0.006\n",
      "[160,    10] loss: 0.005\n",
      "[161,    10] loss: 0.005\n",
      "[162,    10] loss: 0.005\n",
      "[163,    10] loss: 0.005\n",
      "[164,    10] loss: 0.010\n",
      "[165,    10] loss: 0.008\n",
      "[166,    10] loss: 0.007\n",
      "[167,    10] loss: 0.006\n",
      "[168,    10] loss: 0.010\n",
      "[169,    10] loss: 0.008\n",
      "[170,    10] loss: 0.006\n",
      "[171,    10] loss: 0.005\n",
      "[172,    10] loss: 0.006\n",
      "[173,    10] loss: 0.005\n",
      "[174,    10] loss: 0.004\n",
      "[175,    10] loss: 0.004\n",
      "[176,    10] loss: 0.003\n",
      "[177,    10] loss: 0.004\n",
      "[178,    10] loss: 0.004\n",
      "[179,    10] loss: 0.006\n",
      "[180,    10] loss: 0.005\n",
      "[181,    10] loss: 0.005\n",
      "[182,    10] loss: 0.004\n",
      "[183,    10] loss: 0.003\n",
      "[184,    10] loss: 0.003\n",
      "[185,    10] loss: 0.004\n",
      "[186,    10] loss: 0.004\n",
      "[187,    10] loss: 0.005\n",
      "[188,    10] loss: 0.009\n",
      "[189,    10] loss: 0.005\n",
      "[190,    10] loss: 0.005\n",
      "[191,    10] loss: 0.005\n",
      "[192,    10] loss: 0.006\n",
      "[193,    10] loss: 0.005\n",
      "[194,    10] loss: 0.008\n",
      "[195,    10] loss: 0.007\n",
      "[196,    10] loss: 0.007\n",
      "[197,    10] loss: 0.005\n",
      "[198,    10] loss: 0.008\n",
      "[199,    10] loss: 0.008\n",
      "[200,    10] loss: 0.006\n",
      "Finished Training\n"
     ]
    }
   ],
   "source": [
    "net.train()\n",
    "for epoch in range(200):   # 데이터셋을 수차례 반복합니다.\n",
    "    running_loss = 0.0\n",
    "    for i, data in enumerate(trainloader, 0):\n",
    "        # [inputs, labels]의 목록인 data로부터 입력을 받은 후;\n",
    "        inputs, labels = data[0].to(device), data[1].to(device)\n",
    "\n",
    "        # 변화도(Gradient) 매개변수를 0으로 만들고\n",
    "        optimizer.zero_grad()\n",
    "\n",
    "        # 순전파 + 역전파 + 최적화를 한 후\n",
    "        outputs = net(inputs)\n",
    "        loss = criterion(outputs, labels)\n",
    "        loss.backward()\n",
    "        optimizer.step()\n",
    "\n",
    "        # 통계를 출력합니다.\n",
    "        running_loss += loss.item()\n",
    "        if i % 10 == 9:    # print every 2000 mini-batches\n",
    "            print('[%d, %5d] loss: %.3f' %\n",
    "                  (epoch + 1, i + 1, running_loss / 10))\n",
    "            running_loss = 0.0\n",
    "\n",
    "print('Finished Training')"
   ]
  },
  {
   "cell_type": "code",
   "execution_count": null,
   "metadata": {
    "id": "SYFO6TofWz-0"
   },
   "outputs": [],
   "source": [
    "PATH = './fashion_net.pth'\n",
    "torch.save(net.state_dict(), PATH)"
   ]
  },
  {
   "cell_type": "code",
   "execution_count": null,
   "metadata": {
    "colab": {
     "base_uri": "https://localhost:8080/"
    },
    "id": "xi8HjximWz5-",
    "outputId": "688f3e8e-f55b-4d0d-b51c-d29a5e2c8c53"
   },
   "outputs": [],
   "source": [
    "dataiter = iter(testloader)\n",
    "images, labels = dataiter.next()\n",
    "images = images.to(device)\n",
    "labels = labels.to(device)\n",
    "# 이미지를 출력합니다.\n",
    "# imshow(torchvision.utils.make_grid(images))\n",
    "print('GroundTruth: ', ' '.join('%5s' % classes[labels[j]] for j in range(64)))"
   ]
  },
  {
   "cell_type": "code",
   "execution_count": null,
   "metadata": {
    "id": "eAQ14i67Xzdk"
   },
   "outputs": [],
   "source": [
    "# net = Net()\n",
    "# net.to(device)\n",
    "# net.load_state_dict(torch.load(PATH))"
   ]
  },
  {
   "cell_type": "code",
   "execution_count": 17,
   "metadata": {
    "id": "xW5s_VvOX2Kr"
   },
   "outputs": [],
   "source": [
    "net.train()\n",
    "outputs = net(images)"
   ]
  },
  {
   "cell_type": "code",
   "execution_count": 18,
   "metadata": {
    "colab": {
     "base_uri": "https://localhost:8080/"
    },
    "id": "-EUVmr_-X2IL",
    "outputId": "07dd4599-2c71-46e0-f132-e1f09e678af2"
   },
   "outputs": [
    {
     "name": "stdout",
     "output_type": "stream",
     "text": [
      "Predicted:  Pullover Sneaker   Bag Sneaker Sandal Trouser Ankle boot T-shirt/top Sandal Trouser Trouser Ankle boot Sneaker Dress Sneaker Ankle boot Trouser Dress Sneaker Sneaker Shirt  Coat Sandal Dress Trouser Shirt Dress Dress Dress Ankle boot Trouser Dress Sneaker Sneaker Dress Sandal Sneaker Trouser Sneaker Dress T-shirt/top Sandal Dress Sandal Dress Trouser Ankle boot Sandal Dress Sandal Dress Sneaker Dress Sneaker Sandal Trouser Ankle boot Sneaker Dress Sneaker Sneaker Dress Ankle boot Sandal Ankle boot T-shirt/top Dress Ankle boot Ankle boot   Bag Pullover Dress   Bag Dress T-shirt/top Ankle boot Ankle boot Shirt Ankle boot Sneaker Sneaker Ankle boot Dress Sneaker Dress Dress Dress Dress Trouser Sneaker Ankle boot Dress Sneaker Dress Sneaker Sandal Dress Ankle boot Dress Trouser Sneaker Sandal Trouser Sandal Trouser Dress Dress Ankle boot Sneaker Dress Sandal Sandal Ankle boot Dress Sneaker Trouser Sneaker Sneaker Ankle boot Dress Sandal T-shirt/top Sandal Trouser Dress Sandal Sandal Dress Sandal Dress Ankle boot Sandal Sandal Sandal Sneaker Trouser Trouser Sneaker Shirt Sneaker Sandal Sneaker Trouser Trouser Sandal  Coat Dress Ankle boot Sandal Sneaker Sandal Dress Ankle boot Sneaker Trouser Ankle boot Sandal Sneaker Trouser Ankle boot Sneaker Ankle boot Sandal Sneaker Dress Trouser Dress Sandal Trouser Trouser Dress Sneaker Shirt Sandal Ankle boot Ankle boot Pullover Shirt Sandal Trouser Trouser Dress Sneaker Sneaker Dress Pullover Dress Dress Sandal Ankle boot  Coat Sneaker Ankle boot Trouser Sneaker Sneaker Trouser Dress Dress Ankle boot Sandal Dress Sandal Sandal Dress Sandal Sandal   Bag Trouser Dress Ankle boot Pullover Dress Sneaker Sandal Trouser Ankle boot Ankle boot Trouser Sneaker   Bag Dress Dress Trouser Sneaker Sandal T-shirt/top Shirt Pullover Ankle boot Sneaker Ankle boot Sneaker  Coat Sneaker Ankle boot Ankle boot Dress Sandal   Bag Sandal Trouser Trouser Sneaker Sneaker Sandal Sandal Sandal Ankle boot Trouser Dress Dress Ankle boot Dress Shirt Sandal Sandal T-shirt/top Trouser Sneaker Trouser Sneaker Dress Sandal Trouser Sneaker Sneaker Sneaker Trouser Trouser Ankle boot Sneaker Ankle boot Trouser Trouser Dress Dress Trouser Dress  Coat Dress Sneaker Trouser Ankle boot Sandal Trouser Sneaker Trouser   Bag Trouser Ankle boot Trouser Sandal Trouser   Bag Trouser Sneaker Sandal Ankle boot Ankle boot Sneaker Sandal Sandal Sneaker Sneaker Dress Sandal Sandal Dress Sandal Sneaker Sneaker Dress Dress Trouser Dress Dress Ankle boot Sneaker Shirt  Coat Ankle boot Dress Dress Sandal Trouser Sneaker Trouser Sneaker   Bag Ankle boot Trouser Sandal Ankle boot Dress Sandal Ankle boot   Bag Ankle boot Sandal Sandal T-shirt/top Ankle boot Ankle boot Sandal Dress Trouser Ankle boot Trouser Sneaker Dress Ankle boot Dress Ankle boot Dress Ankle boot Pullover Ankle boot Dress Sandal Dress Sandal Ankle boot Trouser Sneaker Sandal Sandal Sandal Ankle boot Trouser Trouser Dress Sneaker Sneaker Dress Dress Trouser Sneaker Dress Sandal  Coat Ankle boot Sneaker Sandal Dress Ankle boot Shirt Trouser Sneaker Dress Ankle boot Pullover Sneaker Dress Sneaker Trouser Sandal Dress Ankle boot Sandal Sandal Trouser Dress Trouser Dress Dress Dress Dress Sneaker Sandal Ankle boot Dress Ankle boot Sneaker Sandal Sneaker   Bag Dress Trouser Dress Trouser Sneaker Sneaker Shirt Sandal Trouser Ankle boot   Bag Shirt Sneaker Dress Sneaker Sneaker Ankle boot Ankle boot   Bag Dress Ankle boot Ankle boot Ankle boot Trouser Ankle boot Ankle boot Dress Dress Ankle boot Dress Dress Dress Dress Trouser Sandal Dress Sandal Shirt Sandal Trouser Ankle boot Ankle boot Trouser Trouser Dress   Bag Ankle boot Ankle boot Sneaker Sandal Dress Sneaker Dress Sandal Sandal Sandal   Bag Dress Dress Sandal Sandal Sandal Sandal Shirt Sneaker   Bag Sandal T-shirt/top Trouser  Coat Dress  Coat Trouser Sandal Dress Trouser Ankle boot Sneaker Sandal Dress Trouser Sneaker Dress Sneaker Sandal Dress Trouser Dress Dress Trouser Ankle boot T-shirt/top Trouser Pullover Dress Sneaker Ankle boot Trouser Pullover Sneaker Sneaker Dress Trouser  Coat Sneaker Ankle boot Sneaker Trouser Ankle boot Dress Sneaker Dress Ankle boot Trouser T-shirt/top Trouser Trouser Sandal Sandal Trouser Sandal Ankle boot Sandal Sandal Dress Trouser Sneaker Trouser Sandal Sandal Trouser Ankle boot  Coat Ankle boot Ankle boot Dress Dress Shirt Ankle boot Dress  Coat Ankle boot Dress Trouser Dress Dress Sandal Ankle boot Dress Trouser Dress  Coat Ankle boot Trouser Sneaker Trouser Trouser Ankle boot T-shirt/top Sneaker Sneaker Ankle boot Sandal Ankle boot Ankle boot Sandal Dress Sneaker Sandal Sneaker Dress Sandal Ankle boot Sandal Sneaker Trouser Sandal Sneaker Sandal Trouser Trouser Trouser Sneaker Shirt Ankle boot Ankle boot Sandal Trouser T-shirt/top Sneaker Sneaker Dress Trouser Trouser Ankle boot Ankle boot Sneaker Trouser Sandal Trouser Sneaker Ankle boot Ankle boot Trouser Sneaker Pullover Ankle boot Ankle boot Sneaker Sandal Trouser Sneaker Sandal Sandal Dress Sandal Dress Sandal Ankle boot Sandal Trouser Ankle boot Shirt Trouser Sandal Trouser Sneaker Ankle boot   Bag Sneaker Sandal T-shirt/top Sneaker Sneaker Trouser   Bag Ankle boot Sandal Sandal Sneaker Sandal Dress Sandal Sandal Sneaker Dress Trouser Dress Pullover T-shirt/top Trouser Sneaker Dress Ankle boot Trouser Trouser Dress Dress Ankle boot Trouser Sandal Ankle boot Ankle boot Ankle boot Sandal Dress Shirt Dress Sneaker Sandal Sandal Ankle boot Dress Pullover Ankle boot Sandal Trouser Ankle boot Sandal Sneaker Dress Trouser Sneaker Sneaker Trouser Ankle boot Sandal Shirt Dress Ankle boot Trouser Dress Trouser Sandal Shirt Sandal Ankle boot Trouser Sandal Sandal Trouser Ankle boot Sandal Trouser Dress Sandal Sandal Sandal Dress Ankle boot Sneaker T-shirt/top Trouser Ankle boot Sneaker Sandal Sandal Dress Sandal Trouser Trouser Sandal Sandal Sneaker Dress Trouser Dress Trouser Trouser Sandal Dress Dress Ankle boot Sneaker Sneaker Sneaker Dress Sneaker Ankle boot Ankle boot Dress Trouser Sandal T-shirt/top Dress Ankle boot Sandal Ankle boot Sneaker Ankle boot Sneaker Dress Ankle boot Sandal Dress Ankle boot Ankle boot Sandal Ankle boot Trouser Ankle boot Dress Trouser Sandal Dress Trouser Trouser Sandal Sneaker Sneaker Sneaker Dress Sandal Trouser Sneaker Sneaker   Bag Sandal Dress Trouser Sandal Trouser Sandal Sandal Trouser Dress Ankle boot Sneaker Sneaker Dress Trouser T-shirt/top Trouser Trouser Trouser Sandal Pullover Dress Trouser Sandal Trouser Sandal Sneaker Sneaker Ankle boot Ankle boot Dress Dress Sneaker Pullover Trouser Dress Trouser Ankle boot Dress Sandal Ankle boot Sandal Dress Ankle boot Sandal  Coat Sneaker Sandal Shirt Dress Ankle boot Sandal Ankle boot Sneaker Sandal Sandal Shirt Shirt Sandal Sandal Ankle boot Trouser Sandal Sneaker Trouser Ankle boot Trouser Ankle boot Sneaker Sneaker Sandal Sneaker Dress Dress Ankle boot Ankle boot Sandal Sneaker Dress Trouser T-shirt/top Ankle boot Dress Sandal Shirt Ankle boot Ankle boot Dress Sneaker Sneaker Trouser Trouser T-shirt/top Trouser Sneaker Ankle boot Trouser Ankle boot Ankle boot Ankle boot Dress Sandal Trouser Ankle boot Dress Ankle boot Sneaker Sneaker Dress Sandal Dress Dress Sandal Ankle boot Ankle boot Trouser Sandal Trouser Sneaker Sneaker Ankle boot Trouser Sneaker Sandal Ankle boot   Bag Sandal Trouser Sneaker Sandal Dress Sneaker Sandal Dress Sneaker  Coat Ankle boot Sneaker Trouser Sandal Shirt Ankle boot Trouser Dress Trouser Trouser Sneaker Dress Ankle boot Trouser Dress Sandal Ankle boot Sneaker Trouser Trouser Sneaker T-shirt/top Ankle boot Trouser Sneaker Sneaker T-shirt/top Sneaker Dress Sneaker Sneaker Trouser Ankle boot Sneaker Sneaker Trouser Dress Trouser Trouser Ankle boot Dress Sneaker Sandal Trouser Sandal Trouser Sneaker Sandal Sneaker Sneaker Dress Trouser Ankle boot Ankle boot Trouser Sneaker T-shirt/top Sneaker Ankle boot Sneaker Sneaker Sandal Dress Shirt Sneaker Pullover Trouser Sneaker Ankle boot Trouser Trouser Sandal Trouser Trouser Sneaker Sandal Trouser Dress Ankle boot Trouser Sandal Sneaker Dress Dress Trouser Trouser Ankle boot   Bag T-shirt/top T-shirt/top Ankle boot Sneaker Sneaker Sneaker Sneaker Trouser Sandal  Coat Dress Trouser Dress Trouser Trouser Ankle boot Dress Ankle boot Sandal Sandal Sandal T-shirt/top Dress   Bag Ankle boot Sneaker Trouser Sneaker Trouser Dress Trouser Sandal Sneaker   Bag Sandal Sandal Trouser Ankle boot Trouser Sneaker Sandal Dress Sandal Sandal Sandal Dress Sneaker Sneaker Ankle boot Pullover Sneaker Trouser Sneaker Ankle boot Trouser Sandal Ankle boot Ankle boot Dress Trouser Sandal Sandal Sneaker Ankle boot Ankle boot Ankle boot Sneaker Sneaker   Bag T-shirt/top  Coat Sneaker Dress Dress T-shirt/top Ankle boot Dress Dress Sneaker Trouser Dress Ankle boot Sandal Dress Trouser Sneaker Ankle boot Sneaker Dress Trouser Sandal Sandal Sandal Sneaker   Bag Trouser Shirt Dress Sneaker  Coat Dress Sneaker Trouser Pullover Sneaker Ankle boot Ankle boot Ankle boot Dress Pullover Trouser Sandal  Coat Dress Dress Ankle boot Sandal Ankle boot Dress Sneaker Sandal Ankle boot Ankle boot Dress Ankle boot Dress Trouser Dress Dress Sandal Ankle boot Dress Trouser Trouser Ankle boot Dress Dress  Coat Sandal Trouser Sandal Sneaker Dress Ankle boot T-shirt/top Sneaker Ankle boot Sneaker Trouser Dress  Coat Ankle boot Sneaker Ankle boot Trouser T-shirt/top Sneaker Sandal Ankle boot Trouser Dress Dress Ankle boot Dress Ankle boot Sneaker  Coat Sneaker Sneaker Sneaker Dress Dress Pullover Shirt Ankle boot Sandal Dress Trouser Ankle boot Dress Sneaker Ankle boot Trouser Sneaker Dress Sneaker Trouser Sandal Sandal Dress Pullover Dress Ankle boot Sandal Ankle boot Ankle boot Ankle boot Ankle boot Ankle boot Dress Ankle boot Sneaker Dress Ankle boot   Bag Dress Ankle boot Sandal Sneaker Ankle boot Trouser Sneaker Dress Trouser Ankle boot Sneaker Dress Ankle boot Trouser Ankle boot Shirt Trouser Sandal Trouser Pullover Sneaker Sneaker Dress Ankle boot Sneaker Ankle boot Pullover Sandal Sneaker Sandal Dress Trouser Trouser Ankle boot Sandal Dress Trouser Trouser Sneaker Dress Sneaker Pullover Dress Sandal Sandal T-shirt/top Sneaker Ankle boot Sandal Trouser Sandal Ankle boot Trouser Shirt Sandal Sneaker Sneaker Sandal Sneaker Trouser Trouser Sneaker Trouser Ankle boot Ankle boot Sneaker Dress Dress Ankle boot Sneaker Ankle boot Sneaker   Bag Sandal Dress Trouser Sandal Ankle boot Dress Trouser Sneaker Sandal Sneaker Sneaker Sandal Sandal Ankle boot Sandal Dress Sandal Trouser Sandal Sneaker Trouser Ankle boot Dress Dress Sneaker Trouser Ankle boot Sneaker Shirt Ankle boot Dress Trouser Trouser Sneaker Ankle boot Sandal Sneaker Sandal Dress Trouser Trouser Sandal Dress Sandal Trouser Sandal Dress Dress Sneaker Sneaker Shirt Trouser Trouser Ankle boot Dress Sandal Dress Trouser   Bag Sandal Dress Trouser Dress Sneaker Sneaker Trouser Dress Sneaker Ankle boot Trouser Trouser Sneaker Dress Trouser Sandal  Coat Dress Dress Trouser Sneaker Ankle boot Trouser Sandal Trouser Pullover Sandal Dress Dress Trouser Dress Ankle boot Pullover Sneaker Trouser Dress Sneaker Shirt  Coat Ankle boot T-shirt/top Dress Sneaker Trouser Sneaker Trouser Ankle boot Sandal Pullover Dress Ankle boot Ankle boot Trouser Trouser Ankle boot Sandal Dress Dress Dress Sneaker Sneaker Sandal Sandal Ankle boot Ankle boot Trouser Sandal Dress Ankle boot Dress Ankle boot Sandal   Bag Trouser Sandal Trouser Sneaker Ankle boot Ankle boot Sandal Pullover Sneaker Trouser Sandal Sneaker Sneaker Sneaker Dress Sandal Sneaker Sneaker  Coat Sandal Ankle boot Dress Sandal Sandal Sneaker Ankle boot Sandal Ankle boot Ankle boot Sandal Dress   Bag Sandal Trouser Sneaker Trouser Ankle boot Dress Sandal Dress Trouser Sandal Sneaker Dress  Coat Sandal Trouser Ankle boot Sandal Ankle boot Sandal Pullover Dress Sandal Sandal Trouser Sandal Ankle boot Trouser Ankle boot Dress Ankle boot Sneaker   Bag Dress Shirt Trouser Ankle boot Ankle boot Sandal Trouser Dress Trouser Ankle boot Dress Sandal Sandal Dress Sneaker Sneaker Sandal Sneaker Ankle boot Sneaker Sneaker Trouser Sneaker Sneaker Ankle boot Sneaker   Bag Sandal Dress Sandal Trouser Trouser Sneaker Trouser Ankle boot Sandal Sneaker T-shirt/top Trouser Dress Ankle boot Sandal Dress Trouser Sneaker Trouser Dress Sneaker Trouser Pullover Pullover Sandal Sneaker Dress Ankle boot Sandal Sneaker Trouser Sandal   Bag Ankle boot Dress Sandal Sandal Sneaker  Coat Sneaker T-shirt/top Sandal Sneaker Sneaker Sneaker Sneaker Trouser Trouser Dress Sneaker Ankle boot Trouser Sandal Dress Ankle boot Sandal  Coat Sneaker Sandal Sandal Pullover Dress Sneaker Sandal Sandal Trouser Sneaker Sandal Sneaker Sneaker Sneaker Sandal Dress Dress Dress Sneaker Ankle boot Shirt Sandal Trouser Sneaker Sneaker Sneaker Dress Dress Trouser Sandal Sandal Ankle boot Dress Sneaker Sandal Sneaker Dress Trouser Dress Sneaker Ankle boot Trouser Sandal Ankle boot Ankle boot Sandal Sandal Trouser Ankle boot Sandal Trouser Sneaker Trouser Sandal Sandal Trouser Sneaker T-shirt/top T-shirt/top   Bag Ankle boot Trouser Ankle boot Ankle boot Dress Trouser Ankle boot Trouser Ankle boot Sneaker Sandal Sandal Pullover Dress Trouser Ankle boot Dress Ankle boot Dress Ankle boot Sandal Dress Ankle boot Ankle boot Ankle boot Ankle boot Sneaker Sneaker   Bag Sneaker Shirt T-shirt/top Trouser Dress Dress Trouser Sandal Trouser Sandal Trouser Trouser Ankle boot Sandal Sandal Sneaker Sandal Trouser Dress Sneaker Ankle boot Sneaker Trouser T-shirt/top Sandal Sandal Dress Ankle boot Sandal Ankle boot Sneaker Sneaker Sneaker Ankle boot Ankle boot Ankle boot Pullover Dress Sandal Ankle boot Trouser Trouser Sandal  Coat Pullover Sneaker Sandal Trouser Trouser Sandal Sandal Ankle boot Shirt Trouser Ankle boot Trouser Trouser Ankle boot Pullover Shirt Sandal Ankle boot Trouser Sneaker Sneaker Dress Sandal Dress Ankle boot Ankle boot Trouser Pullover Sneaker Dress Ankle boot Sandal Sneaker Sneaker Sandal Sneaker Ankle boot Dress Dress Ankle boot Ankle boot Sneaker Ankle boot Trouser Sneaker Sneaker Sandal Sandal Trouser Trouser Trouser Sneaker Sandal Ankle boot Ankle boot Sandal   Bag Ankle boot Dress Ankle boot Dress Ankle boot Dress Dress Ankle boot Sandal Sneaker Ankle boot Dress Sneaker Sneaker Ankle boot Sneaker T-shirt/top Shirt Dress Sandal Sneaker Shirt Sneaker Sneaker Sneaker Ankle boot Dress Sandal Trouser Trouser Ankle boot Sneaker Sandal Sandal Ankle boot Ankle boot Sneaker Sneaker Sandal Dress Ankle boot Trouser Sneaker Sandal Ankle boot Trouser   Bag Ankle boot Ankle boot Dress Sneaker Trouser Trouser Dress Sandal Ankle boot Dress Dress Sandal Ankle boot Dress Ankle boot Dress Pullover Sneaker Dress Sneaker Sandal Trouser Ankle boot  Coat   Bag Dress Sandal Ankle boot Sneaker Sandal Ankle boot Trouser Sandal Dress Sneaker Ankle boot Sandal Sneaker Ankle boot Sandal Sandal   Bag Dress   Bag Sneaker  Coat Sandal Ankle boot Dress Ankle boot Trouser Trouser Sandal Sneaker Trouser Ankle boot Ankle boot Ankle boot Sneaker Ankle boot Sandal   Bag Sneaker Trouser Trouser Sneaker Sandal Sandal  Coat Dress Sneaker Sandal Dress Dress Sandal Trouser Trouser Ankle boot Sneaker Sandal Dress Sneaker Dress Sandal Sneaker Sandal Sneaker Trouser Ankle boot Sneaker Sneaker Trouser Ankle boot Ankle boot Sandal Trouser Dress Dress Trouser Sneaker Ankle boot  Coat Sandal Dress Sandal Trouser Sandal Sandal Trouser Sneaker Sneaker Sandal Trouser Trouser Sneaker Ankle boot Ankle boot Sneaker Trouser Sandal Ankle boot Sneaker Ankle boot Dress Dress Dress Trouser Sandal Dress Trouser Trouser Dress Ankle boot Sandal Dress Sneaker Trouser Sandal Trouser Dress Dress Sneaker Trouser Sandal Sneaker Trouser Dress Dress Sneaker Sneaker  Coat Dress Ankle boot Sandal Dress Dress Sandal Sneaker Ankle boot Ankle boot Sneaker Sneaker Dress Ankle boot Trouser Sneaker Sandal Trouser  Coat Trouser Dress Dress Dress Sandal Dress Ankle boot Trouser Sandal Trouser Sandal Dress Ankle boot Ankle boot Trouser Sneaker Sandal Ankle boot Dress Sneaker Sneaker Sneaker Ankle boot Trouser Sneaker Trouser   Bag Trouser Sandal Sneaker Ankle boot Ankle boot Sandal Sandal Sneaker Sneaker Trouser Sandal Ankle boot   Bag Sandal Trouser Dress Dress Sandal Ankle boot Sneaker Ankle boot Sneaker   Bag Ankle boot Trouser Sneaker Trouser Ankle boot Trouser Trouser Trouser Sneaker Ankle boot Sandal Ankle boot Sneaker Sandal Trouser Trouser Sneaker\n"
     ]
    }
   ],
   "source": [
    "_, predicted = torch.max(outputs, 1)\n",
    "\n",
    "print('Predicted: ', ' '.join('%5s' % classes[predicted[j]]\n",
    "                              for j in range(batch_size)))"
   ]
  },
  {
   "cell_type": "code",
   "execution_count": 19,
   "metadata": {
    "colab": {
     "base_uri": "https://localhost:8080/"
    },
    "id": "_fKdJHWbX2DR",
    "outputId": "038c26f6-4ab3-4954-c104-504a9fdd2d05"
   },
   "outputs": [
    {
     "name": "stdout",
     "output_type": "stream",
     "text": [
      "Accuracy of the network on the 10000 test images: 88 %\n"
     ]
    }
   ],
   "source": [
    "net.eval()\n",
    "correct = 0\n",
    "total = 0\n",
    "# 학습 중이 아니므로, 출력에 대한 변화도를 계산할 필요가 없습니다\n",
    "with torch.no_grad():\n",
    "    for data in testloader:\n",
    "        images, labels = data[0].to(device), data[1].to(device)\n",
    "\n",
    "        # 신경망에 이미지를 통과시켜 출력을 계산합니다\n",
    "        outputs = net(images)\n",
    "        # 가장 높은 값(energy)를 갖는 분류(class)를 정답으로 선택하겠습니다\n",
    "        _, predicted = torch.max(outputs.data, 1)\n",
    "        total += labels.size(0)\n",
    "        correct += (predicted == labels).sum().item()\n",
    "\n",
    "print('Accuracy of the network on the 10000 test images: %d %%' % (\n",
    "    100 * correct / total))"
   ]
  },
  {
   "cell_type": "code",
   "execution_count": 20,
   "metadata": {
    "colab": {
     "base_uri": "https://localhost:8080/"
    },
    "id": "zSiYXtBCYEJx",
    "outputId": "26710488-3eac-49fe-defb-67c03011007c"
   },
   "outputs": [
    {
     "name": "stdout",
     "output_type": "stream",
     "text": [
      "Accuracy for class T-shirt/top is: 77.3 %\n",
      "Accuracy for class Trouser is: 98.6 %\n",
      "Accuracy for class Pullover is: 86.9 %\n",
      "Accuracy for class Dress is: 98.7 %\n",
      "Accuracy for class Coat  is: 74.2 %\n",
      "Accuracy for class Sandal is: 98.6 %\n",
      "Accuracy for class Shirt is: 61.5 %\n",
      "Accuracy for class Sneaker is: 98.1 %\n",
      "Accuracy for class Bag   is: 96.0 %\n",
      "Accuracy for class Ankle boot is: 96.7 %\n"
     ]
    }
   ],
   "source": [
    "# 각 분류(class)에 대한 예측값 계산을 위해 준비\n",
    "correct_pred = {classname: 0 for classname in classes}\n",
    "total_pred = {classname: 0 for classname in classes}\n",
    "\n",
    "# 변화도는 여전히 필요하지 않습니다\n",
    "with torch.no_grad():\n",
    "    for data in testloader:\n",
    "        images, labels = data[0].to(device), data[1].to(device)\n",
    "        outputs = net(images)\n",
    "        _, predictions = torch.max(outputs, 1)\n",
    "        # 각 분류별로 올바른 예측 수를 모읍니다\n",
    "        for label, prediction in zip(labels, predictions):\n",
    "            if label == prediction:\n",
    "                correct_pred[classes[label]] += 1\n",
    "            total_pred[classes[label]] += 1\n",
    "\n",
    "\n",
    "# 각 분류별 정확도(accuracy)를 출력합니다\n",
    "for classname, correct_count in correct_pred.items():\n",
    "    accuracy = 100 * float(correct_count) / total_pred[classname]\n",
    "    print(\"Accuracy for class {:5s} is: {:.1f} %\".format(classname,\n",
    "                                                   accuracy))"
   ]
  },
  {
   "cell_type": "code",
   "execution_count": 22,
   "metadata": {
    "id": "0UorzWjiYEG7"
   },
   "outputs": [
    {
     "name": "stdout",
     "output_type": "stream",
     "text": [
      "Sneaker\n",
      "Sandal\n",
      "Pullover\n",
      "T-shirt/top\n",
      "Ankle boot\n",
      "Trouser\n",
      "Coat\n",
      "Dress\n",
      "Sandal\n",
      "Ankle boot\n"
     ]
    }
   ],
   "source": [
    "for i in range(10):\n",
    "    print(classes[labels[i]])"
   ]
  },
  {
   "cell_type": "code",
   "execution_count": null,
   "metadata": {},
   "outputs": [],
   "source": []
  }
 ],
 "metadata": {
  "accelerator": "GPU",
  "colab": {
   "authorship_tag": "ABX9TyOJSwc78vQi4Iw7xpvGyCs6",
   "include_colab_link": true,
   "name": "Project 0. pytorch tutorial_jaewook.ipynb",
   "provenance": []
  },
  "kernelspec": {
   "display_name": "Environment (conda_pytorch_p36)",
   "language": "python",
   "name": "conda_pytorch_p36"
  },
  "language_info": {
   "codemirror_mode": {
    "name": "ipython",
    "version": 3
   },
   "file_extension": ".py",
   "mimetype": "text/x-python",
   "name": "python",
   "nbconvert_exporter": "python",
   "pygments_lexer": "ipython3",
   "version": "3.6.5"
  }
 },
 "nbformat": 4,
 "nbformat_minor": 1
}
