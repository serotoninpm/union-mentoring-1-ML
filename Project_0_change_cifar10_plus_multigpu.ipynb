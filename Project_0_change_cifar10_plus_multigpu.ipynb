{
 "cells": [
  {
   "cell_type": "markdown",
   "metadata": {
    "colab_type": "text",
    "id": "view-in-github"
   },
   "source": [
    "<a href=\"https://colab.research.google.com/github/serotoninpm/union-mentoring-1-ML/blob/main/Project_0_pytorch_tutorial_jaewook.ipynb\" target=\"_parent\"><img src=\"https://colab.research.google.com/assets/colab-badge.svg\" alt=\"Open In Colab\"/></a>"
   ]
  },
  {
   "cell_type": "markdown",
   "metadata": {
    "id": "8M3eOnh39bfO"
   },
   "source": [
    "1. torchvision을 사용하여 CIFAR10의 학습용 데이터, 시험용 데이터 불러오기, 정규화\n",
    "2. 합성곱 신경망 정의\n",
    "3. 손실 함수 정의\n",
    "4. 학습용 데이터를 사용하여 신경망 학습\n",
    "5. 시험용 데이터를 사용하여 신경망 검사"
   ]
  },
  {
   "cell_type": "code",
   "execution_count": 1,
   "metadata": {
    "id": "uXuITn8289eq"
   },
   "outputs": [],
   "source": [
    "#결과 inline에 출력\n",
    "%matplotlib inline"
   ]
  },
  {
   "cell_type": "code",
   "execution_count": 2,
   "metadata": {
    "id": "FEH4NGb6-KeH"
   },
   "outputs": [],
   "source": [
    "import torch\n",
    "import torchvision\n",
    "import torchvision.transforms as transforms"
   ]
  },
  {
   "cell_type": "code",
   "execution_count": 3,
   "metadata": {
    "id": "WbDcVbDtYQxy"
   },
   "outputs": [],
   "source": [
    "device = torch.device(\"cuda:0\" if torch.cuda.is_available() else \"cpu\")"
   ]
  },
  {
   "cell_type": "code",
   "execution_count": 4,
   "metadata": {
    "colab": {
     "base_uri": "https://localhost:8080/"
    },
    "id": "qwxpmJonGrsb",
    "outputId": "0fab87ba-52f8-4d2a-88bf-81fec7f02dc4"
   },
   "outputs": [
    {
     "name": "stdout",
     "output_type": "stream",
     "text": [
      "Files already downloaded and verified\n",
      "Files already downloaded and verified\n"
     ]
    }
   ],
   "source": [
    "transform = transforms.Compose(\n",
    "    [transforms.ToTensor(),\n",
    "     transforms.Normalize((0.5, 0.5, 0.5), (0.5, 0.5, 0.5))])\n",
    "\n",
    "batch_size = 4096\n",
    "\n",
    "trainset = torchvision.datasets.CIFAR10(root='./data', train=True,\n",
    "                                        download=True, transform=transform)\n",
    "trainloader = torch.utils.data.DataLoader(trainset, batch_size=batch_size,\n",
    "                                          shuffle=True, num_workers= 8 ,pin_memory= True)\n",
    "\n",
    "testset = torchvision.datasets.CIFAR10(root='./data', train=False,\n",
    "                                       download=True, transform=transform)\n",
    "testloader = torch.utils.data.DataLoader(testset, batch_size=batch_size,\n",
    "                                         shuffle=False, num_workers=8, pin_memory= True)\n",
    "\n",
    "classes = ('plane', 'car', 'bird', 'cat',\n",
    "           'deer', 'dog', 'frog', 'horse', 'ship', 'truck')"
   ]
  },
  {
   "cell_type": "code",
   "execution_count": 5,
   "metadata": {
    "colab": {
     "base_uri": "https://localhost:8080/",
     "height": 307
    },
    "id": "rgQfhxpXJZ5f",
    "outputId": "859af676-6ece-430a-a4ff-0b0346bd5bc7"
   },
   "outputs": [
    {
     "data": {
      "image/png": "[encoded data removed]",
      "text/plain": [
       "<Figure size 432x288 with 1 Axes>"
      ]
     },
     "metadata": {},
     "output_type": "display_data"
    },
    {
     "name": "stdout",
     "output_type": "stream",
     "text": [
      "  dog truck  bird truck  frog truck   car truck   car  bird   dog  deer  bird   cat horse   car   dog  deer horse  frog  frog  deer  ship   dog  deer truck  deer  ship plane plane  ship  frog  deer plane plane  bird  deer  deer  deer  deer   car   cat  ship plane  ship plane truck  deer   dog plane  frog  deer   dog   dog  bird truck   car horse  deer horse  frog plane   dog   dog plane  bird truck  bird  frog   car truck   car  frog  deer   car  deer   cat  frog  frog   car truck  bird  deer  bird horse truck  ship  deer plane   cat   cat  frog   cat plane   car   cat  deer  frog  bird   cat   car  ship  frog   cat  deer  ship  frog  deer truck horse  bird  bird   dog plane   cat truck  deer   cat   dog   dog  bird   car  ship   car  deer   dog   dog   car  deer   car  deer   dog  bird   cat  bird  bird truck plane  ship   car  bird  bird plane   cat   dog   car   cat truck   dog  frog  ship horse  frog  bird truck truck plane   dog   cat  frog  frog   dog plane  bird   cat  ship   cat   car truck  deer   cat   car   cat  bird   dog  bird horse truck   dog  deer  bird horse truck horse   car  deer  bird horse  ship truck  bird   car   dog plane  ship plane plane  bird  ship  ship   dog   car   car  ship plane  ship  deer   car  bird  bird horse horse truck  deer truck  deer  ship   dog  ship  bird  ship  frog  frog  ship plane  ship  deer   dog horse truck truck   cat plane  ship   car truck  ship   dog  ship plane truck  frog  deer   cat horse  frog truck   dog  ship  deer   dog  ship truck  bird truck truck horse truck  deer  deer   dog horse horse horse   car truck  frog  ship plane  deer  frog   car   dog   dog   car  ship   cat  bird truck  ship  bird   car plane  ship  ship  frog  ship   dog  frog truck  frog   cat  frog  frog   dog  frog plane   car  frog   dog plane  bird horse   car   dog  bird  frog   dog truck  bird horse plane  frog plane  ship   car  frog  frog  bird truck  bird   car  deer  bird  deer  ship plane  ship truck  deer   cat truck   cat   dog   dog   cat horse  ship truck  bird truck  deer   dog  ship horse   cat   cat plane  deer   dog plane truck  frog   car  frog  ship   dog truck  bird horse  bird plane  deer   car plane   dog plane  bird  ship  ship   car  frog  frog  frog  frog  ship   car   dog  bird  bird  frog  bird truck  bird horse truck   car  frog  ship  bird   car   car  frog   cat plane  bird truck   cat   car  frog  deer   dog  deer  frog horse  deer   car  ship plane truck  frog truck   dog  ship   dog  ship  frog truck horse   cat   cat  bird   dog   dog   car  bird   cat  bird   car  bird  ship truck plane   dog plane horse   dog truck plane   car   cat   dog  ship horse horse truck truck  frog horse   car   car  frog truck  frog   car plane  frog  bird   car   cat plane  frog   dog   cat  frog   car   car   car plane  bird   car   cat  frog  ship   cat  frog plane plane  bird   cat  deer plane  bird   car   cat truck  deer plane plane plane   car  frog horse plane  frog horse   dog horse   car plane truck  frog  deer  ship horse horse   car   cat   dog  bird  ship   dog  frog  frog  ship horse   dog  deer   cat truck  frog   cat plane  frog plane   dog  frog plane   cat   cat   cat  frog  frog  ship   cat plane   dog  bird   cat plane truck   car   cat truck   cat  deer plane  frog  frog horse  ship  ship  bird plane  bird  frog   dog horse   dog  bird  bird plane truck truck  bird plane horse  frog   cat truck  deer  bird   car   car truck  ship truck  ship   dog horse   car  deer  frog  bird plane plane   cat  bird truck horse  deer  bird  ship  frog truck   car  bird  ship  ship truck  bird  frog  frog  ship   cat  ship  ship plane plane  bird  deer  frog horse truck plane  ship  bird   car  bird   cat   car   car   dog  ship  frog   cat  bird  bird  frog  frog   dog   dog   car   cat  ship plane  ship  ship   dog  deer  ship  bird  deer  deer truck   dog   car  deer horse   dog truck horse truck   cat horse  bird  deer  deer   dog truck   dog horse truck  ship   car   dog  frog  ship  bird horse  ship   cat   dog   car  ship plane   dog horse horse truck  frog   car   dog  ship  ship   cat   cat  bird horse  bird  ship   cat  deer plane   cat plane  frog plane horse truck  bird   car   car truck   dog horse  deer truck horse truck  ship plane truck truck truck   cat plane truck horse   cat   cat   car horse  bird truck truck   dog plane horse   car  bird  frog   car  ship truck   car  ship  deer  ship   car  deer truck  deer plane  bird horse  deer plane  bird   cat   car   dog   dog  frog truck  deer  deer  bird   cat   car  bird plane plane plane   cat  deer   cat plane   dog   cat plane  bird  bird   cat  bird truck   dog  ship horse horse plane   dog  deer truck horse  ship  bird  frog  ship horse  frog   cat   car plane   cat  deer truck  deer  deer plane   cat horse  ship  ship   dog truck  ship  ship  frog truck   car  ship   dog  ship   cat plane plane   car   cat truck horse plane  bird horse   dog  bird  bird truck plane  ship   car plane   cat   cat   dog   dog  ship  deer  bird  frog  deer  frog  deer plane   cat   car truck   cat  deer  frog  bird  deer   dog truck   cat   cat   car   car  bird  frog  ship   car  bird truck plane   dog  frog plane  deer  frog   car plane horse truck   cat  bird   car  deer   car  ship  ship  frog   cat  frog   cat  deer  deer plane   dog   cat truck  bird horse  ship  ship truck   car   car   cat truck horse truck   dog  bird   dog   car  deer   car  bird   car horse plane  deer   dog  bird  ship   dog   car   dog horse   car  bird horse   cat truck horse truck truck truck  deer  deer  bird  bird  ship  bird  ship   cat horse  deer   car   car   dog horse horse   cat plane  frog  ship horse horse   car   dog  bird  frog   dog  frog   dog  ship   car   car   cat  ship truck truck  ship  deer plane plane horse truck plane horse   dog  frog  bird   dog horse  bird   car   car   cat   dog   dog   dog  ship  ship   cat   cat   cat  frog horse  frog   cat truck   car   cat  bird truck horse  deer  ship  frog   car  ship truck horse  ship truck   dog   cat  bird plane  bird horse horse truck horse horse truck horse   dog horse   car  bird   dog plane  frog   dog   cat  frog  deer   car  ship plane  deer   dog plane  frog  frog   dog  ship horse  ship   car   dog  ship horse   car  bird  bird truck plane   car  ship   dog   cat  frog  bird horse  frog plane truck truck   dog  bird plane   cat plane   cat   car  frog   car  ship  frog   dog  ship  bird   dog plane  frog   dog horse plane truck horse   car   dog   cat  ship horse  frog horse truck   car horse  bird   dog  deer truck  frog   cat  bird horse horse truck plane  bird truck  bird horse  frog truck   dog   cat  deer   cat  frog  frog horse horse horse truck   dog  frog horse horse  bird  deer   cat horse  frog  ship  deer   cat plane   cat   car plane  frog  frog  deer   dog truck   dog horse  deer   car  bird truck  bird  bird   dog   car plane   cat   car   dog   car  frog  bird  deer   cat  frog   car horse   car  frog   dog  bird horse  bird  bird plane truck truck  deer   dog  ship   car  deer  bird   cat  ship plane  ship  frog horse truck horse  bird horse horse   dog  bird   car plane  ship truck truck   dog   dog horse truck truck  deer   cat   dog   cat  ship   cat plane horse   dog   dog   car   cat plane   car plane truck   car  frog truck  deer  bird plane   cat   cat  ship  deer truck   dog   cat  ship  frog   car  bird plane  frog  deer  bird   dog  bird  frog horse   car   cat plane horse  frog truck   car  deer truck   car  deer truck plane   cat horse  ship   dog truck  deer truck   dog  frog  deer   car   car  bird  ship   car  deer   cat   dog  frog   dog   dog  ship  frog  ship horse horse   car   car  ship   dog  bird  deer   car plane horse  deer   car  ship   cat  ship   dog   car truck   car  frog  ship  bird   dog  ship truck plane plane truck  bird horse   car   car horse   car   car   car  ship truck plane plane   dog horse  frog   cat   dog   car   car  ship  bird   cat plane  deer  bird   cat   cat   cat   cat plane horse   cat  deer horse   cat plane truck  deer horse   car horse   dog horse truck   cat truck plane   dog  frog  frog  bird   cat  bird truck horse   dog  bird horse truck horse  bird  deer  ship  ship   dog  bird  frog truck   cat   car horse  bird  bird   car  frog   dog   car truck plane horse horse   car  ship  frog  bird  deer   car   cat  bird   dog truck plane truck  bird   cat  frog  ship   cat truck   car truck   cat truck plane   car truck horse horse  frog  frog horse   dog   cat  frog   car   cat  frog   car   car  bird  frog plane  ship   dog truck   car  deer  deer  ship plane truck  bird  bird  frog   car  bird  ship  frog plane  deer   dog horse plane  frog truck   car  deer plane  deer  ship   dog  bird  ship truck plane  deer  deer horse   cat  ship truck  bird   cat  frog   dog   cat  frog  frog   cat  frog  deer  ship   dog   car plane  deer  ship  ship plane  frog  frog plane   dog truck  deer  frog   dog plane   dog  frog truck   cat  ship horse   dog  deer   dog   car   cat truck plane  deer   cat truck  ship  bird truck   cat truck  deer horse   dog horse   dog truck  deer   car   dog  deer truck horse   dog   car   car  frog  ship   cat   car horse  bird  frog   cat   car  deer   car   dog   dog  frog truck   car  deer plane   cat truck  deer  frog  deer  deer  bird horse  ship   cat truck   cat  deer  ship  ship   dog plane   dog   car  frog plane   cat   car   car   car  bird   dog  ship  ship horse plane horse plane   car  frog  bird horse   cat   cat  deer   cat   cat   car  bird   dog truck  ship  frog   cat   car plane plane plane plane truck  ship  deer truck   car horse  frog   dog   dog  ship  bird  frog  ship  deer  deer  bird   dog  ship  frog horse horse  deer  deer horse  deer  bird horse truck  deer  bird truck   cat   cat truck  frog   cat truck plane   cat  ship   dog  deer  bird   cat horse  deer  ship horse  ship   cat  bird plane   cat   car truck   dog   car   cat   dog   car   dog   car  deer  ship  ship truck  frog   car truck horse plane truck  frog  bird   dog  bird   cat   car  deer horse  frog   car plane   car  deer  ship   car   cat truck   car  bird horse plane   cat  frog  deer  frog plane  ship  bird  frog horse   car  ship truck   cat  frog horse   dog truck horse plane  frog   dog   car   car  bird  bird  bird plane  ship  frog  ship plane plane  bird plane  frog horse truck   car  ship horse horse truck   dog   dog   car   cat horse   cat   dog   car   car horse  ship  deer plane  bird   cat   cat  deer   car   dog horse   dog  frog truck   dog  deer  deer truck   dog  frog horse   cat   cat plane  ship  ship  ship  bird  frog  deer  deer   dog   cat  bird horse  deer  ship plane plane   cat   dog  bird horse   car plane horse plane plane plane  frog   dog   cat  deer  bird truck  bird  ship  frog horse horse  frog plane truck  frog horse  frog  frog  frog horse plane   cat   dog horse   cat  frog  frog horse  bird  ship  deer  deer   car truck  deer  frog   dog  bird   cat   car truck   cat  ship  bird  deer plane   car   car  bird horse  frog truck  ship plane  frog   cat truck   car plane   cat   dog horse horse horse  deer  bird   cat plane   dog  frog  ship horse horse   dog truck  bird  deer plane plane  deer truck  frog  deer truck plane  bird   cat   cat  frog   cat  frog  bird truck   cat  frog truck truck truck truck truck   dog  deer   cat   car  ship   dog truck  bird plane  ship plane   cat  frog  deer horse   dog   cat horse   dog  bird  bird   cat truck   car  ship horse horse  ship  ship truck  frog   car truck  ship horse  ship truck   cat horse plane   dog horse   car  ship plane  bird   dog   car  deer  frog   car horse  deer   dog horse  deer truck  bird  bird  deer  ship   dog   car  frog  bird  deer truck  deer   cat plane  ship  deer  ship  deer   dog plane truck   cat   cat   dog   cat   dog plane  ship  ship   cat horse horse  frog  deer truck  bird   car   cat   dog  frog   car   car  ship  bird  frog  ship  bird  ship  bird  frog   cat   cat  frog horse   dog  frog plane plane plane truck   cat horse truck   dog  bird truck  bird truck   cat horse horse horse   car   dog   dog plane truck  frog plane  deer   cat   dog plane truck truck  bird  frog   car   dog   dog   dog truck   cat truck  ship  ship  frog   dog   car horse plane   cat plane  deer   dog horse horse  ship truck horse  deer horse  deer  ship   dog  deer  bird plane   cat   cat plane  bird   car   dog  ship   cat truck   dog   car   car truck  bird  deer horse truck horse  frog truck truck  ship  deer  bird   cat   dog  bird horse   cat  ship plane  deer  ship  deer  frog  deer   dog plane  bird  deer  bird   dog   car  deer   car   cat horse plane  frog  ship  frog   car   car horse truck horse plane   car   cat   cat   car   dog   dog horse  ship  frog horse plane  frog  bird   cat   dog   car   car  deer   dog  ship   car plane horse  bird  deer plane   car   cat   car  bird plane  ship  ship   dog  frog  deer horse horse  ship  bird   car   car   car horse horse truck horse  frog horse plane  deer truck  deer  deer   car  frog  frog  deer  frog  ship horse plane   car  deer truck horse plane  frog  bird  ship  ship truck   dog truck  deer  bird horse  bird  deer  ship  bird  deer   car plane  deer plane horse  bird truck horse truck   cat  ship  frog   cat plane truck  frog truck   cat  deer   dog horse   cat horse plane   car  deer   cat  ship  deer  deer   car  frog horse   cat   cat   car   car   dog   car   car truck horse plane  frog horse plane  bird plane  bird  deer   cat  ship  ship   dog  ship  deer   car  bird  frog  frog   car   car   car plane  bird   cat   dog plane   car  frog  frog plane plane  bird  frog   cat horse  deer  deer   cat  deer truck truck   cat plane plane  bird plane truck plane   dog  frog   car   dog  deer   cat  deer plane truck  ship  bird plane truck plane  bird  deer  ship plane   car   cat  bird   cat   cat truck  deer  deer  deer   cat   dog   car  ship  bird  ship   car   car   car   car   car   dog   cat  deer   dog   cat  deer   cat truck  frog plane   dog  bird   cat   cat   car  ship  deer  ship   car horse plane  ship   cat plane  ship plane  deer  bird  deer horse   cat  ship   car horse   dog   cat   cat  deer  ship  ship  deer   cat   cat  deer truck   cat horse  frog  frog  frog truck plane  bird horse  frog  deer   dog   car   cat  frog truck truck truck horse   dog  ship  ship horse plane horse  deer  frog  bird plane truck  bird truck plane truck   dog   cat horse  bird  ship   dog   dog  ship   dog truck truck  frog plane horse truck plane  deer   dog  ship horse   car horse  deer  deer truck   car  frog  ship horse truck truck  frog   cat plane  deer  deer  deer  deer   cat  frog  deer horse  ship   car  frog  frog  deer  ship   car   cat  frog plane   dog truck truck   cat horse  frog  deer  deer  bird   dog  frog plane  ship  ship plane  frog   cat   dog horse   car truck plane truck   dog   car horse   car horse truck  ship truck  bird  deer  ship   cat   dog truck truck horse   dog   cat   cat  frog plane   car   cat  bird plane horse  frog  bird horse horse horse   car   cat horse   cat  frog horse   dog  bird truck  deer plane   cat  bird horse   dog truck  deer horse  bird  ship  bird plane   dog horse  bird   dog   cat  bird truck   cat  frog   dog   cat horse  ship plane truck  bird truck horse  deer plane  ship  ship   cat truck truck   car truck horse  ship plane  ship  bird  ship  bird   car  deer  deer  bird   cat  bird  bird  ship   dog plane   dog  bird  frog   dog  ship plane  ship truck   car  frog truck plane plane plane  ship truck  ship   dog   dog   car   cat   car   car truck truck  frog   cat  ship   car   cat   dog   cat   cat  frog horse horse plane  frog  ship   cat   car  bird horse horse  frog  deer  ship  ship truck  frog   cat plane  ship truck  frog   dog  bird horse   cat  ship   cat plane  ship plane  bird  bird horse  deer plane truck truck   car plane   dog horse   car   dog   car  ship truck truck  ship   dog   car  frog plane  bird   dog horse   dog   dog   dog  bird  ship  bird  ship  deer truck  deer  ship  ship   dog  bird horse  frog plane truck  frog truck horse horse  deer horse  deer  ship   cat  deer   cat   dog  frog  ship  bird  ship horse  bird  bird   car   cat  bird truck plane   cat  ship  frog  bird  ship  ship truck horse  ship plane  bird  ship  deer   car  bird   dog   cat truck  bird   cat  ship  frog  ship   car  ship   cat  ship plane horse horse horse plane  deer   dog  ship   dog horse  ship  ship horse  deer  ship  frog  deer horse  frog   cat horse  ship plane truck   cat plane   car   car  frog  frog  frog   cat  deer  frog   cat  deer  frog truck   car plane horse  deer  frog  deer   cat horse  deer   cat horse   car  frog   dog   dog  frog horse   car   dog horse   cat   cat  frog  bird   dog  ship truck  bird   cat   car   dog truck  bird  ship   car  frog  ship  deer  bird horse  ship   car   dog   dog  ship   car truck  ship   dog truck   cat  bird  frog plane  deer  deer   cat horse  bird horse truck  ship  deer   cat plane  frog   car plane  ship   dog truck horse plane  frog  frog  bird plane   dog  deer   car   dog  bird  ship plane   cat   cat   car   dog  deer plane  frog  ship   cat  deer truck horse   cat  bird truck truck  frog  ship  bird plane   cat truck   car truck truck   car  deer  ship   dog   dog   dog   dog   dog  ship  deer   car  ship  ship  bird   dog   dog   cat   cat truck   car horse truck horse   dog horse  bird  deer horse truck  ship  frog  ship  deer plane   dog   car   dog   car   cat  deer  frog  deer plane plane   dog   cat  bird truck truck   dog  ship truck  bird  frog truck   car  bird horse  ship  deer plane   dog   dog   car  deer truck   dog plane  deer horse horse   car  ship truck  frog  bird  bird  bird horse plane  bird  deer truck  ship plane  deer  ship  bird   car   car   cat  deer   dog   car   dog horse truck truck  deer  deer horse  frog   cat   car  deer   cat plane   cat  ship  bird horse  ship   dog   car   car horse  deer  ship  deer  ship horse   dog  frog plane horse  ship truck   car   car horse   cat  deer plane   cat  frog  frog   cat  bird   car  deer horse plane truck   cat  frog  bird  ship   car   cat   cat truck  deer horse plane horse plane truck  frog  bird   cat   cat horse   dog  deer horse   car   cat  deer   cat   dog truck plane   car  frog  frog truck  bird plane truck  deer  frog   cat truck  bird   dog  deer  frog truck   cat   dog   cat  deer  ship  ship  bird  ship   cat  deer truck   cat  bird truck  frog   cat plane horse   dog  frog plane  frog plane plane horse  deer   cat   car plane  bird  bird  frog  deer plane horse   car plane   car  bird  ship  frog  bird truck plane truck  ship  ship  deer   cat horse plane   dog   cat truck plane  ship   dog   dog truck  deer truck   dog  frog  deer truck  ship  deer  bird  ship  deer  deer  bird   car   car truck  frog plane  frog  frog plane plane   cat plane truck  ship truck  bird   car   car  bird  frog   car plane  ship  frog horse plane plane plane  frog horse   cat horse  ship  bird   dog  deer plane   cat  ship plane  deer   dog plane  ship  bird   cat  ship  deer  frog plane   dog plane  ship   cat   dog   dog  bird plane plane horse  frog   dog  deer plane   dog  frog plane   car  ship   cat  frog  ship  bird  frog horse   dog   cat horse  ship horse  ship   cat   car  deer  deer  bird plane   car  deer truck   cat   car  frog   cat  frog plane plane   dog  deer   cat  frog   cat  bird   car   cat   car horse truck plane  bird   dog  ship horse  bird horse truck  ship  frog plane  frog   car plane  ship   cat   car  ship horse   car   dog horse plane  frog  deer plane   cat  deer  bird truck  deer   car   dog plane truck  frog truck   dog plane   dog plane truck plane  deer truck   cat  ship   car horse truck  frog  ship plane   cat   cat  frog plane  deer   dog  ship  frog horse   dog  bird  bird  ship  ship   cat  ship  deer   dog plane  frog  bird  bird   cat   car   dog horse horse truck  ship   dog   car  ship   dog   car  ship   cat plane  ship  bird  ship  deer  frog  deer horse  frog truck  ship   dog plane  deer  frog horse  ship   dog truck  frog horse   dog  deer truck truck plane  ship   cat   car horse  frog  bird   car  bird   cat  deer  ship  bird   dog   car   dog  bird  frog plane   dog  ship horse  frog  deer plane   dog  deer  bird plane horse   cat horse   cat  deer   car   cat  frog  deer   car   dog   dog   car   dog  ship   cat   cat   car  bird  ship truck  frog   car  ship   cat  ship  ship   dog truck   cat truck  deer  ship  ship  ship   car  ship truck  deer plane   cat  frog  deer   car   dog   car horse  frog   car  deer   dog   cat   cat   car   cat  ship   cat truck   dog   car horse  frog plane  ship  bird horse   cat   cat  frog horse  ship  frog  frog  deer   cat  frog horse plane  frog  deer   car truck truck  deer   car truck   dog  bird horse  frog plane   dog plane horse   dog   cat  ship   dog   car truck horse truck  frog   dog truck horse  frog  frog   dog  ship  ship plane  ship truck   car  frog  ship  ship plane  deer truck  ship truck truck  frog truck   car   cat   cat plane  bird  ship   dog   car  ship horse  ship   car   car   dog   dog   dog  ship plane  frog horse truck  bird  bird  frog horse  ship   car  frog   dog  bird  deer   dog  frog  ship horse  bird truck  deer  bird   car plane  bird horse   car   car  ship   car   car   cat  ship   cat   car  frog  deer   dog   cat  bird truck plane plane   car  bird plane   cat  ship horse  deer   dog   car truck   dog  bird plane   car  bird plane   dog truck   car   dog  bird   car horse   dog   cat plane truck plane horse  bird plane   car plane  ship  ship horse   dog  bird   cat   dog  ship  deer  frog horse   dog truck   dog  deer   car  deer   cat  bird  deer horse horse plane   cat  bird horse  frog   dog  ship  bird  deer   dog truck truck  frog  frog  deer horse  deer   dog  ship  bird  bird horse plane plane  ship  ship   dog  ship   cat  deer  deer  ship  deer  frog truck  ship horse  bird   car plane truck horse truck truck  deer  bird   dog  ship   cat horse  bird   cat   cat  ship  ship plane horse   dog   car plane   cat plane truck truck truck  deer horse   cat  frog plane   dog truck  ship  deer plane  ship horse  frog truck truck  deer  ship  bird  ship  ship  deer  deer   car plane truck horse  deer   car truck  ship   dog   car   car  ship   cat plane  frog   car   dog horse plane  bird   car plane  frog truck  ship  deer  deer   car  deer  ship   dog   cat   car  bird   dog plane   cat   car truck  deer plane  bird   cat   cat  ship  ship   cat   car  deer plane   cat  frog   cat truck   cat  bird   cat   cat horse  frog   cat   car plane  ship  frog   car  deer horse  bird truck   cat   car   car   cat   cat truck   dog   cat  ship plane   cat truck plane  bird plane truck  frog  deer   cat horse truck   cat   car  deer   cat plane   dog  ship horse  deer   cat   cat  ship  deer  frog   car   cat  bird  ship   car horse  bird  deer  ship   dog  bird  bird  frog plane horse   dog  ship   car truck plane  deer   dog truck  ship   dog  bird   cat  bird   dog  deer horse truck  bird  bird truck   dog   car truck horse  deer  bird horse  bird  bird   car   dog  ship   dog   cat  ship plane   dog   cat  bird   dog   dog   car   cat  deer  frog  ship   dog horse  frog horse   dog  deer horse  ship truck   dog  deer  bird   car  ship   dog   cat   car   dog horse  frog plane   car   cat   car   car truck   dog  ship  bird   cat  ship  bird  bird truck  frog  bird  frog  bird   car plane truck   dog horse  bird horse   car plane  deer plane  ship  frog  bird plane plane   car   cat  ship   car plane  bird  bird   cat plane   cat  frog   cat   dog truck plane truck   car plane horse   cat  bird  frog  ship  deer   dog plane   car   cat   cat  bird   cat plane horse  bird plane  frog   cat   cat plane   dog  frog plane truck plane  bird   cat  ship  bird  frog  bird truck  frog  ship  frog plane  deer  bird   cat  deer   car   dog  deer plane  deer plane   dog  deer  frog truck plane  bird plane  deer  ship  deer   car plane  frog   car truck   cat   dog plane truck  frog truck truck horse horse   cat horse  frog  deer  deer   dog  ship horse   cat  frog  deer  bird truck  bird  ship horse  bird truck  bird  deer  bird  ship   cat  deer  frog  bird   car  ship   dog truck  ship horse   cat  deer   dog plane horse   car  bird   cat  bird   cat   cat   car  deer   dog  frog truck plane  bird  frog   cat\n"
     ]
    }
   ],
   "source": [
    "import matplotlib.pyplot as plt\n",
    "import numpy as np\n",
    "\n",
    "# 이미지를 보여주기 위한 함수\n",
    "\n",
    "def imshow(img):\n",
    "    img = img / 2 + 0.5     # unnormalize\n",
    "    npimg = img.numpy()\n",
    "    plt.imshow(np.transpose(npimg, (1, 2, 0)))\n",
    "    plt.show()\n",
    "\n",
    "\n",
    "# 학습용 이미지를 무작위로 가져오기\n",
    "dataiter = iter(trainloader)\n",
    "images, labels = dataiter.next()\n",
    "\n",
    "# 이미지 보여주기\n",
    "imshow(torchvision.utils.make_grid(images))\n",
    "# 정답(label) 출력\n",
    "print(' '.join('%5s' % classes[labels[j]] for j in range(batch_size)))"
   ]
  },
  {
   "cell_type": "code",
   "execution_count": 6,
   "metadata": {
    "colab": {
     "base_uri": "https://localhost:8080/"
    },
    "id": "NB7aQV8uJZv6",
    "outputId": "a827f329-4e7f-4478-b1c1-839409b5d2a3"
   },
   "outputs": [
    {
     "data": {
      "text/plain": [
       "DataParallel(\n",
       "  (module): Net(\n",
       "    (layer1): Sequential(\n",
       "      (0): Conv2d(3, 32, kernel_size=(3, 3), stride=(1, 1))\n",
       "      (1): ReLU()\n",
       "      (2): Conv2d(32, 32, kernel_size=(3, 3), stride=(1, 1))\n",
       "      (3): ReLU()\n",
       "      (4): MaxPool2d(kernel_size=2, stride=2, padding=0, dilation=1, ceil_mode=False)\n",
       "      (5): Dropout(p=0.2, inplace=False)\n",
       "    )\n",
       "    (layer2): Sequential(\n",
       "      (0): Conv2d(32, 64, kernel_size=(3, 3), stride=(1, 1))\n",
       "      (1): ReLU()\n",
       "      (2): Conv2d(64, 64, kernel_size=(3, 3), stride=(1, 1))\n",
       "      (3): ReLU()\n",
       "      (4): MaxPool2d(kernel_size=2, stride=2, padding=0, dilation=1, ceil_mode=False)\n",
       "      (5): Dropout(p=0.2, inplace=False)\n",
       "    )\n",
       "    (fc1): Linear(in_features=1600, out_features=120, bias=True)\n",
       "    (bn1): BatchNorm1d(120, eps=1e-05, momentum=0.1, affine=True, track_running_stats=True)\n",
       "    (bn2): BatchNorm1d(84, eps=1e-05, momentum=0.1, affine=True, track_running_stats=True)\n",
       "    (fc2): Linear(in_features=120, out_features=84, bias=True)\n",
       "    (fc3): Linear(in_features=84, out_features=10, bias=True)\n",
       "  )\n",
       ")"
      ]
     },
     "execution_count": 6,
     "metadata": {},
     "output_type": "execute_result"
    }
   ],
   "source": [
    "import torch.nn as nn\n",
    "import torch.nn.functional as F\n",
    "\n",
    "\n",
    "class Net(nn.Module):\n",
    "    def __init__(self):\n",
    "        super().__init__()\n",
    "        self.layer1 = torch.nn.Sequential(\n",
    "          nn.Conv2d(3, 32, 3),\n",
    "          nn.ReLU(),\n",
    "          nn.Conv2d(32, 32, 3),\n",
    "          nn.ReLU(),\n",
    "          nn.MaxPool2d(2, 2),\n",
    "          nn.Dropout(0.2)\n",
    "        )\n",
    "\n",
    "        self.layer2 = torch.nn.Sequential(\n",
    "          nn.Conv2d(32, 64, 3),\n",
    "          nn.ReLU(),\n",
    "          nn.Conv2d(64, 64, 3),\n",
    "          nn.ReLU(),\n",
    "          nn.MaxPool2d(2, 2),\n",
    "          nn.Dropout(0.2)\n",
    "        )\n",
    "\n",
    "\n",
    "        self.fc1 = nn.Linear(1600, 120)\n",
    "        self.bn1 = nn.BatchNorm1d(120)\n",
    "        self.bn2 = nn.BatchNorm1d(84)\n",
    "        self.fc2 = nn.Linear(120, 84)\n",
    "        self.fc3 = nn.Linear(84, 10)\n",
    "\n",
    "\n",
    "    def forward(self, x):\n",
    "        x = self.layer1(x)\n",
    "        x = self.layer2(x)\n",
    "        x = torch.flatten(x, 1) # 배치를 제외한 모든 차원을 평탄화(flatten)\n",
    "        x = F.relu(self.bn1(self.fc1(x)))\n",
    "        x = F.relu(self.bn2(self.fc2(x)))\n",
    "        x = self.fc3(x)\n",
    "        return x\n",
    "\n",
    "\n",
    "net = Net()\n",
    "\n",
    "if torch.cuda.device_count() > 1:\n",
    "    net = nn.DataParallel(net)\n",
    "\n",
    "net.to(device)"
   ]
  },
  {
   "cell_type": "code",
   "execution_count": 7,
   "metadata": {
    "id": "NmP7RK2FWytM"
   },
   "outputs": [],
   "source": [
    "import torch.optim as optim\n",
    "\n",
    "criterion = nn.CrossEntropyLoss()\n",
    "optimizer = optim.Adam(net.parameters(), lr=0.001)"
   ]
  },
  {
   "cell_type": "code",
   "execution_count": 8,
   "metadata": {
    "colab": {
     "base_uri": "https://localhost:8080/"
    },
    "id": "sPYggzAfW0Be",
    "outputId": "14b7fb32-dfdf-4530-c83d-f03b72f2b92a"
   },
   "outputs": [
    {
     "name": "stdout",
     "output_type": "stream",
     "text": [
      "[1,    10] loss: 2.017\n",
      "[2,    10] loss: 1.618\n",
      "[3,    10] loss: 1.419\n"
     ]
    },
    {
     "ename": "KeyboardInterrupt",
     "evalue": "",
     "output_type": "error",
     "traceback": [
      "\u001b[0;31m---------------------------------------------------------------------------\u001b[0m",
      "\u001b[0;31mKeyboardInterrupt\u001b[0m                         Traceback (most recent call last)",
      "\u001b[0;32m<ipython-input-8-6932d5754d8a>\u001b[0m in \u001b[0;36m<module>\u001b[0;34m()\u001b[0m\n\u001b[1;32m      2\u001b[0m \u001b[0;32mfor\u001b[0m \u001b[0mepoch\u001b[0m \u001b[0;32min\u001b[0m \u001b[0mrange\u001b[0m\u001b[0;34m(\u001b[0m\u001b[0;36m200\u001b[0m\u001b[0;34m)\u001b[0m\u001b[0;34m:\u001b[0m   \u001b[0;31m# 데이터셋을 수차례 반복합니다.\u001b[0m\u001b[0;34m\u001b[0m\u001b[0m\n\u001b[1;32m      3\u001b[0m     \u001b[0mrunning_loss\u001b[0m \u001b[0;34m=\u001b[0m \u001b[0;36m0.0\u001b[0m\u001b[0;34m\u001b[0m\u001b[0m\n\u001b[0;32m----> 4\u001b[0;31m     \u001b[0;32mfor\u001b[0m \u001b[0mi\u001b[0m\u001b[0;34m,\u001b[0m \u001b[0mdata\u001b[0m \u001b[0;32min\u001b[0m \u001b[0menumerate\u001b[0m\u001b[0;34m(\u001b[0m\u001b[0mtrainloader\u001b[0m\u001b[0;34m,\u001b[0m \u001b[0;36m0\u001b[0m\u001b[0;34m)\u001b[0m\u001b[0;34m:\u001b[0m\u001b[0;34m\u001b[0m\u001b[0m\n\u001b[0m\u001b[1;32m      5\u001b[0m         \u001b[0;31m# [inputs, labels]의 목록인 data로부터 입력을 받은 후;\u001b[0m\u001b[0;34m\u001b[0m\u001b[0;34m\u001b[0m\u001b[0m\n\u001b[1;32m      6\u001b[0m         \u001b[0minputs\u001b[0m\u001b[0;34m,\u001b[0m \u001b[0mlabels\u001b[0m \u001b[0;34m=\u001b[0m \u001b[0mdata\u001b[0m\u001b[0;34m[\u001b[0m\u001b[0;36m0\u001b[0m\u001b[0;34m]\u001b[0m\u001b[0;34m.\u001b[0m\u001b[0mto\u001b[0m\u001b[0;34m(\u001b[0m\u001b[0mdevice\u001b[0m\u001b[0;34m)\u001b[0m\u001b[0;34m,\u001b[0m \u001b[0mdata\u001b[0m\u001b[0;34m[\u001b[0m\u001b[0;36m1\u001b[0m\u001b[0;34m]\u001b[0m\u001b[0;34m.\u001b[0m\u001b[0mto\u001b[0m\u001b[0;34m(\u001b[0m\u001b[0mdevice\u001b[0m\u001b[0;34m)\u001b[0m\u001b[0;34m\u001b[0m\u001b[0m\n",
      "\u001b[0;32m~/anaconda3/envs/pytorch_p36/lib/python3.6/site-packages/torch/utils/data/dataloader.py\u001b[0m in \u001b[0;36m__next__\u001b[0;34m(self)\u001b[0m\n\u001b[1;32m    802\u001b[0m \u001b[0;34m\u001b[0m\u001b[0m\n\u001b[1;32m    803\u001b[0m             \u001b[0;32massert\u001b[0m \u001b[0;32mnot\u001b[0m \u001b[0mself\u001b[0m\u001b[0;34m.\u001b[0m\u001b[0mshutdown\u001b[0m \u001b[0;32mand\u001b[0m \u001b[0mself\u001b[0m\u001b[0;34m.\u001b[0m\u001b[0mtasks_outstanding\u001b[0m \u001b[0;34m>\u001b[0m \u001b[0;36m0\u001b[0m\u001b[0;34m\u001b[0m\u001b[0m\n\u001b[0;32m--> 804\u001b[0;31m             \u001b[0midx\u001b[0m\u001b[0;34m,\u001b[0m \u001b[0mdata\u001b[0m \u001b[0;34m=\u001b[0m \u001b[0mself\u001b[0m\u001b[0;34m.\u001b[0m\u001b[0m_get_data\u001b[0m\u001b[0;34m(\u001b[0m\u001b[0;34m)\u001b[0m\u001b[0;34m\u001b[0m\u001b[0m\n\u001b[0m\u001b[1;32m    805\u001b[0m             \u001b[0mself\u001b[0m\u001b[0;34m.\u001b[0m\u001b[0mtasks_outstanding\u001b[0m \u001b[0;34m-=\u001b[0m \u001b[0;36m1\u001b[0m\u001b[0;34m\u001b[0m\u001b[0m\n\u001b[1;32m    806\u001b[0m \u001b[0;34m\u001b[0m\u001b[0m\n",
      "\u001b[0;32m~/anaconda3/envs/pytorch_p36/lib/python3.6/site-packages/torch/utils/data/dataloader.py\u001b[0m in \u001b[0;36m_get_data\u001b[0;34m(self)\u001b[0m\n\u001b[1;32m    759\u001b[0m         \u001b[0;32melif\u001b[0m \u001b[0mself\u001b[0m\u001b[0;34m.\u001b[0m\u001b[0mpin_memory\u001b[0m\u001b[0;34m:\u001b[0m\u001b[0;34m\u001b[0m\u001b[0m\n\u001b[1;32m    760\u001b[0m             \u001b[0;32mwhile\u001b[0m \u001b[0mself\u001b[0m\u001b[0;34m.\u001b[0m\u001b[0mpin_memory_thread\u001b[0m\u001b[0;34m.\u001b[0m\u001b[0mis_alive\u001b[0m\u001b[0;34m(\u001b[0m\u001b[0;34m)\u001b[0m\u001b[0;34m:\u001b[0m\u001b[0;34m\u001b[0m\u001b[0m\n\u001b[0;32m--> 761\u001b[0;31m                 \u001b[0msuccess\u001b[0m\u001b[0;34m,\u001b[0m \u001b[0mdata\u001b[0m \u001b[0;34m=\u001b[0m \u001b[0mself\u001b[0m\u001b[0;34m.\u001b[0m\u001b[0m_try_get_data\u001b[0m\u001b[0;34m(\u001b[0m\u001b[0;34m)\u001b[0m\u001b[0;34m\u001b[0m\u001b[0m\n\u001b[0m\u001b[1;32m    762\u001b[0m                 \u001b[0;32mif\u001b[0m \u001b[0msuccess\u001b[0m\u001b[0;34m:\u001b[0m\u001b[0;34m\u001b[0m\u001b[0m\n\u001b[1;32m    763\u001b[0m                     \u001b[0;32mreturn\u001b[0m \u001b[0mdata\u001b[0m\u001b[0;34m\u001b[0m\u001b[0m\n",
      "\u001b[0;32m~/anaconda3/envs/pytorch_p36/lib/python3.6/site-packages/torch/utils/data/dataloader.py\u001b[0m in \u001b[0;36m_try_get_data\u001b[0;34m(self, timeout)\u001b[0m\n\u001b[1;32m    722\u001b[0m         \u001b[0;31m#   (bool: whether successfully get data, any: data if successful else None)\u001b[0m\u001b[0;34m\u001b[0m\u001b[0;34m\u001b[0m\u001b[0m\n\u001b[1;32m    723\u001b[0m         \u001b[0;32mtry\u001b[0m\u001b[0;34m:\u001b[0m\u001b[0;34m\u001b[0m\u001b[0m\n\u001b[0;32m--> 724\u001b[0;31m             \u001b[0mdata\u001b[0m \u001b[0;34m=\u001b[0m \u001b[0mself\u001b[0m\u001b[0;34m.\u001b[0m\u001b[0mdata_queue\u001b[0m\u001b[0;34m.\u001b[0m\u001b[0mget\u001b[0m\u001b[0;34m(\u001b[0m\u001b[0mtimeout\u001b[0m\u001b[0;34m=\u001b[0m\u001b[0mtimeout\u001b[0m\u001b[0;34m)\u001b[0m\u001b[0;34m\u001b[0m\u001b[0m\n\u001b[0m\u001b[1;32m    725\u001b[0m             \u001b[0;32mreturn\u001b[0m \u001b[0;34m(\u001b[0m\u001b[0;32mTrue\u001b[0m\u001b[0;34m,\u001b[0m \u001b[0mdata\u001b[0m\u001b[0;34m)\u001b[0m\u001b[0;34m\u001b[0m\u001b[0m\n\u001b[1;32m    726\u001b[0m         \u001b[0;32mexcept\u001b[0m \u001b[0mException\u001b[0m \u001b[0;32mas\u001b[0m \u001b[0me\u001b[0m\u001b[0;34m:\u001b[0m\u001b[0;34m\u001b[0m\u001b[0m\n",
      "\u001b[0;32m~/anaconda3/envs/pytorch_p36/lib/python3.6/queue.py\u001b[0m in \u001b[0;36mget\u001b[0;34m(self, block, timeout)\u001b[0m\n\u001b[1;32m    171\u001b[0m                     \u001b[0;32mif\u001b[0m \u001b[0mremaining\u001b[0m \u001b[0;34m<=\u001b[0m \u001b[0;36m0.0\u001b[0m\u001b[0;34m:\u001b[0m\u001b[0;34m\u001b[0m\u001b[0m\n\u001b[1;32m    172\u001b[0m                         \u001b[0;32mraise\u001b[0m \u001b[0mEmpty\u001b[0m\u001b[0;34m\u001b[0m\u001b[0m\n\u001b[0;32m--> 173\u001b[0;31m                     \u001b[0mself\u001b[0m\u001b[0;34m.\u001b[0m\u001b[0mnot_empty\u001b[0m\u001b[0;34m.\u001b[0m\u001b[0mwait\u001b[0m\u001b[0;34m(\u001b[0m\u001b[0mremaining\u001b[0m\u001b[0;34m)\u001b[0m\u001b[0;34m\u001b[0m\u001b[0m\n\u001b[0m\u001b[1;32m    174\u001b[0m             \u001b[0mitem\u001b[0m \u001b[0;34m=\u001b[0m \u001b[0mself\u001b[0m\u001b[0;34m.\u001b[0m\u001b[0m_get\u001b[0m\u001b[0;34m(\u001b[0m\u001b[0;34m)\u001b[0m\u001b[0;34m\u001b[0m\u001b[0m\n\u001b[1;32m    175\u001b[0m             \u001b[0mself\u001b[0m\u001b[0;34m.\u001b[0m\u001b[0mnot_full\u001b[0m\u001b[0;34m.\u001b[0m\u001b[0mnotify\u001b[0m\u001b[0;34m(\u001b[0m\u001b[0;34m)\u001b[0m\u001b[0;34m\u001b[0m\u001b[0m\n",
      "\u001b[0;32m~/anaconda3/envs/pytorch_p36/lib/python3.6/threading.py\u001b[0m in \u001b[0;36mwait\u001b[0;34m(self, timeout)\u001b[0m\n\u001b[1;32m    297\u001b[0m             \u001b[0;32melse\u001b[0m\u001b[0;34m:\u001b[0m\u001b[0;34m\u001b[0m\u001b[0m\n\u001b[1;32m    298\u001b[0m                 \u001b[0;32mif\u001b[0m \u001b[0mtimeout\u001b[0m \u001b[0;34m>\u001b[0m \u001b[0;36m0\u001b[0m\u001b[0;34m:\u001b[0m\u001b[0;34m\u001b[0m\u001b[0m\n\u001b[0;32m--> 299\u001b[0;31m                     \u001b[0mgotit\u001b[0m \u001b[0;34m=\u001b[0m \u001b[0mwaiter\u001b[0m\u001b[0;34m.\u001b[0m\u001b[0macquire\u001b[0m\u001b[0;34m(\u001b[0m\u001b[0;32mTrue\u001b[0m\u001b[0;34m,\u001b[0m \u001b[0mtimeout\u001b[0m\u001b[0;34m)\u001b[0m\u001b[0;34m\u001b[0m\u001b[0m\n\u001b[0m\u001b[1;32m    300\u001b[0m                 \u001b[0;32melse\u001b[0m\u001b[0;34m:\u001b[0m\u001b[0;34m\u001b[0m\u001b[0m\n\u001b[1;32m    301\u001b[0m                     \u001b[0mgotit\u001b[0m \u001b[0;34m=\u001b[0m \u001b[0mwaiter\u001b[0m\u001b[0;34m.\u001b[0m\u001b[0macquire\u001b[0m\u001b[0;34m(\u001b[0m\u001b[0;32mFalse\u001b[0m\u001b[0;34m)\u001b[0m\u001b[0;34m\u001b[0m\u001b[0m\n",
      "\u001b[0;31mKeyboardInterrupt\u001b[0m: "
     ]
    }
   ],
   "source": [
    "net.train()\n",
    "for epoch in range(200):   # 데이터셋을 수차례 반복합니다.\n",
    "    running_loss = 0.0\n",
    "    for i, data in enumerate(trainloader, 0):\n",
    "        # [inputs, labels]의 목록인 data로부터 입력을 받은 후;\n",
    "        inputs, labels = data[0].to(device), data[1].to(device)\n",
    "\n",
    "        # 변화도(Gradient) 매개변수를 0으로 만들고\n",
    "        optimizer.zero_grad()\n",
    "\n",
    "        # 순전파 + 역전파 + 최적화를 한 후\n",
    "        outputs = net(inputs)\n",
    "        loss = criterion(outputs, labels)\n",
    "        loss.backward()\n",
    "        optimizer.step()\n",
    "\n",
    "        # 통계를 출력합니다.\n",
    "        running_loss += loss.item()\n",
    "        if i % 10 == 9:    # print every 2000 mini-batches\n",
    "            print('[%d, %5d] loss: %.3f' %\n",
    "                  (epoch + 1, i + 1, running_loss / 10))\n",
    "            running_loss = 0.0\n",
    "\n",
    "print('Finished Training')"
   ]
  },
  {
   "cell_type": "code",
   "execution_count": null,
   "metadata": {
    "id": "SYFO6TofWz-0"
   },
   "outputs": [],
   "source": [
    "PATH = './cifar_net.pth'\n",
    "torch.save(net.state_dict(), PATH)"
   ]
  },
  {
   "cell_type": "code",
   "execution_count": null,
   "metadata": {
    "colab": {
     "base_uri": "https://localhost:8080/"
    },
    "id": "xi8HjximWz5-",
    "outputId": "688f3e8e-f55b-4d0d-b51c-d29a5e2c8c53"
   },
   "outputs": [],
   "source": [
    "dataiter = iter(testloader)\n",
    "images, labels = dataiter.next()\n",
    "images = images.to(device)\n",
    "labels = labels.to(device)\n",
    "# 이미지를 출력합니다.\n",
    "# imshow(torchvision.utils.make_grid(images))\n",
    "print('GroundTruth: ', ' '.join('%5s' % classes[labels[j]] for j in range(64)))"
   ]
  },
  {
   "cell_type": "code",
   "execution_count": null,
   "metadata": {
    "id": "eAQ14i67Xzdk"
   },
   "outputs": [],
   "source": [
    "# net = Net()\n",
    "# net.to(device)\n",
    "# net.load_state_dict(torch.load(PATH))"
   ]
  },
  {
   "cell_type": "code",
   "execution_count": null,
   "metadata": {
    "id": "xW5s_VvOX2Kr"
   },
   "outputs": [],
   "source": [
    "net.train()\n",
    "outputs = net(images)"
   ]
  },
  {
   "cell_type": "code",
   "execution_count": null,
   "metadata": {
    "colab": {
     "base_uri": "https://localhost:8080/"
    },
    "id": "-EUVmr_-X2IL",
    "outputId": "07dd4599-2c71-46e0-f132-e1f09e678af2"
   },
   "outputs": [],
   "source": [
    "_, predicted = torch.max(outputs, 1)\n",
    "\n",
    "print('Predicted: ', ' '.join('%5s' % classes[predicted[j]]\n",
    "                              for j in range(batch_size)))"
   ]
  },
  {
   "cell_type": "code",
   "execution_count": null,
   "metadata": {
    "colab": {
     "base_uri": "https://localhost:8080/"
    },
    "id": "_fKdJHWbX2DR",
    "outputId": "038c26f6-4ab3-4954-c104-504a9fdd2d05"
   },
   "outputs": [],
   "source": [
    "net.eval()\n",
    "correct = 0\n",
    "total = 0\n",
    "# 학습 중이 아니므로, 출력에 대한 변화도를 계산할 필요가 없습니다\n",
    "with torch.no_grad():\n",
    "    for data in testloader:\n",
    "        images, labels = data[0].to(device), data[1].to(device)\n",
    "\n",
    "        # 신경망에 이미지를 통과시켜 출력을 계산합니다\n",
    "        outputs = net(images)\n",
    "        # 가장 높은 값(energy)를 갖는 분류(class)를 정답으로 선택하겠습니다\n",
    "        _, predicted = torch.max(outputs.data, 1)\n",
    "        total += labels.size(0)\n",
    "        correct += (predicted == labels).sum().item()\n",
    "\n",
    "print('Accuracy of the network on the 10000 test images: %d %%' % (\n",
    "    100 * correct / total))"
   ]
  },
  {
   "cell_type": "code",
   "execution_count": null,
   "metadata": {
    "colab": {
     "base_uri": "https://localhost:8080/"
    },
    "id": "zSiYXtBCYEJx",
    "outputId": "26710488-3eac-49fe-defb-67c03011007c"
   },
   "outputs": [],
   "source": [
    "# 각 분류(class)에 대한 예측값 계산을 위해 준비\n",
    "correct_pred = {classname: 0 for classname in classes}\n",
    "total_pred = {classname: 0 for classname in classes}\n",
    "\n",
    "# 변화도는 여전히 필요하지 않습니다\n",
    "with torch.no_grad():\n",
    "    for data in testloader:\n",
    "        images, labels = data[0].to(device), data[1].to(device)\n",
    "        outputs = net(images)\n",
    "        _, predictions = torch.max(outputs, 1)\n",
    "        # 각 분류별로 올바른 예측 수를 모읍니다\n",
    "        for label, prediction in zip(labels, predictions):\n",
    "            if label == prediction:\n",
    "                correct_pred[classes[label]] += 1\n",
    "            total_pred[classes[label]] += 1\n",
    "\n",
    "\n",
    "# 각 분류별 정확도(accuracy)를 출력합니다\n",
    "for classname, correct_count in correct_pred.items():\n",
    "    accuracy = 100 * float(correct_count) / total_pred[classname]\n",
    "    print(\"Accuracy for class {:5s} is: {:.1f} %\".format(classname,\n",
    "                                                   accuracy))"
   ]
  },
  {
   "cell_type": "code",
   "execution_count": null,
   "metadata": {
    "id": "0UorzWjiYEG7"
   },
   "outputs": [],
   "source": []
  },
  {
   "cell_type": "code",
   "execution_count": null,
   "metadata": {},
   "outputs": [],
   "source": []
  }
 ],
 "metadata": {
  "accelerator": "GPU",
  "colab": {
   "authorship_tag": "ABX9TyOJSwc78vQi4Iw7xpvGyCs6",
   "include_colab_link": true,
   "name": "Project 0. pytorch tutorial_jaewook.ipynb",
   "provenance": []
  },
  "kernelspec": {
   "display_name": "Environment (conda_pytorch_p36)",
   "language": "python",
   "name": "conda_pytorch_p36"
  },
  "language_info": {
   "codemirror_mode": {
    "name": "ipython",
    "version": 3
   },
   "file_extension": ".py",
   "mimetype": "text/x-python",
   "name": "python",
   "nbconvert_exporter": "python",
   "pygments_lexer": "ipython3",
   "version": "3.6.5"
  }
 },
 "nbformat": 4,
 "nbformat_minor": 1
}
