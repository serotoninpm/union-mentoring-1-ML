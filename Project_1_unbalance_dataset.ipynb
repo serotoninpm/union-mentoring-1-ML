{
 "cells": [
  {
   "cell_type": "markdown",
   "metadata": {
    "id": "8M3eOnh39bfO"
   },
   "source": [
    "1. torchvision을 사용하여 CIFAR10의 학습용 데이터, 시험용 데이터 불러오기, 정규화\n",
    "2. 합성곱 신경망 정의\n",
    "3. 손실 함수 정의\n",
    "4. 학습용 데이터를 사용하여 신경망 학습\n",
    "5. 시험용 데이터를 사용하여 신경망 검사"
   ]
  },
  {
   "cell_type": "code",
   "execution_count": 1,
   "metadata": {
    "id": "uXuITn8289eq"
   },
   "outputs": [],
   "source": [
    "#결과 inline에 출력\n",
    "%matplotlib inline"
   ]
  },
  {
   "cell_type": "code",
   "execution_count": 2,
   "metadata": {
    "id": "FEH4NGb6-KeH"
   },
   "outputs": [],
   "source": [
    "import torch\n",
    "import torchvision\n",
    "from torchvision.datasets import FashionMNIST\n",
    "# from torchvision.datasets import MNIST\n",
    "import torchvision.transforms as transforms\n",
    "import collections\n",
    "from sklearn import datasets\n",
    "from imblearn import under_sampling\n",
    "from typing import Any, Callable, Dict, List, Optional, Tuple\n",
    "import os\n",
    "import numpy as np"
   ]
  },
  {
   "cell_type": "code",
   "execution_count": 3,
   "metadata": {
    "id": "WbDcVbDtYQxy"
   },
   "outputs": [],
   "source": [
    "device = torch.device(\"cuda:0\" if torch.cuda.is_available() else \"cpu\")"
   ]
  },
  {
   "cell_type": "code",
   "execution_count": 4,
   "metadata": {},
   "outputs": [
    {
     "name": "stdout",
     "output_type": "stream",
     "text": [
      "2\n"
     ]
    }
   ],
   "source": [
    "print(torch.cuda.device_count())"
   ]
  },
  {
   "cell_type": "code",
   "execution_count": 5,
   "metadata": {
    "scrolled": true
   },
   "outputs": [
    {
     "name": "stdout",
     "output_type": "stream",
     "text": [
      "1.7.1+cu101\n"
     ]
    }
   ],
   "source": [
    "print(torch.__version__)"
   ]
  },
  {
   "cell_type": "code",
   "execution_count": 6,
   "metadata": {
    "colab": {
     "base_uri": "https://localhost:8080/"
    },
    "id": "qwxpmJonGrsb",
    "outputId": "0fab87ba-52f8-4d2a-88bf-81fec7f02dc4"
   },
   "outputs": [],
   "source": [
    "transform = transforms.Compose(\n",
    "    [transforms.ToTensor(),\n",
    "     transforms.Normalize((0.5,), (0.5,))])\n",
    "\n",
    "batch_size = 2048\n",
    "\n",
    "trainset = torchvision.datasets.FashionMNIST(root='./data', train=True,\n",
    "                                        download=True, transform=transform)\n",
    "trainloader = torch.utils.data.DataLoader(trainset, batch_size=batch_size,\n",
    "                                          shuffle=True, num_workers= 8 ,pin_memory= True)\n",
    "\n",
    "testset = torchvision.datasets.FashionMNIST(root='./data', train=False,\n",
    "                                       download=True, transform=transform)\n",
    "testloader = torch.utils.data.DataLoader(testset, batch_size=batch_size,\n",
    "                                         shuffle=False, num_workers=8, pin_memory= True)\n",
    "\n",
    "classes = ('T-shirt/top', 'Trouser', 'Pullover', 'Dress', 'Coat', 'Sandal',\n",
    "               'Shirt', 'Sneaker', 'Bag', 'Ankle boot')"
   ]
  },
  {
   "cell_type": "code",
   "execution_count": 7,
   "metadata": {},
   "outputs": [
    {
     "data": {
      "text/plain": [
       "torch.Tensor"
      ]
     },
     "execution_count": 7,
     "metadata": {},
     "output_type": "execute_result"
    }
   ],
   "source": [
    "type(trainset.data)"
   ]
  },
  {
   "cell_type": "code",
   "execution_count": 8,
   "metadata": {},
   "outputs": [
    {
     "data": {
      "text/plain": [
       "torch.Tensor"
      ]
     },
     "execution_count": 8,
     "metadata": {},
     "output_type": "execute_result"
    }
   ],
   "source": [
    "type(trainset.targets)"
   ]
  },
  {
   "cell_type": "code",
   "execution_count": 9,
   "metadata": {},
   "outputs": [
    {
     "name": "stdout",
     "output_type": "stream",
     "text": [
      "Original dataset shape Counter({9: 6000, 0: 6000, 3: 6000, 2: 6000, 7: 6000, 5: 6000, 1: 6000, 6: 6000, 4: 6000, 8: 6000})\n"
     ]
    }
   ],
   "source": [
    "print('Original dataset shape %s' % collections.Counter(trainset.targets.tolist()))\n"
   ]
  },
  {
   "cell_type": "code",
   "execution_count": 10,
   "metadata": {},
   "outputs": [],
   "source": [
    "class unbalance_FashionMNIST(FashionMNIST):\n",
    "     def __init__(\n",
    "            self,\n",
    "            root: str,\n",
    "            train: bool = True,\n",
    "            transform: Optional[Callable] = None,\n",
    "            target_transform: Optional[Callable] = None,\n",
    "            download: bool = False,\n",
    "    ) -> None:\n",
    "        super(unbalance_FashionMNIST, self).__init__(root, transform=transform,\n",
    "                                    target_transform=target_transform)\n",
    "        \n",
    "        if self.train:\n",
    "            data_file = self.training_file\n",
    "        else:\n",
    "            data_file = self.test_file\n",
    "     \n",
    "        self.data, self.targets = torch.load(os.path.join(self.processed_folder, data_file))\n",
    "        rus = under_sampling.RandomUnderSampler(\n",
    "            sampling_strategy={\n",
    "                0: 600,\n",
    "                1: 6000,\n",
    "                2: 600,\n",
    "                3: 6000,\n",
    "                4: 600,\n",
    "                5: 6000,\n",
    "                6: 600,\n",
    "                7: 6000,\n",
    "                8: 600,\n",
    "                9: 6000\n",
    "                \n",
    "            },\n",
    "            random_state=42\n",
    "        )\n",
    "        self.data, self.targets = rus.fit_resample(np.array(self.data).reshape(60000,28*28), np.array(self.targets))\n",
    "        self.data, self.targets = torch.Tensor(self.data.reshape(-1,28,28)).to(dtype=torch.uint8), torch.Tensor(self.targets).to(dtype=torch.uint8)\n",
    "\n"
   ]
  },
  {
   "cell_type": "code",
   "execution_count": 11,
   "metadata": {},
   "outputs": [],
   "source": [
    "transform = transforms.Compose(\n",
    "    [transforms.ToTensor(),\n",
    "     transforms.Normalize((0.5,), (0.5,))])\n",
    "\n",
    "batch_size = 2048\n",
    "\n",
    "trainset = unbalance_FashionMNIST(root='./data', train=True,\n",
    "                                        download=True, transform=transform)\n",
    "trainloader = torch.utils.data.DataLoader(trainset, batch_size=batch_size,\n",
    "                                          shuffle=True, num_workers= 8 ,pin_memory= True)\n",
    "\n",
    "testset = torchvision.datasets.FashionMNIST(root='./data', train=False,\n",
    "                                       download=True, transform=transform)\n",
    "testloader = torch.utils.data.DataLoader(testset, batch_size=batch_size,\n",
    "                                         shuffle=True, num_workers=8, pin_memory= True)\n",
    "\n",
    "classes = ('T-shirt/top', 'Trouser', 'Pullover', 'Dress', 'Coat', 'Sandal',\n",
    "               'Shirt', 'Sneaker', 'Bag', 'Ankle boot')"
   ]
  },
  {
   "cell_type": "code",
   "execution_count": 12,
   "metadata": {},
   "outputs": [
    {
     "name": "stdout",
     "output_type": "stream",
     "text": [
      "reshape dataset shape Counter({1: 6000, 3: 6000, 5: 6000, 7: 6000, 9: 6000, 0: 600, 2: 600, 4: 600, 6: 600, 8: 600})\n"
     ]
    }
   ],
   "source": [
    "print('reshape dataset shape %s' % collections.Counter(trainset.targets.tolist()))"
   ]
  },
  {
   "cell_type": "code",
   "execution_count": 13,
   "metadata": {},
   "outputs": [
    {
     "data": {
      "text/plain": [
       "torch.Tensor"
      ]
     },
     "execution_count": 13,
     "metadata": {},
     "output_type": "execute_result"
    }
   ],
   "source": [
    "type(trainset.data)"
   ]
  },
  {
   "cell_type": "code",
   "execution_count": 14,
   "metadata": {},
   "outputs": [
    {
     "data": {
      "text/plain": [
       "torch.Tensor"
      ]
     },
     "execution_count": 14,
     "metadata": {},
     "output_type": "execute_result"
    }
   ],
   "source": [
    "type(trainset.targets)"
   ]
  },
  {
   "cell_type": "code",
   "execution_count": 15,
   "metadata": {},
   "outputs": [
    {
     "data": {
      "text/plain": [
       "33000"
      ]
     },
     "execution_count": 15,
     "metadata": {},
     "output_type": "execute_result"
    }
   ],
   "source": [
    "len(trainset.data)"
   ]
  },
  {
   "cell_type": "code",
   "execution_count": 16,
   "metadata": {
    "colab": {
     "base_uri": "https://localhost:8080/",
     "height": 307
    },
    "id": "rgQfhxpXJZ5f",
    "outputId": "859af676-6ece-430a-a4ff-0b0346bd5bc7"
   },
   "outputs": [
    {
     "name": "stdout",
     "output_type": "stream",
     "text": [
      "<torch.utils.data.dataloader._MultiProcessingDataLoaderIter object at 0x7f15cc71aef0>\n"
     ]
    },
    {
     "data": {
      "image/png": "[encoded data removed]",
      "text/plain": [
       "<Figure size 432x288 with 1 Axes>"
      ]
     },
     "metadata": {},
     "output_type": "display_data"
    },
    {
     "name": "stdout",
     "output_type": "stream",
     "text": [
      "Ankle boot Sandal Sandal Sneaker\n"
     ]
    }
   ],
   "source": [
    "import matplotlib.pyplot as plt\n",
    "import numpy as np\n",
    "\n",
    "# 이미지를 보여주기 위한 함수\n",
    "\n",
    "def imshow(img):\n",
    "    img = img / 2 + 0.5     # unnormalize\n",
    "    npimg = img.numpy()\n",
    "    plt.imshow(np.transpose(npimg, (1, 2, 0)))\n",
    "    plt.show()\n",
    "\n",
    "\n",
    "# 학습용 이미지를 무작위로 가져오기\n",
    "dataiter = iter(trainloader)\n",
    "print(dataiter)\n",
    "images, labels = dataiter.next()\n",
    "# 이미지 보여주기\n",
    "imshow(torchvision.utils.make_grid(images))\n",
    "# 정답(label) 출력\n",
    "print(' '.join('%5s' % classes[labels[j]] for j in range(4)))"
   ]
  },
  {
   "cell_type": "code",
   "execution_count": 17,
   "metadata": {
    "colab": {
     "base_uri": "https://localhost:8080/"
    },
    "id": "NB7aQV8uJZv6",
    "outputId": "a827f329-4e7f-4478-b1c1-839409b5d2a3"
   },
   "outputs": [
    {
     "data": {
      "text/plain": [
       "DataParallel(\n",
       "  (module): Net(\n",
       "    (layer1): Sequential(\n",
       "      (0): Conv2d(1, 32, kernel_size=(3, 3), stride=(1, 1))\n",
       "      (1): ReLU()\n",
       "      (2): Conv2d(32, 32, kernel_size=(3, 3), stride=(1, 1))\n",
       "      (3): ReLU()\n",
       "      (4): MaxPool2d(kernel_size=2, stride=2, padding=0, dilation=1, ceil_mode=False)\n",
       "      (5): Dropout(p=0.2, inplace=False)\n",
       "    )\n",
       "    (layer2): Sequential(\n",
       "      (0): Conv2d(32, 64, kernel_size=(3, 3), stride=(1, 1))\n",
       "      (1): ReLU()\n",
       "      (2): Conv2d(64, 64, kernel_size=(3, 3), stride=(1, 1))\n",
       "      (3): ReLU()\n",
       "      (4): MaxPool2d(kernel_size=2, stride=2, padding=0, dilation=1, ceil_mode=False)\n",
       "      (5): Dropout(p=0.2, inplace=False)\n",
       "    )\n",
       "    (fc1): Linear(in_features=1024, out_features=120, bias=True)\n",
       "    (bn1): BatchNorm1d(120, eps=1e-05, momentum=0.1, affine=True, track_running_stats=True)\n",
       "    (bn2): BatchNorm1d(84, eps=1e-05, momentum=0.1, affine=True, track_running_stats=True)\n",
       "    (fc2): Linear(in_features=120, out_features=84, bias=True)\n",
       "    (fc3): Linear(in_features=84, out_features=10, bias=True)\n",
       "  )\n",
       ")"
      ]
     },
     "execution_count": 17,
     "metadata": {},
     "output_type": "execute_result"
    }
   ],
   "source": [
    "import torch.nn as nn\n",
    "import torch.nn.functional as F\n",
    "\n",
    "\n",
    "class Net(nn.Module):\n",
    "    def __init__(self):\n",
    "        super().__init__()\n",
    "        self.layer1 = torch.nn.Sequential(\n",
    "          nn.Conv2d(1, 32, 3),\n",
    "          nn.ReLU(),\n",
    "          nn.Conv2d(32, 32, 3),\n",
    "          nn.ReLU(),\n",
    "          nn.MaxPool2d(2, 2),\n",
    "          nn.Dropout(0.2)\n",
    "        )\n",
    "\n",
    "        self.layer2 = torch.nn.Sequential(\n",
    "          nn.Conv2d(32, 64, 3),\n",
    "          nn.ReLU(),\n",
    "          nn.Conv2d(64, 64, 3),\n",
    "          nn.ReLU(),\n",
    "          nn.MaxPool2d(2, 2),\n",
    "          nn.Dropout(0.2)\n",
    "        )\n",
    "\n",
    "\n",
    "        self.fc1 = nn.Linear(1024, 120)\n",
    "        self.bn1 = nn.BatchNorm1d(120)\n",
    "        self.bn2 = nn.BatchNorm1d(84)\n",
    "        self.fc2 = nn.Linear(120, 84)\n",
    "        self.fc3 = nn.Linear(84, 10)\n",
    "\n",
    "\n",
    "    def forward(self, x):\n",
    "        x = self.layer1(x)\n",
    "        x = self.layer2(x)\n",
    "        x = torch.flatten(x, 1) # 배치를 제외한 모든 차원을 평탄화(flatten)\n",
    "        x = F.relu(self.bn1(self.fc1(x)))\n",
    "        x = F.relu(self.bn2(self.fc2(x)))\n",
    "        x = self.fc3(x)\n",
    "        return x\n",
    "\n",
    "\n",
    "net = Net()\n",
    "\n",
    "if torch.cuda.device_count() > 1:\n",
    "    net = nn.DataParallel(net)\n",
    "\n",
    "net.to(device)"
   ]
  },
  {
   "cell_type": "code",
   "execution_count": 18,
   "metadata": {
    "id": "NmP7RK2FWytM"
   },
   "outputs": [],
   "source": [
    "import torch.optim as optim\n",
    "\n",
    "criterion = nn.CrossEntropyLoss()\n",
    "optimizer = optim.Adam(net.parameters(), lr=0.001)"
   ]
  },
  {
   "cell_type": "code",
   "execution_count": 19,
   "metadata": {
    "colab": {
     "base_uri": "https://localhost:8080/"
    },
    "id": "sPYggzAfW0Be",
    "outputId": "14b7fb32-dfdf-4530-c83d-f03b72f2b92a"
   },
   "outputs": [
    {
     "name": "stdout",
     "output_type": "stream",
     "text": [
      "[1,    10] loss: 1.338\n",
      "[2,    10] loss: 0.577\n",
      "[3,    10] loss: 0.396\n",
      "[4,    10] loss: 0.292\n",
      "[5,    10] loss: 0.240\n",
      "[6,    10] loss: 0.206\n",
      "[7,    10] loss: 0.183\n",
      "[8,    10] loss: 0.166\n",
      "[9,    10] loss: 0.153\n",
      "[10,    10] loss: 0.144\n",
      "[11,    10] loss: 0.139\n",
      "[12,    10] loss: 0.126\n",
      "[13,    10] loss: 0.123\n",
      "[14,    10] loss: 0.116\n",
      "[15,    10] loss: 0.109\n",
      "[16,    10] loss: 0.109\n",
      "[17,    10] loss: 0.102\n",
      "[18,    10] loss: 0.096\n",
      "[19,    10] loss: 0.092\n",
      "[20,    10] loss: 0.086\n",
      "[21,    10] loss: 0.085\n",
      "[22,    10] loss: 0.082\n",
      "[23,    10] loss: 0.077\n",
      "[24,    10] loss: 0.075\n",
      "[25,    10] loss: 0.075\n",
      "[26,    10] loss: 0.068\n",
      "[27,    10] loss: 0.069\n",
      "[28,    10] loss: 0.063\n",
      "[29,    10] loss: 0.059\n",
      "[30,    10] loss: 0.058\n",
      "[31,    10] loss: 0.055\n",
      "[32,    10] loss: 0.061\n",
      "[33,    10] loss: 0.051\n",
      "[34,    10] loss: 0.056\n",
      "[35,    10] loss: 0.047\n",
      "[36,    10] loss: 0.046\n",
      "[37,    10] loss: 0.045\n",
      "[38,    10] loss: 0.047\n",
      "[39,    10] loss: 0.041\n",
      "[40,    10] loss: 0.042\n",
      "[41,    10] loss: 0.037\n",
      "[42,    10] loss: 0.036\n",
      "[43,    10] loss: 0.038\n",
      "[44,    10] loss: 0.033\n",
      "[45,    10] loss: 0.035\n",
      "[46,    10] loss: 0.032\n",
      "[47,    10] loss: 0.031\n",
      "[48,    10] loss: 0.031\n",
      "[49,    10] loss: 0.033\n",
      "[50,    10] loss: 0.035\n",
      "[51,    10] loss: 0.031\n",
      "[52,    10] loss: 0.028\n",
      "[53,    10] loss: 0.026\n",
      "[54,    10] loss: 0.032\n",
      "[55,    10] loss: 0.041\n",
      "[56,    10] loss: 0.032\n",
      "[57,    10] loss: 0.027\n",
      "[58,    10] loss: 0.025\n",
      "[59,    10] loss: 0.026\n",
      "[60,    10] loss: 0.024\n",
      "[61,    10] loss: 0.023\n",
      "[62,    10] loss: 0.020\n",
      "[63,    10] loss: 0.020\n",
      "[64,    10] loss: 0.019\n",
      "[65,    10] loss: 0.018\n",
      "[66,    10] loss: 0.018\n",
      "[67,    10] loss: 0.019\n",
      "[68,    10] loss: 0.019\n",
      "[69,    10] loss: 0.021\n",
      "[70,    10] loss: 0.021\n",
      "[71,    10] loss: 0.018\n",
      "[72,    10] loss: 0.020\n",
      "[73,    10] loss: 0.020\n",
      "[74,    10] loss: 0.016\n",
      "[75,    10] loss: 0.016\n",
      "[76,    10] loss: 0.018\n",
      "[77,    10] loss: 0.021\n",
      "[78,    10] loss: 0.018\n",
      "[79,    10] loss: 0.017\n",
      "[80,    10] loss: 0.013\n",
      "[81,    10] loss: 0.013\n",
      "[82,    10] loss: 0.014\n",
      "[83,    10] loss: 0.019\n",
      "[84,    10] loss: 0.021\n",
      "[85,    10] loss: 0.021\n",
      "[86,    10] loss: 0.013\n",
      "[87,    10] loss: 0.016\n",
      "[88,    10] loss: 0.018\n",
      "[89,    10] loss: 0.014\n",
      "[90,    10] loss: 0.017\n",
      "[91,    10] loss: 0.014\n",
      "[92,    10] loss: 0.013\n",
      "[93,    10] loss: 0.012\n",
      "[94,    10] loss: 0.010\n",
      "[95,    10] loss: 0.008\n",
      "[96,    10] loss: 0.008\n",
      "[97,    10] loss: 0.008\n",
      "[98,    10] loss: 0.011\n",
      "[99,    10] loss: 0.014\n",
      "[100,    10] loss: 0.013\n",
      "[101,    10] loss: 0.013\n",
      "[102,    10] loss: 0.012\n",
      "[103,    10] loss: 0.011\n",
      "[104,    10] loss: 0.009\n",
      "[105,    10] loss: 0.008\n",
      "[106,    10] loss: 0.009\n",
      "[107,    10] loss: 0.007\n",
      "[108,    10] loss: 0.007\n",
      "[109,    10] loss: 0.006\n",
      "[110,    10] loss: 0.013\n",
      "[111,    10] loss: 0.020\n",
      "[112,    10] loss: 0.016\n",
      "[113,    10] loss: 0.015\n",
      "[114,    10] loss: 0.017\n",
      "[115,    10] loss: 0.010\n",
      "[116,    10] loss: 0.008\n",
      "[117,    10] loss: 0.009\n",
      "[118,    10] loss: 0.010\n",
      "[119,    10] loss: 0.010\n",
      "[120,    10] loss: 0.013\n",
      "[121,    10] loss: 0.011\n",
      "[122,    10] loss: 0.011\n",
      "[123,    10] loss: 0.013\n",
      "[124,    10] loss: 0.009\n",
      "[125,    10] loss: 0.008\n",
      "[126,    10] loss: 0.008\n",
      "[127,    10] loss: 0.008\n",
      "[128,    10] loss: 0.006\n",
      "[129,    10] loss: 0.007\n",
      "[130,    10] loss: 0.006\n",
      "[131,    10] loss: 0.007\n",
      "[132,    10] loss: 0.007\n",
      "[133,    10] loss: 0.006\n",
      "[134,    10] loss: 0.008\n",
      "[135,    10] loss: 0.008\n",
      "[136,    10] loss: 0.006\n",
      "[137,    10] loss: 0.009\n",
      "[138,    10] loss: 0.008\n",
      "[139,    10] loss: 0.009\n",
      "[140,    10] loss: 0.008\n",
      "[141,    10] loss: 0.010\n",
      "[142,    10] loss: 0.008\n",
      "[143,    10] loss: 0.007\n",
      "[144,    10] loss: 0.007\n",
      "[145,    10] loss: 0.008\n",
      "[146,    10] loss: 0.005\n",
      "[147,    10] loss: 0.008\n",
      "[148,    10] loss: 0.006\n",
      "[149,    10] loss: 0.005\n",
      "[150,    10] loss: 0.005\n",
      "[151,    10] loss: 0.006\n",
      "[152,    10] loss: 0.005\n",
      "[153,    10] loss: 0.005\n",
      "[154,    10] loss: 0.003\n",
      "[155,    10] loss: 0.004\n",
      "[156,    10] loss: 0.004\n",
      "[157,    10] loss: 0.003\n",
      "[158,    10] loss: 0.004\n",
      "[159,    10] loss: 0.004\n",
      "[160,    10] loss: 0.004\n",
      "[161,    10] loss: 0.003\n",
      "[162,    10] loss: 0.005\n",
      "[163,    10] loss: 0.004\n",
      "[164,    10] loss: 0.007\n",
      "[165,    10] loss: 0.007\n",
      "[166,    10] loss: 0.010\n",
      "[167,    10] loss: 0.007\n",
      "[168,    10] loss: 0.006\n",
      "[169,    10] loss: 0.007\n",
      "[170,    10] loss: 0.005\n",
      "[171,    10] loss: 0.004\n",
      "[172,    10] loss: 0.005\n",
      "[173,    10] loss: 0.005\n",
      "[174,    10] loss: 0.004\n",
      "[175,    10] loss: 0.007\n",
      "[176,    10] loss: 0.011\n",
      "[177,    10] loss: 0.011\n",
      "[178,    10] loss: 0.011\n",
      "[179,    10] loss: 0.009\n",
      "[180,    10] loss: 0.008\n",
      "[181,    10] loss: 0.008\n",
      "[182,    10] loss: 0.009\n",
      "[183,    10] loss: 0.007\n",
      "[184,    10] loss: 0.007\n",
      "[185,    10] loss: 0.007\n",
      "[186,    10] loss: 0.006\n",
      "[187,    10] loss: 0.007\n",
      "[188,    10] loss: 0.008\n",
      "[189,    10] loss: 0.005\n",
      "[190,    10] loss: 0.008\n",
      "[191,    10] loss: 0.009\n",
      "[192,    10] loss: 0.010\n",
      "[193,    10] loss: 0.007\n",
      "[194,    10] loss: 0.004\n",
      "[195,    10] loss: 0.006\n",
      "[196,    10] loss: 0.005\n",
      "[197,    10] loss: 0.004\n",
      "[198,    10] loss: 0.008\n",
      "[199,    10] loss: 0.007\n",
      "[200,    10] loss: 0.008\n",
      "Finished Training\n"
     ]
    }
   ],
   "source": [
    "net.train()\n",
    "for epoch in range(200):   # 데이터셋을 수차례 반복합니다.\n",
    "    running_loss = 0.0\n",
    "    for i, data in enumerate(trainloader, 0):\n",
    "        # [inputs, labels]의 목록인 data로부터 입력을 받은 후;\n",
    "        inputs, labels = data[0].to(device), data[1].to(device)\n",
    "\n",
    "        # 변화도(Gradient) 매개변수를 0으로 만들고\n",
    "        optimizer.zero_grad()\n",
    "\n",
    "        # 순전파 + 역전파 + 최적화를 한 후\n",
    "        outputs = net(inputs)\n",
    "        loss = criterion(outputs, labels)\n",
    "        loss.backward()\n",
    "        optimizer.step()\n",
    "\n",
    "        # 통계를 출력합니다.\n",
    "        running_loss += loss.item()\n",
    "        if i % 10 == 9:    # print every 2000 mini-batches\n",
    "            print('[%d, %5d] loss: %.3f' %\n",
    "                  (epoch + 1, i + 1, running_loss / 10))\n",
    "            running_loss = 0.0\n",
    "\n",
    "print('Finished Training')"
   ]
  },
  {
   "cell_type": "code",
   "execution_count": 20,
   "metadata": {
    "id": "SYFO6TofWz-0"
   },
   "outputs": [],
   "source": [
    "PATH = './fashion_net.pth'\n",
    "torch.save(net.state_dict(), PATH)"
   ]
  },
  {
   "cell_type": "code",
   "execution_count": 21,
   "metadata": {
    "colab": {
     "base_uri": "https://localhost:8080/"
    },
    "id": "xi8HjximWz5-",
    "outputId": "688f3e8e-f55b-4d0d-b51c-d29a5e2c8c53"
   },
   "outputs": [
    {
     "name": "stdout",
     "output_type": "stream",
     "text": [
      "GroundTruth:  Trouser   Bag  Coat   Bag  Coat Ankle boot Sneaker Sandal Dress Dress   Bag Dress T-shirt/top Sneaker Pullover Pullover Trouser Dress T-shirt/top   Bag T-shirt/top Sandal Dress   Bag T-shirt/top Sandal   Bag Sneaker Trouser Shirt   Bag Shirt Shirt Dress  Coat Pullover   Bag T-shirt/top Sandal Shirt Dress  Coat  Coat Pullover Trouser Ankle boot Dress Sandal Sandal Ankle boot Trouser Ankle boot Pullover Sneaker   Bag  Coat Trouser  Coat Sandal T-shirt/top   Bag Sandal Ankle boot Sneaker\n"
     ]
    }
   ],
   "source": [
    "dataiter = iter(testloader)\n",
    "images, labels = dataiter.next()\n",
    "images = images.to(device)\n",
    "labels = labels.to(device)\n",
    "# 이미지를 출력합니다.\n",
    "# imshow(torchvision.utils.make_grid(images))\n",
    "print('GroundTruth: ', ' '.join('%5s' % classes[labels[j]] for j in range(64)))"
   ]
  },
  {
   "cell_type": "code",
   "execution_count": 22,
   "metadata": {
    "id": "eAQ14i67Xzdk"
   },
   "outputs": [],
   "source": [
    "# net = Net()\n",
    "# net.to(device)\n",
    "# net.load_state_dict(torch.load(PATH))"
   ]
  },
  {
   "cell_type": "code",
   "execution_count": 23,
   "metadata": {
    "id": "xW5s_VvOX2Kr"
   },
   "outputs": [],
   "source": [
    "net.train()\n",
    "outputs = net(images)"
   ]
  },
  {
   "cell_type": "code",
   "execution_count": 24,
   "metadata": {
    "colab": {
     "base_uri": "https://localhost:8080/"
    },
    "id": "-EUVmr_-X2IL",
    "outputId": "07dd4599-2c71-46e0-f132-e1f09e678af2"
   },
   "outputs": [
    {
     "name": "stdout",
     "output_type": "stream",
     "text": [
      "Predicted:  Trouser   Bag  Coat   Bag  Coat Ankle boot Sneaker Sandal Dress Dress   Bag Dress T-shirt/top Sneaker Pullover Pullover Trouser Dress T-shirt/top   Bag T-shirt/top Sandal Dress   Bag Trouser Sandal   Bag Sneaker Trouser   Bag Sneaker Shirt Dress Dress  Coat Sandal   Bag Dress Sandal T-shirt/top Dress Dress Sandal Shirt Trouser Ankle boot Dress Sandal Sandal Ankle boot Trouser Ankle boot Pullover Sneaker   Bag Ankle boot Trouser Dress Sandal Shirt   Bag Sandal Ankle boot Sneaker   Bag Trouser Pullover Shirt Dress Trouser Sandal Sneaker  Coat T-shirt/top Ankle boot Ankle boot Dress Sandal Sandal Pullover Trouser  Coat Dress   Bag Sandal T-shirt/top  Coat Sneaker Pullover Sneaker Sandal Ankle boot Dress T-shirt/top Dress T-shirt/top Dress Shirt   Bag Sneaker Ankle boot Ankle boot T-shirt/top Shirt Trouser Dress Trouser Pullover Dress  Coat Dress Sandal Shirt Sandal Pullover Dress Ankle boot Dress  Coat  Coat Pullover Pullover T-shirt/top   Bag Shirt T-shirt/top Dress Dress Trouser Shirt Trouser T-shirt/top Shirt Dress Dress Sneaker Trouser Shirt  Coat Sandal   Bag  Coat Sandal T-shirt/top Pullover   Bag   Bag Ankle boot Dress Sandal Sneaker Sneaker Pullover Ankle boot Dress T-shirt/top Ankle boot T-shirt/top Sandal Trouser T-shirt/top Ankle boot Trouser T-shirt/top Trouser Pullover Sneaker Sneaker Dress Dress Ankle boot Trouser   Bag Sandal  Coat Dress Shirt T-shirt/top Sneaker Shirt Sneaker Ankle boot Pullover Pullover  Coat Sneaker Sandal Sneaker Dress Shirt Sandal  Coat Trouser Trouser Ankle boot Ankle boot Trouser Pullover Dress T-shirt/top   Bag T-shirt/top Ankle boot Ankle boot Sandal Trouser Ankle boot Sneaker Dress Pullover Dress Trouser Shirt Trouser Ankle boot Dress Pullover Ankle boot Sneaker  Coat T-shirt/top Ankle boot Sandal Shirt  Coat Sandal Sneaker T-shirt/top Sneaker T-shirt/top Sandal Sandal T-shirt/top Sandal Shirt Sneaker T-shirt/top Sneaker Sandal T-shirt/top  Coat Sandal Sandal Ankle boot Ankle boot Pullover  Coat Sneaker Ankle boot Sneaker Sandal Trouser Pullover Trouser Shirt Dress  Coat Dress Shirt T-shirt/top Dress  Coat Dress   Bag Pullover Sneaker Shirt Ankle boot Sandal Trouser Shirt Ankle boot Pullover Sandal Trouser Dress Sandal  Coat   Bag Pullover T-shirt/top  Coat Sneaker Sandal   Bag Dress   Bag Sandal   Bag Dress Trouser T-shirt/top Sandal Pullover Ankle boot Sneaker T-shirt/top Dress Dress   Bag Dress Sandal Sandal Sandal   Bag Sandal   Bag Trouser Sneaker Pullover Sneaker Sneaker Trouser  Coat Sandal Shirt T-shirt/top  Coat Pullover Trouser Sandal Shirt Pullover Sandal Trouser Sneaker Pullover   Bag T-shirt/top Pullover Ankle boot Sneaker Sneaker Ankle boot Ankle boot Dress Ankle boot  Coat Shirt Trouser Trouser Sandal Sneaker  Coat  Coat Ankle boot   Bag   Bag Trouser Pullover Dress Trouser Dress Ankle boot  Coat Trouser   Bag  Coat T-shirt/top Sandal Sandal Ankle boot Sneaker Trouser Ankle boot Shirt Dress Dress Ankle boot Sandal   Bag Dress Ankle boot Dress   Bag T-shirt/top   Bag T-shirt/top Shirt T-shirt/top T-shirt/top Dress Pullover Pullover Trouser Trouser Shirt Sneaker Sandal Dress Trouser Ankle boot Ankle boot Sneaker Trouser Trouser Ankle boot Sneaker Pullover Ankle boot Trouser Shirt Sandal Sandal   Bag Shirt Ankle boot   Bag Ankle boot  Coat   Bag Dress T-shirt/top  Coat  Coat Dress Pullover Ankle boot Sneaker Sandal Dress T-shirt/top   Bag  Coat T-shirt/top Ankle boot Pullover Dress  Coat Dress Pullover Shirt T-shirt/top Dress Dress Shirt Dress   Bag Pullover  Coat Sandal  Coat Ankle boot Sandal Dress Dress Pullover Ankle boot Sneaker T-shirt/top Pullover Ankle boot T-shirt/top   Bag Pullover  Coat Dress T-shirt/top T-shirt/top Sneaker Sandal Ankle boot Ankle boot   Bag Sandal Dress Shirt Sandal T-shirt/top Sandal Dress Dress Dress T-shirt/top Dress  Coat Trouser Pullover   Bag Dress T-shirt/top   Bag   Bag Sneaker Dress  Coat T-shirt/top Ankle boot Sneaker Sneaker Sneaker   Bag   Bag Dress Shirt Trouser Sandal Trouser Dress  Coat Dress Dress T-shirt/top Sandal Sneaker Trouser Sandal Sneaker Pullover Trouser Pullover Sneaker   Bag Dress   Bag Ankle boot  Coat Pullover Dress Pullover Sneaker Sandal Dress Ankle boot Sandal  Coat Trouser T-shirt/top Dress Ankle boot Sneaker Ankle boot T-shirt/top Shirt Sneaker Sandal Dress Dress Dress Dress Sneaker Sneaker Shirt Shirt   Bag   Bag Sandal Pullover Sneaker T-shirt/top Sneaker Sandal Trouser Sandal Sneaker Shirt Pullover Sandal  Coat Ankle boot  Coat Sneaker Dress   Bag Sneaker Ankle boot Shirt Ankle boot  Coat Sandal Dress Dress Sneaker Pullover  Coat T-shirt/top T-shirt/top Pullover Pullover Pullover Trouser Sandal T-shirt/top Pullover Sandal Shirt Dress Dress Pullover T-shirt/top Sneaker Pullover   Bag Pullover Pullover Pullover Dress Ankle boot Trouser Trouser Ankle boot Pullover Sneaker Ankle boot   Bag Sneaker Shirt Pullover Trouser Trouser  Coat Trouser Pullover Sneaker Dress Trouser  Coat   Bag   Bag   Bag Trouser T-shirt/top Dress Ankle boot Sneaker T-shirt/top Ankle boot Ankle boot Sandal  Coat Trouser Ankle boot Ankle boot Pullover  Coat Sandal Sandal Shirt Trouser Dress Trouser Dress Trouser T-shirt/top Pullover Shirt  Coat Sandal   Bag Dress Dress Pullover Sneaker Sneaker Sandal Pullover Sneaker Shirt Ankle boot   Bag Sneaker Sneaker Trouser Sandal  Coat Pullover   Bag Trouser Pullover Ankle boot Dress  Coat Trouser Pullover Sandal Sandal Sandal Trouser Sneaker Sneaker Pullover Sandal Sandal T-shirt/top Shirt T-shirt/top Dress Ankle boot Sandal Dress Sandal Ankle boot Ankle boot Sneaker Trouser   Bag Pullover Trouser  Coat Pullover Dress Sneaker Sneaker T-shirt/top  Coat Pullover Sneaker   Bag Sandal   Bag Trouser Trouser T-shirt/top Ankle boot   Bag  Coat Pullover Pullover Dress   Bag   Bag Dress Sneaker Trouser Sneaker Dress Sneaker Sneaker  Coat   Bag  Coat Pullover Pullover Ankle boot   Bag Dress Sneaker Sandal Sneaker Sandal Sneaker T-shirt/top  Coat T-shirt/top   Bag Shirt Dress Pullover Dress   Bag Sneaker Ankle boot   Bag Sandal   Bag Dress Sandal Sneaker Ankle boot Pullover Ankle boot Sneaker Sneaker Trouser Dress Trouser Pullover  Coat Ankle boot Sandal Dress Dress Trouser Trouser Dress Sneaker   Bag Ankle boot Dress Dress Shirt Sandal   Bag Dress Ankle boot Pullover Ankle boot Ankle boot Dress Trouser Trouser Dress Pullover T-shirt/top Sneaker Sneaker  Coat Trouser   Bag Trouser Sneaker Sneaker Sneaker Sneaker  Coat   Bag   Bag T-shirt/top   Bag Sandal Dress Dress Sandal Trouser Dress Trouser   Bag   Bag Pullover Sandal Ankle boot Sneaker Shirt Dress Sneaker Sandal Sneaker Sandal Pullover Sandal Trouser Dress Dress  Coat Pullover Trouser Trouser Dress  Coat Sandal Ankle boot Sandal   Bag  Coat Ankle boot Sneaker Pullover  Coat  Coat   Bag Dress Dress Sneaker Shirt T-shirt/top Pullover Sneaker Shirt   Bag Sneaker Pullover Dress Trouser Shirt Pullover Trouser Shirt Pullover  Coat Shirt Pullover Trouser   Bag Shirt   Bag  Coat Pullover Trouser Dress Dress Pullover Dress Sneaker Dress Trouser  Coat Pullover Trouser Sneaker Sneaker Trouser Sneaker Trouser Pullover Sneaker  Coat Pullover Sandal Dress  Coat Trouser Shirt  Coat Shirt Sandal Trouser Dress T-shirt/top Sandal Dress Trouser Dress   Bag Ankle boot Trouser Ankle boot Dress Ankle boot Shirt Ankle boot  Coat Dress Dress   Bag   Bag Trouser Dress T-shirt/top   Bag Dress  Coat Sneaker Dress Ankle boot T-shirt/top Dress   Bag Sneaker  Coat Pullover  Coat Sneaker   Bag Dress Pullover Sandal Sandal   Bag   Bag  Coat Sandal Ankle boot T-shirt/top Pullover Trouser Dress Sneaker Shirt T-shirt/top Sneaker Pullover   Bag Sneaker  Coat Sandal Ankle boot  Coat Dress Dress  Coat Pullover Dress Sandal Trouser Trouser Trouser Ankle boot Ankle boot Pullover T-shirt/top Trouser Dress Sneaker Pullover Ankle boot Dress Sneaker Ankle boot Sandal Shirt Dress Shirt Sandal Trouser Shirt   Bag Sneaker Sneaker Sandal Dress   Bag Ankle boot Pullover Dress T-shirt/top   Bag Sneaker Dress Trouser Pullover Sneaker T-shirt/top T-shirt/top Trouser Sneaker Sandal Trouser Dress Trouser T-shirt/top Sneaker T-shirt/top Dress Dress Dress Pullover Dress Ankle boot Shirt   Bag Dress Dress Ankle boot Dress Trouser Sneaker Dress  Coat Trouser Trouser Pullover Trouser Dress Sneaker T-shirt/top Ankle boot Dress Sneaker Ankle boot Trouser  Coat Pullover Pullover   Bag Sandal Pullover Dress T-shirt/top Trouser Sandal  Coat Pullover Trouser Ankle boot Dress Sandal   Bag Ankle boot Shirt Sneaker Dress Shirt  Coat Sneaker Shirt Ankle boot Sneaker Ankle boot Pullover Ankle boot Dress T-shirt/top Sneaker Sandal Sandal Trouser Sneaker Pullover T-shirt/top Sandal Sandal Sneaker T-shirt/top  Coat Sneaker Sneaker Sandal Ankle boot Sneaker Pullover Sandal Trouser T-shirt/top Dress T-shirt/top Trouser Shirt Trouser Dress Sandal  Coat Ankle boot   Bag Shirt Dress Dress Pullover Shirt   Bag Sandal  Coat Sandal   Bag Pullover Pullover Dress Dress Pullover Trouser Sneaker Dress Sandal T-shirt/top Sandal Trouser Dress   Bag Sandal Shirt Sneaker Ankle boot Sneaker Pullover Sandal Sandal  Coat T-shirt/top T-shirt/top Dress Pullover T-shirt/top Sneaker Sneaker  Coat Dress Sandal Sneaker Trouser Pullover Trouser Ankle boot T-shirt/top Sandal Trouser Pullover Sandal  Coat Sandal Sneaker Sandal T-shirt/top Sneaker Sandal Dress Trouser Shirt Sneaker  Coat  Coat  Coat Trouser  Coat Dress Trouser Sandal  Coat   Bag   Bag Dress Dress Sneaker  Coat Ankle boot Sandal Pullover Dress Shirt Dress Trouser Pullover Pullover T-shirt/top  Coat Shirt T-shirt/top   Bag Dress Sneaker Dress  Coat Sandal Dress T-shirt/top Dress Dress Dress Sandal Pullover Ankle boot  Coat Ankle boot Trouser Sandal  Coat Ankle boot Dress Dress Pullover Ankle boot   Bag Sandal Shirt Dress Dress Pullover Shirt   Bag Sneaker Sandal Sneaker T-shirt/top Sneaker Sandal Ankle boot Dress Ankle boot Trouser T-shirt/top T-shirt/top Dress Ankle boot Ankle boot Sneaker Sneaker Sandal  Coat  Coat  Coat   Bag Ankle boot   Bag Dress  Coat Dress T-shirt/top Sandal  Coat Dress T-shirt/top Pullover Shirt Pullover Ankle boot Pullover   Bag Sandal Pullover   Bag Sandal Sandal Shirt   Bag Pullover Ankle boot Dress T-shirt/top Sandal Pullover T-shirt/top Ankle boot T-shirt/top Dress Pullover Shirt Trouser Sneaker   Bag Sandal Sandal Ankle boot Ankle boot Dress Pullover Shirt Dress Sneaker Trouser Trouser Dress Ankle boot Pullover Shirt Ankle boot Pullover Ankle boot  Coat Dress Dress Trouser Pullover Dress Trouser Dress Pullover   Bag T-shirt/top Sandal Sandal Pullover Shirt Sneaker T-shirt/top Trouser Sneaker  Coat Dress Trouser T-shirt/top  Coat Dress Dress Ankle boot Sneaker T-shirt/top Ankle boot Trouser Shirt Sandal Sneaker T-shirt/top Shirt Sneaker Sneaker  Coat   Bag Sandal T-shirt/top Sneaker T-shirt/top Sneaker Pullover Dress Sandal Shirt Pullover Dress Shirt T-shirt/top Dress Sneaker Sandal Sneaker Trouser Trouser Shirt Sandal Sneaker T-shirt/top Shirt Trouser Pullover Dress Pullover Pullover Sneaker Sandal T-shirt/top Dress Dress Trouser Ankle boot Dress Sneaker Dress Sneaker Sandal Sandal  Coat Pullover Dress Dress Shirt Pullover Shirt Sneaker Trouser Ankle boot Pullover Trouser Pullover Pullover Trouser Sneaker Ankle boot   Bag Shirt Ankle boot Shirt T-shirt/top T-shirt/top   Bag Trouser  Coat Ankle boot Sandal Dress Trouser T-shirt/top T-shirt/top Pullover Ankle boot Pullover Ankle boot T-shirt/top Ankle boot Trouser Sandal  Coat Dress Sneaker T-shirt/top Trouser Ankle boot Sneaker Pullover Pullover   Bag Sandal   Bag   Bag Dress Dress Shirt Pullover Dress Trouser   Bag   Bag Pullover Sneaker Ankle boot  Coat Dress Dress Sandal Trouser Sneaker T-shirt/top Pullover Dress Dress Sandal Dress Ankle boot Pullover Sneaker  Coat Sneaker Sandal  Coat Dress Trouser Sandal Sandal Trouser Dress Sandal  Coat Ankle boot Dress   Bag   Bag T-shirt/top Pullover Dress   Bag Ankle boot Trouser  Coat  Coat Trouser Trouser   Bag   Bag Shirt Trouser Dress Pullover Pullover Pullover Ankle boot Dress   Bag T-shirt/top Trouser T-shirt/top  Coat Trouser Pullover Sneaker Sandal T-shirt/top Sneaker Pullover Pullover T-shirt/top Dress  Coat   Bag Trouser Ankle boot Dress Ankle boot Pullover Ankle boot Sandal Sneaker Trouser Sneaker Ankle boot Sandal T-shirt/top Dress  Coat Sneaker   Bag Trouser Sandal Trouser Trouser Pullover T-shirt/top Pullover Sandal Ankle boot Sandal Pullover Trouser Dress Ankle boot Sandal Trouser Sandal Trouser Sandal Sneaker Sandal Trouser Sneaker T-shirt/top T-shirt/top   Bag Pullover Dress T-shirt/top Trouser Sandal Pullover Pullover Sneaker  Coat Trouser  Coat T-shirt/top Dress Dress Pullover Sneaker   Bag Ankle boot Dress Dress Sneaker Dress  Coat Dress   Bag Dress Sandal Trouser Sandal Sneaker Trouser Sneaker Sneaker Sneaker Sneaker Ankle boot T-shirt/top Dress Sandal Sandal Ankle boot Pullover   Bag Pullover Sneaker Sneaker Dress   Bag Sandal Sneaker Dress  Coat   Bag Dress Ankle boot T-shirt/top Ankle boot Sandal Dress Dress Trouser Shirt Dress Dress Dress Trouser Sandal Sandal   Bag Trouser Pullover Sneaker Shirt Ankle boot Dress Trouser Dress Dress Ankle boot Ankle boot   Bag Dress T-shirt/top Sneaker Sneaker Dress T-shirt/top  Coat  Coat Dress Sandal Pullover Dress Sandal Shirt   Bag   Bag Shirt Dress Sandal   Bag Shirt T-shirt/top Sandal Sandal Dress Dress Trouser Trouser Sandal Dress T-shirt/top T-shirt/top Shirt Sneaker  Coat Ankle boot Dress Trouser Sandal T-shirt/top Dress Trouser Ankle boot Dress Trouser T-shirt/top Dress Ankle boot  Coat Trouser Trouser Ankle boot   Bag Trouser Trouser Dress Trouser T-shirt/top Trouser Trouser Trouser   Bag Ankle boot Dress Trouser Dress Shirt   Bag Sandal   Bag Sneaker Ankle boot Sneaker Dress Sandal Trouser Shirt   Bag Dress Sandal T-shirt/top Ankle boot  Coat Sneaker Dress Sandal Sneaker Sneaker T-shirt/top Shirt  Coat T-shirt/top Dress T-shirt/top T-shirt/top Pullover Shirt Trouser Sandal Pullover Dress Sneaker Sandal Trouser Pullover Sneaker Sneaker Dress Sandal Sneaker Ankle boot Dress Ankle boot Dress Trouser  Coat T-shirt/top Sandal Dress Sneaker Ankle boot Sneaker Shirt Pullover Ankle boot Dress Ankle boot Dress Trouser Sandal Pullover   Bag Trouser Trouser Sneaker T-shirt/top Dress Dress Trouser Sandal   Bag   Bag   Bag Sandal T-shirt/top Dress  Coat Sneaker Trouser Shirt Sandal Shirt   Bag Trouser Dress T-shirt/top Ankle boot Trouser Shirt Ankle boot Shirt   Bag Sneaker Ankle boot T-shirt/top T-shirt/top Pullover  Coat Sandal Dress Trouser Trouser Shirt   Bag Dress   Bag Dress  Coat Trouser Sandal Ankle boot   Bag Ankle boot Trouser  Coat Dress Sandal Sandal Dress Sandal Shirt  Coat T-shirt/top T-shirt/top  Coat Dress Ankle boot Dress  Coat   Bag T-shirt/top Trouser Dress Sneaker Pullover Trouser  Coat T-shirt/top Dress Pullover Shirt Ankle boot  Coat Ankle boot Sandal Shirt Dress T-shirt/top Dress T-shirt/top  Coat Ankle boot Shirt Trouser Sandal Dress   Bag Shirt Sandal Shirt   Bag Sandal Ankle boot Shirt Dress Dress   Bag Trouser  Coat Trouser Trouser T-shirt/top  Coat  Coat Sandal Trouser Sneaker Pullover Ankle boot Trouser Trouser Trouser Ankle boot   Bag   Bag Sandal Ankle boot Ankle boot Dress   Bag Ankle boot   Bag Trouser Sneaker Trouser T-shirt/top Dress   Bag Ankle boot T-shirt/top Pullover Dress Ankle boot T-shirt/top Ankle boot Dress Ankle boot Dress   Bag   Bag Dress Dress Sneaker Sandal Sneaker Trouser  Coat  Coat Shirt T-shirt/top Sandal Sneaker T-shirt/top T-shirt/top Dress Dress Sandal Sneaker Ankle boot Sneaker Dress Trouser Sneaker Ankle boot Ankle boot Ankle boot Pullover Dress Sneaker Pullover Pullover Sandal Trouser Sneaker Ankle boot Sneaker Dress Dress Ankle boot Trouser Shirt   Bag Sneaker Pullover Ankle boot Trouser Dress Sneaker Ankle boot Ankle boot Ankle boot Sneaker Sneaker Dress Sneaker   Bag Pullover T-shirt/top Dress Shirt   Bag Dress  Coat Pullover Trouser Ankle boot Sneaker Dress Trouser Ankle boot   Bag  Coat  Coat Sandal Sandal Sandal Shirt Dress Pullover  Coat Ankle boot Sandal Sandal Sneaker Sandal Dress Pullover Ankle boot Sneaker Ankle boot Shirt Dress Sneaker   Bag Pullover   Bag Sneaker Ankle boot Sandal Sneaker Sneaker Sneaker  Coat Trouser Ankle boot Sandal Shirt Trouser  Coat  Coat Dress Ankle boot T-shirt/top Trouser Sandal\n"
     ]
    }
   ],
   "source": [
    "_, predicted = torch.max(outputs, 1)\n",
    "\n",
    "print('Predicted: ', ' '.join('%5s' % classes[predicted[j]]\n",
    "                              for j in range(batch_size)))"
   ]
  },
  {
   "cell_type": "code",
   "execution_count": 25,
   "metadata": {
    "colab": {
     "base_uri": "https://localhost:8080/"
    },
    "id": "_fKdJHWbX2DR",
    "outputId": "038c26f6-4ab3-4954-c104-504a9fdd2d05"
   },
   "outputs": [
    {
     "name": "stdout",
     "output_type": "stream",
     "text": [
      "Accuracy of the network on the 10000 test images: 89 %\n"
     ]
    }
   ],
   "source": [
    "net.eval()\n",
    "correct = 0\n",
    "total = 0\n",
    "# 학습 중이 아니므로, 출력에 대한 변화도를 계산할 필요가 없습니다\n",
    "with torch.no_grad():\n",
    "    for data in testloader:\n",
    "        images, labels = data[0].to(device), data[1].to(device)\n",
    "\n",
    "        # 신경망에 이미지를 통과시켜 출력을 계산합니다\n",
    "        outputs = net(images)\n",
    "        # 가장 높은 값(energy)를 갖는 분류(class)를 정답으로 선택하겠습니다\n",
    "        _, predicted = torch.max(outputs.data, 1)\n",
    "        total += labels.size(0)\n",
    "        correct += (predicted == labels).sum().item()\n",
    "\n",
    "print('Accuracy of the network on the 10000 test images: %d %%' % (\n",
    "    100 * correct / total))"
   ]
  },
  {
   "cell_type": "code",
   "execution_count": 26,
   "metadata": {
    "colab": {
     "base_uri": "https://localhost:8080/"
    },
    "id": "zSiYXtBCYEJx",
    "outputId": "26710488-3eac-49fe-defb-67c03011007c"
   },
   "outputs": [
    {
     "name": "stdout",
     "output_type": "stream",
     "text": [
      "Accuracy for class T-shirt/top is: 82.9 %\n",
      "Accuracy for class Trouser is: 98.8 %\n",
      "Accuracy for class Pullover is: 85.5 %\n",
      "Accuracy for class Dress is: 97.5 %\n",
      "Accuracy for class Coat  is: 80.8 %\n",
      "Accuracy for class Sandal is: 98.1 %\n",
      "Accuracy for class Shirt is: 57.8 %\n",
      "Accuracy for class Sneaker is: 98.7 %\n",
      "Accuracy for class Bag   is: 94.1 %\n",
      "Accuracy for class Ankle boot is: 95.8 %\n"
     ]
    }
   ],
   "source": [
    "# 각 분류(class)에 대한 예측값 계산을 위해 준비\n",
    "correct_pred = {classname: 0 for classname in classes}\n",
    "total_pred = {classname: 0 for classname in classes}\n",
    "\n",
    "# 변화도는 여전히 필요하지 않습니다\n",
    "with torch.no_grad():\n",
    "    for data in testloader:\n",
    "        images, labels = data[0].to(device), data[1].to(device)\n",
    "        outputs = net(images)\n",
    "        _, predictions = torch.max(outputs, 1)\n",
    "        # 각 분류별로 올바른 예측 수를 모읍니다\n",
    "        for label, prediction in zip(labels, predictions):\n",
    "            if label == prediction:\n",
    "                correct_pred[classes[label]] += 1\n",
    "            total_pred[classes[label]] += 1\n",
    "\n",
    "\n",
    "# 각 분류별 정확도(accuracy)를 출력합니다\n",
    "for classname, correct_count in correct_pred.items():\n",
    "    accuracy = 100 * float(correct_count) / total_pred[classname]\n",
    "    print(\"Accuracy for class {:5s} is: {:.1f} %\".format(classname,\n",
    "                                                   accuracy))"
   ]
  },
  {
   "cell_type": "code",
   "execution_count": 27,
   "metadata": {
    "id": "0UorzWjiYEG7"
   },
   "outputs": [
    {
     "name": "stdout",
     "output_type": "stream",
     "text": [
      "T-shirt/top\n",
      "Ankle boot\n",
      "T-shirt/top\n",
      "Bag\n",
      "T-shirt/top\n",
      "Dress\n",
      "Pullover\n",
      "Shirt\n",
      "Sneaker\n",
      "Pullover\n"
     ]
    }
   ],
   "source": [
    "for i in range(10):\n",
    "    print(classes[labels[i]])"
   ]
  },
  {
   "cell_type": "code",
   "execution_count": null,
   "metadata": {},
   "outputs": [],
   "source": []
  }
 ],
 "metadata": {
  "accelerator": "GPU",
  "colab": {
   "authorship_tag": "ABX9TyOJSwc78vQi4Iw7xpvGyCs6",
   "include_colab_link": true,
   "name": "Project 0. pytorch tutorial_jaewook.ipynb",
   "provenance": []
  },
  "kernelspec": {
   "display_name": "Environment (conda_pytorch_p36)",
   "language": "python",
   "name": "conda_pytorch_p36"
  },
  "language_info": {
   "codemirror_mode": {
    "name": "ipython",
    "version": 3
   },
   "file_extension": ".py",
   "mimetype": "text/x-python",
   "name": "python",
   "nbconvert_exporter": "python",
   "pygments_lexer": "ipython3",
   "version": "3.6.5"
  }
 },
 "nbformat": 4,
 "nbformat_minor": 1
}
