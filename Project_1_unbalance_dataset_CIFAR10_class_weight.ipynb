{
 "cells": [
  {
   "cell_type": "markdown",
   "metadata": {
    "id": "8M3eOnh39bfO"
   },
   "source": [
    "1. torchvision을 사용하여 CIFAR10의 학습용 데이터, 시험용 데이터 불러오기, 정규화\n",
    "2. 합성곱 신경망 정의\n",
    "3. 손실 함수 정의\n",
    "4. 학습용 데이터를 사용하여 신경망 학습\n",
    "5. 시험용 데이터를 사용하여 신경망 검사"
   ]
  },
  {
   "cell_type": "code",
   "execution_count": 1,
   "metadata": {
    "id": "uXuITn8289eq"
   },
   "outputs": [],
   "source": [
    "#결과 inline에 출력\n",
    "%matplotlib inline"
   ]
  },
  {
   "cell_type": "code",
   "execution_count": 2,
   "metadata": {
    "id": "FEH4NGb6-KeH"
   },
   "outputs": [],
   "source": [
    "import torch\n",
    "import torchvision\n",
    "from torchvision.datasets import CIFAR10\n",
    "import torchvision.transforms as transforms\n",
    "import collections\n",
    "from sklearn import datasets\n",
    "from imblearn import under_sampling\n",
    "from typing import Any, Callable, Dict, List, Optional, Tuple\n",
    "import os\n",
    "import numpy as np\n",
    "from sklearn.utils.class_weight import compute_class_weight"
   ]
  },
  {
   "cell_type": "code",
   "execution_count": 3,
   "metadata": {
    "id": "WbDcVbDtYQxy"
   },
   "outputs": [],
   "source": [
    "device = torch.device(\"cuda:0\" if torch.cuda.is_available() else \"cpu\")"
   ]
  },
  {
   "cell_type": "code",
   "execution_count": 4,
   "metadata": {},
   "outputs": [
    {
     "name": "stdout",
     "output_type": "stream",
     "text": [
      "2\n"
     ]
    }
   ],
   "source": [
    "print(torch.cuda.device_count())"
   ]
  },
  {
   "cell_type": "code",
   "execution_count": 5,
   "metadata": {
    "scrolled": true
   },
   "outputs": [
    {
     "name": "stdout",
     "output_type": "stream",
     "text": [
      "1.7.1+cu101\n"
     ]
    }
   ],
   "source": [
    "print(torch.__version__)"
   ]
  },
  {
   "cell_type": "code",
   "execution_count": 6,
   "metadata": {},
   "outputs": [
    {
     "name": "stdout",
     "output_type": "stream",
     "text": [
      "0.8.2+cu101\n"
     ]
    }
   ],
   "source": [
    "print(torchvision.__version__)"
   ]
  },
  {
   "cell_type": "code",
   "execution_count": 7,
   "metadata": {
    "colab": {
     "base_uri": "https://localhost:8080/"
    },
    "id": "qwxpmJonGrsb",
    "outputId": "0fab87ba-52f8-4d2a-88bf-81fec7f02dc4"
   },
   "outputs": [
    {
     "name": "stdout",
     "output_type": "stream",
     "text": [
      "Files already downloaded and verified\n",
      "Files already downloaded and verified\n"
     ]
    }
   ],
   "source": [
    "transform = transforms.Compose(\n",
    "    [transforms.ToTensor(),\n",
    "     transforms.Normalize((0.5,), (0.5,))])\n",
    "\n",
    "batch_size = 2048\n",
    "\n",
    "trainset = torchvision.datasets.CIFAR10(root='./data', train=True,\n",
    "                                        download=True, transform=transform)\n",
    "trainloader = torch.utils.data.DataLoader(trainset, batch_size=batch_size,\n",
    "                                          shuffle=True, num_workers= 8 ,pin_memory= True)\n",
    "\n",
    "testset = torchvision.datasets.CIFAR10(root='./data', train=False,\n",
    "                                       download=True, transform=transform)\n",
    "testloader = torch.utils.data.DataLoader(testset, batch_size=batch_size,\n",
    "                                         shuffle=False, num_workers=8, pin_memory= True)\n",
    "\n",
    "classes = ('plane', 'car', 'bird', 'cat',\n",
    "           'deer', 'dog', 'frog', 'horse', 'ship', 'truck')"
   ]
  },
  {
   "cell_type": "code",
   "execution_count": 8,
   "metadata": {},
   "outputs": [
    {
     "data": {
      "text/plain": [
       "numpy.ndarray"
      ]
     },
     "execution_count": 8,
     "metadata": {},
     "output_type": "execute_result"
    }
   ],
   "source": [
    "type(trainset.data)"
   ]
  },
  {
   "cell_type": "code",
   "execution_count": 9,
   "metadata": {},
   "outputs": [
    {
     "data": {
      "text/plain": [
       "(50000, 32, 32, 3)"
      ]
     },
     "execution_count": 9,
     "metadata": {},
     "output_type": "execute_result"
    }
   ],
   "source": [
    "trainset.data.shape"
   ]
  },
  {
   "cell_type": "code",
   "execution_count": 10,
   "metadata": {},
   "outputs": [
    {
     "data": {
      "text/plain": [
       "array([[ 59,  62,  63],\n",
       "       [ 43,  46,  45],\n",
       "       [ 50,  48,  43],\n",
       "       [ 68,  54,  42],\n",
       "       [ 98,  73,  52],\n",
       "       [119,  91,  63],\n",
       "       [139, 107,  75],\n",
       "       [145, 110,  80],\n",
       "       [149, 117,  89],\n",
       "       [149, 120,  93],\n",
       "       [131, 103,  77],\n",
       "       [125,  99,  76],\n",
       "       [142, 115,  91],\n",
       "       [144, 112,  86],\n",
       "       [137, 105,  79],\n",
       "       [129,  97,  71],\n",
       "       [137, 106,  79],\n",
       "       [134, 106,  76],\n",
       "       [124,  97,  64],\n",
       "       [139, 113,  78],\n",
       "       [139, 112,  75],\n",
       "       [133, 105,  69],\n",
       "       [136, 105,  74],\n",
       "       [139, 108,  77],\n",
       "       [152, 120,  89],\n",
       "       [163, 131, 100],\n",
       "       [168, 136, 108],\n",
       "       [159, 129, 102],\n",
       "       [158, 130, 104],\n",
       "       [158, 132, 108],\n",
       "       [152, 125, 102],\n",
       "       [148, 124, 103]], dtype=uint8)"
      ]
     },
     "execution_count": 10,
     "metadata": {},
     "output_type": "execute_result"
    }
   ],
   "source": [
    "trainset.data[0][0]"
   ]
  },
  {
   "cell_type": "code",
   "execution_count": 11,
   "metadata": {},
   "outputs": [
    {
     "data": {
      "text/plain": [
       "list"
      ]
     },
     "execution_count": 11,
     "metadata": {},
     "output_type": "execute_result"
    }
   ],
   "source": [
    "type(trainset.targets)"
   ]
  },
  {
   "cell_type": "code",
   "execution_count": 12,
   "metadata": {},
   "outputs": [
    {
     "name": "stdout",
     "output_type": "stream",
     "text": [
      "Original dataset shape Counter({6: 5000, 9: 5000, 4: 5000, 1: 5000, 2: 5000, 7: 5000, 8: 5000, 3: 5000, 5: 5000, 0: 5000})\n"
     ]
    }
   ],
   "source": [
    "print('Original dataset shape %s' % collections.Counter(trainset.targets))\n"
   ]
  },
  {
   "cell_type": "code",
   "execution_count": 13,
   "metadata": {},
   "outputs": [],
   "source": [
    "class unbalance_CIFAR10(CIFAR10):\n",
    "     def __init__(\n",
    "            self,\n",
    "            root: str,\n",
    "            train: bool = True,\n",
    "            transform: Optional[Callable] = None,\n",
    "            target_transform: Optional[Callable] = None,\n",
    "            download: bool = False,\n",
    "    ) -> None:\n",
    "        super(unbalance_CIFAR10, self).__init__(root, transform=transform,\n",
    "                                    target_transform=target_transform)\n",
    "        \n",
    "\n",
    "     \n",
    "        rus = under_sampling.RandomUnderSampler(\n",
    "            sampling_strategy={\n",
    "                0: 50,\n",
    "                1: 5000,\n",
    "                2: 50,\n",
    "                3: 5000,\n",
    "                4: 50,\n",
    "                5: 5000,\n",
    "                6: 50,\n",
    "                7: 5000,\n",
    "                8: 50,\n",
    "                9: 5000\n",
    "                \n",
    "            },\n",
    "            random_state=42\n",
    "        )\n",
    "        self.data, self.targets = rus.fit_resample(np.array(self.data).reshape(50000,32*32*3), np.array(self.targets))\n",
    "#         self.data, self.targets = torch.Tensor(self.data.reshape(-1,32,32,3)).to(dtype=torch.uint8), torch.Tensor(self.targets).to(dtype=torch.uint8)\n",
    "        self.data, self.targets = self.data.reshape(-1,32,32,3), self.targets\n",
    "\n"
   ]
  },
  {
   "cell_type": "code",
   "execution_count": 14,
   "metadata": {},
   "outputs": [
    {
     "name": "stdout",
     "output_type": "stream",
     "text": [
      "Files already downloaded and verified\n"
     ]
    }
   ],
   "source": [
    "transform = transforms.Compose(\n",
    "    [transforms.ToTensor(),\n",
    "     transforms.Normalize((0.5,), (0.5,))])\n",
    "\n",
    "batch_size = 2048\n",
    "\n",
    "trainset = unbalance_CIFAR10(root='./data', train=True,\n",
    "                                        download=True, transform=transform)\n",
    "\n",
    "trainloader = torch.utils.data.DataLoader(trainset, batch_size=batch_size,\n",
    "                                          shuffle=True, num_workers= 8 ,pin_memory= True)\n",
    "\n",
    "testset = torchvision.datasets.CIFAR10(root='./data', train=False,\n",
    "                                       download=True, transform=transform)\n",
    "testloader = torch.utils.data.DataLoader(testset, batch_size=batch_size,\n",
    "                                         shuffle=True, num_workers=8, pin_memory= True)\n",
    "\n",
    "classes = ('plane', 'car', 'bird', 'cat',\n",
    "           'deer', 'dog', 'frog', 'horse', 'ship', 'truck')"
   ]
  },
  {
   "cell_type": "code",
   "execution_count": 15,
   "metadata": {},
   "outputs": [
    {
     "name": "stdout",
     "output_type": "stream",
     "text": [
      "reshape dataset shape Counter({1: 5000, 3: 5000, 5: 5000, 7: 5000, 9: 5000, 0: 50, 2: 50, 4: 50, 6: 50, 8: 50})\n"
     ]
    }
   ],
   "source": [
    "print('reshape dataset shape %s' % collections.Counter(trainset.targets.tolist()))"
   ]
  },
  {
   "cell_type": "code",
   "execution_count": 16,
   "metadata": {},
   "outputs": [
    {
     "name": "stderr",
     "output_type": "stream",
     "text": [
      "/home/ubuntu/anaconda3/envs/pytorch_p36/lib/python3.6/site-packages/sklearn/utils/validation.py:72: FutureWarning: Pass classes=[0 1 2 3 4 5 6 7 8 9], y=[0 0 0 ... 9 9 9] as keyword args. From version 1.0 (renaming of 0.25) passing these as positional arguments will result in an error\n",
      "  \"will result in an error\", FutureWarning)\n"
     ]
    },
    {
     "name": "stdout",
     "output_type": "stream",
     "text": [
      "tensor([50.5000,  0.5050, 50.5000,  0.5050, 50.5000,  0.5050, 50.5000,  0.5050,\n",
      "        50.5000,  0.5050], device='cuda:0')\n"
     ]
    }
   ],
   "source": [
    "class_weights = compute_class_weight('balanced',np.unique(trainset.targets.tolist()),np.array(trainset.targets.tolist()))\n",
    "class_weights = torch.tensor(class_weights,dtype=torch.float)\n",
    "class_weights = class_weights.to(device) \n",
    "print(class_weights)"
   ]
  },
  {
   "cell_type": "code",
   "execution_count": 17,
   "metadata": {},
   "outputs": [
    {
     "data": {
      "text/plain": [
       "numpy.ndarray"
      ]
     },
     "execution_count": 17,
     "metadata": {},
     "output_type": "execute_result"
    }
   ],
   "source": [
    "type(trainset.data)"
   ]
  },
  {
   "cell_type": "code",
   "execution_count": 18,
   "metadata": {},
   "outputs": [
    {
     "data": {
      "text/plain": [
       "numpy.ndarray"
      ]
     },
     "execution_count": 18,
     "metadata": {},
     "output_type": "execute_result"
    }
   ],
   "source": [
    "type(testset.data)"
   ]
  },
  {
   "cell_type": "code",
   "execution_count": 19,
   "metadata": {},
   "outputs": [
    {
     "data": {
      "text/plain": [
       "(25250, 32, 32, 3)"
      ]
     },
     "execution_count": 19,
     "metadata": {},
     "output_type": "execute_result"
    }
   ],
   "source": [
    "trainset.data.shape"
   ]
  },
  {
   "cell_type": "code",
   "execution_count": 20,
   "metadata": {},
   "outputs": [
    {
     "data": {
      "text/plain": [
       "numpy.ndarray"
      ]
     },
     "execution_count": 20,
     "metadata": {},
     "output_type": "execute_result"
    }
   ],
   "source": [
    "type(trainset.targets)"
   ]
  },
  {
   "cell_type": "code",
   "execution_count": 21,
   "metadata": {},
   "outputs": [
    {
     "data": {
      "text/plain": [
       "25250"
      ]
     },
     "execution_count": 21,
     "metadata": {},
     "output_type": "execute_result"
    }
   ],
   "source": [
    "len(trainset.data)"
   ]
  },
  {
   "cell_type": "code",
   "execution_count": 22,
   "metadata": {
    "colab": {
     "base_uri": "https://localhost:8080/",
     "height": 307
    },
    "id": "rgQfhxpXJZ5f",
    "outputId": "859af676-6ece-430a-a4ff-0b0346bd5bc7"
   },
   "outputs": [
    {
     "name": "stdout",
     "output_type": "stream",
     "text": [
      "<torch.utils.data.dataloader._MultiProcessingDataLoaderIter object at 0x7f268a3166d8>\n"
     ]
    },
    {
     "data": {
      "image/png": "[encoded data removed]",
      "text/plain": [
       "<Figure size 432x288 with 1 Axes>"
      ]
     },
     "metadata": {},
     "output_type": "display_data"
    },
    {
     "name": "stdout",
     "output_type": "stream",
     "text": [
      "  car   car   dog horse\n"
     ]
    }
   ],
   "source": [
    "import matplotlib.pyplot as plt\n",
    "import numpy as np\n",
    "\n",
    "# 이미지를 보여주기 위한 함수\n",
    "\n",
    "def imshow(img):\n",
    "    img = img / 2 + 0.5     # unnormalize\n",
    "    npimg = img.numpy()\n",
    "    plt.imshow(np.transpose(npimg, (1, 2, 0)))\n",
    "    plt.show()\n",
    "\n",
    "\n",
    "# 학습용 이미지를 무작위로 가져오기\n",
    "dataiter = iter(trainloader)\n",
    "print(dataiter)\n",
    "images, labels = dataiter.next()\n",
    "# 이미지 보여주기\n",
    "imshow(torchvision.utils.make_grid(images))\n",
    "# 정답(label) 출력\n",
    "print(' '.join('%5s' % classes[labels[j]] for j in range(4)))"
   ]
  },
  {
   "cell_type": "code",
   "execution_count": 23,
   "metadata": {
    "colab": {
     "base_uri": "https://localhost:8080/"
    },
    "id": "NB7aQV8uJZv6",
    "outputId": "a827f329-4e7f-4478-b1c1-839409b5d2a3"
   },
   "outputs": [
    {
     "data": {
      "text/plain": [
       "DataParallel(\n",
       "  (module): Net(\n",
       "    (layer1): Sequential(\n",
       "      (0): Conv2d(3, 32, kernel_size=(3, 3), stride=(1, 1))\n",
       "      (1): ReLU()\n",
       "      (2): Conv2d(32, 32, kernel_size=(3, 3), stride=(1, 1))\n",
       "      (3): ReLU()\n",
       "      (4): MaxPool2d(kernel_size=2, stride=2, padding=0, dilation=1, ceil_mode=False)\n",
       "      (5): Dropout(p=0.2, inplace=False)\n",
       "    )\n",
       "    (layer2): Sequential(\n",
       "      (0): Conv2d(32, 64, kernel_size=(3, 3), stride=(1, 1))\n",
       "      (1): ReLU()\n",
       "      (2): Conv2d(64, 64, kernel_size=(3, 3), stride=(1, 1))\n",
       "      (3): ReLU()\n",
       "      (4): MaxPool2d(kernel_size=2, stride=2, padding=0, dilation=1, ceil_mode=False)\n",
       "      (5): Dropout(p=0.2, inplace=False)\n",
       "    )\n",
       "    (fc1): Linear(in_features=1600, out_features=120, bias=True)\n",
       "    (bn1): BatchNorm1d(120, eps=1e-05, momentum=0.1, affine=True, track_running_stats=True)\n",
       "    (bn2): BatchNorm1d(84, eps=1e-05, momentum=0.1, affine=True, track_running_stats=True)\n",
       "    (fc2): Linear(in_features=120, out_features=84, bias=True)\n",
       "    (fc3): Linear(in_features=84, out_features=10, bias=True)\n",
       "  )\n",
       ")"
      ]
     },
     "execution_count": 23,
     "metadata": {},
     "output_type": "execute_result"
    }
   ],
   "source": [
    "import torch.nn as nn\n",
    "import torch.nn.functional as F\n",
    "\n",
    "\n",
    "class Net(nn.Module):\n",
    "    def __init__(self):\n",
    "        super().__init__()\n",
    "        self.layer1 = torch.nn.Sequential(\n",
    "          nn.Conv2d(3, 32, 3),\n",
    "          nn.ReLU(),\n",
    "          nn.Conv2d(32, 32, 3),\n",
    "          nn.ReLU(),\n",
    "          nn.MaxPool2d(2, 2),\n",
    "          nn.Dropout(0.2)\n",
    "        )\n",
    "\n",
    "        self.layer2 = torch.nn.Sequential(\n",
    "          nn.Conv2d(32, 64, 3),\n",
    "          nn.ReLU(),\n",
    "          nn.Conv2d(64, 64, 3),\n",
    "          nn.ReLU(),\n",
    "          nn.MaxPool2d(2, 2),\n",
    "          nn.Dropout(0.2)\n",
    "        )\n",
    "\n",
    "\n",
    "        self.fc1 = nn.Linear(1600, 120)\n",
    "        self.bn1 = nn.BatchNorm1d(120)\n",
    "        self.bn2 = nn.BatchNorm1d(84)\n",
    "        self.fc2 = nn.Linear(120, 84)\n",
    "        self.fc3 = nn.Linear(84, 10)\n",
    "\n",
    "\n",
    "    def forward(self, x):\n",
    "        x = self.layer1(x)\n",
    "        x = self.layer2(x)\n",
    "        x = torch.flatten(x, 1) # 배치를 제외한 모든 차원을 평탄화(flatten)\n",
    "        x = F.relu(self.bn1(self.fc1(x)))\n",
    "        x = F.relu(self.bn2(self.fc2(x)))\n",
    "        x = self.fc3(x)\n",
    "        return x\n",
    "\n",
    "\n",
    "net = Net()\n",
    "\n",
    "if torch.cuda.device_count() > 1:\n",
    "    net = nn.DataParallel(net)\n",
    "\n",
    "net.to(device)"
   ]
  },
  {
   "cell_type": "code",
   "execution_count": 24,
   "metadata": {
    "id": "NmP7RK2FWytM"
   },
   "outputs": [],
   "source": [
    "import torch.optim as optim\n",
    "\n",
    "criterion = nn.CrossEntropyLoss(weight =class_weights,reduction='mean')\n",
    "optimizer = optim.Adam(net.parameters(), lr=0.001)"
   ]
  },
  {
   "cell_type": "code",
   "execution_count": 25,
   "metadata": {},
   "outputs": [],
   "source": [
    "import time\n",
    "start = time.time()  # 시작 시간 저장"
   ]
  },
  {
   "cell_type": "code",
   "execution_count": 26,
   "metadata": {
    "colab": {
     "base_uri": "https://localhost:8080/"
    },
    "id": "sPYggzAfW0Be",
    "outputId": "14b7fb32-dfdf-4530-c83d-f03b72f2b92a"
   },
   "outputs": [
    {
     "name": "stdout",
     "output_type": "stream",
     "text": [
      "[1,    10] loss: 2.202\n",
      "[2,    10] loss: 1.935\n",
      "[3,    10] loss: 1.789\n",
      "[4,    10] loss: 1.601\n",
      "[5,    10] loss: 1.494\n",
      "[6,    10] loss: 1.375\n",
      "[7,    10] loss: 1.268\n",
      "[8,    10] loss: 1.172\n",
      "[9,    10] loss: 0.988\n",
      "[10,    10] loss: 0.893\n",
      "[11,    10] loss: 0.790\n",
      "[12,    10] loss: 0.727\n",
      "[13,    10] loss: 0.658\n",
      "[14,    10] loss: 0.617\n",
      "[15,    10] loss: 0.595\n",
      "[16,    10] loss: 0.594\n",
      "[17,    10] loss: 0.562\n",
      "[18,    10] loss: 0.503\n",
      "[19,    10] loss: 0.466\n",
      "[20,    10] loss: 0.437\n",
      "[21,    10] loss: 0.417\n",
      "[22,    10] loss: 0.432\n",
      "[23,    10] loss: 0.417\n",
      "[24,    10] loss: 0.376\n",
      "[25,    10] loss: 0.365\n",
      "[26,    10] loss: 0.330\n",
      "[27,    10] loss: 0.335\n",
      "[28,    10] loss: 0.322\n",
      "[29,    10] loss: 0.314\n",
      "[30,    10] loss: 0.323\n",
      "[31,    10] loss: 0.298\n",
      "[32,    10] loss: 0.286\n",
      "[33,    10] loss: 0.276\n",
      "[34,    10] loss: 0.263\n",
      "[35,    10] loss: 0.259\n",
      "[36,    10] loss: 0.242\n",
      "[37,    10] loss: 0.241\n",
      "[38,    10] loss: 0.239\n",
      "[39,    10] loss: 0.230\n",
      "[40,    10] loss: 0.217\n",
      "[41,    10] loss: 0.208\n",
      "[42,    10] loss: 0.207\n",
      "[43,    10] loss: 0.194\n",
      "[44,    10] loss: 0.195\n",
      "[45,    10] loss: 0.188\n",
      "[46,    10] loss: 0.190\n",
      "[47,    10] loss: 0.190\n",
      "[48,    10] loss: 0.178\n",
      "[49,    10] loss: 0.168\n",
      "[50,    10] loss: 0.170\n",
      "[51,    10] loss: 0.161\n",
      "[52,    10] loss: 0.153\n",
      "[53,    10] loss: 0.148\n",
      "[54,    10] loss: 0.150\n",
      "[55,    10] loss: 0.141\n",
      "[56,    10] loss: 0.143\n",
      "[57,    10] loss: 0.139\n",
      "[58,    10] loss: 0.130\n",
      "[59,    10] loss: 0.121\n",
      "[60,    10] loss: 0.122\n",
      "[61,    10] loss: 0.137\n",
      "[62,    10] loss: 0.118\n",
      "[63,    10] loss: 0.149\n",
      "[64,    10] loss: 0.145\n",
      "[65,    10] loss: 0.181\n",
      "[66,    10] loss: 0.182\n",
      "[67,    10] loss: 0.219\n",
      "[68,    10] loss: 0.268\n",
      "[69,    10] loss: 0.239\n",
      "[70,    10] loss: 0.347\n",
      "[71,    10] loss: 0.303\n",
      "[72,    10] loss: 0.302\n",
      "[73,    10] loss: 0.277\n",
      "[74,    10] loss: 0.231\n",
      "[75,    10] loss: 0.228\n",
      "[76,    10] loss: 0.200\n",
      "[77,    10] loss: 0.161\n",
      "[78,    10] loss: 0.145\n",
      "[79,    10] loss: 0.126\n",
      "[80,    10] loss: 0.117\n",
      "[81,    10] loss: 0.116\n",
      "[82,    10] loss: 0.117\n",
      "[83,    10] loss: 0.105\n",
      "[84,    10] loss: 0.099\n",
      "[85,    10] loss: 0.094\n",
      "[86,    10] loss: 0.087\n",
      "[87,    10] loss: 0.084\n",
      "[88,    10] loss: 0.083\n",
      "[89,    10] loss: 0.077\n",
      "[90,    10] loss: 0.075\n",
      "[91,    10] loss: 0.078\n",
      "[92,    10] loss: 0.080\n",
      "[93,    10] loss: 0.077\n",
      "[94,    10] loss: 0.067\n",
      "[95,    10] loss: 0.063\n",
      "[96,    10] loss: 0.063\n",
      "[97,    10] loss: 0.064\n",
      "[98,    10] loss: 0.061\n",
      "[99,    10] loss: 0.054\n",
      "[100,    10] loss: 0.052\n",
      "[101,    10] loss: 0.051\n",
      "[102,    10] loss: 0.053\n",
      "[103,    10] loss: 0.050\n",
      "[104,    10] loss: 0.045\n",
      "[105,    10] loss: 0.045\n",
      "[106,    10] loss: 0.047\n",
      "[107,    10] loss: 0.045\n",
      "[108,    10] loss: 0.043\n",
      "[109,    10] loss: 0.040\n",
      "[110,    10] loss: 0.038\n",
      "[111,    10] loss: 0.039\n",
      "[112,    10] loss: 0.038\n",
      "[113,    10] loss: 0.036\n",
      "[114,    10] loss: 0.034\n",
      "[115,    10] loss: 0.032\n",
      "[116,    10] loss: 0.034\n",
      "[117,    10] loss: 0.034\n",
      "[118,    10] loss: 0.034\n",
      "[119,    10] loss: 0.033\n",
      "[120,    10] loss: 0.032\n",
      "[121,    10] loss: 0.032\n",
      "[122,    10] loss: 0.031\n",
      "[123,    10] loss: 0.030\n",
      "[124,    10] loss: 0.031\n",
      "[125,    10] loss: 0.029\n",
      "[126,    10] loss: 0.030\n",
      "[127,    10] loss: 0.030\n",
      "[128,    10] loss: 0.028\n",
      "[129,    10] loss: 0.028\n",
      "[130,    10] loss: 0.029\n",
      "[131,    10] loss: 0.028\n",
      "[132,    10] loss: 0.029\n",
      "[133,    10] loss: 0.027\n",
      "[134,    10] loss: 0.027\n",
      "[135,    10] loss: 0.026\n",
      "[136,    10] loss: 0.026\n",
      "[137,    10] loss: 0.025\n",
      "[138,    10] loss: 0.024\n",
      "[139,    10] loss: 0.025\n",
      "[140,    10] loss: 0.025\n",
      "[141,    10] loss: 0.026\n",
      "[142,    10] loss: 0.026\n",
      "[143,    10] loss: 0.041\n",
      "[144,    10] loss: 0.064\n",
      "[145,    10] loss: 0.054\n",
      "[146,    10] loss: 0.044\n",
      "[147,    10] loss: 0.044\n",
      "[148,    10] loss: 0.041\n",
      "[149,    10] loss: 0.035\n",
      "[150,    10] loss: 0.026\n",
      "[151,    10] loss: 0.026\n",
      "[152,    10] loss: 0.027\n",
      "[153,    10] loss: 0.028\n",
      "[154,    10] loss: 0.034\n",
      "[155,    10] loss: 0.030\n",
      "[156,    10] loss: 0.028\n",
      "[157,    10] loss: 0.096\n",
      "[158,    10] loss: 0.193\n",
      "[159,    10] loss: 0.258\n",
      "[160,    10] loss: 0.266\n",
      "[161,    10] loss: 0.207\n",
      "[162,    10] loss: 0.214\n",
      "[163,    10] loss: 0.194\n",
      "[164,    10] loss: 0.141\n",
      "[165,    10] loss: 0.115\n",
      "[166,    10] loss: 0.088\n",
      "[167,    10] loss: 0.071\n",
      "[168,    10] loss: 0.069\n",
      "[169,    10] loss: 0.079\n",
      "[170,    10] loss: 0.065\n",
      "[171,    10] loss: 0.054\n",
      "[172,    10] loss: 0.045\n",
      "[173,    10] loss: 0.043\n",
      "[174,    10] loss: 0.038\n",
      "[175,    10] loss: 0.036\n",
      "[176,    10] loss: 0.033\n",
      "[177,    10] loss: 0.030\n",
      "[178,    10] loss: 0.029\n",
      "[179,    10] loss: 0.028\n",
      "[180,    10] loss: 0.028\n",
      "[181,    10] loss: 0.027\n",
      "[182,    10] loss: 0.025\n",
      "[183,    10] loss: 0.025\n",
      "[184,    10] loss: 0.023\n",
      "[185,    10] loss: 0.022\n",
      "[186,    10] loss: 0.022\n",
      "[187,    10] loss: 0.023\n",
      "[188,    10] loss: 0.021\n",
      "[189,    10] loss: 0.025\n",
      "[190,    10] loss: 0.023\n",
      "[191,    10] loss: 0.024\n",
      "[192,    10] loss: 0.021\n",
      "[193,    10] loss: 0.022\n",
      "[194,    10] loss: 0.020\n",
      "[195,    10] loss: 0.018\n",
      "[196,    10] loss: 0.018\n",
      "[197,    10] loss: 0.018\n",
      "[198,    10] loss: 0.018\n",
      "[199,    10] loss: 0.016\n",
      "[200,    10] loss: 0.016\n",
      "Finished Training\n"
     ]
    }
   ],
   "source": [
    "net.train()\n",
    "for epoch in range(200):   # 데이터셋을 수차례 반복합니다.\n",
    "    running_loss = 0.0\n",
    "    for i, data in enumerate(trainloader, 0):\n",
    "        # [inputs, labels]의 목록인 data로부터 입력을 받은 후;\n",
    "        inputs, labels = data[0].to(device), data[1].to(device)\n",
    "\n",
    "        # 변화도(Gradient) 매개변수를 0으로 만들고\n",
    "        optimizer.zero_grad()\n",
    "\n",
    "        # 순전파 + 역전파 + 최적화를 한 후\n",
    "        outputs = net(inputs)\n",
    "        loss = criterion(outputs, labels)\n",
    "        loss.backward()\n",
    "        optimizer.step()\n",
    "\n",
    "        # 통계를 출력합니다.\n",
    "        running_loss += loss.item()\n",
    "        if i % 10 == 9:    # print every 2000 mini-batches\n",
    "            print('[%d, %5d] loss: %.3f' %\n",
    "                  (epoch + 1, i + 1, running_loss / 10))\n",
    "            running_loss = 0.0\n",
    "\n",
    "print('Finished Training')"
   ]
  },
  {
   "cell_type": "code",
   "execution_count": 27,
   "metadata": {},
   "outputs": [
    {
     "name": "stdout",
     "output_type": "stream",
     "text": [
      "time : 391.54066348075867\n"
     ]
    }
   ],
   "source": [
    "print(\"time :\", time.time() - start)  # 현재시각 - 시작시간 = 실행 시간"
   ]
  },
  {
   "cell_type": "code",
   "execution_count": 28,
   "metadata": {
    "id": "SYFO6TofWz-0"
   },
   "outputs": [],
   "source": [
    "# PATH = './fashion_net.pth'\n",
    "# torch.save(net.state_dict(), PATH)"
   ]
  },
  {
   "cell_type": "code",
   "execution_count": 29,
   "metadata": {
    "colab": {
     "base_uri": "https://localhost:8080/"
    },
    "id": "xi8HjximWz5-",
    "outputId": "688f3e8e-f55b-4d0d-b51c-d29a5e2c8c53"
   },
   "outputs": [
    {
     "name": "stdout",
     "output_type": "stream",
     "text": [
      "GroundTruth:   frog  frog  bird   car plane truck  ship   car  bird  deer  ship  bird  deer  frog plane plane horse  deer  deer  frog plane truck horse  bird  ship horse plane  deer  bird  ship  bird   cat horse  bird plane  frog  bird plane horse plane   cat   cat plane  frog   dog  deer  ship  deer plane plane  deer  bird truck horse truck   cat  bird truck  bird  ship  frog truck plane   car\n"
     ]
    }
   ],
   "source": [
    "dataiter = iter(testloader)\n",
    "images, labels = dataiter.next()\n",
    "images = images.to(device)\n",
    "labels = labels.to(device)\n",
    "# 이미지를 출력합니다.\n",
    "# imshow(torchvision.utils.make_grid(images))\n",
    "print('GroundTruth: ', ' '.join('%5s' % classes[labels[j]] for j in range(64)))"
   ]
  },
  {
   "cell_type": "code",
   "execution_count": 30,
   "metadata": {
    "id": "eAQ14i67Xzdk"
   },
   "outputs": [],
   "source": [
    "# net = Net()\n",
    "# net.to(device)\n",
    "# net.load_state_dict(torch.load(PATH))"
   ]
  },
  {
   "cell_type": "code",
   "execution_count": 31,
   "metadata": {
    "id": "xW5s_VvOX2Kr"
   },
   "outputs": [],
   "source": [
    "net.train()\n",
    "outputs = net(images)"
   ]
  },
  {
   "cell_type": "code",
   "execution_count": 32,
   "metadata": {
    "colab": {
     "base_uri": "https://localhost:8080/"
    },
    "id": "-EUVmr_-X2IL",
    "outputId": "07dd4599-2c71-46e0-f132-e1f09e678af2"
   },
   "outputs": [
    {
     "name": "stdout",
     "output_type": "stream",
     "text": [
      "Predicted:    car horse   dog   car plane truck   cat   car truck   dog   car plane horse   cat  ship   cat horse  deer   cat   dog  frog truck horse   car truck horse   dog horse   dog  ship   cat   cat horse   dog   car   cat   dog   cat horse horse   dog   dog horse   cat   dog horse   cat   cat horse truck horse   dog truck horse   car   dog   cat truck   cat   car   cat truck   car   car  bird   cat horse plane   dog   car horse   dog truck  deer truck   dog   dog horse   car truck horse truck   dog   cat   cat  ship   dog horse horse   dog horse   car horse   car   car horse   car   cat truck   cat truck   dog   dog   car horse   dog horse   car   car   dog   car   dog horse truck   cat  bird   dog   car   car horse   cat   dog horse truck truck   dog   dog   dog horse   cat plane truck truck   car horse horse   car   car   cat horse horse truck   dog   dog   dog   dog   dog plane   dog   cat  ship   car horse truck   dog   dog   dog   dog truck   cat horse horse   car horse   dog   cat  ship   dog   car horse   cat   car horse horse truck truck   cat   cat   cat truck   cat   cat   car   car   cat   dog   car   dog horse   dog   car   cat   cat truck horse   dog   dog horse   cat   cat truck truck horse horse horse   dog   cat   dog horse   car   car plane truck   cat truck truck   cat   dog   dog   dog truck   car   cat truck   dog plane   car  deer truck horse truck   cat truck truck   cat horse truck horse horse   cat   car  bird   dog truck   dog horse   dog horse   cat   cat truck   dog horse   car   dog horse   car   car   car   car   car   dog horse   cat   cat truck  frog truck truck  frog truck   cat truck   cat   cat horse truck horse   car   car   dog   car   dog   dog   dog horse horse   dog horse   dog   dog truck   dog truck   car truck truck   cat   car   dog truck truck   car truck   cat horse   cat   dog   car   car   car   cat horse horse truck   cat horse  ship   dog   car horse truck   dog   dog horse   car   car truck   cat   car   dog truck   car   dog truck horse   cat   dog truck truck horse   car   dog   cat   cat horse   dog   car   dog   cat   car   cat truck   car   car horse truck   dog horse   cat   cat   dog   dog   cat   dog   cat truck   cat truck   cat truck horse truck   dog   cat horse  frog horse   dog   cat truck   car truck   cat   cat horse truck truck   car truck   car   dog   cat   car horse truck  frog  ship truck   cat   car truck horse  deer   cat   cat horse   cat horse   cat   dog horse   car   dog truck truck   dog   cat   car horse horse horse horse horse   car truck   cat  frog   dog truck   dog truck   dog   car   car horse   car truck   dog truck truck   cat   dog   dog   car   car truck   car   dog horse truck   dog horse horse   dog   dog   cat   cat   dog plane   car  bird horse   dog horse truck horse   car   car   cat   dog   dog   dog   cat horse truck truck   cat   car truck   dog truck   dog horse truck truck   cat   car   dog   dog   car truck truck truck   cat   car horse   car truck   car   cat   cat   car horse   car horse  frog   dog   dog   dog plane   car   cat   cat   cat   cat   dog truck truck   cat   car   car   car truck truck plane   car   dog truck   cat   dog truck horse   cat   dog   cat   cat   cat   car horse horse   car truck horse   car   dog   dog plane horse   dog truck horse   cat   dog   car horse   cat   car   cat horse truck   cat   dog truck  frog   dog   car truck   dog   cat truck horse   cat horse plane   dog truck   cat   dog   dog   cat   dog plane   dog horse   dog   dog plane truck   cat   cat horse truck   car   car   cat   cat   cat   dog  frog horse   cat   cat horse   dog   cat   dog   cat   car   cat horse  frog   cat  deer   cat   car horse   car   car   dog   dog horse   cat truck   cat horse   dog   dog   car   dog   car truck   cat   dog horse   car   cat horse horse horse   car horse   dog plane   dog   car   cat   dog   car   dog   dog horse   dog truck   dog   dog truck   car   car   car horse truck   car truck   car   dog horse   car horse   car   dog   cat   dog   cat   dog horse   car   car truck   car   car   cat horse truck horse truck   car truck   dog truck   dog   dog   dog   cat   dog   car   car  frog horse truck truck horse   cat   cat horse   dog   car   car   dog truck horse   dog   dog   cat   cat truck   dog   cat truck   dog   car   cat   dog   dog   cat   car   dog   car   dog   cat   dog   dog   dog   cat   cat   dog horse truck   car   cat truck   car   dog horse truck   cat   cat truck horse horse   car   car   dog truck truck   car   cat   cat   car horse horse  frog truck   cat   dog   dog   car   cat horse plane   car   car horse   cat truck truck   dog   cat horse   dog   car   car   cat truck   car horse   dog   cat  frog horse plane truck horse horse   cat   cat   car   cat truck   car   car   car   dog   dog   cat   car   dog   dog   car horse   car   cat horse truck   cat truck   dog   dog   cat   car truck   car plane horse   dog   cat horse truck   car horse   dog   dog truck truck   car horse   car   cat   dog   dog   dog   dog horse   dog   cat  ship truck truck truck horse   dog   cat   dog truck   dog horse   cat truck   dog truck horse   cat   car   dog horse   dog   dog  bird   car   cat   car   cat   dog   dog truck  bird   dog   car horse truck   dog  deer   car   cat horse   cat   dog   car   dog horse horse   dog truck   dog horse   dog   car   dog truck horse   cat truck   dog truck   cat   cat horse   dog   cat   dog   car   cat truck   cat   cat   cat   dog   cat   dog   dog   dog   car horse horse   dog   dog   car   dog truck   dog   cat horse   cat horse horse horse truck truck   car truck horse truck horse   car   dog horse   dog   cat   dog   car horse truck truck truck horse truck truck   dog horse horse   dog horse horse   dog truck   car  bird   dog truck   dog horse horse   cat   cat   car   dog horse truck truck   dog   car   car   dog plane   car horse   dog   dog truck   dog horse   car   dog   car   cat horse  frog  bird horse   cat   dog horse   cat horse truck   car truck truck   cat truck   car   dog   dog   dog truck truck truck truck   cat truck horse   dog   dog   cat horse   cat  bird   car   dog   dog   cat  ship truck horse   dog truck   car horse   car   dog horse   cat truck truck   cat   cat truck  deer truck horse   cat   cat horse truck   dog truck horse   dog truck horse horse horse   dog horse   dog   car   cat   car truck   car truck truck   car   cat horse   car   car horse   car horse horse truck   dog truck horse   dog truck   dog   cat   dog   cat horse   car truck   car   cat   cat horse horse   car truck   car horse   car horse   cat   car   car horse truck truck   dog   car   cat   dog   car   car truck   dog horse   cat truck horse   dog   car   cat   cat   cat horse   car truck   cat   cat   car   dog   dog truck horse truck  frog   cat   cat truck   car horse   cat   dog   car   car   car horse   dog horse horse   cat truck   dog   car   car horse   dog   dog   cat   dog truck horse   cat   car   cat horse   dog horse   cat   cat truck horse   dog   car  frog   cat   car   cat   dog  frog horse   dog   dog   cat horse horse truck horse   cat truck   dog truck truck truck horse horse   car horse   dog   car horse   car horse   cat   dog   dog horse   car   car   dog horse truck   dog   cat horse   dog   car   dog   car   cat   dog truck truck horse   car truck   dog horse   cat   car   car   dog truck truck   dog   cat horse   car   dog truck truck   cat   cat   car   car truck horse horse horse horse truck   cat   dog horse   car   dog horse truck   cat   car horse   dog   cat   dog   cat   car truck   dog   car   cat   car   dog   cat truck   car   dog truck truck horse truck truck   dog truck horse   cat  bird   cat horse   car horse truck   cat horse   dog   dog   dog horse plane   cat horse   car truck   dog truck   dog horse   dog   car horse horse truck   dog   dog   dog truck truck truck   cat truck   dog   dog   dog   cat   car horse plane truck   cat   dog   cat truck truck   car   dog   dog   car   car   car   cat   dog   dog horse   cat plane horse horse   cat truck truck   dog truck   car   cat   dog horse   dog   cat   cat   car   car truck   car truck truck   cat   dog   dog horse   cat   dog   cat   dog   dog  ship horse horse plane   cat   dog truck horse horse   car   cat   car horse horse   dog   cat   car horse   cat truck plane  frog horse horse   cat   dog  ship   dog truck   car   dog truck   dog   car   car   car   car   dog   cat horse   cat   dog   cat   dog   car truck   cat   car horse   car   cat   cat   car   dog truck truck   car   cat truck   car   dog   cat truck   cat   dog  ship horse   cat   dog   cat   dog   dog horse   dog truck   cat truck   dog   cat   cat truck   car horse   cat   dog   car   car horse horse truck truck   cat horse   cat   car   dog   car   car   dog   cat truck   car   car truck   dog   car truck horse   dog   dog   cat truck   dog   dog horse   car   dog   dog horse   cat   dog   dog truck truck horse horse   cat horse   dog truck   car horse truck   car   cat horse truck   car   car   cat   dog horse horse truck   car horse   car   car   cat horse horse   cat   dog   dog horse   dog truck   car   cat   cat   dog   dog   cat truck   cat   dog truck   cat   car   cat truck horse   car truck   car horse   cat truck   dog truck horse truck   car   dog   car horse   car   cat   dog   car horse plane   car truck   cat   dog truck   car horse   car truck   dog   car horse horse horse horse horse truck   dog horse truck   dog plane   dog   car   dog   car horse horse   cat   cat truck   car plane   cat horse   dog horse   cat horse   cat   dog   cat   car   car truck truck   dog   dog   cat truck truck   dog   dog   dog horse  frog horse truck   car truck   car   car truck   cat   dog   car horse truck   cat   cat plane   dog horse   car   car   car   cat   cat   car   cat   cat   dog   car  ship   car   car   cat truck   dog horse   car truck horse horse horse   car horse   cat   dog   car horse   cat truck   dog   cat truck   cat   dog truck horse plane truck horse   car   cat horse truck   dog truck truck   car   car   dog horse   car   car  ship truck truck   dog  frog truck   cat horse   car truck horse   car   dog   car truck truck truck   car truck horse truck   dog horse   car   car   cat horse   cat   car truck  frog truck   dog   dog   dog   dog   cat   dog   dog   dog   car truck   cat horse   car   cat   cat horse   cat   dog   car  bird horse truck truck   car   car horse   car truck plane   dog truck truck   cat   cat   cat   car horse  frog   cat   cat   cat horse   dog   dog horse   cat   cat  frog   dog   dog truck   cat   car horse   car   cat  bird   cat   dog truck   dog   car   cat   car horse truck truck   car   dog   dog horse   car horse   cat   cat   cat truck  frog   dog   dog   cat horse horse   dog   dog   cat truck   dog   cat   car   dog horse   dog   car horse   cat  frog   car horse   car horse horse   cat   cat   cat   car truck horse truck truck  deer truck   dog   cat truck truck   cat horse   car horse   cat   cat   dog truck   car   cat   dog horse   car horse   cat truck   car   cat   cat truck   cat truck truck   dog   car   dog horse   dog truck  bird horse horse   car   car   dog  frog   dog   cat   car plane   dog   cat   cat horse   dog   dog   dog plane truck   dog   car truck   dog horse   car   car   cat horse   dog   car truck   car horse   car   dog   dog horse   car horse plane   dog   dog   car truck truck horse truck   cat truck   dog   car truck   cat horse horse horse truck horse   dog   dog horse truck truck   cat truck   cat   car truck   dog truck truck truck   cat   dog   cat truck  bird  frog   car   cat horse truck   car truck truck truck horse   cat   dog horse horse   dog truck   dog   car horse   car   car   car   dog truck   cat   dog   dog   cat   cat   car horse   car   cat   car   dog   car   cat   dog   dog horse   dog   cat truck truck   car truck   car   cat   dog truck   dog   dog   car   cat   car   car   cat horse   car   dog truck truck   car truck horse truck   cat   cat   cat   cat horse   cat horse   car   cat truck   car horse truck horse   dog   cat   cat   cat   car   dog   cat   cat horse   dog truck   cat   cat   cat horse   car horse   cat\n"
     ]
    }
   ],
   "source": [
    "_, predicted = torch.max(outputs, 1)\n",
    "\n",
    "print('Predicted: ', ' '.join('%5s' % classes[predicted[j]]\n",
    "                              for j in range(batch_size)))"
   ]
  },
  {
   "cell_type": "code",
   "execution_count": 33,
   "metadata": {
    "colab": {
     "base_uri": "https://localhost:8080/"
    },
    "id": "_fKdJHWbX2DR",
    "outputId": "038c26f6-4ab3-4954-c104-504a9fdd2d05"
   },
   "outputs": [
    {
     "name": "stdout",
     "output_type": "stream",
     "text": [
      "Accuracy of the network on the 10000 test images: 46 %\n"
     ]
    }
   ],
   "source": [
    "net.eval()\n",
    "correct = 0\n",
    "total = 0\n",
    "# 학습 중이 아니므로, 출력에 대한 변화도를 계산할 필요가 없습니다\n",
    "with torch.no_grad():\n",
    "    for data in testloader:\n",
    "        images, labels = data[0].to(device), data[1].to(device)\n",
    "\n",
    "        # 신경망에 이미지를 통과시켜 출력을 계산합니다\n",
    "        outputs = net(images)\n",
    "        # 가장 높은 값(energy)를 갖는 분류(class)를 정답으로 선택하겠습니다\n",
    "        _, predicted = torch.max(outputs.data, 1)\n",
    "        total += labels.size(0)\n",
    "        correct += (predicted == labels).sum().item()\n",
    "\n",
    "print('Accuracy of the network on the 10000 test images: %d %%' % (\n",
    "    100 * correct / total))"
   ]
  },
  {
   "cell_type": "code",
   "execution_count": 34,
   "metadata": {
    "colab": {
     "base_uri": "https://localhost:8080/"
    },
    "id": "zSiYXtBCYEJx",
    "outputId": "26710488-3eac-49fe-defb-67c03011007c"
   },
   "outputs": [
    {
     "name": "stdout",
     "output_type": "stream",
     "text": [
      "Accuracy for class plane is: 19.8 %\n",
      "Accuracy for class car   is: 91.2 %\n",
      "Accuracy for class bird  is: 4.1 %\n",
      "Accuracy for class cat   is: 64.3 %\n",
      "Accuracy for class deer  is: 3.4 %\n",
      "Accuracy for class dog   is: 76.0 %\n",
      "Accuracy for class frog  is: 14.5 %\n",
      "Accuracy for class horse is: 86.0 %\n",
      "Accuracy for class ship  is: 16.5 %\n",
      "Accuracy for class truck is: 88.8 %\n"
     ]
    }
   ],
   "source": [
    "# 각 분류(class)에 대한 예측값 계산을 위해 준비\n",
    "correct_pred = {classname: 0 for classname in classes}\n",
    "total_pred = {classname: 0 for classname in classes}\n",
    "\n",
    "# 변화도는 여전히 필요하지 않습니다\n",
    "with torch.no_grad():\n",
    "    for data in testloader:\n",
    "        images, labels = data[0].to(device), data[1].to(device)\n",
    "        outputs = net(images)\n",
    "        _, predictions = torch.max(outputs, 1)\n",
    "        # 각 분류별로 올바른 예측 수를 모읍니다\n",
    "        for label, prediction in zip(labels, predictions):\n",
    "            if label == prediction:\n",
    "                correct_pred[classes[label]] += 1\n",
    "            total_pred[classes[label]] += 1\n",
    "\n",
    "\n",
    "# 각 분류별 정확도(accuracy)를 출력합니다\n",
    "for classname, correct_count in correct_pred.items():\n",
    "    accuracy = 100 * float(correct_count) / total_pred[classname]\n",
    "    print(\"Accuracy for class {:5s} is: {:.1f} %\".format(classname,\n",
    "                                                   accuracy))"
   ]
  },
  {
   "cell_type": "code",
   "execution_count": 35,
   "metadata": {
    "id": "0UorzWjiYEG7"
   },
   "outputs": [
    {
     "name": "stdout",
     "output_type": "stream",
     "text": [
      "dog\n",
      "truck\n",
      "plane\n",
      "truck\n",
      "cat\n",
      "plane\n",
      "ship\n",
      "horse\n",
      "car\n",
      "truck\n"
     ]
    }
   ],
   "source": [
    "for i in range(10):\n",
    "    print(classes[labels[i]])"
   ]
  },
  {
   "cell_type": "code",
   "execution_count": null,
   "metadata": {},
   "outputs": [],
   "source": []
  }
 ],
 "metadata": {
  "accelerator": "GPU",
  "colab": {
   "authorship_tag": "ABX9TyOJSwc78vQi4Iw7xpvGyCs6",
   "include_colab_link": true,
   "name": "Project 0. pytorch tutorial_jaewook.ipynb",
   "provenance": []
  },
  "kernelspec": {
   "display_name": "Environment (conda_pytorch_p36)",
   "language": "python",
   "name": "conda_pytorch_p36"
  },
  "language_info": {
   "codemirror_mode": {
    "name": "ipython",
    "version": 3
   },
   "file_extension": ".py",
   "mimetype": "text/x-python",
   "name": "python",
   "nbconvert_exporter": "python",
   "pygments_lexer": "ipython3",
   "version": "3.6.5"
  }
 },
 "nbformat": 4,
 "nbformat_minor": 1
}
