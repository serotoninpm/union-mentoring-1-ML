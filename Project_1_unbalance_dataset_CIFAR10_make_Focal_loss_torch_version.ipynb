{
 "cells": [
  {
   "cell_type": "markdown",
   "metadata": {
    "id": "8M3eOnh39bfO"
   },
   "source": [
    "1. torchvision을 사용하여 CIFAR10의 학습용 데이터, 시험용 데이터 불러오기, 정규화\n",
    "2. 합성곱 신경망 정의\n",
    "3. 손실 함수 정의\n",
    "4. 학습용 데이터를 사용하여 신경망 학습\n",
    "5. 시험용 데이터를 사용하여 신경망 검사"
   ]
  },
  {
   "cell_type": "code",
   "execution_count": 1,
   "metadata": {
    "id": "uXuITn8289eq"
   },
   "outputs": [],
   "source": [
    "#결과 inline에 출력\n",
    "%matplotlib inline"
   ]
  },
  {
   "cell_type": "code",
   "execution_count": 2,
   "metadata": {
    "id": "FEH4NGb6-KeH"
   },
   "outputs": [],
   "source": [
    "import torch\n",
    "import torchvision\n",
    "from torchvision.datasets import CIFAR10\n",
    "import torchvision.transforms as transforms\n",
    "import collections\n",
    "from sklearn import datasets\n",
    "from imblearn import under_sampling\n",
    "from typing import Any, Callable, Dict, List, Optional, Tuple\n",
    "import os\n",
    "import numpy as np\n",
    "from torch.nn import functional as F"
   ]
  },
  {
   "cell_type": "code",
   "execution_count": 3,
   "metadata": {
    "id": "WbDcVbDtYQxy"
   },
   "outputs": [],
   "source": [
    "device = torch.device(\"cuda:0\" if torch.cuda.is_available() else \"cpu\")"
   ]
  },
  {
   "cell_type": "code",
   "execution_count": 4,
   "metadata": {},
   "outputs": [
    {
     "name": "stdout",
     "output_type": "stream",
     "text": [
      "2\n"
     ]
    }
   ],
   "source": [
    "print(torch.cuda.device_count())"
   ]
  },
  {
   "cell_type": "code",
   "execution_count": 5,
   "metadata": {
    "scrolled": true
   },
   "outputs": [
    {
     "name": "stdout",
     "output_type": "stream",
     "text": [
      "1.7.1+cu101\n"
     ]
    }
   ],
   "source": [
    "print(torch.__version__)"
   ]
  },
  {
   "cell_type": "code",
   "execution_count": 6,
   "metadata": {},
   "outputs": [
    {
     "name": "stdout",
     "output_type": "stream",
     "text": [
      "0.8.2+cu101\n"
     ]
    }
   ],
   "source": [
    "print(torchvision.__version__)"
   ]
  },
  {
   "cell_type": "code",
   "execution_count": 7,
   "metadata": {
    "colab": {
     "base_uri": "https://localhost:8080/"
    },
    "id": "qwxpmJonGrsb",
    "outputId": "0fab87ba-52f8-4d2a-88bf-81fec7f02dc4"
   },
   "outputs": [
    {
     "name": "stdout",
     "output_type": "stream",
     "text": [
      "Files already downloaded and verified\n",
      "Files already downloaded and verified\n"
     ]
    }
   ],
   "source": [
    "transform = transforms.Compose(\n",
    "    [transforms.ToTensor(),\n",
    "     transforms.Normalize((0.5,), (0.5,))])\n",
    "\n",
    "batch_size = 2048\n",
    "\n",
    "trainset = torchvision.datasets.CIFAR10(root='./data', train=True,\n",
    "                                        download=True, transform=transform)\n",
    "trainloader = torch.utils.data.DataLoader(trainset, batch_size=batch_size,\n",
    "                                          shuffle=True, num_workers= 8 ,pin_memory= True)\n",
    "\n",
    "testset = torchvision.datasets.CIFAR10(root='./data', train=False,\n",
    "                                       download=True, transform=transform)\n",
    "testloader = torch.utils.data.DataLoader(testset, batch_size=batch_size,\n",
    "                                         shuffle=False, num_workers=8, pin_memory= True)\n",
    "\n",
    "classes = ('plane', 'car', 'bird', 'cat',\n",
    "           'deer', 'dog', 'frog', 'horse', 'ship', 'truck')"
   ]
  },
  {
   "cell_type": "code",
   "execution_count": 8,
   "metadata": {},
   "outputs": [
    {
     "data": {
      "text/plain": [
       "numpy.ndarray"
      ]
     },
     "execution_count": 8,
     "metadata": {},
     "output_type": "execute_result"
    }
   ],
   "source": [
    "type(trainset.data)"
   ]
  },
  {
   "cell_type": "code",
   "execution_count": 9,
   "metadata": {},
   "outputs": [
    {
     "data": {
      "text/plain": [
       "(50000, 32, 32, 3)"
      ]
     },
     "execution_count": 9,
     "metadata": {},
     "output_type": "execute_result"
    }
   ],
   "source": [
    "trainset.data.shape"
   ]
  },
  {
   "cell_type": "code",
   "execution_count": 10,
   "metadata": {},
   "outputs": [
    {
     "data": {
      "text/plain": [
       "array([[ 59,  62,  63],\n",
       "       [ 43,  46,  45],\n",
       "       [ 50,  48,  43],\n",
       "       [ 68,  54,  42],\n",
       "       [ 98,  73,  52],\n",
       "       [119,  91,  63],\n",
       "       [139, 107,  75],\n",
       "       [145, 110,  80],\n",
       "       [149, 117,  89],\n",
       "       [149, 120,  93],\n",
       "       [131, 103,  77],\n",
       "       [125,  99,  76],\n",
       "       [142, 115,  91],\n",
       "       [144, 112,  86],\n",
       "       [137, 105,  79],\n",
       "       [129,  97,  71],\n",
       "       [137, 106,  79],\n",
       "       [134, 106,  76],\n",
       "       [124,  97,  64],\n",
       "       [139, 113,  78],\n",
       "       [139, 112,  75],\n",
       "       [133, 105,  69],\n",
       "       [136, 105,  74],\n",
       "       [139, 108,  77],\n",
       "       [152, 120,  89],\n",
       "       [163, 131, 100],\n",
       "       [168, 136, 108],\n",
       "       [159, 129, 102],\n",
       "       [158, 130, 104],\n",
       "       [158, 132, 108],\n",
       "       [152, 125, 102],\n",
       "       [148, 124, 103]], dtype=uint8)"
      ]
     },
     "execution_count": 10,
     "metadata": {},
     "output_type": "execute_result"
    }
   ],
   "source": [
    "trainset.data[0][0]"
   ]
  },
  {
   "cell_type": "code",
   "execution_count": 11,
   "metadata": {},
   "outputs": [
    {
     "data": {
      "text/plain": [
       "list"
      ]
     },
     "execution_count": 11,
     "metadata": {},
     "output_type": "execute_result"
    }
   ],
   "source": [
    "type(trainset.targets)"
   ]
  },
  {
   "cell_type": "code",
   "execution_count": 12,
   "metadata": {},
   "outputs": [
    {
     "name": "stdout",
     "output_type": "stream",
     "text": [
      "Original dataset shape Counter({6: 5000, 9: 5000, 4: 5000, 1: 5000, 2: 5000, 7: 5000, 8: 5000, 3: 5000, 5: 5000, 0: 5000})\n"
     ]
    }
   ],
   "source": [
    "print('Original dataset shape %s' % collections.Counter(trainset.targets))\n"
   ]
  },
  {
   "cell_type": "code",
   "execution_count": 13,
   "metadata": {},
   "outputs": [],
   "source": [
    "class unbalance_CIFAR10(CIFAR10):\n",
    "     def __init__(\n",
    "            self,\n",
    "            root: str,\n",
    "            train: bool = True,\n",
    "            transform: Optional[Callable] = None,\n",
    "            target_transform: Optional[Callable] = None,\n",
    "            download: bool = False,\n",
    "    ) -> None:\n",
    "        super(unbalance_CIFAR10, self).__init__(root, transform=transform,\n",
    "                                    target_transform=target_transform)\n",
    "        \n",
    "\n",
    "     \n",
    "        rus = under_sampling.RandomUnderSampler(\n",
    "            sampling_strategy={\n",
    "                0: 50,\n",
    "                1: 5000,\n",
    "                2: 50,\n",
    "                3: 5000,\n",
    "                4: 50,\n",
    "                5: 5000,\n",
    "                6: 50,\n",
    "                7: 5000,\n",
    "                8: 50,\n",
    "                9: 5000\n",
    "                \n",
    "            },\n",
    "            random_state=42\n",
    "        )\n",
    "        self.data, self.targets = rus.fit_resample(np.array(self.data).reshape(50000,32*32*3), np.array(self.targets))\n",
    "#         self.data, self.targets = torch.Tensor(self.data.reshape(-1,32,32,3)).to(dtype=torch.uint8), torch.Tensor(self.targets).to(dtype=torch.uint8)\n",
    "        self.data, self.targets = self.data.reshape(-1,32,32,3), self.targets\n",
    "\n"
   ]
  },
  {
   "cell_type": "code",
   "execution_count": 14,
   "metadata": {},
   "outputs": [
    {
     "name": "stdout",
     "output_type": "stream",
     "text": [
      "Files already downloaded and verified\n"
     ]
    }
   ],
   "source": [
    "transform = transforms.Compose(\n",
    "    [transforms.ToTensor(),\n",
    "     transforms.Normalize((0.5,), (0.5,))])\n",
    "\n",
    "batch_size = 2048\n",
    "\n",
    "trainset = unbalance_CIFAR10(root='./data', train=True,\n",
    "                                        download=True, transform=transform)\n",
    "\n",
    "trainloader = torch.utils.data.DataLoader(trainset, batch_size=batch_size,\n",
    "                                          shuffle=True, num_workers= 8 ,pin_memory= True)\n",
    "\n",
    "testset = torchvision.datasets.CIFAR10(root='./data', train=False,\n",
    "                                       download=True, transform=transform)\n",
    "testloader = torch.utils.data.DataLoader(testset, batch_size=batch_size,\n",
    "                                         shuffle=True, num_workers=8, pin_memory= True)\n",
    "\n",
    "classes = ('plane', 'car', 'bird', 'cat',\n",
    "           'deer', 'dog', 'frog', 'horse', 'ship', 'truck')"
   ]
  },
  {
   "cell_type": "code",
   "execution_count": 15,
   "metadata": {},
   "outputs": [
    {
     "name": "stdout",
     "output_type": "stream",
     "text": [
      "reshape dataset shape Counter({1: 5000, 3: 5000, 5: 5000, 7: 5000, 9: 5000, 0: 50, 2: 50, 4: 50, 6: 50, 8: 50})\n"
     ]
    }
   ],
   "source": [
    "print('reshape dataset shape %s' % collections.Counter(trainset.targets.tolist()))"
   ]
  },
  {
   "cell_type": "code",
   "execution_count": 16,
   "metadata": {},
   "outputs": [
    {
     "data": {
      "text/plain": [
       "numpy.ndarray"
      ]
     },
     "execution_count": 16,
     "metadata": {},
     "output_type": "execute_result"
    }
   ],
   "source": [
    "type(trainset.data)"
   ]
  },
  {
   "cell_type": "code",
   "execution_count": 17,
   "metadata": {},
   "outputs": [
    {
     "data": {
      "text/plain": [
       "numpy.ndarray"
      ]
     },
     "execution_count": 17,
     "metadata": {},
     "output_type": "execute_result"
    }
   ],
   "source": [
    "type(testset.data)"
   ]
  },
  {
   "cell_type": "code",
   "execution_count": 18,
   "metadata": {},
   "outputs": [
    {
     "data": {
      "text/plain": [
       "(25250, 32, 32, 3)"
      ]
     },
     "execution_count": 18,
     "metadata": {},
     "output_type": "execute_result"
    }
   ],
   "source": [
    "trainset.data.shape"
   ]
  },
  {
   "cell_type": "code",
   "execution_count": 19,
   "metadata": {},
   "outputs": [
    {
     "data": {
      "text/plain": [
       "numpy.ndarray"
      ]
     },
     "execution_count": 19,
     "metadata": {},
     "output_type": "execute_result"
    }
   ],
   "source": [
    "type(trainset.targets)"
   ]
  },
  {
   "cell_type": "code",
   "execution_count": 20,
   "metadata": {},
   "outputs": [
    {
     "data": {
      "text/plain": [
       "25250"
      ]
     },
     "execution_count": 20,
     "metadata": {},
     "output_type": "execute_result"
    }
   ],
   "source": [
    "len(trainset.data)"
   ]
  },
  {
   "cell_type": "code",
   "execution_count": 21,
   "metadata": {
    "colab": {
     "base_uri": "https://localhost:8080/",
     "height": 307
    },
    "id": "rgQfhxpXJZ5f",
    "outputId": "859af676-6ece-430a-a4ff-0b0346bd5bc7"
   },
   "outputs": [
    {
     "name": "stdout",
     "output_type": "stream",
     "text": [
      "<torch.utils.data.dataloader._MultiProcessingDataLoaderIter object at 0x7fb63c179048>\n"
     ]
    },
    {
     "data": {
      "image/png": "[encoded data removed]",
      "text/plain": [
       "<Figure size 432x288 with 1 Axes>"
      ]
     },
     "metadata": {},
     "output_type": "display_data"
    },
    {
     "name": "stdout",
     "output_type": "stream",
     "text": [
      "  dog   car   dog   cat\n"
     ]
    }
   ],
   "source": [
    "import matplotlib.pyplot as plt\n",
    "import numpy as np\n",
    "\n",
    "# 이미지를 보여주기 위한 함수\n",
    "\n",
    "def imshow(img):\n",
    "    img = img / 2 + 0.5     # unnormalize\n",
    "    npimg = img.numpy()\n",
    "    plt.imshow(np.transpose(npimg, (1, 2, 0)))\n",
    "    plt.show()\n",
    "\n",
    "\n",
    "# 학습용 이미지를 무작위로 가져오기\n",
    "dataiter = iter(trainloader)\n",
    "print(dataiter)\n",
    "images, labels = dataiter.next()\n",
    "# 이미지 보여주기\n",
    "imshow(torchvision.utils.make_grid(images))\n",
    "# 정답(label) 출력\n",
    "print(' '.join('%5s' % classes[labels[j]] for j in range(4)))"
   ]
  },
  {
   "cell_type": "code",
   "execution_count": 22,
   "metadata": {
    "colab": {
     "base_uri": "https://localhost:8080/"
    },
    "id": "NB7aQV8uJZv6",
    "outputId": "a827f329-4e7f-4478-b1c1-839409b5d2a3"
   },
   "outputs": [
    {
     "data": {
      "text/plain": [
       "DataParallel(\n",
       "  (module): Net(\n",
       "    (layer1): Sequential(\n",
       "      (0): Conv2d(3, 32, kernel_size=(3, 3), stride=(1, 1))\n",
       "      (1): ReLU()\n",
       "      (2): Conv2d(32, 32, kernel_size=(3, 3), stride=(1, 1))\n",
       "      (3): ReLU()\n",
       "      (4): MaxPool2d(kernel_size=2, stride=2, padding=0, dilation=1, ceil_mode=False)\n",
       "      (5): Dropout(p=0.2, inplace=False)\n",
       "    )\n",
       "    (layer2): Sequential(\n",
       "      (0): Conv2d(32, 64, kernel_size=(3, 3), stride=(1, 1))\n",
       "      (1): ReLU()\n",
       "      (2): Conv2d(64, 64, kernel_size=(3, 3), stride=(1, 1))\n",
       "      (3): ReLU()\n",
       "      (4): MaxPool2d(kernel_size=2, stride=2, padding=0, dilation=1, ceil_mode=False)\n",
       "      (5): Dropout(p=0.2, inplace=False)\n",
       "    )\n",
       "    (fc1): Linear(in_features=1600, out_features=120, bias=True)\n",
       "    (bn1): BatchNorm1d(120, eps=1e-05, momentum=0.1, affine=True, track_running_stats=True)\n",
       "    (bn2): BatchNorm1d(84, eps=1e-05, momentum=0.1, affine=True, track_running_stats=True)\n",
       "    (fc2): Linear(in_features=120, out_features=84, bias=True)\n",
       "    (fc3): Linear(in_features=84, out_features=10, bias=True)\n",
       "  )\n",
       ")"
      ]
     },
     "execution_count": 22,
     "metadata": {},
     "output_type": "execute_result"
    }
   ],
   "source": [
    "import torch.nn as nn\n",
    "import torch.nn.functional as F\n",
    "\n",
    "\n",
    "class Net(nn.Module):\n",
    "    def __init__(self):\n",
    "        super().__init__()\n",
    "        self.layer1 = torch.nn.Sequential(\n",
    "          nn.Conv2d(3, 32, 3),\n",
    "          nn.ReLU(),\n",
    "          nn.Conv2d(32, 32, 3),\n",
    "          nn.ReLU(),\n",
    "          nn.MaxPool2d(2, 2),\n",
    "          nn.Dropout(0.2)\n",
    "        )\n",
    "\n",
    "        self.layer2 = torch.nn.Sequential(\n",
    "          nn.Conv2d(32, 64, 3),\n",
    "          nn.ReLU(),\n",
    "          nn.Conv2d(64, 64, 3),\n",
    "          nn.ReLU(),\n",
    "          nn.MaxPool2d(2, 2),\n",
    "          nn.Dropout(0.2)\n",
    "        )\n",
    "\n",
    "\n",
    "        self.fc1 = nn.Linear(1600, 120)\n",
    "        self.bn1 = nn.BatchNorm1d(120)\n",
    "        self.bn2 = nn.BatchNorm1d(84)\n",
    "        self.fc2 = nn.Linear(120, 84)\n",
    "        self.fc3 = nn.Linear(84, 10)\n",
    "\n",
    "\n",
    "    def forward(self, x):\n",
    "        x = self.layer1(x)\n",
    "        x = self.layer2(x)\n",
    "        x = torch.flatten(x, 1) # 배치를 제외한 모든 차원을 평탄화(flatten)\n",
    "        x = F.relu(self.bn1(self.fc1(x)))\n",
    "        x = F.relu(self.bn2(self.fc2(x)))\n",
    "        x = self.fc3(x)\n",
    "        return x\n",
    "\n",
    "\n",
    "net = Net()\n",
    "\n",
    "if torch.cuda.device_count() > 1:\n",
    "    net = nn.DataParallel(net)\n",
    "\n",
    "net.to(device)"
   ]
  },
  {
   "cell_type": "code",
   "execution_count": 23,
   "metadata": {
    "id": "NmP7RK2FWytM"
   },
   "outputs": [],
   "source": [
    "import torch.optim as optim\n",
    "\n",
    "# criterion = nn.CrossEntropyLoss()\n",
    "optimizer = optim.Adam(net.parameters(), lr=0.001)"
   ]
  },
  {
   "cell_type": "code",
   "execution_count": 24,
   "metadata": {},
   "outputs": [],
   "source": [
    "#torch 를 이용해서 재구성하기, for문을 사용하면 느려질 수 밖에 없음"
   ]
  },
  {
   "cell_type": "code",
   "execution_count": null,
   "metadata": {},
   "outputs": [],
   "source": []
  },
  {
   "cell_type": "code",
   "execution_count": 25,
   "metadata": {},
   "outputs": [],
   "source": [
    "def custom_FL_tensor(output,labels, alpha=1, gamma=10):\n",
    "    logpt = F.log_softmax(output, 1)\n",
    "    logpt = logpt.gather(1, labels.unsqueeze(1))\n",
    "    logpt = logpt.view(-1)\n",
    "    pt = logpt.exp()\n",
    "    loss = -1*alpha*((1-pt)**gamma)*logpt\n",
    "    loss = loss.mean()\n",
    "    return loss"
   ]
  },
  {
   "cell_type": "code",
   "execution_count": null,
   "metadata": {},
   "outputs": [],
   "source": []
  },
  {
   "cell_type": "code",
   "execution_count": 26,
   "metadata": {},
   "outputs": [],
   "source": [
    "import time\n",
    "start = time.time()  # 시작 시간 저장"
   ]
  },
  {
   "cell_type": "code",
   "execution_count": 27,
   "metadata": {
    "colab": {
     "base_uri": "https://localhost:8080/"
    },
    "id": "sPYggzAfW0Be",
    "outputId": "14b7fb32-dfdf-4530-c83d-f03b72f2b92a"
   },
   "outputs": [
    {
     "name": "stdout",
     "output_type": "stream",
     "text": [
      "[1,    10] loss: 0.438\n",
      "[2,    10] loss: 0.169\n",
      "[3,    10] loss: 0.113\n",
      "[4,    10] loss: 0.093\n",
      "[5,    10] loss: 0.082\n",
      "[6,    10] loss: 0.075\n",
      "[7,    10] loss: 0.067\n",
      "[8,    10] loss: 0.061\n",
      "[9,    10] loss: 0.053\n",
      "[10,    10] loss: 0.049\n",
      "[11,    10] loss: 0.046\n",
      "[12,    10] loss: 0.041\n",
      "[13,    10] loss: 0.036\n",
      "[14,    10] loss: 0.032\n",
      "[15,    10] loss: 0.029\n",
      "[16,    10] loss: 0.026\n",
      "[17,    10] loss: 0.024\n",
      "[18,    10] loss: 0.021\n",
      "[19,    10] loss: 0.019\n",
      "[20,    10] loss: 0.017\n",
      "[21,    10] loss: 0.017\n",
      "[22,    10] loss: 0.015\n",
      "[23,    10] loss: 0.014\n",
      "[24,    10] loss: 0.013\n",
      "[25,    10] loss: 0.012\n",
      "[26,    10] loss: 0.011\n",
      "[27,    10] loss: 0.010\n",
      "[28,    10] loss: 0.009\n",
      "[29,    10] loss: 0.009\n",
      "[30,    10] loss: 0.008\n",
      "[31,    10] loss: 0.008\n",
      "[32,    10] loss: 0.007\n",
      "[33,    10] loss: 0.006\n",
      "[34,    10] loss: 0.007\n",
      "[35,    10] loss: 0.007\n",
      "[36,    10] loss: 0.006\n",
      "[37,    10] loss: 0.006\n",
      "[38,    10] loss: 0.005\n",
      "[39,    10] loss: 0.005\n",
      "[40,    10] loss: 0.005\n",
      "[41,    10] loss: 0.005\n",
      "[42,    10] loss: 0.005\n",
      "[43,    10] loss: 0.005\n",
      "[44,    10] loss: 0.005\n",
      "[45,    10] loss: 0.004\n",
      "[46,    10] loss: 0.005\n",
      "[47,    10] loss: 0.005\n",
      "[48,    10] loss: 0.004\n",
      "[49,    10] loss: 0.004\n",
      "[50,    10] loss: 0.004\n",
      "[51,    10] loss: 0.004\n",
      "[52,    10] loss: 0.003\n",
      "[53,    10] loss: 0.003\n",
      "[54,    10] loss: 0.003\n",
      "[55,    10] loss: 0.003\n",
      "[56,    10] loss: 0.003\n",
      "[57,    10] loss: 0.003\n",
      "[58,    10] loss: 0.003\n",
      "[59,    10] loss: 0.003\n",
      "[60,    10] loss: 0.003\n",
      "[61,    10] loss: 0.003\n",
      "[62,    10] loss: 0.003\n",
      "[63,    10] loss: 0.004\n",
      "[64,    10] loss: 0.004\n",
      "[65,    10] loss: 0.004\n",
      "[66,    10] loss: 0.003\n",
      "[67,    10] loss: 0.003\n",
      "[68,    10] loss: 0.003\n",
      "[69,    10] loss: 0.003\n",
      "[70,    10] loss: 0.002\n",
      "[71,    10] loss: 0.002\n",
      "[72,    10] loss: 0.002\n",
      "[73,    10] loss: 0.002\n",
      "[74,    10] loss: 0.002\n",
      "[75,    10] loss: 0.002\n",
      "[76,    10] loss: 0.003\n",
      "[77,    10] loss: 0.003\n",
      "[78,    10] loss: 0.002\n",
      "[79,    10] loss: 0.002\n",
      "[80,    10] loss: 0.002\n",
      "[81,    10] loss: 0.002\n",
      "[82,    10] loss: 0.002\n",
      "[83,    10] loss: 0.002\n",
      "[84,    10] loss: 0.002\n",
      "[85,    10] loss: 0.002\n",
      "[86,    10] loss: 0.002\n",
      "[87,    10] loss: 0.002\n",
      "[88,    10] loss: 0.002\n",
      "[89,    10] loss: 0.002\n",
      "[90,    10] loss: 0.002\n",
      "[91,    10] loss: 0.002\n",
      "[92,    10] loss: 0.002\n",
      "[93,    10] loss: 0.003\n",
      "[94,    10] loss: 0.003\n",
      "[95,    10] loss: 0.003\n",
      "[96,    10] loss: 0.003\n",
      "[97,    10] loss: 0.002\n",
      "[98,    10] loss: 0.002\n",
      "[99,    10] loss: 0.002\n",
      "[100,    10] loss: 0.002\n",
      "[101,    10] loss: 0.002\n",
      "[102,    10] loss: 0.002\n",
      "[103,    10] loss: 0.001\n",
      "[104,    10] loss: 0.001\n",
      "[105,    10] loss: 0.001\n",
      "[106,    10] loss: 0.001\n",
      "[107,    10] loss: 0.001\n",
      "[108,    10] loss: 0.001\n",
      "[109,    10] loss: 0.001\n",
      "[110,    10] loss: 0.001\n",
      "[111,    10] loss: 0.001\n",
      "[112,    10] loss: 0.001\n",
      "[113,    10] loss: 0.001\n",
      "[114,    10] loss: 0.001\n",
      "[115,    10] loss: 0.001\n",
      "[116,    10] loss: 0.001\n",
      "[117,    10] loss: 0.001\n",
      "[118,    10] loss: 0.001\n",
      "[119,    10] loss: 0.001\n",
      "[120,    10] loss: 0.001\n",
      "[121,    10] loss: 0.001\n",
      "[122,    10] loss: 0.001\n",
      "[123,    10] loss: 0.001\n",
      "[124,    10] loss: 0.001\n",
      "[125,    10] loss: 0.001\n",
      "[126,    10] loss: 0.001\n",
      "[127,    10] loss: 0.001\n",
      "[128,    10] loss: 0.001\n",
      "[129,    10] loss: 0.001\n",
      "[130,    10] loss: 0.001\n",
      "[131,    10] loss: 0.001\n",
      "[132,    10] loss: 0.001\n",
      "[133,    10] loss: 0.001\n",
      "[134,    10] loss: 0.001\n",
      "[135,    10] loss: 0.001\n",
      "[136,    10] loss: 0.001\n",
      "[137,    10] loss: 0.002\n",
      "[138,    10] loss: 0.002\n",
      "[139,    10] loss: 0.001\n",
      "[140,    10] loss: 0.002\n",
      "[141,    10] loss: 0.002\n",
      "[142,    10] loss: 0.002\n",
      "[143,    10] loss: 0.002\n",
      "[144,    10] loss: 0.002\n",
      "[145,    10] loss: 0.002\n",
      "[146,    10] loss: 0.002\n",
      "[147,    10] loss: 0.002\n",
      "[148,    10] loss: 0.002\n",
      "[149,    10] loss: 0.002\n",
      "[150,    10] loss: 0.001\n",
      "[151,    10] loss: 0.001\n",
      "[152,    10] loss: 0.001\n",
      "[153,    10] loss: 0.002\n",
      "[154,    10] loss: 0.002\n",
      "[155,    10] loss: 0.002\n",
      "[156,    10] loss: 0.002\n",
      "[157,    10] loss: 0.002\n",
      "[158,    10] loss: 0.002\n",
      "[159,    10] loss: 0.001\n",
      "[160,    10] loss: 0.001\n",
      "[161,    10] loss: 0.001\n",
      "[162,    10] loss: 0.001\n",
      "[163,    10] loss: 0.001\n",
      "[164,    10] loss: 0.001\n",
      "[165,    10] loss: 0.001\n",
      "[166,    10] loss: 0.001\n",
      "[167,    10] loss: 0.001\n",
      "[168,    10] loss: 0.001\n",
      "[169,    10] loss: 0.001\n",
      "[170,    10] loss: 0.001\n",
      "[171,    10] loss: 0.001\n",
      "[172,    10] loss: 0.001\n",
      "[173,    10] loss: 0.001\n",
      "[174,    10] loss: 0.001\n",
      "[175,    10] loss: 0.001\n",
      "[176,    10] loss: 0.001\n",
      "[177,    10] loss: 0.001\n",
      "[178,    10] loss: 0.001\n",
      "[179,    10] loss: 0.001\n",
      "[180,    10] loss: 0.001\n",
      "[181,    10] loss: 0.001\n",
      "[182,    10] loss: 0.002\n",
      "[183,    10] loss: 0.001\n",
      "[184,    10] loss: 0.001\n",
      "[185,    10] loss: 0.001\n",
      "[186,    10] loss: 0.001\n",
      "[187,    10] loss: 0.001\n",
      "[188,    10] loss: 0.001\n",
      "[189,    10] loss: 0.001\n",
      "[190,    10] loss: 0.001\n",
      "[191,    10] loss: 0.001\n",
      "[192,    10] loss: 0.001\n",
      "[193,    10] loss: 0.001\n",
      "[194,    10] loss: 0.001\n",
      "[195,    10] loss: 0.001\n",
      "[196,    10] loss: 0.001\n",
      "[197,    10] loss: 0.001\n",
      "[198,    10] loss: 0.001\n",
      "[199,    10] loss: 0.001\n",
      "[200,    10] loss: 0.001\n",
      "[201,    10] loss: 0.001\n",
      "[202,    10] loss: 0.001\n",
      "[203,    10] loss: 0.002\n",
      "[204,    10] loss: 0.001\n",
      "[205,    10] loss: 0.001\n",
      "[206,    10] loss: 0.001\n",
      "[207,    10] loss: 0.001\n",
      "[208,    10] loss: 0.001\n",
      "[209,    10] loss: 0.001\n",
      "[210,    10] loss: 0.001\n",
      "[211,    10] loss: 0.001\n",
      "[212,    10] loss: 0.001\n",
      "[213,    10] loss: 0.001\n",
      "[214,    10] loss: 0.001\n",
      "[215,    10] loss: 0.001\n",
      "[216,    10] loss: 0.001\n",
      "[217,    10] loss: 0.001\n",
      "[218,    10] loss: 0.001\n",
      "[219,    10] loss: 0.001\n",
      "[220,    10] loss: 0.001\n",
      "[221,    10] loss: 0.001\n",
      "[222,    10] loss: 0.001\n",
      "[223,    10] loss: 0.001\n",
      "[224,    10] loss: 0.001\n",
      "[225,    10] loss: 0.001\n",
      "[226,    10] loss: 0.001\n",
      "[227,    10] loss: 0.001\n",
      "[228,    10] loss: 0.001\n",
      "[229,    10] loss: 0.001\n",
      "[230,    10] loss: 0.000\n",
      "[231,    10] loss: 0.001\n",
      "[232,    10] loss: 0.001\n",
      "[233,    10] loss: 0.001\n",
      "[234,    10] loss: 0.001\n",
      "[235,    10] loss: 0.001\n",
      "[236,    10] loss: 0.001\n",
      "[237,    10] loss: 0.001\n",
      "[238,    10] loss: 0.001\n",
      "[239,    10] loss: 0.001\n",
      "[240,    10] loss: 0.001\n",
      "[241,    10] loss: 0.001\n",
      "[242,    10] loss: 0.001\n",
      "[243,    10] loss: 0.001\n",
      "[244,    10] loss: 0.001\n",
      "[245,    10] loss: 0.001\n",
      "[246,    10] loss: 0.001\n",
      "[247,    10] loss: 0.001\n",
      "[248,    10] loss: 0.001\n",
      "[249,    10] loss: 0.002\n",
      "[250,    10] loss: 0.002\n",
      "[251,    10] loss: 0.002\n",
      "[252,    10] loss: 0.002\n",
      "[253,    10] loss: 0.002\n",
      "[254,    10] loss: 0.002\n",
      "[255,    10] loss: 0.002\n",
      "[256,    10] loss: 0.001\n",
      "[257,    10] loss: 0.001\n",
      "[258,    10] loss: 0.001\n",
      "[259,    10] loss: 0.001\n",
      "[260,    10] loss: 0.001\n",
      "[261,    10] loss: 0.001\n",
      "[262,    10] loss: 0.001\n",
      "[263,    10] loss: 0.001\n",
      "[264,    10] loss: 0.001\n",
      "[265,    10] loss: 0.001\n",
      "[266,    10] loss: 0.001\n",
      "[267,    10] loss: 0.001\n",
      "[268,    10] loss: 0.001\n",
      "[269,    10] loss: 0.001\n",
      "[270,    10] loss: 0.001\n",
      "[271,    10] loss: 0.000\n",
      "[272,    10] loss: 0.000\n",
      "[273,    10] loss: 0.000\n",
      "[274,    10] loss: 0.000\n",
      "[275,    10] loss: 0.000\n",
      "[276,    10] loss: 0.001\n",
      "[277,    10] loss: 0.001\n",
      "[278,    10] loss: 0.001\n",
      "[279,    10] loss: 0.001\n",
      "[280,    10] loss: 0.001\n",
      "[281,    10] loss: 0.002\n",
      "[282,    10] loss: 0.002\n",
      "[283,    10] loss: 0.002\n",
      "[284,    10] loss: 0.002\n",
      "[285,    10] loss: 0.001\n",
      "[286,    10] loss: 0.001\n",
      "[287,    10] loss: 0.002\n",
      "[288,    10] loss: 0.002\n",
      "[289,    10] loss: 0.001\n",
      "[290,    10] loss: 0.001\n",
      "[291,    10] loss: 0.001\n",
      "[292,    10] loss: 0.001\n",
      "[293,    10] loss: 0.001\n",
      "[294,    10] loss: 0.001\n",
      "[295,    10] loss: 0.001\n",
      "[296,    10] loss: 0.001\n",
      "[297,    10] loss: 0.001\n",
      "[298,    10] loss: 0.001\n",
      "[299,    10] loss: 0.001\n",
      "[300,    10] loss: 0.001\n",
      "[301,    10] loss: 0.001\n",
      "[302,    10] loss: 0.000\n",
      "[303,    10] loss: 0.000\n",
      "[304,    10] loss: 0.000\n",
      "[305,    10] loss: 0.000\n",
      "[306,    10] loss: 0.000\n",
      "[307,    10] loss: 0.000\n",
      "[308,    10] loss: 0.000\n",
      "[309,    10] loss: 0.001\n",
      "[310,    10] loss: 0.001\n",
      "[311,    10] loss: 0.001\n",
      "[312,    10] loss: 0.001\n",
      "[313,    10] loss: 0.000\n",
      "[314,    10] loss: 0.001\n",
      "[315,    10] loss: 0.001\n",
      "[316,    10] loss: 0.001\n",
      "[317,    10] loss: 0.000\n",
      "[318,    10] loss: 0.000\n",
      "[319,    10] loss: 0.000\n",
      "[320,    10] loss: 0.000\n",
      "[321,    10] loss: 0.000\n",
      "[322,    10] loss: 0.000\n",
      "[323,    10] loss: 0.000\n",
      "[324,    10] loss: 0.000\n",
      "[325,    10] loss: 0.001\n",
      "[326,    10] loss: 0.001\n",
      "[327,    10] loss: 0.001\n",
      "[328,    10] loss: 0.001\n",
      "[329,    10] loss: 0.001\n",
      "[330,    10] loss: 0.001\n",
      "[331,    10] loss: 0.001\n",
      "[332,    10] loss: 0.001\n",
      "[333,    10] loss: 0.001\n"
     ]
    },
    {
     "name": "stdout",
     "output_type": "stream",
     "text": [
      "[334,    10] loss: 0.001\n",
      "[335,    10] loss: 0.001\n",
      "[336,    10] loss: 0.001\n",
      "[337,    10] loss: 0.001\n",
      "[338,    10] loss: 0.001\n",
      "[339,    10] loss: 0.001\n",
      "[340,    10] loss: 0.001\n",
      "[341,    10] loss: 0.002\n",
      "[342,    10] loss: 0.002\n",
      "[343,    10] loss: 0.002\n",
      "[344,    10] loss: 0.002\n",
      "[345,    10] loss: 0.001\n",
      "[346,    10] loss: 0.001\n",
      "[347,    10] loss: 0.001\n",
      "[348,    10] loss: 0.001\n",
      "[349,    10] loss: 0.001\n",
      "[350,    10] loss: 0.001\n",
      "[351,    10] loss: 0.001\n",
      "[352,    10] loss: 0.001\n",
      "[353,    10] loss: 0.002\n",
      "[354,    10] loss: 0.001\n",
      "[355,    10] loss: 0.001\n",
      "[356,    10] loss: 0.001\n",
      "[357,    10] loss: 0.001\n",
      "[358,    10] loss: 0.001\n",
      "[359,    10] loss: 0.001\n",
      "[360,    10] loss: 0.001\n",
      "[361,    10] loss: 0.001\n",
      "[362,    10] loss: 0.001\n",
      "[363,    10] loss: 0.001\n",
      "[364,    10] loss: 0.001\n",
      "[365,    10] loss: 0.001\n",
      "[366,    10] loss: 0.000\n",
      "[367,    10] loss: 0.001\n",
      "[368,    10] loss: 0.000\n",
      "[369,    10] loss: 0.000\n",
      "[370,    10] loss: 0.000\n",
      "[371,    10] loss: 0.000\n",
      "[372,    10] loss: 0.000\n",
      "[373,    10] loss: 0.000\n",
      "[374,    10] loss: 0.000\n",
      "[375,    10] loss: 0.000\n",
      "[376,    10] loss: 0.000\n",
      "[377,    10] loss: 0.000\n",
      "[378,    10] loss: 0.000\n",
      "[379,    10] loss: 0.000\n",
      "[380,    10] loss: 0.000\n",
      "[381,    10] loss: 0.000\n",
      "[382,    10] loss: 0.000\n",
      "[383,    10] loss: 0.000\n",
      "[384,    10] loss: 0.000\n",
      "[385,    10] loss: 0.000\n",
      "[386,    10] loss: 0.000\n",
      "[387,    10] loss: 0.000\n",
      "[388,    10] loss: 0.000\n",
      "[389,    10] loss: 0.000\n",
      "[390,    10] loss: 0.000\n",
      "[391,    10] loss: 0.000\n",
      "[392,    10] loss: 0.000\n",
      "[393,    10] loss: 0.000\n",
      "[394,    10] loss: 0.000\n",
      "[395,    10] loss: 0.000\n",
      "[396,    10] loss: 0.000\n",
      "[397,    10] loss: 0.000\n",
      "[398,    10] loss: 0.000\n",
      "[399,    10] loss: 0.000\n",
      "[400,    10] loss: 0.000\n",
      "[401,    10] loss: 0.000\n",
      "[402,    10] loss: 0.000\n",
      "[403,    10] loss: 0.000\n",
      "[404,    10] loss: 0.000\n",
      "[405,    10] loss: 0.000\n",
      "[406,    10] loss: 0.000\n",
      "[407,    10] loss: 0.000\n",
      "[408,    10] loss: 0.000\n",
      "[409,    10] loss: 0.000\n",
      "[410,    10] loss: 0.000\n",
      "[411,    10] loss: 0.000\n",
      "[412,    10] loss: 0.000\n",
      "[413,    10] loss: 0.001\n",
      "[414,    10] loss: 0.000\n",
      "[415,    10] loss: 0.000\n",
      "[416,    10] loss: 0.000\n",
      "[417,    10] loss: 0.000\n",
      "[418,    10] loss: 0.000\n",
      "[419,    10] loss: 0.000\n",
      "[420,    10] loss: 0.000\n",
      "[421,    10] loss: 0.000\n",
      "[422,    10] loss: 0.000\n",
      "[423,    10] loss: 0.001\n",
      "[424,    10] loss: 0.001\n",
      "[425,    10] loss: 0.001\n",
      "[426,    10] loss: 0.000\n",
      "[427,    10] loss: 0.000\n",
      "[428,    10] loss: 0.000\n",
      "[429,    10] loss: 0.000\n",
      "[430,    10] loss: 0.000\n",
      "[431,    10] loss: 0.000\n",
      "[432,    10] loss: 0.000\n",
      "[433,    10] loss: 0.000\n",
      "[434,    10] loss: 0.000\n",
      "[435,    10] loss: 0.000\n",
      "[436,    10] loss: 0.000\n",
      "[437,    10] loss: 0.000\n",
      "[438,    10] loss: 0.000\n",
      "[439,    10] loss: 0.000\n",
      "[440,    10] loss: 0.000\n",
      "[441,    10] loss: 0.000\n",
      "[442,    10] loss: 0.000\n",
      "[443,    10] loss: 0.000\n",
      "[444,    10] loss: 0.000\n",
      "[445,    10] loss: 0.001\n",
      "[446,    10] loss: 0.001\n",
      "[447,    10] loss: 0.001\n",
      "[448,    10] loss: 0.001\n",
      "[449,    10] loss: 0.001\n",
      "[450,    10] loss: 0.001\n",
      "[451,    10] loss: 0.001\n",
      "[452,    10] loss: 0.001\n",
      "[453,    10] loss: 0.001\n",
      "[454,    10] loss: 0.002\n",
      "[455,    10] loss: 0.003\n",
      "[456,    10] loss: 0.003\n",
      "[457,    10] loss: 0.004\n",
      "[458,    10] loss: 0.003\n",
      "[459,    10] loss: 0.002\n",
      "[460,    10] loss: 0.002\n",
      "[461,    10] loss: 0.002\n",
      "[462,    10] loss: 0.001\n",
      "[463,    10] loss: 0.001\n",
      "[464,    10] loss: 0.001\n",
      "[465,    10] loss: 0.001\n",
      "[466,    10] loss: 0.001\n",
      "[467,    10] loss: 0.001\n",
      "[468,    10] loss: 0.001\n",
      "[469,    10] loss: 0.001\n",
      "[470,    10] loss: 0.001\n",
      "[471,    10] loss: 0.001\n",
      "[472,    10] loss: 0.001\n",
      "[473,    10] loss: 0.001\n",
      "[474,    10] loss: 0.001\n",
      "[475,    10] loss: 0.001\n",
      "[476,    10] loss: 0.001\n",
      "[477,    10] loss: 0.001\n",
      "[478,    10] loss: 0.000\n",
      "[479,    10] loss: 0.000\n",
      "[480,    10] loss: 0.001\n",
      "[481,    10] loss: 0.001\n",
      "[482,    10] loss: 0.000\n",
      "[483,    10] loss: 0.000\n",
      "[484,    10] loss: 0.000\n",
      "[485,    10] loss: 0.000\n",
      "[486,    10] loss: 0.000\n",
      "[487,    10] loss: 0.000\n",
      "[488,    10] loss: 0.000\n",
      "[489,    10] loss: 0.000\n",
      "[490,    10] loss: 0.000\n",
      "[491,    10] loss: 0.000\n",
      "[492,    10] loss: 0.000\n",
      "[493,    10] loss: 0.000\n",
      "[494,    10] loss: 0.000\n",
      "[495,    10] loss: 0.000\n",
      "[496,    10] loss: 0.000\n",
      "[497,    10] loss: 0.000\n",
      "[498,    10] loss: 0.000\n",
      "[499,    10] loss: 0.000\n",
      "[500,    10] loss: 0.000\n",
      "[501,    10] loss: 0.000\n",
      "[502,    10] loss: 0.000\n",
      "[503,    10] loss: 0.000\n",
      "[504,    10] loss: 0.000\n",
      "[505,    10] loss: 0.000\n",
      "[506,    10] loss: 0.000\n",
      "[507,    10] loss: 0.000\n",
      "[508,    10] loss: 0.000\n",
      "[509,    10] loss: 0.000\n",
      "[510,    10] loss: 0.000\n",
      "[511,    10] loss: 0.001\n",
      "[512,    10] loss: 0.001\n",
      "[513,    10] loss: 0.001\n",
      "[514,    10] loss: 0.001\n",
      "[515,    10] loss: 0.001\n",
      "[516,    10] loss: 0.001\n",
      "[517,    10] loss: 0.001\n",
      "[518,    10] loss: 0.001\n",
      "[519,    10] loss: 0.000\n",
      "[520,    10] loss: 0.000\n",
      "[521,    10] loss: 0.001\n",
      "[522,    10] loss: 0.001\n",
      "[523,    10] loss: 0.000\n",
      "[524,    10] loss: 0.000\n",
      "[525,    10] loss: 0.000\n",
      "[526,    10] loss: 0.000\n",
      "[527,    10] loss: 0.000\n",
      "[528,    10] loss: 0.000\n",
      "[529,    10] loss: 0.000\n",
      "[530,    10] loss: 0.000\n",
      "[531,    10] loss: 0.000\n",
      "[532,    10] loss: 0.000\n",
      "[533,    10] loss: 0.000\n",
      "[534,    10] loss: 0.001\n",
      "[535,    10] loss: 0.001\n",
      "[536,    10] loss: 0.001\n",
      "[537,    10] loss: 0.001\n",
      "[538,    10] loss: 0.000\n",
      "[539,    10] loss: 0.001\n",
      "[540,    10] loss: 0.001\n",
      "[541,    10] loss: 0.001\n",
      "[542,    10] loss: 0.001\n",
      "[543,    10] loss: 0.001\n",
      "[544,    10] loss: 0.001\n",
      "[545,    10] loss: 0.001\n",
      "[546,    10] loss: 0.000\n",
      "[547,    10] loss: 0.001\n",
      "[548,    10] loss: 0.000\n",
      "[549,    10] loss: 0.000\n",
      "[550,    10] loss: 0.000\n",
      "[551,    10] loss: 0.000\n",
      "[552,    10] loss: 0.000\n",
      "[553,    10] loss: 0.000\n",
      "[554,    10] loss: 0.000\n",
      "[555,    10] loss: 0.000\n",
      "[556,    10] loss: 0.000\n",
      "[557,    10] loss: 0.000\n",
      "[558,    10] loss: 0.000\n",
      "[559,    10] loss: 0.000\n",
      "[560,    10] loss: 0.000\n",
      "[561,    10] loss: 0.000\n",
      "[562,    10] loss: 0.000\n",
      "[563,    10] loss: 0.000\n",
      "[564,    10] loss: 0.000\n",
      "[565,    10] loss: 0.000\n",
      "[566,    10] loss: 0.000\n",
      "[567,    10] loss: 0.000\n",
      "[568,    10] loss: 0.000\n",
      "[569,    10] loss: 0.000\n",
      "[570,    10] loss: 0.000\n",
      "[571,    10] loss: 0.000\n",
      "[572,    10] loss: 0.000\n",
      "[573,    10] loss: 0.000\n",
      "[574,    10] loss: 0.000\n",
      "[575,    10] loss: 0.000\n",
      "[576,    10] loss: 0.000\n",
      "[577,    10] loss: 0.000\n",
      "[578,    10] loss: 0.000\n",
      "[579,    10] loss: 0.000\n",
      "[580,    10] loss: 0.000\n",
      "[581,    10] loss: 0.000\n",
      "[582,    10] loss: 0.000\n",
      "[583,    10] loss: 0.000\n",
      "[584,    10] loss: 0.000\n",
      "[585,    10] loss: 0.000\n",
      "[586,    10] loss: 0.000\n",
      "[587,    10] loss: 0.000\n",
      "[588,    10] loss: 0.000\n",
      "[589,    10] loss: 0.000\n",
      "[590,    10] loss: 0.000\n",
      "[591,    10] loss: 0.000\n",
      "[592,    10] loss: 0.000\n",
      "[593,    10] loss: 0.000\n",
      "[594,    10] loss: 0.000\n",
      "[595,    10] loss: 0.000\n",
      "[596,    10] loss: 0.000\n",
      "[597,    10] loss: 0.001\n",
      "[598,    10] loss: 0.001\n",
      "[599,    10] loss: 0.001\n",
      "[600,    10] loss: 0.001\n",
      "Finished Training\n"
     ]
    }
   ],
   "source": [
    "net.train()\n",
    "for epoch in range(600):   # 데이터셋을 수차례 반복합니다.\n",
    "    running_loss = 0.0\n",
    "    for i, data in enumerate(trainloader, 0):\n",
    "        # [inputs, labels]의 목록인 data로부터 입력을 받은 후;\n",
    "        inputs, labels = data[0].to(device), data[1].to(device)\n",
    "\n",
    "        # 변화도(Gradient) 매개변수를 0으로 만들고\n",
    "        optimizer.zero_grad()\n",
    "\n",
    "        # 순전파 + 역전파 + 최적화를 한 후\n",
    "        outputs = net(inputs)\n",
    "        loss = custom_FL_tensor(outputs, labels)\n",
    "        loss.backward()\n",
    "        optimizer.step()\n",
    "\n",
    "        # 통계를 출력합니다.\n",
    "        running_loss += loss.item()\n",
    "        if i % 10 == 9:    # print every 2000 mini-batches\n",
    "            print('[%d, %5d] loss: %.3f' %\n",
    "                  (epoch + 1, i + 1, running_loss / 10))\n",
    "            running_loss = 0.0\n",
    "\n",
    "print('Finished Training')"
   ]
  },
  {
   "cell_type": "code",
   "execution_count": 28,
   "metadata": {},
   "outputs": [
    {
     "name": "stdout",
     "output_type": "stream",
     "text": [
      "time : 1207.1063017845154\n"
     ]
    }
   ],
   "source": [
    "print(\"time :\", time.time() - start)  # 현재시각 - 시작시간 = 실행 시간"
   ]
  },
  {
   "cell_type": "code",
   "execution_count": 29,
   "metadata": {
    "id": "SYFO6TofWz-0"
   },
   "outputs": [],
   "source": [
    "# PATH = './fashion_net.pth'\n",
    "# torch.save(net.state_dict(), PATH)"
   ]
  },
  {
   "cell_type": "code",
   "execution_count": 30,
   "metadata": {
    "colab": {
     "base_uri": "https://localhost:8080/"
    },
    "id": "xi8HjximWz5-",
    "outputId": "688f3e8e-f55b-4d0d-b51c-d29a5e2c8c53"
   },
   "outputs": [
    {
     "name": "stdout",
     "output_type": "stream",
     "text": [
      "GroundTruth:   frog  frog  ship  ship horse  frog   car   dog  ship  bird   cat  bird truck  ship  ship  bird plane truck  bird  bird   car horse  frog  deer   dog horse  deer plane   car   dog  bird  bird plane horse  ship   car plane plane   car  bird  deer plane   cat horse   dog   dog truck plane plane  frog  bird  frog  ship plane  deer  frog  frog plane   dog  deer   dog  frog   cat  ship\n"
     ]
    }
   ],
   "source": [
    "dataiter = iter(testloader)\n",
    "images, labels = dataiter.next()\n",
    "images = images.to(device)\n",
    "labels = labels.to(device)\n",
    "# 이미지를 출력합니다.\n",
    "# imshow(torchvision.utils.make_grid(images))\n",
    "print('GroundTruth: ', ' '.join('%5s' % classes[labels[j]] for j in range(64)))"
   ]
  },
  {
   "cell_type": "code",
   "execution_count": 31,
   "metadata": {
    "id": "eAQ14i67Xzdk"
   },
   "outputs": [],
   "source": [
    "# net = Net()\n",
    "# net.to(device)\n",
    "# net.load_state_dict(torch.load(PATH))"
   ]
  },
  {
   "cell_type": "code",
   "execution_count": 32,
   "metadata": {
    "id": "xW5s_VvOX2Kr"
   },
   "outputs": [],
   "source": [
    "net.train()\n",
    "outputs = net(images)"
   ]
  },
  {
   "cell_type": "code",
   "execution_count": 33,
   "metadata": {
    "colab": {
     "base_uri": "https://localhost:8080/"
    },
    "id": "-EUVmr_-X2IL",
    "outputId": "07dd4599-2c71-46e0-f132-e1f09e678af2"
   },
   "outputs": [
    {
     "name": "stdout",
     "output_type": "stream",
     "text": [
      "Predicted:    dog   cat   car   dog horse   dog   car   dog truck   cat horse   dog   car   car truck truck truck truck horse horse   car horse   cat   dog   dog   dog horse plane truck   dog   cat horse truck horse truck   car truck truck   car   dog horse horse   cat horse   dog   dog truck truck truck   cat   cat  frog   cat truck horse   cat horse truck   dog horse   dog truck   cat   car truck   cat   car   dog horse   dog truck truck   cat   cat truck truck   dog   cat   cat horse horse   dog   cat horse   car horse   dog truck   cat truck horse   cat   cat   car   car   car   cat   cat   dog plane   dog   dog   car   cat truck   cat   dog horse   cat   dog   cat   dog   dog   car   car truck   dog horse horse   car   car   dog truck   car   cat   dog horse   dog truck truck   dog   car   car   cat   cat   cat   dog truck   car   cat truck   cat   dog   cat   dog   car   dog   cat   car horse truck truck   car horse   car   dog   cat   dog   dog   cat   dog   dog truck   car   dog   cat   dog horse   cat   car truck   dog plane   dog horse   car   dog   car   car   dog   cat   car   car   dog horse   cat   car   car plane horse   dog truck truck   car   cat horse   cat horse   dog   cat horse horse  deer   cat   cat   dog truck truck   cat   car truck   dog horse   car   car   cat horse   cat truck   car   dog   dog   dog horse   dog   car   car truck   cat truck horse   cat   dog   cat truck truck   car horse   cat truck horse horse   dog truck   dog   cat   dog truck horse   car   cat   dog   cat   car   cat   car   dog   dog   cat   dog   dog horse   cat   dog truck   cat   dog   cat   car truck   dog   car   car truck   car   cat   dog   cat   car   car truck   dog   dog   dog   cat truck   cat horse truck   cat   cat   dog horse plane   cat   dog horse truck   cat truck horse truck   cat   dog   cat   dog truck   cat truck   dog horse   cat   dog horse   cat horse   dog   car horse   car   cat truck   car   cat   dog   dog horse  frog   cat   car   dog truck   car   car   car   cat truck horse truck   cat   dog truck truck  frog   cat   dog   dog truck horse horse   car truck   dog   dog truck  deer truck   dog   dog   cat   dog   car   dog   dog   car horse truck   dog   car plane   cat   dog truck   dog horse   dog truck   dog   cat   cat   dog   dog   dog   dog horse   dog   dog   cat   car   dog   dog   cat   car   cat   cat   car horse truck   cat   dog truck   dog horse   dog   car   dog truck   car horse truck horse horse horse   dog   dog horse horse   cat   dog horse horse   car   dog   dog   car truck   car   dog horse   cat horse truck   car   dog   car   cat   dog horse   cat truck truck truck truck   cat truck   cat   cat   dog horse   dog   dog   dog   car   cat   car horse   dog   dog horse   dog   cat horse   cat   car   cat horse horse   dog   cat   dog   dog   car   cat   dog   dog   dog   dog truck   dog horse horse   cat   car   cat   cat horse   cat   dog   dog   dog horse   cat   cat   car   cat   cat   car   dog truck   car   dog horse   dog   dog   car   car truck horse   car truck   car   cat   cat   cat truck   dog   cat horse   dog   cat horse   cat horse   cat truck   car   dog   dog truck  frog plane   car horse   cat horse truck   dog truck horse horse truck horse   car   cat   cat  deer horse   car   cat   dog truck   car   car   car   cat   dog   car   car horse   cat   dog   car   dog horse   dog   car truck   car horse   dog   cat   dog   cat   car truck truck   dog   cat   cat   car horse   car truck truck horse   cat   dog truck   car   cat horse   car   cat horse   cat   cat   dog horse   car truck truck truck   car horse horse   dog   car   cat truck truck   car horse   dog   dog   dog   car   cat   dog truck   dog truck   dog horse truck   cat horse   cat   dog   dog   dog truck horse plane   dog   cat   dog   car   dog plane truck   car   car truck truck truck   cat   dog truck   dog   car horse   dog   cat horse   car   cat horse   dog   cat   cat   cat truck   dog horse   cat   dog   cat horse   cat truck   dog   dog   cat horse horse   cat   dog   dog   car truck horse truck truck   dog   car   car   dog truck   car   cat truck horse   car   cat truck   car   dog horse   cat horse   dog   cat   cat   dog truck   dog truck   car truck horse horse   cat   cat   cat truck truck   cat truck   cat   cat   car   car   cat   dog truck horse   dog   cat   cat   cat   car   car   dog   cat   car   cat truck   cat   car   cat   cat truck   dog truck   car   dog truck   dog   car   dog   car   cat   dog   dog horse horse horse truck truck   car   cat   dog horse truck horse   dog   cat   dog truck truck truck   car   cat   car   cat   cat truck   dog   cat   car   cat   cat   dog   cat horse   dog horse   cat   dog   dog   dog   dog horse   car   dog plane   cat horse   car   dog horse horse   dog   car truck truck horse   cat horse truck   dog   car plane horse   car horse horse   cat truck horse truck horse truck   car   dog   dog truck truck horse horse   dog   cat   cat   dog horse   dog   dog   cat truck truck   dog horse   dog plane   dog   dog   dog truck truck plane   dog truck truck horse   car horse truck   car horse   car truck   cat horse   cat   cat   dog truck truck   dog   dog truck   dog truck   cat   dog   cat   cat   car   cat   dog horse   dog truck truck   dog truck   car   car horse horse horse horse   car horse   car   car horse horse   car   car truck   cat horse   dog horse  frog   dog truck horse   dog   car truck   dog   dog   car   cat   car   dog horse truck   car   dog   dog   cat   dog   cat   car truck horse   car truck   cat   dog truck truck truck   cat horse   car truck horse   car   cat   cat   cat truck horse truck horse truck   car   dog  frog   car   dog   dog truck   dog   car horse   dog truck   cat horse   dog   dog truck horse   dog truck   dog   cat truck   cat   cat   dog   dog horse   car   cat   car   car truck   cat horse   car truck truck   dog   car   dog truck truck horse   cat   cat   dog horse   dog horse   dog   cat horse   dog horse truck   car truck   cat   car horse   dog   cat horse truck   cat   cat   car   car truck   cat horse truck   dog truck   car   cat   dog   cat   cat   car   dog   dog   dog horse horse horse horse   car plane truck  frog   dog  frog   car truck   dog   dog   car horse horse horse   car   car truck   car truck   car   cat   cat   cat horse truck   cat truck   cat truck   car truck horse   dog   cat horse horse truck truck   dog truck   car   dog   cat   cat truck horse   cat plane horse   car truck   cat truck   cat   cat   car   car   car   cat  bird   car   cat   dog   dog truck   cat   dog   car   car truck   cat   car truck   cat  frog   dog horse truck   cat truck   car truck truck   dog   cat   dog   dog truck   cat   cat horse   dog   cat horse horse   cat truck   cat horse truck   car truck   cat horse horse horse   cat truck horse   dog horse   cat  frog   dog truck   car   dog truck   dog   cat   cat   cat   cat  bird   cat   dog   cat horse truck   cat   dog   dog   cat truck horse horse horse horse   car   cat   cat   cat truck   car   dog   dog horse   dog horse   car truck truck   car   cat   car   cat   car   cat   car   car   dog   dog   dog horse horse truck   dog   dog   dog   car   car   car   dog truck horse truck plane truck horse horse   car   cat   dog   dog   cat   cat   dog   cat truck horse   dog   cat plane truck truck   cat horse   car   car   dog   dog   dog horse   car   car   car   dog truck   dog   car horse   car   dog   dog truck horse   car  frog   car   dog   dog truck   dog truck truck truck horse truck   dog   cat   car   car   dog   cat   cat horse   cat   dog   dog   cat   dog   dog truck   cat  deer plane   dog horse   dog   dog   dog truck   cat   cat truck   car  bird   cat   cat   cat   car   car   cat   dog   dog   car   car   cat   car horse horse truck   car horse   dog truck   dog   dog horse   dog   dog horse truck   cat   car   car horse   car   cat horse   car   dog horse   cat   car   car   dog   cat   cat   cat horse  frog   dog truck   dog   dog   cat   car   cat   cat   dog horse truck   dog truck   dog   cat   dog   cat   cat truck   cat   dog horse   cat truck   dog   cat   dog   car   cat horse truck   dog horse   dog   car   cat   cat   dog truck   cat   car   cat   cat   car   cat horse truck   dog horse   car plane   cat   dog   cat   cat   cat   car truck truck truck   dog   car truck truck   car truck   car horse   car   cat truck   car horse   cat horse   dog truck   cat   dog truck   car   car   cat truck   dog   dog   dog   dog   cat   car horse plane   car truck   dog   dog   dog   cat truck truck truck   dog horse horse truck   cat truck   car horse   cat   car truck truck   cat   dog   car   cat   cat horse   cat   dog   cat horse   car horse horse truck   cat   car horse horse truck  ship   cat   car   dog truck   cat   car horse   dog   cat   dog   cat truck truck truck   cat   cat truck horse horse   car   dog truck horse   dog   car truck   cat   cat horse horse   car   dog horse   car   dog horse   car truck   cat truck   cat   cat   dog   cat   dog   dog   dog horse   dog horse truck   cat   dog horse   dog truck truck   car truck truck   dog   dog truck   cat   car horse   car   cat   dog   car truck   dog   cat truck   cat truck   cat horse   dog horse horse   cat   dog   car   car truck   car   dog   dog   cat horse horse truck  deer truck   dog horse truck horse truck   cat   car horse   cat   dog   car horse   dog horse   dog   car   cat   dog horse   dog   car truck truck   car truck horse horse truck truck truck truck   dog   cat   dog   cat truck   dog   cat   cat   dog horse   cat   cat truck   dog horse truck   dog horse   dog   dog horse horse   car plane truck   dog   car plane horse   car horse   dog   cat truck horse   cat   dog   cat   dog truck   car   cat horse truck   car truck   car horse   car   car plane truck   dog truck   cat truck   dog horse   car horse   cat truck   dog   dog   dog truck   dog   dog truck   dog truck   car   car   car   cat horse   cat truck   car horse   car   cat   cat   dog   dog truck truck truck   cat horse   car   cat   car horse horse truck   dog truck   cat   cat horse horse   dog   car   cat  frog   car   dog   dog horse horse   car   dog   cat   dog   cat   dog   cat horse   car horse   dog truck horse   cat   car   dog   dog horse   cat   cat   dog truck truck truck   cat   dog   dog truck   dog   dog   cat  frog truck truck   dog truck truck horse   dog truck   dog horse   car horse truck   cat   dog   car   dog   dog   dog   dog   dog   dog truck   dog horse   car  deer horse   car   car   dog horse horse   cat   dog   cat   cat   car horse   cat horse   cat   cat   dog truck   cat   cat horse truck   dog   dog horse   car   cat truck truck truck   car truck truck   car   cat   car   car   dog truck   dog   car   car   car   cat   dog horse truck   dog   dog   cat   cat horse truck   dog   dog   cat   cat   cat   dog   dog truck truck   car   dog   car horse truck   dog   cat   car   cat truck   car truck truck   cat   cat horse   cat horse   cat truck plane horse truck truck   cat truck   car   cat  deer   dog truck   car   cat   cat   dog   dog truck truck   car   car   car   dog   cat   cat truck   dog horse   dog   cat   dog   car truck horse   dog   cat horse   car   car truck   dog   dog truck   car   car truck   dog   dog   dog   dog truck truck truck   cat   car   dog horse truck   cat   cat   car horse   dog horse horse horse horse horse   dog truck   car   cat   dog   dog horse   cat   dog   car   dog   dog plane truck   car   cat   dog horse   dog horse   dog horse   cat   dog   car horse horse   dog   car truck   dog horse   cat horse   dog   dog truck horse   cat   cat   dog truck truck   dog horse horse truck   cat horse horse horse   car horse   cat truck truck   dog   dog truck truck   cat   cat   cat truck   cat   dog   cat   cat   cat   cat horse   cat   car   dog   cat truck   cat   car truck horse   dog   dog   dog   car horse truck   car   cat   car truck   dog   cat truck   car   car   dog truck truck   cat   dog truck truck   car   dog   car horse   car   cat  frog horse   car   cat   dog truck horse   car horse   cat truck horse truck   dog truck truck   dog horse   dog horse horse   cat\n"
     ]
    }
   ],
   "source": [
    "_, predicted = torch.max(outputs, 1)\n",
    "\n",
    "print('Predicted: ', ' '.join('%5s' % classes[predicted[j]]\n",
    "                              for j in range(batch_size)))"
   ]
  },
  {
   "cell_type": "code",
   "execution_count": 34,
   "metadata": {
    "colab": {
     "base_uri": "https://localhost:8080/"
    },
    "id": "_fKdJHWbX2DR",
    "outputId": "038c26f6-4ab3-4954-c104-504a9fdd2d05"
   },
   "outputs": [
    {
     "name": "stdout",
     "output_type": "stream",
     "text": [
      "Accuracy of the network on the 10000 test images: 43 %\n"
     ]
    }
   ],
   "source": [
    "net.eval()\n",
    "correct = 0\n",
    "total = 0\n",
    "# 학습 중이 아니므로, 출력에 대한 변화도를 계산할 필요가 없습니다\n",
    "with torch.no_grad():\n",
    "    for data in testloader:\n",
    "        images, labels = data[0].to(device), data[1].to(device)\n",
    "\n",
    "        # 신경망에 이미지를 통과시켜 출력을 계산합니다\n",
    "        outputs = net(images)\n",
    "        # 가장 높은 값(energy)를 갖는 분류(class)를 정답으로 선택하겠습니다\n",
    "        _, predicted = torch.max(outputs.data, 1)\n",
    "        total += labels.size(0)\n",
    "        correct += (predicted == labels).sum().item()\n",
    "\n",
    "print('Accuracy of the network on the 10000 test images: %d %%' % (\n",
    "    100 * correct / total))"
   ]
  },
  {
   "cell_type": "code",
   "execution_count": 35,
   "metadata": {
    "colab": {
     "base_uri": "https://localhost:8080/"
    },
    "id": "zSiYXtBCYEJx",
    "outputId": "26710488-3eac-49fe-defb-67c03011007c"
   },
   "outputs": [
    {
     "name": "stdout",
     "output_type": "stream",
     "text": [
      "Accuracy for class plane is: 17.7 %\n",
      "Accuracy for class car   is: 84.9 %\n",
      "Accuracy for class bird  is: 2.1 %\n",
      "Accuracy for class cat   is: 67.7 %\n",
      "Accuracy for class deer  is: 3.6 %\n",
      "Accuracy for class dog   is: 70.8 %\n",
      "Accuracy for class frog  is: 10.9 %\n",
      "Accuracy for class horse is: 80.9 %\n",
      "Accuracy for class ship  is: 8.2 %\n",
      "Accuracy for class truck is: 90.4 %\n"
     ]
    }
   ],
   "source": [
    "# 각 분류(class)에 대한 예측값 계산을 위해 준비\n",
    "correct_pred = {classname: 0 for classname in classes}\n",
    "total_pred = {classname: 0 for classname in classes}\n",
    "\n",
    "# 변화도는 여전히 필요하지 않습니다\n",
    "with torch.no_grad():\n",
    "    for data in testloader:\n",
    "        images, labels = data[0].to(device), data[1].to(device)\n",
    "        outputs = net(images)\n",
    "        _, predictions = torch.max(outputs, 1)\n",
    "        # 각 분류별로 올바른 예측 수를 모읍니다\n",
    "        for label, prediction in zip(labels, predictions):\n",
    "            if label == prediction:\n",
    "                correct_pred[classes[label]] += 1\n",
    "            total_pred[classes[label]] += 1\n",
    "\n",
    "\n",
    "# 각 분류별 정확도(accuracy)를 출력합니다\n",
    "for classname, correct_count in correct_pred.items():\n",
    "    accuracy = 100 * float(correct_count) / total_pred[classname]\n",
    "    print(\"Accuracy for class {:5s} is: {:.1f} %\".format(classname,\n",
    "                                                   accuracy))"
   ]
  },
  {
   "cell_type": "code",
   "execution_count": 36,
   "metadata": {
    "id": "0UorzWjiYEG7"
   },
   "outputs": [
    {
     "name": "stdout",
     "output_type": "stream",
     "text": [
      "cat\n",
      "horse\n",
      "bird\n",
      "truck\n",
      "deer\n",
      "cat\n",
      "horse\n",
      "deer\n",
      "deer\n",
      "bird\n"
     ]
    }
   ],
   "source": [
    "for i in range(10):\n",
    "    print(classes[labels[i]])"
   ]
  },
  {
   "cell_type": "code",
   "execution_count": null,
   "metadata": {},
   "outputs": [],
   "source": []
  }
 ],
 "metadata": {
  "accelerator": "GPU",
  "colab": {
   "authorship_tag": "ABX9TyOJSwc78vQi4Iw7xpvGyCs6",
   "include_colab_link": true,
   "name": "Project 0. pytorch tutorial_jaewook.ipynb",
   "provenance": []
  },
  "kernelspec": {
   "display_name": "Environment (conda_pytorch_p36)",
   "language": "python",
   "name": "conda_pytorch_p36"
  },
  "language_info": {
   "codemirror_mode": {
    "name": "ipython",
    "version": 3
   },
   "file_extension": ".py",
   "mimetype": "text/x-python",
   "name": "python",
   "nbconvert_exporter": "python",
   "pygments_lexer": "ipython3",
   "version": "3.6.5"
  }
 },
 "nbformat": 4,
 "nbformat_minor": 1
}
