{
 "cells": [
  {
   "cell_type": "markdown",
   "metadata": {
    "id": "8M3eOnh39bfO"
   },
   "source": [
    "1. torchvision을 사용하여 CIFAR10의 학습용 데이터, 시험용 데이터 불러오기, 정규화\n",
    "2. 합성곱 신경망 정의\n",
    "3. 손실 함수 정의\n",
    "4. 학습용 데이터를 사용하여 신경망 학습\n",
    "5. 시험용 데이터를 사용하여 신경망 검사"
   ]
  },
  {
   "cell_type": "code",
   "execution_count": 1,
   "metadata": {
    "id": "uXuITn8289eq"
   },
   "outputs": [],
   "source": [
    "#결과 inline에 출력\n",
    "%matplotlib inline"
   ]
  },
  {
   "cell_type": "code",
   "execution_count": 2,
   "metadata": {
    "id": "FEH4NGb6-KeH"
   },
   "outputs": [],
   "source": [
    "import torch\n",
    "import torchvision\n",
    "from torchvision.datasets import CIFAR10\n",
    "import torchvision.transforms as transforms\n",
    "import collections\n",
    "from sklearn import datasets\n",
    "from imblearn import under_sampling\n",
    "from typing import Any, Callable, Dict, List, Optional, Tuple\n",
    "import os\n",
    "import numpy as np"
   ]
  },
  {
   "cell_type": "code",
   "execution_count": 3,
   "metadata": {
    "id": "WbDcVbDtYQxy"
   },
   "outputs": [],
   "source": [
    "device = torch.device(\"cuda:0\" if torch.cuda.is_available() else \"cpu\")"
   ]
  },
  {
   "cell_type": "code",
   "execution_count": 4,
   "metadata": {},
   "outputs": [
    {
     "name": "stdout",
     "output_type": "stream",
     "text": [
      "2\n"
     ]
    }
   ],
   "source": [
    "print(torch.cuda.device_count())"
   ]
  },
  {
   "cell_type": "code",
   "execution_count": 5,
   "metadata": {
    "scrolled": true
   },
   "outputs": [
    {
     "name": "stdout",
     "output_type": "stream",
     "text": [
      "1.7.1+cu101\n"
     ]
    }
   ],
   "source": [
    "print(torch.__version__)"
   ]
  },
  {
   "cell_type": "code",
   "execution_count": 6,
   "metadata": {},
   "outputs": [
    {
     "name": "stdout",
     "output_type": "stream",
     "text": [
      "0.8.2+cu101\n"
     ]
    }
   ],
   "source": [
    "print(torchvision.__version__)"
   ]
  },
  {
   "cell_type": "code",
   "execution_count": 7,
   "metadata": {
    "colab": {
     "base_uri": "https://localhost:8080/"
    },
    "id": "qwxpmJonGrsb",
    "outputId": "0fab87ba-52f8-4d2a-88bf-81fec7f02dc4"
   },
   "outputs": [
    {
     "name": "stdout",
     "output_type": "stream",
     "text": [
      "Files already downloaded and verified\n",
      "Files already downloaded and verified\n"
     ]
    }
   ],
   "source": [
    "transform = transforms.Compose(\n",
    "    [transforms.ToTensor(),\n",
    "     transforms.Normalize((0.5,), (0.5,))])\n",
    "\n",
    "batch_size = 2048\n",
    "\n",
    "trainset = torchvision.datasets.CIFAR10(root='./data', train=True,\n",
    "                                        download=True, transform=transform)\n",
    "trainloader = torch.utils.data.DataLoader(trainset, batch_size=batch_size,\n",
    "                                          shuffle=True, num_workers= 8 ,pin_memory= True)\n",
    "\n",
    "testset = torchvision.datasets.CIFAR10(root='./data', train=False,\n",
    "                                       download=True, transform=transform)\n",
    "testloader = torch.utils.data.DataLoader(testset, batch_size=batch_size,\n",
    "                                         shuffle=False, num_workers=8, pin_memory= True)\n",
    "\n",
    "classes = ('plane', 'car', 'bird', 'cat',\n",
    "           'deer', 'dog', 'frog', 'horse', 'ship', 'truck')"
   ]
  },
  {
   "cell_type": "code",
   "execution_count": 8,
   "metadata": {},
   "outputs": [
    {
     "data": {
      "text/plain": [
       "numpy.ndarray"
      ]
     },
     "execution_count": 8,
     "metadata": {},
     "output_type": "execute_result"
    }
   ],
   "source": [
    "type(trainset.data)"
   ]
  },
  {
   "cell_type": "code",
   "execution_count": 9,
   "metadata": {},
   "outputs": [
    {
     "data": {
      "text/plain": [
       "(50000, 32, 32, 3)"
      ]
     },
     "execution_count": 9,
     "metadata": {},
     "output_type": "execute_result"
    }
   ],
   "source": [
    "trainset.data.shape"
   ]
  },
  {
   "cell_type": "code",
   "execution_count": 10,
   "metadata": {},
   "outputs": [
    {
     "data": {
      "text/plain": [
       "array([[ 59,  62,  63],\n",
       "       [ 43,  46,  45],\n",
       "       [ 50,  48,  43],\n",
       "       [ 68,  54,  42],\n",
       "       [ 98,  73,  52],\n",
       "       [119,  91,  63],\n",
       "       [139, 107,  75],\n",
       "       [145, 110,  80],\n",
       "       [149, 117,  89],\n",
       "       [149, 120,  93],\n",
       "       [131, 103,  77],\n",
       "       [125,  99,  76],\n",
       "       [142, 115,  91],\n",
       "       [144, 112,  86],\n",
       "       [137, 105,  79],\n",
       "       [129,  97,  71],\n",
       "       [137, 106,  79],\n",
       "       [134, 106,  76],\n",
       "       [124,  97,  64],\n",
       "       [139, 113,  78],\n",
       "       [139, 112,  75],\n",
       "       [133, 105,  69],\n",
       "       [136, 105,  74],\n",
       "       [139, 108,  77],\n",
       "       [152, 120,  89],\n",
       "       [163, 131, 100],\n",
       "       [168, 136, 108],\n",
       "       [159, 129, 102],\n",
       "       [158, 130, 104],\n",
       "       [158, 132, 108],\n",
       "       [152, 125, 102],\n",
       "       [148, 124, 103]], dtype=uint8)"
      ]
     },
     "execution_count": 10,
     "metadata": {},
     "output_type": "execute_result"
    }
   ],
   "source": [
    "trainset.data[0][0]"
   ]
  },
  {
   "cell_type": "code",
   "execution_count": 11,
   "metadata": {},
   "outputs": [
    {
     "data": {
      "text/plain": [
       "list"
      ]
     },
     "execution_count": 11,
     "metadata": {},
     "output_type": "execute_result"
    }
   ],
   "source": [
    "type(trainset.targets)"
   ]
  },
  {
   "cell_type": "code",
   "execution_count": 12,
   "metadata": {},
   "outputs": [
    {
     "name": "stdout",
     "output_type": "stream",
     "text": [
      "Original dataset shape Counter({6: 5000, 9: 5000, 4: 5000, 1: 5000, 2: 5000, 7: 5000, 8: 5000, 3: 5000, 5: 5000, 0: 5000})\n"
     ]
    }
   ],
   "source": [
    "print('Original dataset shape %s' % collections.Counter(trainset.targets))\n"
   ]
  },
  {
   "cell_type": "code",
   "execution_count": 13,
   "metadata": {},
   "outputs": [],
   "source": [
    "class unbalance_CIFAR10(CIFAR10):\n",
    "     def __init__(\n",
    "            self,\n",
    "            root: str,\n",
    "            train: bool = True,\n",
    "            transform: Optional[Callable] = None,\n",
    "            target_transform: Optional[Callable] = None,\n",
    "            download: bool = False,\n",
    "    ) -> None:\n",
    "        super(unbalance_CIFAR10, self).__init__(root, transform=transform,\n",
    "                                    target_transform=target_transform)\n",
    "        \n",
    "\n",
    "     \n",
    "        rus = under_sampling.RandomUnderSampler(\n",
    "            sampling_strategy={\n",
    "                0: 500,\n",
    "                1: 5000,\n",
    "                2: 500,\n",
    "                3: 5000,\n",
    "                4: 500,\n",
    "                5: 5000,\n",
    "                6: 500,\n",
    "                7: 5000,\n",
    "                8: 500,\n",
    "                9: 5000\n",
    "                \n",
    "            },\n",
    "            random_state=42\n",
    "        )\n",
    "        self.data, self.targets = rus.fit_resample(np.array(self.data).reshape(50000,32*32*3), np.array(self.targets))\n",
    "#         self.data, self.targets = torch.Tensor(self.data.reshape(-1,32,32,3)).to(dtype=torch.uint8), torch.Tensor(self.targets).to(dtype=torch.uint8)\n",
    "        self.data, self.targets = self.data.reshape(-1,32,32,3), self.targets\n",
    "\n"
   ]
  },
  {
   "cell_type": "code",
   "execution_count": 14,
   "metadata": {},
   "outputs": [
    {
     "name": "stdout",
     "output_type": "stream",
     "text": [
      "Files already downloaded and verified\n"
     ]
    }
   ],
   "source": [
    "transform = transforms.Compose(\n",
    "    [transforms.ToTensor(),\n",
    "     transforms.Normalize((0.5,), (0.5,))])\n",
    "\n",
    "batch_size = 2048\n",
    "\n",
    "trainset = unbalance_CIFAR10(root='./data', train=True,\n",
    "                                        download=True, transform=transform)\n",
    "\n",
    "trainloader = torch.utils.data.DataLoader(trainset, batch_size=batch_size,\n",
    "                                          shuffle=True, num_workers= 8 ,pin_memory= True)\n",
    "\n",
    "testset = torchvision.datasets.CIFAR10(root='./data', train=False,\n",
    "                                       download=True, transform=transform)\n",
    "testloader = torch.utils.data.DataLoader(testset, batch_size=batch_size,\n",
    "                                         shuffle=True, num_workers=8, pin_memory= True)\n",
    "\n",
    "classes = ('plane', 'car', 'bird', 'cat',\n",
    "           'deer', 'dog', 'frog', 'horse', 'ship', 'truck')"
   ]
  },
  {
   "cell_type": "code",
   "execution_count": 15,
   "metadata": {},
   "outputs": [
    {
     "name": "stdout",
     "output_type": "stream",
     "text": [
      "reshape dataset shape Counter({1: 5000, 3: 5000, 5: 5000, 7: 5000, 9: 5000, 0: 500, 2: 500, 4: 500, 6: 500, 8: 500})\n"
     ]
    }
   ],
   "source": [
    "print('reshape dataset shape %s' % collections.Counter(trainset.targets.tolist()))"
   ]
  },
  {
   "cell_type": "code",
   "execution_count": 16,
   "metadata": {},
   "outputs": [
    {
     "data": {
      "text/plain": [
       "numpy.ndarray"
      ]
     },
     "execution_count": 16,
     "metadata": {},
     "output_type": "execute_result"
    }
   ],
   "source": [
    "type(trainset.data)"
   ]
  },
  {
   "cell_type": "code",
   "execution_count": 17,
   "metadata": {},
   "outputs": [
    {
     "data": {
      "text/plain": [
       "numpy.ndarray"
      ]
     },
     "execution_count": 17,
     "metadata": {},
     "output_type": "execute_result"
    }
   ],
   "source": [
    "type(testset.data)"
   ]
  },
  {
   "cell_type": "code",
   "execution_count": 18,
   "metadata": {},
   "outputs": [
    {
     "data": {
      "text/plain": [
       "(27500, 32, 32, 3)"
      ]
     },
     "execution_count": 18,
     "metadata": {},
     "output_type": "execute_result"
    }
   ],
   "source": [
    "trainset.data.shape"
   ]
  },
  {
   "cell_type": "code",
   "execution_count": 19,
   "metadata": {},
   "outputs": [
    {
     "data": {
      "text/plain": [
       "numpy.ndarray"
      ]
     },
     "execution_count": 19,
     "metadata": {},
     "output_type": "execute_result"
    }
   ],
   "source": [
    "type(trainset.targets)"
   ]
  },
  {
   "cell_type": "code",
   "execution_count": 20,
   "metadata": {},
   "outputs": [
    {
     "data": {
      "text/plain": [
       "27500"
      ]
     },
     "execution_count": 20,
     "metadata": {},
     "output_type": "execute_result"
    }
   ],
   "source": [
    "len(trainset.data)"
   ]
  },
  {
   "cell_type": "code",
   "execution_count": 21,
   "metadata": {
    "colab": {
     "base_uri": "https://localhost:8080/",
     "height": 307
    },
    "id": "rgQfhxpXJZ5f",
    "outputId": "859af676-6ece-430a-a4ff-0b0346bd5bc7"
   },
   "outputs": [
    {
     "name": "stdout",
     "output_type": "stream",
     "text": [
      "<torch.utils.data.dataloader._MultiProcessingDataLoaderIter object at 0x7f0cdec7c160>\n"
     ]
    },
    {
     "data": {
      "image/png": "[encoded data removed]",
      "text/plain": [
       "<Figure size 432x288 with 1 Axes>"
      ]
     },
     "metadata": {},
     "output_type": "display_data"
    },
    {
     "name": "stdout",
     "output_type": "stream",
     "text": [
      "  dog   car   car truck\n"
     ]
    }
   ],
   "source": [
    "import matplotlib.pyplot as plt\n",
    "import numpy as np\n",
    "\n",
    "# 이미지를 보여주기 위한 함수\n",
    "\n",
    "def imshow(img):\n",
    "    img = img / 2 + 0.5     # unnormalize\n",
    "    npimg = img.numpy()\n",
    "    plt.imshow(np.transpose(npimg, (1, 2, 0)))\n",
    "    plt.show()\n",
    "\n",
    "\n",
    "# 학습용 이미지를 무작위로 가져오기\n",
    "dataiter = iter(trainloader)\n",
    "print(dataiter)\n",
    "images, labels = dataiter.next()\n",
    "# 이미지 보여주기\n",
    "imshow(torchvision.utils.make_grid(images))\n",
    "# 정답(label) 출력\n",
    "print(' '.join('%5s' % classes[labels[j]] for j in range(4)))"
   ]
  },
  {
   "cell_type": "code",
   "execution_count": 22,
   "metadata": {
    "colab": {
     "base_uri": "https://localhost:8080/"
    },
    "id": "NB7aQV8uJZv6",
    "outputId": "a827f329-4e7f-4478-b1c1-839409b5d2a3"
   },
   "outputs": [
    {
     "data": {
      "text/plain": [
       "DataParallel(\n",
       "  (module): Net(\n",
       "    (layer1): Sequential(\n",
       "      (0): Conv2d(3, 32, kernel_size=(3, 3), stride=(1, 1))\n",
       "      (1): ReLU()\n",
       "      (2): Conv2d(32, 32, kernel_size=(3, 3), stride=(1, 1))\n",
       "      (3): ReLU()\n",
       "      (4): MaxPool2d(kernel_size=2, stride=2, padding=0, dilation=1, ceil_mode=False)\n",
       "      (5): Dropout(p=0.2, inplace=False)\n",
       "    )\n",
       "    (layer2): Sequential(\n",
       "      (0): Conv2d(32, 64, kernel_size=(3, 3), stride=(1, 1))\n",
       "      (1): ReLU()\n",
       "      (2): Conv2d(64, 64, kernel_size=(3, 3), stride=(1, 1))\n",
       "      (3): ReLU()\n",
       "      (4): MaxPool2d(kernel_size=2, stride=2, padding=0, dilation=1, ceil_mode=False)\n",
       "      (5): Dropout(p=0.2, inplace=False)\n",
       "    )\n",
       "    (fc1): Linear(in_features=1600, out_features=120, bias=True)\n",
       "    (bn1): BatchNorm1d(120, eps=1e-05, momentum=0.1, affine=True, track_running_stats=True)\n",
       "    (bn2): BatchNorm1d(84, eps=1e-05, momentum=0.1, affine=True, track_running_stats=True)\n",
       "    (fc2): Linear(in_features=120, out_features=84, bias=True)\n",
       "    (fc3): Linear(in_features=84, out_features=10, bias=True)\n",
       "  )\n",
       ")"
      ]
     },
     "execution_count": 22,
     "metadata": {},
     "output_type": "execute_result"
    }
   ],
   "source": [
    "import torch.nn as nn\n",
    "import torch.nn.functional as F\n",
    "\n",
    "\n",
    "class Net(nn.Module):\n",
    "    def __init__(self):\n",
    "        super().__init__()\n",
    "        self.layer1 = torch.nn.Sequential(\n",
    "          nn.Conv2d(3, 32, 3),\n",
    "          nn.ReLU(),\n",
    "          nn.Conv2d(32, 32, 3),\n",
    "          nn.ReLU(),\n",
    "          nn.MaxPool2d(2, 2),\n",
    "          nn.Dropout(0.2)\n",
    "        )\n",
    "\n",
    "        self.layer2 = torch.nn.Sequential(\n",
    "          nn.Conv2d(32, 64, 3),\n",
    "          nn.ReLU(),\n",
    "          nn.Conv2d(64, 64, 3),\n",
    "          nn.ReLU(),\n",
    "          nn.MaxPool2d(2, 2),\n",
    "          nn.Dropout(0.2)\n",
    "        )\n",
    "\n",
    "\n",
    "        self.fc1 = nn.Linear(1600, 120)\n",
    "        self.bn1 = nn.BatchNorm1d(120)\n",
    "        self.bn2 = nn.BatchNorm1d(84)\n",
    "        self.fc2 = nn.Linear(120, 84)\n",
    "        self.fc3 = nn.Linear(84, 10)\n",
    "\n",
    "\n",
    "    def forward(self, x):\n",
    "        x = self.layer1(x)\n",
    "        x = self.layer2(x)\n",
    "        x = torch.flatten(x, 1) # 배치를 제외한 모든 차원을 평탄화(flatten)\n",
    "        x = F.relu(self.bn1(self.fc1(x)))\n",
    "        x = F.relu(self.bn2(self.fc2(x)))\n",
    "        x = self.fc3(x)\n",
    "        return x\n",
    "\n",
    "\n",
    "net = Net()\n",
    "\n",
    "if torch.cuda.device_count() > 1:\n",
    "    net = nn.DataParallel(net)\n",
    "\n",
    "net.to(device)"
   ]
  },
  {
   "cell_type": "code",
   "execution_count": 23,
   "metadata": {
    "id": "NmP7RK2FWytM"
   },
   "outputs": [],
   "source": [
    "import torch.optim as optim\n",
    "\n",
    "# criterion = nn.CrossEntropyLoss()\n",
    "optimizer = optim.Adam(net.parameters(), lr=0.001)"
   ]
  },
  {
   "cell_type": "code",
   "execution_count": 24,
   "metadata": {},
   "outputs": [],
   "source": [
    "def custom_CE(output,labels):\n",
    "    count_output = len(labels)\n",
    "    loss_total = 0.0\n",
    "    for i in range(count_output):\n",
    "        loss = torch.log(sum(torch.exp(output[i]))) - output[i][labels[i]]\n",
    "        loss_total += loss\n",
    "    return loss_total/count_output"
   ]
  },
  {
   "cell_type": "code",
   "execution_count": 25,
   "metadata": {},
   "outputs": [],
   "source": [
    "import time\n",
    "start = time.time()  # 시작 시간 저장"
   ]
  },
  {
   "cell_type": "code",
   "execution_count": 26,
   "metadata": {
    "colab": {
     "base_uri": "https://localhost:8080/"
    },
    "id": "sPYggzAfW0Be",
    "outputId": "14b7fb32-dfdf-4530-c83d-f03b72f2b92a"
   },
   "outputs": [
    {
     "name": "stdout",
     "output_type": "stream",
     "text": [
      "[1,    10] loss: 1.933\n",
      "[2,    10] loss: 1.356\n",
      "[3,    10] loss: 1.153\n",
      "[4,    10] loss: 1.026\n",
      "[5,    10] loss: 0.939\n",
      "[6,    10] loss: 0.866\n",
      "[7,    10] loss: 0.811\n",
      "[8,    10] loss: 0.759\n",
      "[9,    10] loss: 0.711\n",
      "[10,    10] loss: 0.660\n",
      "[11,    10] loss: 0.632\n",
      "[12,    10] loss: 0.586\n",
      "[13,    10] loss: 0.547\n",
      "[14,    10] loss: 0.518\n",
      "[15,    10] loss: 0.491\n",
      "[16,    10] loss: 0.461\n",
      "[17,    10] loss: 0.435\n",
      "[18,    10] loss: 0.413\n",
      "[19,    10] loss: 0.399\n",
      "[20,    10] loss: 0.372\n",
      "[21,    10] loss: 0.351\n",
      "[22,    10] loss: 0.340\n",
      "[23,    10] loss: 0.308\n",
      "[24,    10] loss: 0.296\n",
      "[25,    10] loss: 0.277\n",
      "[26,    10] loss: 0.254\n",
      "[27,    10] loss: 0.251\n",
      "[28,    10] loss: 0.243\n",
      "[29,    10] loss: 0.234\n",
      "[30,    10] loss: 0.222\n",
      "[31,    10] loss: 0.210\n",
      "[32,    10] loss: 0.194\n",
      "[33,    10] loss: 0.184\n",
      "[34,    10] loss: 0.175\n",
      "[35,    10] loss: 0.166\n",
      "[36,    10] loss: 0.153\n",
      "[37,    10] loss: 0.153\n",
      "[38,    10] loss: 0.149\n",
      "[39,    10] loss: 0.137\n",
      "[40,    10] loss: 0.143\n",
      "[41,    10] loss: 0.128\n",
      "[42,    10] loss: 0.124\n",
      "[43,    10] loss: 0.124\n",
      "[44,    10] loss: 0.126\n",
      "[45,    10] loss: 0.123\n",
      "[46,    10] loss: 0.116\n",
      "[47,    10] loss: 0.108\n",
      "[48,    10] loss: 0.104\n",
      "[49,    10] loss: 0.097\n",
      "[50,    10] loss: 0.096\n",
      "[51,    10] loss: 0.099\n",
      "[52,    10] loss: 0.092\n",
      "[53,    10] loss: 0.095\n",
      "[54,    10] loss: 0.089\n",
      "[55,    10] loss: 0.090\n",
      "[56,    10] loss: 0.084\n",
      "[57,    10] loss: 0.085\n",
      "[58,    10] loss: 0.081\n",
      "[59,    10] loss: 0.077\n",
      "[60,    10] loss: 0.076\n",
      "[61,    10] loss: 0.072\n",
      "[62,    10] loss: 0.075\n",
      "[63,    10] loss: 0.077\n",
      "[64,    10] loss: 0.071\n",
      "[65,    10] loss: 0.072\n",
      "[66,    10] loss: 0.074\n",
      "[67,    10] loss: 0.070\n",
      "[68,    10] loss: 0.067\n",
      "[69,    10] loss: 0.064\n",
      "[70,    10] loss: 0.065\n",
      "[71,    10] loss: 0.063\n",
      "[72,    10] loss: 0.065\n",
      "[73,    10] loss: 0.065\n",
      "[74,    10] loss: 0.063\n",
      "[75,    10] loss: 0.057\n",
      "[76,    10] loss: 0.059\n",
      "[77,    10] loss: 0.054\n",
      "[78,    10] loss: 0.059\n",
      "[79,    10] loss: 0.059\n",
      "[80,    10] loss: 0.056\n",
      "[81,    10] loss: 0.054\n",
      "[82,    10] loss: 0.059\n",
      "[83,    10] loss: 0.052\n",
      "[84,    10] loss: 0.055\n",
      "[85,    10] loss: 0.051\n",
      "[86,    10] loss: 0.052\n",
      "[87,    10] loss: 0.051\n",
      "[88,    10] loss: 0.047\n",
      "[89,    10] loss: 0.049\n",
      "[90,    10] loss: 0.047\n",
      "[91,    10] loss: 0.043\n",
      "[92,    10] loss: 0.048\n",
      "[93,    10] loss: 0.044\n",
      "[94,    10] loss: 0.048\n",
      "[95,    10] loss: 0.047\n",
      "[96,    10] loss: 0.045\n",
      "[97,    10] loss: 0.051\n",
      "[98,    10] loss: 0.048\n",
      "[99,    10] loss: 0.050\n",
      "[100,    10] loss: 0.047\n",
      "[101,    10] loss: 0.044\n",
      "[102,    10] loss: 0.047\n",
      "[103,    10] loss: 0.043\n",
      "[104,    10] loss: 0.049\n",
      "[105,    10] loss: 0.046\n",
      "[106,    10] loss: 0.042\n",
      "[107,    10] loss: 0.043\n",
      "[108,    10] loss: 0.043\n",
      "[109,    10] loss: 0.041\n",
      "[110,    10] loss: 0.040\n",
      "[111,    10] loss: 0.040\n",
      "[112,    10] loss: 0.039\n",
      "[113,    10] loss: 0.038\n",
      "[114,    10] loss: 0.038\n",
      "[115,    10] loss: 0.042\n",
      "[116,    10] loss: 0.042\n",
      "[117,    10] loss: 0.040\n",
      "[118,    10] loss: 0.037\n",
      "[119,    10] loss: 0.037\n",
      "[120,    10] loss: 0.045\n",
      "[121,    10] loss: 0.041\n",
      "[122,    10] loss: 0.043\n",
      "[123,    10] loss: 0.042\n",
      "[124,    10] loss: 0.039\n",
      "[125,    10] loss: 0.035\n",
      "[126,    10] loss: 0.040\n",
      "[127,    10] loss: 0.040\n",
      "[128,    10] loss: 0.044\n",
      "[129,    10] loss: 0.044\n",
      "[130,    10] loss: 0.040\n",
      "[131,    10] loss: 0.036\n",
      "[132,    10] loss: 0.039\n",
      "[133,    10] loss: 0.036\n",
      "[134,    10] loss: 0.040\n",
      "[135,    10] loss: 0.036\n",
      "[136,    10] loss: 0.039\n",
      "[137,    10] loss: 0.036\n",
      "[138,    10] loss: 0.036\n",
      "[139,    10] loss: 0.035\n",
      "[140,    10] loss: 0.032\n",
      "[141,    10] loss: 0.035\n",
      "[142,    10] loss: 0.032\n",
      "[143,    10] loss: 0.031\n",
      "[144,    10] loss: 0.035\n",
      "[145,    10] loss: 0.031\n",
      "[146,    10] loss: 0.032\n",
      "[147,    10] loss: 0.035\n",
      "[148,    10] loss: 0.037\n",
      "[149,    10] loss: 0.034\n",
      "[150,    10] loss: 0.033\n",
      "[151,    10] loss: 0.034\n",
      "[152,    10] loss: 0.033\n",
      "[153,    10] loss: 0.032\n",
      "[154,    10] loss: 0.031\n",
      "[155,    10] loss: 0.038\n",
      "[156,    10] loss: 0.036\n",
      "[157,    10] loss: 0.035\n",
      "[158,    10] loss: 0.033\n",
      "[159,    10] loss: 0.032\n",
      "[160,    10] loss: 0.034\n",
      "[161,    10] loss: 0.039\n",
      "[162,    10] loss: 0.031\n",
      "[163,    10] loss: 0.034\n",
      "[164,    10] loss: 0.033\n",
      "[165,    10] loss: 0.037\n",
      "[166,    10] loss: 0.033\n",
      "[167,    10] loss: 0.035\n",
      "[168,    10] loss: 0.030\n",
      "[169,    10] loss: 0.031\n",
      "[170,    10] loss: 0.028\n",
      "[171,    10] loss: 0.029\n",
      "[172,    10] loss: 0.026\n",
      "[173,    10] loss: 0.029\n",
      "[174,    10] loss: 0.030\n",
      "[175,    10] loss: 0.028\n",
      "[176,    10] loss: 0.028\n",
      "[177,    10] loss: 0.028\n",
      "[178,    10] loss: 0.027\n",
      "[179,    10] loss: 0.029\n",
      "[180,    10] loss: 0.031\n",
      "[181,    10] loss: 0.030\n",
      "[182,    10] loss: 0.027\n",
      "[183,    10] loss: 0.027\n",
      "[184,    10] loss: 0.031\n",
      "[185,    10] loss: 0.027\n",
      "[186,    10] loss: 0.031\n",
      "[187,    10] loss: 0.028\n",
      "[188,    10] loss: 0.026\n",
      "[189,    10] loss: 0.026\n",
      "[190,    10] loss: 0.028\n",
      "[191,    10] loss: 0.027\n",
      "[192,    10] loss: 0.030\n",
      "[193,    10] loss: 0.028\n",
      "[194,    10] loss: 0.028\n",
      "[195,    10] loss: 0.034\n",
      "[196,    10] loss: 0.026\n",
      "[197,    10] loss: 0.026\n",
      "[198,    10] loss: 0.030\n",
      "[199,    10] loss: 0.029\n",
      "[200,    10] loss: 0.028\n",
      "Finished Training\n"
     ]
    }
   ],
   "source": [
    "net.train()\n",
    "for epoch in range(200):   # 데이터셋을 수차례 반복합니다.\n",
    "    running_loss = 0.0\n",
    "    for i, data in enumerate(trainloader, 0):\n",
    "        # [inputs, labels]의 목록인 data로부터 입력을 받은 후;\n",
    "        inputs, labels = data[0].to(device), data[1].to(device)\n",
    "\n",
    "        # 변화도(Gradient) 매개변수를 0으로 만들고\n",
    "        optimizer.zero_grad()\n",
    "\n",
    "        # 순전파 + 역전파 + 최적화를 한 후\n",
    "        outputs = net(inputs)\n",
    "        loss = custom_CE(outputs, labels)\n",
    "        loss.backward()\n",
    "        optimizer.step()\n",
    "\n",
    "        # 통계를 출력합니다.\n",
    "        running_loss += loss.item()\n",
    "        if i % 10 == 9:    # print every 2000 mini-batches\n",
    "            print('[%d, %5d] loss: %.3f' %\n",
    "                  (epoch + 1, i + 1, running_loss / 10))\n",
    "            running_loss = 0.0\n",
    "\n",
    "print('Finished Training')"
   ]
  },
  {
   "cell_type": "code",
   "execution_count": 27,
   "metadata": {},
   "outputs": [
    {
     "name": "stdout",
     "output_type": "stream",
     "text": [
      "time : 3605.512553215027\n"
     ]
    }
   ],
   "source": [
    "print(\"time :\", time.time() - start)  # 현재시각 - 시작시간 = 실행 시간"
   ]
  },
  {
   "cell_type": "code",
   "execution_count": 28,
   "metadata": {
    "id": "SYFO6TofWz-0"
   },
   "outputs": [],
   "source": [
    "# PATH = './fashion_net.pth'\n",
    "# torch.save(net.state_dict(), PATH)"
   ]
  },
  {
   "cell_type": "code",
   "execution_count": 29,
   "metadata": {
    "colab": {
     "base_uri": "https://localhost:8080/"
    },
    "id": "xi8HjximWz5-",
    "outputId": "688f3e8e-f55b-4d0d-b51c-d29a5e2c8c53"
   },
   "outputs": [
    {
     "name": "stdout",
     "output_type": "stream",
     "text": [
      "GroundTruth:   deer horse plane horse truck   cat   dog plane   dog plane  frog   dog   car   car  bird plane  bird  bird  frog  bird  deer horse horse truck  ship  frog   dog  bird  deer plane plane truck  ship  bird plane horse horse   dog horse plane  deer plane  ship  frog  frog  bird  ship  bird plane  deer   dog  deer truck   dog  deer plane horse plane  bird  deer  frog   dog  ship   dog\n"
     ]
    }
   ],
   "source": [
    "dataiter = iter(testloader)\n",
    "images, labels = dataiter.next()\n",
    "images = images.to(device)\n",
    "labels = labels.to(device)\n",
    "# 이미지를 출력합니다.\n",
    "# imshow(torchvision.utils.make_grid(images))\n",
    "print('GroundTruth: ', ' '.join('%5s' % classes[labels[j]] for j in range(64)))"
   ]
  },
  {
   "cell_type": "code",
   "execution_count": 30,
   "metadata": {
    "id": "eAQ14i67Xzdk"
   },
   "outputs": [],
   "source": [
    "# net = Net()\n",
    "# net.to(device)\n",
    "# net.load_state_dict(torch.load(PATH))"
   ]
  },
  {
   "cell_type": "code",
   "execution_count": 31,
   "metadata": {
    "id": "xW5s_VvOX2Kr"
   },
   "outputs": [],
   "source": [
    "net.train()\n",
    "outputs = net(images)"
   ]
  },
  {
   "cell_type": "code",
   "execution_count": 32,
   "metadata": {
    "colab": {
     "base_uri": "https://localhost:8080/"
    },
    "id": "-EUVmr_-X2IL",
    "outputId": "07dd4599-2c71-46e0-f132-e1f09e678af2"
   },
   "outputs": [
    {
     "name": "stdout",
     "output_type": "stream",
     "text": [
      "Predicted:   deer horse plane horse horse horse   dog plane   dog   car   cat   dog   car   car  frog truck   cat  bird  frog  bird horse horse   dog truck truck   dog   dog   dog   cat   car horse truck truck   cat   cat horse horse   cat horse horse   car plane  ship  frog   dog  bird  ship   dog plane horse   dog horse truck   dog horse plane horse   car   dog horse   cat horse  ship horse   dog truck  frog  frog   dog  ship truck   cat   car   car   cat  ship horse horse  ship plane   dog plane   car   car   cat truck  deer  frog truck   cat  deer   cat plane horse   car  ship horse  bird   cat  deer   car  deer plane truck horse horse   car horse   car   car   cat horse   dog plane   car   car   dog truck   car truck   car horse truck plane   car truck   cat   car horse   cat truck  ship horse   dog   car   dog   car   cat   car truck horse truck   car horse   cat   car horse   dog horse horse   car horse   car  bird  deer   cat   cat truck horse   dog   car   dog  deer truck   dog truck   cat horse truck   dog  frog horse  deer   cat   cat horse   dog   cat horse   cat  ship   cat   car horse   dog   cat horse truck horse plane   cat  bird  ship   dog horse truck   car   dog plane   cat   cat   dog   dog horse   dog   car   dog   cat   dog   dog   dog horse   dog   cat   cat horse   cat  bird horse truck  deer truck  frog   cat  frog  ship   dog horse horse  ship   dog   cat   car horse   dog   dog   car  frog plane  bird   car   car   car truck   car  ship   cat truck   cat   cat plane   cat truck horse   cat   car horse   car horse   car   dog truck horse   cat   car   car   cat truck   cat   cat horse  bird   car   car  ship truck horse   dog  deer   dog  bird   car   car plane   dog   car truck   dog horse truck   dog   car   dog horse truck truck   dog   cat  frog  frog   cat truck   cat truck horse   car truck truck horse  bird  bird truck truck truck plane horse horse horse   cat horse truck   dog   dog   car horse  ship   dog   dog   car   car horse   dog   dog  deer truck  bird horse  bird   cat truck   dog   car   cat   cat  bird plane plane   cat   cat   dog truck horse   dog truck   cat  deer   dog truck truck horse   dog   cat   dog truck   dog truck   dog  deer   cat   cat  ship truck   dog  bird   dog   cat horse   car  bird truck truck   dog horse   car   car   cat horse   cat   dog   dog   cat   car truck   car   cat truck   cat  ship   car   car truck   dog plane truck  bird  deer truck  bird   cat   dog horse truck   dog truck truck   cat   dog   car truck horse   dog   car  deer truck   car truck   car horse   cat  bird horse horse horse horse   cat  bird   car horse   dog   cat horse horse  bird truck  bird   cat horse truck   dog truck   dog  frog   car   cat horse   car horse   dog horse  deer horse   car truck   dog   cat   car   car   car   cat   car   dog  bird truck  bird   car  ship   car  deer  frog horse   car  deer horse horse   dog   cat horse truck   car truck  frog   dog horse  ship   dog   car   car truck   car  frog truck   cat   car   cat  deer truck   car   car plane   dog   cat horse   dog   cat horse horse plane   cat truck truck truck   dog   dog   car truck horse   car   cat  frog horse horse  ship truck horse  ship   dog   cat horse   car   car horse  ship   car   dog   cat   dog   cat horse truck  frog   cat   cat   cat  ship truck   dog  frog horse  frog horse   car   car  ship   dog   car truck truck truck   car  deer   dog horse plane   car   dog truck  frog   cat  ship horse plane horse   car plane horse  ship   car  ship  ship  frog   car  bird   car truck   dog truck truck  bird   cat   cat  ship   dog horse truck  ship truck plane   car   car  ship  ship   cat horse truck truck truck   car   cat   dog plane   dog horse  ship   cat   dog   cat   dog   dog   dog truck plane horse   car   car truck   cat   dog   dog horse   cat truck   dog   car  deer   car horse   dog   dog horse   dog plane   dog   cat   dog   dog truck   car   cat truck  bird   cat   cat truck horse  frog   cat   cat  frog   car   cat   cat  deer   cat  frog truck  ship  ship horse truck   car   dog  ship truck horse   dog   cat   cat horse  deer   dog   cat truck horse  ship truck   car  ship   dog truck horse  deer truck   car   dog plane horse horse truck plane  ship   dog  frog   car  deer horse   cat   car  ship  bird   cat horse   cat horse   cat   cat   dog   cat   cat horse   cat  ship   car truck plane   cat   cat  frog horse truck   cat   car   cat   dog   dog   cat   dog   dog   car   dog   cat   car   dog   dog horse   dog   cat truck truck   dog  ship   dog  frog   cat   car truck   cat   dog  deer horse   dog   dog  frog   car   dog   dog truck horse   car   dog horse   car   dog  frog  ship truck plane  bird   dog horse   dog   dog   cat horse  ship  frog   car   cat  deer   cat truck   cat  frog horse   cat horse  deer   cat   dog   dog   cat   car horse  deer  ship   cat truck   car   cat   cat   car   cat  bird   dog truck   car   cat truck truck   car  ship   dog   cat   cat   dog truck   car   car   dog   cat truck  ship truck   car truck   cat   cat truck   car  bird horse   dog  ship   dog  ship   car plane truck  ship   dog   cat  ship truck   dog truck   dog   cat   cat horse truck  bird  bird truck   dog horse  bird   cat   cat horse   cat   car horse   dog truck horse   car  ship   dog horse   car plane   cat   dog   cat truck truck horse  frog plane  bird plane  ship  frog   dog   cat   dog  frog   cat horse   dog   dog   car horse truck   car truck truck   cat   dog plane horse plane horse   cat  frog   dog  bird   cat   car  ship horse  bird horse truck truck horse truck   dog   cat truck   dog horse   car plane horse horse   car   cat   cat   cat  deer   dog   car horse   cat horse   car   car truck horse horse  frog   dog truck   car   car   cat   cat  ship horse  bird   car horse   dog   car   car  bird   car   car horse   cat   dog   car horse   dog   dog   cat truck   dog  ship   car horse  deer  bird  ship truck   car  ship  frog horse truck   car truck horse   dog   dog   dog   dog   car   dog   dog   cat   car   cat   dog horse horse   car truck truck plane horse plane  frog horse   cat   car  bird  frog   car   car horse   dog   car   dog plane   cat   car   cat   cat   cat truck plane  frog   cat   cat   cat  ship   dog   cat   cat horse   car truck horse plane   dog truck   cat  frog   cat truck horse   car horse horse horse   car   cat   dog truck  frog horse  ship   cat   dog  deer truck horse   car truck  ship horse   dog truck plane   dog horse   car horse truck   cat   cat  frog   car plane   cat truck   dog   cat   dog   cat  bird  frog   dog  ship   dog   dog   dog horse   car truck  bird truck   cat   car truck   cat   cat   cat horse   dog truck truck  ship   cat plane   dog   cat horse   cat   car horse   car  ship plane horse truck   cat   cat truck horse   dog  ship   dog truck   cat truck   cat  bird   dog   dog horse horse plane   cat   dog   cat plane plane   dog horse truck truck   car  bird  bird   car  deer  ship plane   cat   cat truck   dog horse   car  ship  frog horse   cat horse plane   car   dog truck truck   dog   car   car   dog   car horse   car   cat   car truck horse   dog   dog   dog   cat   dog horse  frog horse   car horse  frog truck   car   dog horse horse horse   car  ship  ship   car   cat   dog   car truck   car horse truck horse   cat  ship horse   dog horse   dog   dog truck   dog truck   dog   cat  ship  ship   dog   car   cat horse   dog   cat   car   dog truck   cat   dog   cat horse horse truck  deer  frog  frog truck   car   dog truck   dog   cat   car  frog   cat   dog truck plane horse   cat   cat truck horse horse   car   cat   dog   dog horse  frog   cat  frog   cat horse  deer   cat   dog  frog   cat   car truck  ship   cat   dog   car plane   cat truck   cat truck   dog   car   cat   dog  frog  frog   cat  frog   dog   dog   dog truck   dog   cat   cat plane  deer   cat   car truck truck horse horse   cat  ship plane   cat  ship  frog   cat  ship   cat plane   dog   car horse horse   car   cat   dog   dog horse   car   car   cat   cat   car  frog   cat   cat   car horse horse   cat   car plane   cat   dog   dog   car   cat truck horse   cat   cat   cat   cat  ship   dog horse   dog   car   dog   dog   car   dog  frog   car horse   car  ship   dog truck   cat   car truck   cat   cat plane   dog horse truck  ship truck  deer   dog truck  ship  deer   dog  deer  frog  bird   cat   cat truck horse   cat   cat   cat truck horse truck plane  ship truck truck horse horse truck   car   dog  frog   car truck   cat   cat   car   car   dog   dog truck truck   car   dog   car  bird   cat   car   car   dog truck   cat truck   car truck truck truck   dog   car   car   cat   cat   dog plane truck horse   cat  ship   car  ship truck   car horse   car   cat   car   dog  frog   dog  deer   dog   car   dog horse   cat horse horse truck truck truck truck   car   cat truck   dog   dog   car   cat horse  frog  frog plane horse  ship  bird horse truck   dog   car   dog horse truck truck   dog   car horse   cat   cat   cat horse   dog plane horse truck horse   car  ship   cat   cat horse   dog   cat  frog   cat   cat   dog   cat horse horse   car plane  frog   car   cat horse truck   dog plane  ship  ship   dog truck   cat   dog truck   dog   cat truck   dog horse  frog horse plane  ship   dog  deer   car plane   dog truck   dog   dog  bird   dog   dog horse   dog   cat   cat  frog truck   dog horse   dog plane  ship horse   cat   cat   car horse  frog   cat   car   cat   car truck   car   cat plane  ship   cat horse   cat horse   cat   car   car   cat truck   cat truck   cat horse   dog truck plane horse  ship   dog horse truck horse  ship truck   car   cat   cat   cat truck   car horse   cat horse   cat  frog truck   car   dog horse plane   car   cat   car truck truck horse truck   cat horse  deer horse  frog  bird   dog   dog truck   cat truck truck truck horse   cat   car truck   dog   car horse  ship  deer  frog   cat truck   dog   dog horse   cat horse  frog horse plane  frog truck   cat horse horse   car   dog  frog   cat  ship plane  ship  deer   cat   cat truck  bird  bird truck  ship truck  frog horse horse   car  frog horse   dog   dog   car   dog truck horse horse   cat   cat   car horse   cat   dog   cat truck truck horse horse horse truck horse truck   dog   dog   cat   dog  deer horse  deer truck   cat  ship truck truck truck plane truck   car   cat horse   car truck   dog   dog   cat   cat   car   dog horse horse   cat horse   cat   car   car  deer truck truck   car horse horse   car horse   car   dog   dog  ship   car   car truck   cat truck   dog truck  bird truck   car  frog  bird   cat plane   dog  frog   dog   car horse plane   cat horse   dog   cat  frog truck  bird   dog   dog  ship  frog truck  frog horse   dog truck   dog   car   dog   car   dog   dog   dog plane plane   cat horse   car   dog   dog horse  frog horse horse truck   dog   car   cat  deer horse plane  frog  bird horse truck horse   dog   car   cat   dog   dog truck horse plane   cat   car  ship horse horse   dog   car   dog truck   cat   car horse   cat   cat horse horse   cat   cat   dog truck horse   car plane   cat  ship   cat truck horse   cat horse   dog  ship plane   cat truck truck   cat   car   dog   dog  frog   cat horse horse  bird   dog   dog   dog truck   dog   dog   cat horse   car plane   cat   cat truck horse  bird   cat   car   dog   dog   car   dog truck   cat   dog truck horse horse  frog horse   car truck   car truck  ship truck   cat  bird  bird truck   car truck  deer   dog horse   cat   dog   cat   car   dog horse   car truck  deer   car   cat   dog   cat plane   cat truck   car   dog   dog   car   dog   cat truck   car   dog horse truck   dog  bird   cat truck horse plane   dog horse   cat   car horse horse   car   cat   dog   dog horse  deer   car  ship truck   car   cat   car   cat horse   dog   car plane   cat   car   cat   cat truck truck   dog horse   dog   dog horse truck  frog truck   dog   dog   car  frog   cat truck  ship horse horse   car   dog   car plane truck truck   car  ship   car horse horse   car horse truck   dog horse   car   cat horse horse truck  bird  ship plane horse truck   cat truck   dog   cat   car truck   car  frog horse   car   cat   dog\n"
     ]
    }
   ],
   "source": [
    "_, predicted = torch.max(outputs, 1)\n",
    "\n",
    "print('Predicted: ', ' '.join('%5s' % classes[predicted[j]]\n",
    "                              for j in range(batch_size)))"
   ]
  },
  {
   "cell_type": "code",
   "execution_count": 33,
   "metadata": {
    "colab": {
     "base_uri": "https://localhost:8080/"
    },
    "id": "_fKdJHWbX2DR",
    "outputId": "038c26f6-4ab3-4954-c104-504a9fdd2d05"
   },
   "outputs": [
    {
     "name": "stdout",
     "output_type": "stream",
     "text": [
      "Accuracy of the network on the 10000 test images: 63 %\n"
     ]
    }
   ],
   "source": [
    "net.eval()\n",
    "correct = 0\n",
    "total = 0\n",
    "# 학습 중이 아니므로, 출력에 대한 변화도를 계산할 필요가 없습니다\n",
    "with torch.no_grad():\n",
    "    for data in testloader:\n",
    "        images, labels = data[0].to(device), data[1].to(device)\n",
    "\n",
    "        # 신경망에 이미지를 통과시켜 출력을 계산합니다\n",
    "        outputs = net(images)\n",
    "        # 가장 높은 값(energy)를 갖는 분류(class)를 정답으로 선택하겠습니다\n",
    "        _, predicted = torch.max(outputs.data, 1)\n",
    "        total += labels.size(0)\n",
    "        correct += (predicted == labels).sum().item()\n",
    "\n",
    "print('Accuracy of the network on the 10000 test images: %d %%' % (\n",
    "    100 * correct / total))"
   ]
  },
  {
   "cell_type": "code",
   "execution_count": 34,
   "metadata": {
    "colab": {
     "base_uri": "https://localhost:8080/"
    },
    "id": "zSiYXtBCYEJx",
    "outputId": "26710488-3eac-49fe-defb-67c03011007c"
   },
   "outputs": [
    {
     "name": "stdout",
     "output_type": "stream",
     "text": [
      "Accuracy for class plane is: 52.3 %\n",
      "Accuracy for class car   is: 90.9 %\n",
      "Accuracy for class bird  is: 27.3 %\n",
      "Accuracy for class cat   is: 66.2 %\n",
      "Accuracy for class deer  is: 27.3 %\n",
      "Accuracy for class dog   is: 79.1 %\n",
      "Accuracy for class frog  is: 55.8 %\n",
      "Accuracy for class horse is: 89.5 %\n",
      "Accuracy for class ship  is: 55.0 %\n",
      "Accuracy for class truck is: 89.7 %\n"
     ]
    }
   ],
   "source": [
    "# 각 분류(class)에 대한 예측값 계산을 위해 준비\n",
    "correct_pred = {classname: 0 for classname in classes}\n",
    "total_pred = {classname: 0 for classname in classes}\n",
    "\n",
    "# 변화도는 여전히 필요하지 않습니다\n",
    "with torch.no_grad():\n",
    "    for data in testloader:\n",
    "        images, labels = data[0].to(device), data[1].to(device)\n",
    "        outputs = net(images)\n",
    "        _, predictions = torch.max(outputs, 1)\n",
    "        # 각 분류별로 올바른 예측 수를 모읍니다\n",
    "        for label, prediction in zip(labels, predictions):\n",
    "            if label == prediction:\n",
    "                correct_pred[classes[label]] += 1\n",
    "            total_pred[classes[label]] += 1\n",
    "\n",
    "\n",
    "# 각 분류별 정확도(accuracy)를 출력합니다\n",
    "for classname, correct_count in correct_pred.items():\n",
    "    accuracy = 100 * float(correct_count) / total_pred[classname]\n",
    "    print(\"Accuracy for class {:5s} is: {:.1f} %\".format(classname,\n",
    "                                                   accuracy))"
   ]
  },
  {
   "cell_type": "code",
   "execution_count": 35,
   "metadata": {
    "id": "0UorzWjiYEG7"
   },
   "outputs": [
    {
     "name": "stdout",
     "output_type": "stream",
     "text": [
      "frog\n",
      "truck\n",
      "truck\n",
      "horse\n",
      "car\n",
      "frog\n",
      "horse\n",
      "dog\n",
      "frog\n",
      "bird\n"
     ]
    }
   ],
   "source": [
    "for i in range(10):\n",
    "    print(classes[labels[i]])"
   ]
  },
  {
   "cell_type": "code",
   "execution_count": null,
   "metadata": {},
   "outputs": [],
   "source": []
  }
 ],
 "metadata": {
  "accelerator": "GPU",
  "colab": {
   "authorship_tag": "ABX9TyOJSwc78vQi4Iw7xpvGyCs6",
   "include_colab_link": true,
   "name": "Project 0. pytorch tutorial_jaewook.ipynb",
   "provenance": []
  },
  "kernelspec": {
   "display_name": "Environment (conda_pytorch_p36)",
   "language": "python",
   "name": "conda_pytorch_p36"
  },
  "language_info": {
   "codemirror_mode": {
    "name": "ipython",
    "version": 3
   },
   "file_extension": ".py",
   "mimetype": "text/x-python",
   "name": "python",
   "nbconvert_exporter": "python",
   "pygments_lexer": "ipython3",
   "version": "3.6.5"
  }
 },
 "nbformat": 4,
 "nbformat_minor": 1
}
