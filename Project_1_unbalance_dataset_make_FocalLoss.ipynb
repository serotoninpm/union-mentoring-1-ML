{
 "cells": [
  {
   "cell_type": "markdown",
   "metadata": {
    "id": "8M3eOnh39bfO"
   },
   "source": [
    "1. torchvision을 사용하여 CIFAR10의 학습용 데이터, 시험용 데이터 불러오기, 정규화\n",
    "2. 합성곱 신경망 정의\n",
    "3. 손실 함수 정의\n",
    "4. 학습용 데이터를 사용하여 신경망 학습\n",
    "5. 시험용 데이터를 사용하여 신경망 검사"
   ]
  },
  {
   "cell_type": "code",
   "execution_count": 1,
   "metadata": {
    "id": "uXuITn8289eq"
   },
   "outputs": [],
   "source": [
    "#결과 inline에 출력\n",
    "%matplotlib inline"
   ]
  },
  {
   "cell_type": "code",
   "execution_count": 2,
   "metadata": {
    "id": "FEH4NGb6-KeH"
   },
   "outputs": [],
   "source": [
    "import torch\n",
    "import torchvision\n",
    "from torchvision.datasets import FashionMNIST\n",
    "# from torchvision.datasets import MNIST\n",
    "import torchvision.transforms as transforms\n",
    "import collections\n",
    "from sklearn import datasets\n",
    "from imblearn import under_sampling\n",
    "from typing import Any, Callable, Dict, List, Optional, Tuple\n",
    "import os\n",
    "import numpy as np"
   ]
  },
  {
   "cell_type": "code",
   "execution_count": 3,
   "metadata": {
    "id": "WbDcVbDtYQxy"
   },
   "outputs": [],
   "source": [
    "device = torch.device(\"cuda:0\" if torch.cuda.is_available() else \"cpu\")"
   ]
  },
  {
   "cell_type": "code",
   "execution_count": 4,
   "metadata": {},
   "outputs": [
    {
     "name": "stdout",
     "output_type": "stream",
     "text": [
      "2\n"
     ]
    }
   ],
   "source": [
    "print(torch.cuda.device_count())"
   ]
  },
  {
   "cell_type": "code",
   "execution_count": 5,
   "metadata": {
    "scrolled": true
   },
   "outputs": [
    {
     "name": "stdout",
     "output_type": "stream",
     "text": [
      "1.7.1+cu101\n"
     ]
    }
   ],
   "source": [
    "print(torch.__version__)"
   ]
  },
  {
   "cell_type": "code",
   "execution_count": 6,
   "metadata": {
    "colab": {
     "base_uri": "https://localhost:8080/"
    },
    "id": "qwxpmJonGrsb",
    "outputId": "0fab87ba-52f8-4d2a-88bf-81fec7f02dc4"
   },
   "outputs": [],
   "source": [
    "transform = transforms.Compose(\n",
    "    [transforms.ToTensor(),\n",
    "     transforms.Normalize((0.5,), (0.5,))])\n",
    "\n",
    "batch_size = 2048\n",
    "\n",
    "trainset = torchvision.datasets.FashionMNIST(root='./data', train=True,\n",
    "                                        download=True, transform=transform)\n",
    "trainloader = torch.utils.data.DataLoader(trainset, batch_size=batch_size,\n",
    "                                          shuffle=True, num_workers= 8 ,pin_memory= True)\n",
    "\n",
    "testset = torchvision.datasets.FashionMNIST(root='./data', train=False,\n",
    "                                       download=True, transform=transform)\n",
    "testloader = torch.utils.data.DataLoader(testset, batch_size=batch_size,\n",
    "                                         shuffle=False, num_workers=8, pin_memory= True)\n",
    "\n",
    "classes = ('T-shirt/top', 'Trouser', 'Pullover', 'Dress', 'Coat', 'Sandal',\n",
    "               'Shirt', 'Sneaker', 'Bag', 'Ankle boot')"
   ]
  },
  {
   "cell_type": "code",
   "execution_count": 7,
   "metadata": {},
   "outputs": [
    {
     "data": {
      "text/plain": [
       "torch.Tensor"
      ]
     },
     "execution_count": 7,
     "metadata": {},
     "output_type": "execute_result"
    }
   ],
   "source": [
    "type(trainset.data)"
   ]
  },
  {
   "cell_type": "code",
   "execution_count": 8,
   "metadata": {},
   "outputs": [
    {
     "data": {
      "text/plain": [
       "torch.Tensor"
      ]
     },
     "execution_count": 8,
     "metadata": {},
     "output_type": "execute_result"
    }
   ],
   "source": [
    "type(trainset.targets)"
   ]
  },
  {
   "cell_type": "code",
   "execution_count": 9,
   "metadata": {},
   "outputs": [
    {
     "name": "stdout",
     "output_type": "stream",
     "text": [
      "Original dataset shape Counter({9: 6000, 0: 6000, 3: 6000, 2: 6000, 7: 6000, 5: 6000, 1: 6000, 6: 6000, 4: 6000, 8: 6000})\n"
     ]
    }
   ],
   "source": [
    "print('Original dataset shape %s' % collections.Counter(trainset.targets.tolist()))\n"
   ]
  },
  {
   "cell_type": "code",
   "execution_count": 10,
   "metadata": {},
   "outputs": [],
   "source": [
    "class unbalance_FashionMNIST(FashionMNIST):\n",
    "     def __init__(\n",
    "            self,\n",
    "            root: str,\n",
    "            train: bool = True,\n",
    "            transform: Optional[Callable] = None,\n",
    "            target_transform: Optional[Callable] = None,\n",
    "            download: bool = False,\n",
    "    ) -> None:\n",
    "        super(unbalance_FashionMNIST, self).__init__(root, transform=transform,\n",
    "                                    target_transform=target_transform)\n",
    "        \n",
    "        if self.train:\n",
    "            data_file = self.training_file\n",
    "        else:\n",
    "            data_file = self.test_file\n",
    "     \n",
    "        self.data, self.targets = torch.load(os.path.join(self.processed_folder, data_file))\n",
    "        rus = under_sampling.RandomUnderSampler(\n",
    "            sampling_strategy={\n",
    "                0: 600,\n",
    "                1: 6000,\n",
    "                2: 600,\n",
    "                3: 6000,\n",
    "                4: 600,\n",
    "                5: 6000,\n",
    "                6: 600,\n",
    "                7: 6000,\n",
    "                8: 600,\n",
    "                9: 6000\n",
    "                \n",
    "            },\n",
    "            random_state=42\n",
    "        )\n",
    "        self.data, self.targets = rus.fit_resample(np.array(self.data).reshape(60000,28*28), np.array(self.targets))\n",
    "        self.data, self.targets = torch.Tensor(self.data.reshape(-1,28,28)).to(dtype=torch.uint8), torch.Tensor(self.targets).to(dtype=torch.uint8)\n",
    "\n"
   ]
  },
  {
   "cell_type": "code",
   "execution_count": 11,
   "metadata": {},
   "outputs": [],
   "source": [
    "transform = transforms.Compose(\n",
    "    [transforms.ToTensor(),\n",
    "     transforms.Normalize((0.5,), (0.5,))])\n",
    "\n",
    "batch_size = 2048\n",
    "\n",
    "trainset = unbalance_FashionMNIST(root='./data', train=True,\n",
    "                                        download=True, transform=transform)\n",
    "trainloader = torch.utils.data.DataLoader(trainset, batch_size=batch_size,\n",
    "                                          shuffle=True, num_workers= 14 ,pin_memory= True)\n",
    "\n",
    "testset = torchvision.datasets.FashionMNIST(root='./data', train=False,\n",
    "                                       download=True, transform=transform)\n",
    "testloader = torch.utils.data.DataLoader(testset, batch_size=batch_size,\n",
    "                                         shuffle=True, num_workers=14, pin_memory= True)\n",
    "\n",
    "classes = ('T-shirt/top', 'Trouser', 'Pullover', 'Dress', 'Coat', 'Sandal',\n",
    "               'Shirt', 'Sneaker', 'Bag', 'Ankle boot')"
   ]
  },
  {
   "cell_type": "code",
   "execution_count": 12,
   "metadata": {},
   "outputs": [
    {
     "name": "stdout",
     "output_type": "stream",
     "text": [
      "reshape dataset shape Counter({1: 6000, 3: 6000, 5: 6000, 7: 6000, 9: 6000, 0: 600, 2: 600, 4: 600, 6: 600, 8: 600})\n"
     ]
    }
   ],
   "source": [
    "print('reshape dataset shape %s' % collections.Counter(trainset.targets.tolist()))"
   ]
  },
  {
   "cell_type": "code",
   "execution_count": 13,
   "metadata": {},
   "outputs": [
    {
     "data": {
      "text/plain": [
       "torch.Tensor"
      ]
     },
     "execution_count": 13,
     "metadata": {},
     "output_type": "execute_result"
    }
   ],
   "source": [
    "type(trainset.data)"
   ]
  },
  {
   "cell_type": "code",
   "execution_count": 14,
   "metadata": {},
   "outputs": [
    {
     "data": {
      "text/plain": [
       "torch.Tensor"
      ]
     },
     "execution_count": 14,
     "metadata": {},
     "output_type": "execute_result"
    }
   ],
   "source": [
    "type(trainset.targets)"
   ]
  },
  {
   "cell_type": "code",
   "execution_count": 15,
   "metadata": {
    "colab": {
     "base_uri": "https://localhost:8080/",
     "height": 307
    },
    "id": "rgQfhxpXJZ5f",
    "outputId": "859af676-6ece-430a-a4ff-0b0346bd5bc7"
   },
   "outputs": [
    {
     "name": "stdout",
     "output_type": "stream",
     "text": [
      "<torch.utils.data.dataloader._MultiProcessingDataLoaderIter object at 0x7f3fa803efd0>\n"
     ]
    },
    {
     "data": {
      "image/png": "[encoded data removed]",
      "text/plain": [
       "<Figure size 432x288 with 1 Axes>"
      ]
     },
     "metadata": {},
     "output_type": "display_data"
    },
    {
     "name": "stdout",
     "output_type": "stream",
     "text": [
      "Pullover Sneaker Sneaker Trouser\n"
     ]
    }
   ],
   "source": [
    "import matplotlib.pyplot as plt\n",
    "import numpy as np\n",
    "\n",
    "# 이미지를 보여주기 위한 함수\n",
    "\n",
    "def imshow(img):\n",
    "    img = img / 2 + 0.5     # unnormalize\n",
    "    npimg = img.numpy()\n",
    "    plt.imshow(np.transpose(npimg, (1, 2, 0)))\n",
    "    plt.show()\n",
    "\n",
    "\n",
    "# 학습용 이미지를 무작위로 가져오기\n",
    "dataiter = iter(trainloader)\n",
    "print(dataiter)\n",
    "images, labels = dataiter.next()\n",
    "# 이미지 보여주기\n",
    "imshow(torchvision.utils.make_grid(images))\n",
    "# 정답(label) 출력\n",
    "print(' '.join('%5s' % classes[labels[j]] for j in range(4)))"
   ]
  },
  {
   "cell_type": "code",
   "execution_count": 16,
   "metadata": {
    "colab": {
     "base_uri": "https://localhost:8080/"
    },
    "id": "NB7aQV8uJZv6",
    "outputId": "a827f329-4e7f-4478-b1c1-839409b5d2a3"
   },
   "outputs": [
    {
     "data": {
      "text/plain": [
       "DataParallel(\n",
       "  (module): Net(\n",
       "    (layer1): Sequential(\n",
       "      (0): Conv2d(1, 32, kernel_size=(3, 3), stride=(1, 1))\n",
       "      (1): ReLU()\n",
       "      (2): Conv2d(32, 32, kernel_size=(3, 3), stride=(1, 1))\n",
       "      (3): ReLU()\n",
       "      (4): MaxPool2d(kernel_size=2, stride=2, padding=0, dilation=1, ceil_mode=False)\n",
       "      (5): Dropout(p=0.2, inplace=False)\n",
       "    )\n",
       "    (layer2): Sequential(\n",
       "      (0): Conv2d(32, 64, kernel_size=(3, 3), stride=(1, 1))\n",
       "      (1): ReLU()\n",
       "      (2): Conv2d(64, 64, kernel_size=(3, 3), stride=(1, 1))\n",
       "      (3): ReLU()\n",
       "      (4): MaxPool2d(kernel_size=2, stride=2, padding=0, dilation=1, ceil_mode=False)\n",
       "      (5): Dropout(p=0.2, inplace=False)\n",
       "    )\n",
       "    (fc1): Linear(in_features=1024, out_features=120, bias=True)\n",
       "    (bn1): BatchNorm1d(120, eps=1e-05, momentum=0.1, affine=True, track_running_stats=True)\n",
       "    (bn2): BatchNorm1d(84, eps=1e-05, momentum=0.1, affine=True, track_running_stats=True)\n",
       "    (fc2): Linear(in_features=120, out_features=84, bias=True)\n",
       "    (fc3): Linear(in_features=84, out_features=10, bias=True)\n",
       "  )\n",
       ")"
      ]
     },
     "execution_count": 16,
     "metadata": {},
     "output_type": "execute_result"
    }
   ],
   "source": [
    "import torch.nn as nn\n",
    "import torch.nn.functional as F\n",
    "\n",
    "\n",
    "class Net(nn.Module):\n",
    "    def __init__(self):\n",
    "        super().__init__()\n",
    "        self.layer1 = torch.nn.Sequential(\n",
    "          nn.Conv2d(1, 32, 3),\n",
    "          nn.ReLU(),\n",
    "          nn.Conv2d(32, 32, 3),\n",
    "          nn.ReLU(),\n",
    "          nn.MaxPool2d(2, 2),\n",
    "          nn.Dropout(0.2)\n",
    "        )\n",
    "\n",
    "        self.layer2 = torch.nn.Sequential(\n",
    "          nn.Conv2d(32, 64, 3),\n",
    "          nn.ReLU(),\n",
    "          nn.Conv2d(64, 64, 3),\n",
    "          nn.ReLU(),\n",
    "          nn.MaxPool2d(2, 2),\n",
    "          nn.Dropout(0.2)\n",
    "        )\n",
    "\n",
    "\n",
    "        self.fc1 = nn.Linear(1024, 120)\n",
    "        self.bn1 = nn.BatchNorm1d(120)\n",
    "        self.bn2 = nn.BatchNorm1d(84)\n",
    "        self.fc2 = nn.Linear(120, 84)\n",
    "        self.fc3 = nn.Linear(84, 10)\n",
    "\n",
    "\n",
    "    def forward(self, x):\n",
    "        x = self.layer1(x)\n",
    "        x = self.layer2(x)\n",
    "        x = torch.flatten(x, 1) # 배치를 제외한 모든 차원을 평탄화(flatten)\n",
    "        x = F.relu(self.bn1(self.fc1(x)))\n",
    "        x = F.relu(self.bn2(self.fc2(x)))\n",
    "        x = self.fc3(x)\n",
    "        return x\n",
    "\n",
    "\n",
    "net = Net()\n",
    "\n",
    "if torch.cuda.device_count() > 1:\n",
    "    net = nn.DataParallel(net)\n",
    "\n",
    "net.to(device)"
   ]
  },
  {
   "cell_type": "code",
   "execution_count": 17,
   "metadata": {
    "id": "NmP7RK2FWytM"
   },
   "outputs": [],
   "source": [
    "import torch.optim as optim\n",
    "\n",
    "# criterion = nn.CrossEntropyLoss()\n",
    "optimizer = optim.Adam(net.parameters(), lr=0.001)"
   ]
  },
  {
   "cell_type": "code",
   "execution_count": 18,
   "metadata": {},
   "outputs": [],
   "source": [
    "def custom_FL(output,labels, alpha=0.25, gamma=2):\n",
    "    count_output = len(labels)\n",
    "    loss_total = 0.0\n",
    "    for i in range(count_output):\n",
    "        pt = torch.exp(output[i][labels[i]])/sum(torch.exp(output[i]))\n",
    "        loss = -1*alpha*((1-pt)**gamma)*(torch.log(pt))\n",
    "        loss_total += loss\n",
    "    return loss_total/count_output"
   ]
  },
  {
   "cell_type": "code",
   "execution_count": 19,
   "metadata": {
    "colab": {
     "base_uri": "https://localhost:8080/"
    },
    "id": "sPYggzAfW0Be",
    "outputId": "14b7fb32-dfdf-4530-c83d-f03b72f2b92a"
   },
   "outputs": [
    {
     "name": "stdout",
     "output_type": "stream",
     "text": [
      "[1,    10] loss: 0.212\n",
      "[2,    10] loss: 0.061\n",
      "[3,    10] loss: 0.040\n",
      "[4,    10] loss: 0.030\n",
      "[5,    10] loss: 0.026\n",
      "[6,    10] loss: 0.023\n",
      "[7,    10] loss: 0.020\n",
      "[8,    10] loss: 0.019\n",
      "[9,    10] loss: 0.017\n",
      "[10,    10] loss: 0.015\n",
      "[11,    10] loss: 0.014\n",
      "[12,    10] loss: 0.013\n",
      "[13,    10] loss: 0.013\n",
      "[14,    10] loss: 0.012\n",
      "[15,    10] loss: 0.011\n",
      "[16,    10] loss: 0.011\n",
      "[17,    10] loss: 0.010\n",
      "[18,    10] loss: 0.009\n",
      "[19,    10] loss: 0.008\n",
      "[20,    10] loss: 0.009\n",
      "[21,    10] loss: 0.008\n",
      "[22,    10] loss: 0.007\n",
      "[23,    10] loss: 0.008\n",
      "[24,    10] loss: 0.008\n",
      "[25,    10] loss: 0.007\n",
      "[26,    10] loss: 0.007\n",
      "[27,    10] loss: 0.006\n",
      "[28,    10] loss: 0.006\n",
      "[29,    10] loss: 0.006\n",
      "[30,    10] loss: 0.007\n",
      "[31,    10] loss: 0.006\n",
      "[32,    10] loss: 0.005\n",
      "[33,    10] loss: 0.004\n",
      "[34,    10] loss: 0.004\n",
      "[35,    10] loss: 0.005\n",
      "[36,    10] loss: 0.004\n",
      "[37,    10] loss: 0.004\n",
      "[38,    10] loss: 0.003\n",
      "[39,    10] loss: 0.004\n",
      "[40,    10] loss: 0.003\n",
      "[41,    10] loss: 0.003\n",
      "[42,    10] loss: 0.003\n",
      "[43,    10] loss: 0.003\n",
      "[44,    10] loss: 0.003\n",
      "[45,    10] loss: 0.003\n",
      "[46,    10] loss: 0.004\n",
      "[47,    10] loss: 0.004\n",
      "[48,    10] loss: 0.004\n",
      "[49,    10] loss: 0.003\n",
      "[50,    10] loss: 0.002\n",
      "[51,    10] loss: 0.002\n",
      "[52,    10] loss: 0.003\n",
      "[53,    10] loss: 0.002\n",
      "[54,    10] loss: 0.002\n",
      "[55,    10] loss: 0.002\n",
      "[56,    10] loss: 0.002\n",
      "[57,    10] loss: 0.002\n",
      "[58,    10] loss: 0.002\n",
      "[59,    10] loss: 0.002\n",
      "[60,    10] loss: 0.002\n",
      "[61,    10] loss: 0.002\n",
      "[62,    10] loss: 0.002\n",
      "[63,    10] loss: 0.002\n",
      "[64,    10] loss: 0.001\n",
      "[65,    10] loss: 0.002\n",
      "[66,    10] loss: 0.002\n",
      "[67,    10] loss: 0.002\n",
      "[68,    10] loss: 0.002\n",
      "[69,    10] loss: 0.002\n",
      "[70,    10] loss: 0.002\n",
      "[71,    10] loss: 0.002\n",
      "[72,    10] loss: 0.002\n",
      "[73,    10] loss: 0.002\n",
      "[74,    10] loss: 0.002\n",
      "[75,    10] loss: 0.002\n",
      "[76,    10] loss: 0.002\n",
      "[77,    10] loss: 0.002\n",
      "[78,    10] loss: 0.002\n",
      "[79,    10] loss: 0.002\n",
      "[80,    10] loss: 0.001\n",
      "[81,    10] loss: 0.001\n",
      "[82,    10] loss: 0.001\n",
      "[83,    10] loss: 0.001\n",
      "[84,    10] loss: 0.001\n",
      "[85,    10] loss: 0.001\n",
      "[86,    10] loss: 0.002\n",
      "[87,    10] loss: 0.001\n",
      "[88,    10] loss: 0.001\n",
      "[89,    10] loss: 0.001\n",
      "[90,    10] loss: 0.002\n",
      "[91,    10] loss: 0.002\n",
      "[92,    10] loss: 0.001\n",
      "[93,    10] loss: 0.002\n",
      "[94,    10] loss: 0.001\n",
      "[95,    10] loss: 0.001\n",
      "[96,    10] loss: 0.001\n",
      "[97,    10] loss: 0.001\n",
      "[98,    10] loss: 0.001\n",
      "[99,    10] loss: 0.001\n",
      "[100,    10] loss: 0.001\n",
      "[101,    10] loss: 0.001\n",
      "[102,    10] loss: 0.001\n",
      "[103,    10] loss: 0.001\n",
      "[104,    10] loss: 0.001\n",
      "[105,    10] loss: 0.001\n",
      "[106,    10] loss: 0.001\n",
      "[107,    10] loss: 0.001\n",
      "[108,    10] loss: 0.001\n",
      "[109,    10] loss: 0.001\n",
      "[110,    10] loss: 0.001\n",
      "[111,    10] loss: 0.001\n",
      "[112,    10] loss: 0.001\n",
      "[113,    10] loss: 0.002\n",
      "[114,    10] loss: 0.001\n",
      "[115,    10] loss: 0.001\n",
      "[116,    10] loss: 0.001\n",
      "[117,    10] loss: 0.002\n",
      "[118,    10] loss: 0.001\n",
      "[119,    10] loss: 0.001\n",
      "[120,    10] loss: 0.001\n",
      "[121,    10] loss: 0.001\n",
      "[122,    10] loss: 0.001\n",
      "[123,    10] loss: 0.001\n",
      "[124,    10] loss: 0.001\n",
      "[125,    10] loss: 0.001\n",
      "[126,    10] loss: 0.001\n",
      "[127,    10] loss: 0.001\n",
      "[128,    10] loss: 0.001\n",
      "[129,    10] loss: 0.001\n",
      "[130,    10] loss: 0.001\n",
      "[131,    10] loss: 0.001\n",
      "[132,    10] loss: 0.001\n",
      "[133,    10] loss: 0.001\n",
      "[134,    10] loss: 0.001\n",
      "[135,    10] loss: 0.001\n",
      "[136,    10] loss: 0.001\n",
      "[137,    10] loss: 0.001\n",
      "[138,    10] loss: 0.001\n",
      "[139,    10] loss: 0.001\n",
      "[140,    10] loss: 0.000\n",
      "[141,    10] loss: 0.000\n",
      "[142,    10] loss: 0.000\n",
      "[143,    10] loss: 0.001\n",
      "[144,    10] loss: 0.001\n",
      "[145,    10] loss: 0.001\n",
      "[146,    10] loss: 0.001\n",
      "[147,    10] loss: 0.001\n",
      "[148,    10] loss: 0.001\n",
      "[149,    10] loss: 0.001\n",
      "[150,    10] loss: 0.000\n",
      "[151,    10] loss: 0.001\n",
      "[152,    10] loss: 0.000\n",
      "[153,    10] loss: 0.000\n",
      "[154,    10] loss: 0.000\n",
      "[155,    10] loss: 0.000\n",
      "[156,    10] loss: 0.000\n",
      "[157,    10] loss: 0.001\n",
      "[158,    10] loss: 0.001\n",
      "[159,    10] loss: 0.001\n",
      "[160,    10] loss: 0.001\n",
      "[161,    10] loss: 0.001\n",
      "[162,    10] loss: 0.001\n",
      "[163,    10] loss: 0.001\n",
      "[164,    10] loss: 0.001\n",
      "[165,    10] loss: 0.001\n",
      "[166,    10] loss: 0.001\n",
      "[167,    10] loss: 0.001\n",
      "[168,    10] loss: 0.001\n",
      "[169,    10] loss: 0.001\n",
      "[170,    10] loss: 0.001\n",
      "[171,    10] loss: 0.001\n",
      "[172,    10] loss: 0.001\n",
      "[173,    10] loss: 0.001\n",
      "[174,    10] loss: 0.001\n",
      "[175,    10] loss: 0.000\n",
      "[176,    10] loss: 0.000\n",
      "[177,    10] loss: 0.000\n",
      "[178,    10] loss: 0.001\n",
      "[179,    10] loss: 0.001\n",
      "[180,    10] loss: 0.001\n",
      "[181,    10] loss: 0.001\n",
      "[182,    10] loss: 0.000\n",
      "[183,    10] loss: 0.001\n",
      "[184,    10] loss: 0.000\n",
      "[185,    10] loss: 0.001\n",
      "[186,    10] loss: 0.000\n",
      "[187,    10] loss: 0.001\n",
      "[188,    10] loss: 0.001\n",
      "[189,    10] loss: 0.001\n",
      "[190,    10] loss: 0.001\n",
      "[191,    10] loss: 0.001\n",
      "[192,    10] loss: 0.000\n",
      "[193,    10] loss: 0.001\n",
      "[194,    10] loss: 0.001\n",
      "[195,    10] loss: 0.001\n",
      "[196,    10] loss: 0.001\n",
      "[197,    10] loss: 0.000\n",
      "[198,    10] loss: 0.001\n",
      "[199,    10] loss: 0.000\n",
      "[200,    10] loss: 0.000\n",
      "Finished Training\n"
     ]
    }
   ],
   "source": [
    "net.train()\n",
    "for epoch in range(200):   # 데이터셋을 수차례 반복합니다.\n",
    "    running_loss = 0.0\n",
    "    for i, data in enumerate(trainloader, 0):\n",
    "        # [inputs, labels]의 목록인 data로부터 입력을 받은 후;\n",
    "        inputs, labels = data[0].to(device), data[1].to(device)\n",
    "\n",
    "        # 변화도(Gradient) 매개변수를 0으로 만들고\n",
    "        optimizer.zero_grad()\n",
    "\n",
    "        # 순전파 + 역전파 + 최적화를 한 후\n",
    "        outputs = net(inputs)\n",
    "        loss = custom_FL(outputs, labels)\n",
    "        loss.backward()\n",
    "        optimizer.step()\n",
    "\n",
    "        # 통계를 출력합니다.\n",
    "        running_loss += loss.item()\n",
    "        if i % 10 == 9:    # print every 2000 mini-batches\n",
    "            print('[%d, %5d] loss: %.3f' %\n",
    "                  (epoch + 1, i + 1, running_loss / 10))\n",
    "            running_loss = 0.0\n",
    "\n",
    "print('Finished Training')"
   ]
  },
  {
   "cell_type": "code",
   "execution_count": 20,
   "metadata": {
    "id": "SYFO6TofWz-0"
   },
   "outputs": [],
   "source": [
    "# PATH = './fashion_net.pth'\n",
    "# torch.save(net.state_dict(), PATH)"
   ]
  },
  {
   "cell_type": "code",
   "execution_count": 21,
   "metadata": {
    "colab": {
     "base_uri": "https://localhost:8080/"
    },
    "id": "xi8HjximWz5-",
    "outputId": "688f3e8e-f55b-4d0d-b51c-d29a5e2c8c53"
   },
   "outputs": [
    {
     "name": "stdout",
     "output_type": "stream",
     "text": [
      "GroundTruth:  Shirt  Coat Sneaker   Bag Sneaker  Coat Pullover Dress Shirt T-shirt/top Dress Dress T-shirt/top  Coat   Bag  Coat Sandal Ankle boot Sneaker T-shirt/top T-shirt/top  Coat Pullover Pullover Pullover   Bag Sneaker Ankle boot Ankle boot   Bag Pullover Ankle boot  Coat Shirt T-shirt/top  Coat Sneaker Dress Shirt Trouser Sneaker   Bag Trouser Pullover Pullover   Bag Shirt T-shirt/top Trouser Sneaker Pullover Dress Sandal Sandal Dress Pullover Sneaker Dress Dress Shirt Sandal Trouser Pullover  Coat\n"
     ]
    }
   ],
   "source": [
    "dataiter = iter(testloader)\n",
    "images, labels = dataiter.next()\n",
    "images = images.to(device)\n",
    "labels = labels.to(device)\n",
    "# 이미지를 출력합니다.\n",
    "# imshow(torchvision.utils.make_grid(images))\n",
    "print('GroundTruth: ', ' '.join('%5s' % classes[labels[j]] for j in range(64)))"
   ]
  },
  {
   "cell_type": "code",
   "execution_count": 22,
   "metadata": {
    "id": "eAQ14i67Xzdk"
   },
   "outputs": [],
   "source": [
    "# net = Net()\n",
    "# net.to(device)\n",
    "# net.load_state_dict(torch.load(PATH))"
   ]
  },
  {
   "cell_type": "code",
   "execution_count": 23,
   "metadata": {
    "id": "xW5s_VvOX2Kr"
   },
   "outputs": [],
   "source": [
    "net.train()\n",
    "outputs = net(images)"
   ]
  },
  {
   "cell_type": "code",
   "execution_count": 24,
   "metadata": {},
   "outputs": [
    {
     "name": "stdout",
     "output_type": "stream",
     "text": [
      "tensor([-5.3832, -0.8067,  0.0953, -2.7359,  5.8342, -2.6733, -0.0135, -2.2347,\n",
      "        -3.6777, -2.0360], device='cuda:0', grad_fn=<SelectBackward>)\n"
     ]
    }
   ],
   "source": [
    "print(outputs[1])"
   ]
  },
  {
   "cell_type": "code",
   "execution_count": 25,
   "metadata": {},
   "outputs": [
    {
     "name": "stdout",
     "output_type": "stream",
     "text": [
      "tensor([6, 4], device='cuda:0')\n"
     ]
    }
   ],
   "source": [
    "_, predicted = torch.max(outputs[0:2], 1)\n",
    "print(predicted)"
   ]
  },
  {
   "cell_type": "code",
   "execution_count": 26,
   "metadata": {
    "colab": {
     "base_uri": "https://localhost:8080/"
    },
    "id": "-EUVmr_-X2IL",
    "outputId": "07dd4599-2c71-46e0-f132-e1f09e678af2"
   },
   "outputs": [
    {
     "name": "stdout",
     "output_type": "stream",
     "text": [
      "Predicted:  Shirt  Coat Sneaker Trouser Sneaker  Coat Dress Dress Shirt Dress Dress Dress T-shirt/top Dress   Bag  Coat Sandal Ankle boot Sneaker T-shirt/top T-shirt/top Dress Pullover Pullover Sandal   Bag Sneaker Ankle boot Sneaker   Bag Pullover Ankle boot Dress Shirt T-shirt/top Dress Ankle boot Dress Shirt Trouser Sneaker   Bag Trouser Dress  Coat   Bag Shirt T-shirt/top Trouser Sneaker Shirt Dress Sandal Sandal Dress  Coat Sneaker Dress Dress Shirt Sneaker Trouser Pullover  Coat Dress Ankle boot T-shirt/top Sneaker Sneaker  Coat  Coat Sneaker Dress T-shirt/top  Coat Trouser Dress Dress Sandal Pullover Ankle boot T-shirt/top Trouser   Bag Dress   Bag Pullover Shirt Dress Sandal Sneaker  Coat   Bag Sandal   Bag Trouser Sandal Ankle boot Sandal Sneaker Sneaker Trouser Sneaker  Coat Shirt T-shirt/top Trouser Pullover  Coat Sneaker Sandal Sandal Sandal   Bag Dress Sneaker Ankle boot Sneaker   Bag Dress Pullover Dress Dress Ankle boot Trouser Pullover Sneaker Pullover Sandal Trouser Sandal Dress Pullover   Bag   Bag Pullover Sandal Trouser Sandal Sandal Dress T-shirt/top Shirt Dress Sneaker Dress Pullover   Bag Pullover Pullover Sneaker Shirt Sandal Dress  Coat Pullover Pullover   Bag T-shirt/top Ankle boot  Coat Sneaker Sneaker Shirt Shirt Pullover Sneaker T-shirt/top Trouser  Coat Sandal   Bag Sneaker Shirt Pullover  Coat  Coat Sneaker Pullover Dress Dress Sandal Pullover Dress Shirt   Bag Dress Shirt Ankle boot T-shirt/top Ankle boot  Coat  Coat Sneaker Ankle boot Sneaker Pullover Ankle boot Sandal Dress Sandal Pullover Sneaker Pullover Sneaker Sandal Ankle boot Dress Ankle boot Ankle boot Ankle boot T-shirt/top T-shirt/top Dress Sandal Dress Dress Pullover  Coat Dress Dress Sandal  Coat Trouser  Coat Pullover Trouser   Bag Sneaker Sneaker T-shirt/top  Coat Sandal Sneaker Sneaker Sneaker Sneaker Sneaker Dress Dress   Bag Dress Dress Dress Trouser   Bag Dress Sneaker Dress Dress Pullover T-shirt/top Ankle boot Dress T-shirt/top Sandal Sandal Trouser Dress Ankle boot  Coat Pullover Sneaker  Coat Sneaker Sandal Trouser Ankle boot Sandal  Coat Shirt Ankle boot Trouser Sneaker Sandal Dress Dress   Bag Sandal Sneaker Sneaker Dress Dress Sandal Ankle boot Trouser   Bag Pullover Shirt Pullover Ankle boot Dress Shirt Shirt  Coat Ankle boot Ankle boot Pullover T-shirt/top Ankle boot   Bag T-shirt/top Pullover Dress Pullover Sandal Sneaker Sandal Trouser T-shirt/top Sandal Trouser T-shirt/top Sandal Trouser Dress T-shirt/top Trouser Sneaker Trouser Dress Sneaker  Coat Sandal T-shirt/top   Bag T-shirt/top Shirt  Coat Sandal Dress   Bag Dress Pullover Shirt Pullover Shirt Sandal T-shirt/top T-shirt/top Sneaker T-shirt/top Pullover Trouser Pullover Shirt Sandal Pullover Trouser Shirt Dress Sneaker Sandal   Bag Sandal Ankle boot Trouser   Bag Dress Ankle boot Trouser Sandal Sandal Sneaker Sandal Shirt Pullover Ankle boot   Bag Sneaker  Coat T-shirt/top  Coat T-shirt/top   Bag Ankle boot Trouser  Coat T-shirt/top Sneaker Pullover Dress Trouser   Bag T-shirt/top T-shirt/top Trouser Pullover Ankle boot  Coat Sandal Pullover Trouser  Coat Sandal Sneaker Shirt Sneaker Sandal Pullover Ankle boot T-shirt/top Sneaker Ankle boot Pullover Sneaker Ankle boot  Coat Ankle boot Pullover Shirt Pullover Shirt   Bag Shirt Sandal Sneaker Pullover Shirt Sneaker Sneaker Pullover   Bag Trouser   Bag Trouser  Coat Sandal Dress   Bag  Coat Dress   Bag Dress  Coat Pullover Sneaker Sneaker Trouser Ankle boot Shirt Ankle boot Sneaker Sandal  Coat Trouser Sandal Trouser   Bag Pullover Ankle boot Ankle boot Sandal Dress Dress   Bag Ankle boot Shirt Trouser Pullover Ankle boot Shirt   Bag Dress Shirt Shirt Shirt Sneaker Pullover Trouser T-shirt/top Sneaker Sandal   Bag Ankle boot Ankle boot   Bag Trouser Pullover Sneaker T-shirt/top  Coat Ankle boot Ankle boot Dress Sneaker Sneaker Sandal   Bag  Coat Dress Dress Dress Ankle boot Trouser Sneaker Dress Sandal  Coat T-shirt/top Ankle boot Dress  Coat Pullover Ankle boot Sneaker   Bag Sneaker Dress Sneaker Dress Pullover Shirt Sandal Ankle boot   Bag Sandal Trouser   Bag  Coat T-shirt/top Dress Ankle boot Dress Sneaker Ankle boot Shirt   Bag Sandal Sneaker Sneaker Pullover Dress Pullover Ankle boot Dress Trouser Ankle boot Pullover T-shirt/top Sandal Trouser   Bag Sandal Dress   Bag Dress Shirt Dress Ankle boot Trouser Ankle boot  Coat   Bag  Coat Pullover Sandal Ankle boot   Bag  Coat Pullover T-shirt/top Ankle boot Trouser Trouser Sandal Dress   Bag  Coat Dress Sandal Sandal Dress Sneaker Sandal Sandal Ankle boot T-shirt/top Ankle boot   Bag Trouser Trouser Dress   Bag Dress T-shirt/top Sneaker Dress Sandal Sneaker Shirt Sneaker Pullover Sneaker Sandal   Bag T-shirt/top  Coat Sneaker Dress Pullover Shirt Sandal Dress Ankle boot Dress Ankle boot Sneaker T-shirt/top Trouser Sandal Ankle boot  Coat  Coat T-shirt/top   Bag   Bag Trouser T-shirt/top Sandal Sneaker Sandal Pullover Shirt   Bag Pullover Sneaker Trouser Trouser Sandal T-shirt/top Ankle boot Ankle boot Dress Trouser Ankle boot Sneaker Sandal Pullover Sandal Sneaker T-shirt/top Pullover Sneaker Sandal   Bag Trouser Dress Sneaker Pullover Trouser Sneaker   Bag Trouser Sandal Sandal Dress Sneaker Pullover T-shirt/top Trouser Ankle boot  Coat Dress Sandal Sandal Sneaker T-shirt/top Dress Sneaker Shirt Sandal Trouser Sandal Dress Shirt Sandal  Coat Pullover Shirt   Bag Shirt Ankle boot Sneaker Ankle boot Ankle boot Sandal Dress Pullover Sneaker Dress T-shirt/top Ankle boot Trouser Trouser   Bag Pullover Sandal Dress T-shirt/top Sandal Dress Dress  Coat Sandal Trouser Trouser   Bag Pullover T-shirt/top Pullover   Bag Dress Dress Trouser Trouser Shirt Dress Dress Trouser Ankle boot Dress Dress Sandal T-shirt/top   Bag   Bag T-shirt/top Shirt Trouser   Bag   Bag Trouser Dress  Coat Shirt Pullover   Bag Ankle boot Ankle boot Dress Sneaker T-shirt/top T-shirt/top Trouser Dress Shirt Sneaker Ankle boot Sneaker Sandal  Coat Dress Sneaker Pullover T-shirt/top Dress T-shirt/top Sneaker Pullover Dress Ankle boot Dress   Bag   Bag Sneaker Sandal Dress Dress  Coat Pullover Pullover Sneaker Ankle boot  Coat Ankle boot Dress Sneaker Sandal Trouser Dress  Coat Ankle boot Pullover Shirt Trouser Shirt Sandal  Coat Ankle boot Sandal Sandal  Coat Pullover   Bag  Coat Shirt Sandal   Bag Dress T-shirt/top Dress  Coat Shirt  Coat Ankle boot Trouser   Bag Dress Sneaker Sneaker Trouser Ankle boot   Bag Pullover Dress Shirt Shirt Trouser Sneaker Shirt Trouser Ankle boot Ankle boot Ankle boot Ankle boot Shirt   Bag   Bag Sneaker Sneaker Ankle boot Sneaker Sandal Dress Sneaker   Bag Trouser T-shirt/top Trouser Dress   Bag T-shirt/top Sneaker  Coat Pullover   Bag   Bag Shirt T-shirt/top Dress Sandal Dress Sandal Dress Pullover Sandal Dress Dress Dress T-shirt/top Sandal Sneaker Sandal Sneaker Sneaker Sneaker Trouser T-shirt/top Sandal Sneaker   Bag Trouser Trouser Sneaker   Bag Ankle boot Sneaker Trouser  Coat Dress T-shirt/top Sandal Sandal Shirt Sandal Pullover   Bag   Bag   Bag Sandal Pullover   Bag Ankle boot Sneaker Shirt Shirt T-shirt/top   Bag  Coat Ankle boot   Bag Dress Ankle boot Ankle boot Dress Pullover  Coat   Bag Trouser   Bag  Coat Trouser T-shirt/top Sneaker Ankle boot   Bag Shirt Sneaker Dress Dress Dress Dress T-shirt/top Dress Sandal Shirt Sandal Dress Ankle boot Ankle boot Shirt Pullover T-shirt/top  Coat Sneaker Dress Trouser  Coat Pullover Sandal Trouser  Coat Ankle boot   Bag Pullover  Coat Sneaker Sneaker   Bag Sneaker  Coat Sneaker Dress Sneaker  Coat Ankle boot Dress Sandal Dress Trouser Ankle boot   Bag Dress Sandal Dress Dress Dress Shirt   Bag Trouser Dress  Coat Ankle boot Dress Dress Dress T-shirt/top Sandal T-shirt/top Sneaker Pullover Sandal Ankle boot  Coat Pullover Dress Pullover  Coat Sneaker  Coat Pullover Trouser Sneaker Dress Trouser Dress Dress Shirt Dress Shirt Sandal Pullover Ankle boot Dress Sandal Pullover Sneaker Shirt Sandal Trouser Dress   Bag Pullover Sandal   Bag Pullover Sneaker Sneaker Dress Sandal Trouser Sandal Sandal T-shirt/top Ankle boot T-shirt/top Shirt Trouser Dress Sandal Sandal Sneaker Ankle boot Dress  Coat Trouser  Coat Sandal Pullover Ankle boot Dress Sandal Trouser Dress T-shirt/top  Coat  Coat Shirt Dress Dress Dress   Bag Ankle boot Trouser Sandal Dress Sandal Dress Ankle boot Pullover Ankle boot Sandal Pullover Dress Sandal  Coat Ankle boot Trouser T-shirt/top Ankle boot Shirt   Bag Trouser   Bag Pullover Pullover Ankle boot Pullover Pullover Trouser   Bag  Coat Trouser Sandal Sneaker Shirt Dress Sneaker Sandal Pullover Shirt Ankle boot Sandal Shirt Dress Ankle boot Sneaker Dress Sneaker Dress T-shirt/top Pullover Dress Sneaker Ankle boot Sandal Sneaker Trouser Dress Ankle boot Sandal Dress Dress Trouser Trouser Dress Trouser Trouser Sandal Dress Dress Pullover T-shirt/top Sneaker Dress Shirt Sandal Sneaker Dress Sandal  Coat  Coat Sneaker Sandal Dress Trouser Sneaker Sandal  Coat Sandal T-shirt/top Dress Sneaker Ankle boot  Coat Dress Sneaker Trouser Ankle boot Pullover T-shirt/top Sandal   Bag Trouser  Coat Shirt   Bag Ankle boot Sneaker T-shirt/top Sneaker Dress Shirt Sneaker Dress Dress Trouser Pullover   Bag Dress  Coat Sneaker Trouser Shirt Trouser Dress Ankle boot Ankle boot Sneaker Sandal Ankle boot T-shirt/top Trouser Sneaker Sneaker Trouser  Coat Sandal T-shirt/top Sneaker  Coat Trouser Dress Shirt Dress Dress Trouser Sandal Dress   Bag Sneaker Trouser   Bag  Coat  Coat Ankle boot Sneaker Trouser Pullover Trouser   Bag  Coat Dress Ankle boot Ankle boot Shirt Ankle boot Sneaker   Bag Dress Sandal Ankle boot   Bag   Bag Dress Ankle boot Sandal   Bag T-shirt/top Sneaker Dress Ankle boot Trouser Shirt   Bag Dress T-shirt/top Dress Shirt Dress Sandal Ankle boot Ankle boot T-shirt/top Shirt   Bag Trouser Shirt T-shirt/top Trouser T-shirt/top Shirt Sneaker Dress Dress Sandal T-shirt/top Dress   Bag Ankle boot T-shirt/top Dress  Coat Ankle boot Dress Dress Ankle boot T-shirt/top Trouser Pullover Sneaker Sandal Dress Sandal Sandal Dress Sandal Pullover Trouser Dress Sneaker   Bag   Bag Shirt   Bag Ankle boot Sneaker   Bag Dress Sneaker Pullover   Bag Sandal Shirt Dress Dress Sandal  Coat  Coat Pullover Pullover Dress Sandal Sandal  Coat Dress Ankle boot T-shirt/top Sandal Ankle boot   Bag T-shirt/top  Coat Dress Dress  Coat   Bag  Coat Dress T-shirt/top Sandal Dress Trouser   Bag Sneaker Pullover Shirt Trouser Trouser T-shirt/top Pullover Sneaker Dress Ankle boot Shirt Ankle boot Shirt T-shirt/top Sandal Sneaker Sneaker T-shirt/top Sandal   Bag  Coat Sneaker Dress Sandal T-shirt/top  Coat Trouser  Coat   Bag Sandal Pullover Dress T-shirt/top Ankle boot Dress Pullover   Bag Ankle boot Pullover Dress Dress  Coat Pullover Pullover Sandal Dress Pullover Pullover Sandal Ankle boot Sandal Ankle boot Trouser Trouser Dress Sneaker Pullover Shirt Trouser Sandal   Bag Dress Trouser Ankle boot  Coat Dress Dress Dress Trouser Dress  Coat   Bag Sandal T-shirt/top Trouser Shirt Trouser Dress   Bag   Bag Dress Trouser Pullover   Bag Ankle boot Sandal Sneaker Sneaker Dress  Coat Trouser Dress Dress Shirt Pullover Sandal Ankle boot Trouser Sneaker Pullover Sandal Pullover Trouser T-shirt/top Sandal Trouser Trouser Sandal Dress Trouser Dress Trouser   Bag Sneaker Sneaker   Bag Dress Dress   Bag Pullover Sneaker Sneaker Pullover Shirt Ankle boot   Bag Dress Shirt Dress Ankle boot Shirt T-shirt/top Ankle boot  Coat Trouser Dress Dress  Coat Sneaker Trouser Trouser Ankle boot Shirt Sneaker Dress T-shirt/top   Bag Sandal Ankle boot Trouser Pullover Pullover Dress Sneaker Dress Dress Shirt  Coat Shirt Trouser Dress Sandal Dress Sneaker Ankle boot Dress T-shirt/top Trouser Sandal Pullover Dress Dress Sneaker Sneaker T-shirt/top Dress Sandal Trouser   Bag Pullover   Bag Pullover Sandal Dress Pullover Sandal Sneaker   Bag Trouser Trouser Ankle boot Sneaker T-shirt/top Sandal Pullover Dress Sneaker Sneaker Shirt Sneaker Sandal Sneaker T-shirt/top Dress Sandal   Bag   Bag  Coat Trouser   Bag T-shirt/top Sneaker Trouser Sandal Dress Sandal T-shirt/top Sandal   Bag Sneaker Pullover Ankle boot Shirt Sandal Ankle boot Ankle boot Dress Ankle boot Dress Dress Trouser Sneaker Dress Trouser Dress   Bag Dress T-shirt/top Sneaker Ankle boot Trouser   Bag T-shirt/top  Coat Ankle boot Dress Sneaker Trouser  Coat Ankle boot Trouser Trouser Sneaker Pullover  Coat Sandal   Bag T-shirt/top Trouser Dress Sandal Ankle boot Trouser Sandal Sneaker   Bag Sneaker Ankle boot Trouser Dress  Coat   Bag Ankle boot Trouser Sandal Pullover T-shirt/top   Bag Dress   Bag Dress T-shirt/top Sneaker T-shirt/top Sneaker   Bag   Bag Dress Trouser T-shirt/top Sandal Sneaker Pullover Sandal Sneaker Dress Pullover  Coat Sandal Dress Dress Sneaker Dress Pullover Sandal Sandal Sandal Sandal T-shirt/top Sneaker Ankle boot Sneaker Sneaker Pullover Sandal Sandal Dress Dress  Coat Dress Ankle boot Sneaker Sandal Sneaker Dress   Bag T-shirt/top Sneaker Dress Shirt Shirt Pullover Trouser Dress Sandal Trouser Dress  Coat Dress Sandal Ankle boot   Bag Sandal Pullover   Bag Dress Dress  Coat Trouser Sandal Dress Dress Trouser Dress Dress Sandal Pullover T-shirt/top T-shirt/top Dress Sandal Trouser Dress Sandal Pullover Sneaker   Bag Ankle boot  Coat Sandal Sneaker T-shirt/top Pullover Sneaker Pullover   Bag Sneaker Ankle boot Sneaker Ankle boot Sneaker  Coat   Bag T-shirt/top Pullover Sneaker T-shirt/top Sneaker Shirt Sandal Dress Pullover Dress Pullover Pullover Sandal Ankle boot Pullover Trouser Dress Trouser Dress Dress   Bag Dress T-shirt/top Dress   Bag Trouser Shirt Sneaker T-shirt/top Dress Trouser Sneaker Pullover Dress Trouser Shirt  Coat Pullover Pullover   Bag Pullover Trouser Ankle boot T-shirt/top Dress Pullover T-shirt/top  Coat Sneaker Dress  Coat Sneaker Pullover Dress Ankle boot Pullover   Bag Sneaker Sandal Pullover Pullover  Coat   Bag Trouser Sandal   Bag Ankle boot Sandal   Bag Sneaker T-shirt/top Dress Dress Trouser Sandal   Bag Ankle boot Pullover Dress  Coat Dress  Coat Sneaker T-shirt/top Dress Dress Pullover Pullover   Bag Dress Shirt T-shirt/top Sneaker Ankle boot Dress Dress Trouser Shirt Sandal Dress Sneaker Shirt Trouser Ankle boot Sandal Sneaker Dress  Coat Dress Dress Trouser Sneaker Ankle boot Sneaker T-shirt/top Ankle boot Dress Dress Sandal Ankle boot Dress Pullover Pullover Ankle boot Trouser Pullover T-shirt/top Dress Dress Sneaker  Coat Pullover   Bag T-shirt/top Dress Sandal Ankle boot Sandal Ankle boot Dress Pullover Dress Shirt Shirt Dress Sneaker Sneaker Dress Sneaker Dress Sneaker Sneaker Pullover  Coat Dress Trouser Sneaker Sandal Dress Shirt T-shirt/top Sandal Sneaker Shirt Sneaker Dress Shirt Sneaker Sneaker Sandal Ankle boot Shirt Pullover  Coat Trouser Pullover Sandal Sandal Dress Trouser Trouser Pullover T-shirt/top T-shirt/top Sandal Dress Sandal Shirt   Bag Ankle boot Sneaker Ankle boot  Coat T-shirt/top Shirt Trouser Sneaker Sandal Sneaker Sneaker Ankle boot  Coat Shirt Shirt  Coat Trouser   Bag Ankle boot Dress Sandal Shirt   Bag Trouser Sandal Dress Ankle boot Sandal T-shirt/top Trouser Dress Sneaker Sneaker Dress Sneaker Sneaker Ankle boot Ankle boot Sandal Trouser  Coat Sandal Sneaker Pullover Trouser Trouser  Coat Sandal Sandal Shirt Shirt Pullover Shirt   Bag T-shirt/top Ankle boot Ankle boot Sandal Sandal Trouser   Bag Dress Sandal Ankle boot Dress Ankle boot Sneaker Sneaker T-shirt/top Sneaker Ankle boot Dress T-shirt/top Sneaker Ankle boot Ankle boot Dress   Bag Shirt Pullover Dress Dress Dress   Bag Sandal Ankle boot T-shirt/top Dress Dress   Bag Ankle boot Sandal Shirt Ankle boot Dress Pullover Dress   Bag T-shirt/top Dress   Bag Dress Ankle boot Dress Pullover Ankle boot Pullover Ankle boot Ankle boot T-shirt/top Ankle boot   Bag Sandal T-shirt/top Pullover Shirt Trouser T-shirt/top Dress Shirt  Coat Pullover Trouser Pullover Sandal T-shirt/top Dress Ankle boot Sneaker Ankle boot Dress Dress Trouser   Bag Trouser Dress Pullover T-shirt/top Trouser Pullover   Bag Trouser Sandal Sneaker Trouser Trouser Sneaker Dress  Coat  Coat T-shirt/top\n"
     ]
    }
   ],
   "source": [
    "_, predicted = torch.max(outputs, 1)\n",
    "\n",
    "print('Predicted: ', ' '.join('%5s' % classes[predicted[j]]\n",
    "                              for j in range(batch_size)))"
   ]
  },
  {
   "cell_type": "code",
   "execution_count": 27,
   "metadata": {
    "colab": {
     "base_uri": "https://localhost:8080/"
    },
    "id": "_fKdJHWbX2DR",
    "outputId": "038c26f6-4ab3-4954-c104-504a9fdd2d05"
   },
   "outputs": [
    {
     "name": "stdout",
     "output_type": "stream",
     "text": [
      "Accuracy of the network on the 10000 test images: 88 %\n"
     ]
    }
   ],
   "source": [
    "net.eval()\n",
    "correct = 0\n",
    "total = 0\n",
    "# 학습 중이 아니므로, 출력에 대한 변화도를 계산할 필요가 없습니다\n",
    "with torch.no_grad():\n",
    "    for data in testloader:\n",
    "        images, labels = data[0].to(device), data[1].to(device)\n",
    "\n",
    "        # 신경망에 이미지를 통과시켜 출력을 계산합니다\n",
    "        outputs = net(images)\n",
    "        # 가장 높은 값(energy)를 갖는 분류(class)를 정답으로 선택하겠습니다\n",
    "        _, predicted = torch.max(outputs.data, 1)\n",
    "        total += labels.size(0)\n",
    "        correct += (predicted == labels).sum().item()\n",
    "\n",
    "print('Accuracy of the network on the 10000 test images: %d %%' % (\n",
    "    100 * correct / total))"
   ]
  },
  {
   "cell_type": "code",
   "execution_count": 28,
   "metadata": {
    "colab": {
     "base_uri": "https://localhost:8080/"
    },
    "id": "zSiYXtBCYEJx",
    "outputId": "26710488-3eac-49fe-defb-67c03011007c"
   },
   "outputs": [
    {
     "name": "stdout",
     "output_type": "stream",
     "text": [
      "Accuracy for class T-shirt/top is: 77.2 %\n",
      "Accuracy for class Trouser is: 98.6 %\n",
      "Accuracy for class Pullover is: 83.8 %\n",
      "Accuracy for class Dress is: 98.6 %\n",
      "Accuracy for class Coat  is: 75.3 %\n",
      "Accuracy for class Sandal is: 99.5 %\n",
      "Accuracy for class Shirt is: 67.0 %\n",
      "Accuracy for class Sneaker is: 97.9 %\n",
      "Accuracy for class Bag   is: 94.6 %\n",
      "Accuracy for class Ankle boot is: 96.8 %\n"
     ]
    }
   ],
   "source": [
    "# 각 분류(class)에 대한 예측값 계산을 위해 준비\n",
    "correct_pred = {classname: 0 for classname in classes}\n",
    "total_pred = {classname: 0 for classname in classes}\n",
    "\n",
    "# 변화도는 여전히 필요하지 않습니다\n",
    "with torch.no_grad():\n",
    "    for data in testloader:\n",
    "        images, labels = data[0].to(device), data[1].to(device)\n",
    "        outputs = net(images)\n",
    "        _, predictions = torch.max(outputs, 1)\n",
    "        # 각 분류별로 올바른 예측 수를 모읍니다\n",
    "        for label, prediction in zip(labels, predictions):\n",
    "            if label == prediction:\n",
    "                correct_pred[classes[label]] += 1\n",
    "            total_pred[classes[label]] += 1\n",
    "\n",
    "\n",
    "# 각 분류별 정확도(accuracy)를 출력합니다\n",
    "for classname, correct_count in correct_pred.items():\n",
    "    accuracy = 100 * float(correct_count) / total_pred[classname]\n",
    "    print(\"Accuracy for class {:5s} is: {:.1f} %\".format(classname,\n",
    "                                                   accuracy))"
   ]
  },
  {
   "cell_type": "code",
   "execution_count": 29,
   "metadata": {
    "id": "0UorzWjiYEG7"
   },
   "outputs": [
    {
     "name": "stdout",
     "output_type": "stream",
     "text": [
      "Coat\n",
      "Sandal\n",
      "Bag\n",
      "Dress\n",
      "Ankle boot\n",
      "Coat\n",
      "Dress\n",
      "Dress\n",
      "Shirt\n",
      "Coat\n"
     ]
    }
   ],
   "source": [
    "for i in range(10):\n",
    "    print(classes[labels[i]])"
   ]
  },
  {
   "cell_type": "code",
   "execution_count": null,
   "metadata": {},
   "outputs": [],
   "source": []
  }
 ],
 "metadata": {
  "accelerator": "GPU",
  "colab": {
   "authorship_tag": "ABX9TyOJSwc78vQi4Iw7xpvGyCs6",
   "include_colab_link": true,
   "name": "Project 0. pytorch tutorial_jaewook.ipynb",
   "provenance": []
  },
  "kernelspec": {
   "display_name": "Environment (conda_pytorch_p36)",
   "language": "python",
   "name": "conda_pytorch_p36"
  },
  "language_info": {
   "codemirror_mode": {
    "name": "ipython",
    "version": 3
   },
   "file_extension": ".py",
   "mimetype": "text/x-python",
   "name": "python",
   "nbconvert_exporter": "python",
   "pygments_lexer": "ipython3",
   "version": "3.6.5"
  }
 },
 "nbformat": 4,
 "nbformat_minor": 1
}
