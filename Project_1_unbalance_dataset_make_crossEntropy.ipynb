{
 "cells": [
  {
   "cell_type": "markdown",
   "metadata": {
    "id": "8M3eOnh39bfO"
   },
   "source": [
    "1. torchvision을 사용하여 CIFAR10의 학습용 데이터, 시험용 데이터 불러오기, 정규화\n",
    "2. 합성곱 신경망 정의\n",
    "3. 손실 함수 정의\n",
    "4. 학습용 데이터를 사용하여 신경망 학습\n",
    "5. 시험용 데이터를 사용하여 신경망 검사"
   ]
  },
  {
   "cell_type": "code",
   "execution_count": 1,
   "metadata": {
    "id": "uXuITn8289eq"
   },
   "outputs": [],
   "source": [
    "#결과 inline에 출력\n",
    "%matplotlib inline"
   ]
  },
  {
   "cell_type": "code",
   "execution_count": 2,
   "metadata": {
    "id": "FEH4NGb6-KeH"
   },
   "outputs": [],
   "source": [
    "import torch\n",
    "import torchvision\n",
    "from torchvision.datasets import FashionMNIST\n",
    "# from torchvision.datasets import MNIST\n",
    "import torchvision.transforms as transforms\n",
    "import collections\n",
    "from sklearn import datasets\n",
    "from imblearn import under_sampling\n",
    "from typing import Any, Callable, Dict, List, Optional, Tuple\n",
    "import os\n",
    "import numpy as np"
   ]
  },
  {
   "cell_type": "code",
   "execution_count": 3,
   "metadata": {
    "id": "WbDcVbDtYQxy"
   },
   "outputs": [],
   "source": [
    "device = torch.device(\"cuda:0\" if torch.cuda.is_available() else \"cpu\")"
   ]
  },
  {
   "cell_type": "code",
   "execution_count": 4,
   "metadata": {},
   "outputs": [
    {
     "name": "stdout",
     "output_type": "stream",
     "text": [
      "2\n"
     ]
    }
   ],
   "source": [
    "print(torch.cuda.device_count())"
   ]
  },
  {
   "cell_type": "code",
   "execution_count": 5,
   "metadata": {
    "scrolled": true
   },
   "outputs": [
    {
     "name": "stdout",
     "output_type": "stream",
     "text": [
      "1.7.1+cu101\n"
     ]
    }
   ],
   "source": [
    "print(torch.__version__)"
   ]
  },
  {
   "cell_type": "code",
   "execution_count": 6,
   "metadata": {
    "colab": {
     "base_uri": "https://localhost:8080/"
    },
    "id": "qwxpmJonGrsb",
    "outputId": "0fab87ba-52f8-4d2a-88bf-81fec7f02dc4"
   },
   "outputs": [],
   "source": [
    "transform = transforms.Compose(\n",
    "    [transforms.ToTensor(),\n",
    "     transforms.Normalize((0.5,), (0.5,))])\n",
    "\n",
    "batch_size = 2048\n",
    "\n",
    "trainset = torchvision.datasets.FashionMNIST(root='./data', train=True,\n",
    "                                        download=True, transform=transform)\n",
    "trainloader = torch.utils.data.DataLoader(trainset, batch_size=batch_size,\n",
    "                                          shuffle=True, num_workers= 8 ,pin_memory= True)\n",
    "\n",
    "testset = torchvision.datasets.FashionMNIST(root='./data', train=False,\n",
    "                                       download=True, transform=transform)\n",
    "testloader = torch.utils.data.DataLoader(testset, batch_size=batch_size,\n",
    "                                         shuffle=False, num_workers=8, pin_memory= True)\n",
    "\n",
    "classes = ('T-shirt/top', 'Trouser', 'Pullover', 'Dress', 'Coat', 'Sandal',\n",
    "               'Shirt', 'Sneaker', 'Bag', 'Ankle boot')"
   ]
  },
  {
   "cell_type": "code",
   "execution_count": 7,
   "metadata": {},
   "outputs": [
    {
     "data": {
      "text/plain": [
       "torch.Tensor"
      ]
     },
     "execution_count": 7,
     "metadata": {},
     "output_type": "execute_result"
    }
   ],
   "source": [
    "type(trainset.data)"
   ]
  },
  {
   "cell_type": "code",
   "execution_count": 8,
   "metadata": {},
   "outputs": [
    {
     "data": {
      "text/plain": [
       "torch.Tensor"
      ]
     },
     "execution_count": 8,
     "metadata": {},
     "output_type": "execute_result"
    }
   ],
   "source": [
    "type(trainset.targets)"
   ]
  },
  {
   "cell_type": "code",
   "execution_count": 9,
   "metadata": {},
   "outputs": [
    {
     "name": "stdout",
     "output_type": "stream",
     "text": [
      "Original dataset shape Counter({9: 6000, 0: 6000, 3: 6000, 2: 6000, 7: 6000, 5: 6000, 1: 6000, 6: 6000, 4: 6000, 8: 6000})\n"
     ]
    }
   ],
   "source": [
    "print('Original dataset shape %s' % collections.Counter(trainset.targets.tolist()))\n"
   ]
  },
  {
   "cell_type": "code",
   "execution_count": 10,
   "metadata": {},
   "outputs": [],
   "source": [
    "class unbalance_FashionMNIST(FashionMNIST):\n",
    "     def __init__(\n",
    "            self,\n",
    "            root: str,\n",
    "            train: bool = True,\n",
    "            transform: Optional[Callable] = None,\n",
    "            target_transform: Optional[Callable] = None,\n",
    "            download: bool = False,\n",
    "    ) -> None:\n",
    "        super(unbalance_FashionMNIST, self).__init__(root, transform=transform,\n",
    "                                    target_transform=target_transform)\n",
    "        \n",
    "        if self.train:\n",
    "            data_file = self.training_file\n",
    "        else:\n",
    "            data_file = self.test_file\n",
    "     \n",
    "        self.data, self.targets = torch.load(os.path.join(self.processed_folder, data_file))\n",
    "        rus = under_sampling.RandomUnderSampler(\n",
    "            sampling_strategy={\n",
    "                0: 600,\n",
    "                1: 6000,\n",
    "                2: 600,\n",
    "                3: 6000,\n",
    "                4: 600,\n",
    "                5: 6000,\n",
    "                6: 600,\n",
    "                7: 6000,\n",
    "                8: 600,\n",
    "                9: 6000\n",
    "                \n",
    "            },\n",
    "            random_state=42\n",
    "        )\n",
    "        self.data, self.targets = rus.fit_resample(np.array(self.data).reshape(60000,28*28), np.array(self.targets))\n",
    "        self.data, self.targets = torch.Tensor(self.data.reshape(-1,28,28)).to(dtype=torch.uint8), torch.Tensor(self.targets).to(dtype=torch.uint8)\n",
    "\n"
   ]
  },
  {
   "cell_type": "code",
   "execution_count": 11,
   "metadata": {},
   "outputs": [],
   "source": [
    "transform = transforms.Compose(\n",
    "    [transforms.ToTensor(),\n",
    "     transforms.Normalize((0.5,), (0.5,))])\n",
    "\n",
    "batch_size = 2048\n",
    "\n",
    "trainset = unbalance_FashionMNIST(root='./data', train=True,\n",
    "                                        download=True, transform=transform)\n",
    "trainloader = torch.utils.data.DataLoader(trainset, batch_size=batch_size,\n",
    "                                          shuffle=True, num_workers= 8 ,pin_memory= True)\n",
    "\n",
    "testset = torchvision.datasets.FashionMNIST(root='./data', train=False,\n",
    "                                       download=True, transform=transform)\n",
    "testloader = torch.utils.data.DataLoader(testset, batch_size=batch_size,\n",
    "                                         shuffle=True, num_workers=8, pin_memory= True)\n",
    "\n",
    "classes = ('T-shirt/top', 'Trouser', 'Pullover', 'Dress', 'Coat', 'Sandal',\n",
    "               'Shirt', 'Sneaker', 'Bag', 'Ankle boot')"
   ]
  },
  {
   "cell_type": "code",
   "execution_count": 12,
   "metadata": {},
   "outputs": [
    {
     "name": "stdout",
     "output_type": "stream",
     "text": [
      "reshape dataset shape Counter({1: 6000, 3: 6000, 5: 6000, 7: 6000, 9: 6000, 0: 600, 2: 600, 4: 600, 6: 600, 8: 600})\n"
     ]
    }
   ],
   "source": [
    "print('reshape dataset shape %s' % collections.Counter(trainset.targets.tolist()))"
   ]
  },
  {
   "cell_type": "code",
   "execution_count": 13,
   "metadata": {},
   "outputs": [
    {
     "data": {
      "text/plain": [
       "torch.Tensor"
      ]
     },
     "execution_count": 13,
     "metadata": {},
     "output_type": "execute_result"
    }
   ],
   "source": [
    "type(trainset.data)"
   ]
  },
  {
   "cell_type": "code",
   "execution_count": 14,
   "metadata": {},
   "outputs": [
    {
     "data": {
      "text/plain": [
       "torch.Tensor"
      ]
     },
     "execution_count": 14,
     "metadata": {},
     "output_type": "execute_result"
    }
   ],
   "source": [
    "type(trainset.targets)"
   ]
  },
  {
   "cell_type": "code",
   "execution_count": 15,
   "metadata": {
    "colab": {
     "base_uri": "https://localhost:8080/",
     "height": 307
    },
    "id": "rgQfhxpXJZ5f",
    "outputId": "859af676-6ece-430a-a4ff-0b0346bd5bc7"
   },
   "outputs": [
    {
     "name": "stdout",
     "output_type": "stream",
     "text": [
      "<torch.utils.data.dataloader._MultiProcessingDataLoaderIter object at 0x7f1c121ad470>\n"
     ]
    },
    {
     "data": {
      "image/png": "[encoded data removed]",
      "text/plain": [
       "<Figure size 432x288 with 1 Axes>"
      ]
     },
     "metadata": {},
     "output_type": "display_data"
    },
    {
     "name": "stdout",
     "output_type": "stream",
     "text": [
      "Trouser Dress Ankle boot   Bag\n"
     ]
    }
   ],
   "source": [
    "import matplotlib.pyplot as plt\n",
    "import numpy as np\n",
    "\n",
    "# 이미지를 보여주기 위한 함수\n",
    "\n",
    "def imshow(img):\n",
    "    img = img / 2 + 0.5     # unnormalize\n",
    "    npimg = img.numpy()\n",
    "    plt.imshow(np.transpose(npimg, (1, 2, 0)))\n",
    "    plt.show()\n",
    "\n",
    "\n",
    "# 학습용 이미지를 무작위로 가져오기\n",
    "dataiter = iter(trainloader)\n",
    "print(dataiter)\n",
    "images, labels = dataiter.next()\n",
    "# 이미지 보여주기\n",
    "imshow(torchvision.utils.make_grid(images))\n",
    "# 정답(label) 출력\n",
    "print(' '.join('%5s' % classes[labels[j]] for j in range(4)))"
   ]
  },
  {
   "cell_type": "code",
   "execution_count": 16,
   "metadata": {
    "colab": {
     "base_uri": "https://localhost:8080/"
    },
    "id": "NB7aQV8uJZv6",
    "outputId": "a827f329-4e7f-4478-b1c1-839409b5d2a3"
   },
   "outputs": [
    {
     "data": {
      "text/plain": [
       "DataParallel(\n",
       "  (module): Net(\n",
       "    (layer1): Sequential(\n",
       "      (0): Conv2d(1, 32, kernel_size=(3, 3), stride=(1, 1))\n",
       "      (1): ReLU()\n",
       "      (2): Conv2d(32, 32, kernel_size=(3, 3), stride=(1, 1))\n",
       "      (3): ReLU()\n",
       "      (4): MaxPool2d(kernel_size=2, stride=2, padding=0, dilation=1, ceil_mode=False)\n",
       "      (5): Dropout(p=0.2, inplace=False)\n",
       "    )\n",
       "    (layer2): Sequential(\n",
       "      (0): Conv2d(32, 64, kernel_size=(3, 3), stride=(1, 1))\n",
       "      (1): ReLU()\n",
       "      (2): Conv2d(64, 64, kernel_size=(3, 3), stride=(1, 1))\n",
       "      (3): ReLU()\n",
       "      (4): MaxPool2d(kernel_size=2, stride=2, padding=0, dilation=1, ceil_mode=False)\n",
       "      (5): Dropout(p=0.2, inplace=False)\n",
       "    )\n",
       "    (fc1): Linear(in_features=1024, out_features=120, bias=True)\n",
       "    (bn1): BatchNorm1d(120, eps=1e-05, momentum=0.1, affine=True, track_running_stats=True)\n",
       "    (bn2): BatchNorm1d(84, eps=1e-05, momentum=0.1, affine=True, track_running_stats=True)\n",
       "    (fc2): Linear(in_features=120, out_features=84, bias=True)\n",
       "    (fc3): Linear(in_features=84, out_features=10, bias=True)\n",
       "  )\n",
       ")"
      ]
     },
     "execution_count": 16,
     "metadata": {},
     "output_type": "execute_result"
    }
   ],
   "source": [
    "import torch.nn as nn\n",
    "import torch.nn.functional as F\n",
    "\n",
    "\n",
    "class Net(nn.Module):\n",
    "    def __init__(self):\n",
    "        super().__init__()\n",
    "        self.layer1 = torch.nn.Sequential(\n",
    "          nn.Conv2d(1, 32, 3),\n",
    "          nn.ReLU(),\n",
    "          nn.Conv2d(32, 32, 3),\n",
    "          nn.ReLU(),\n",
    "          nn.MaxPool2d(2, 2),\n",
    "          nn.Dropout(0.2)\n",
    "        )\n",
    "\n",
    "        self.layer2 = torch.nn.Sequential(\n",
    "          nn.Conv2d(32, 64, 3),\n",
    "          nn.ReLU(),\n",
    "          nn.Conv2d(64, 64, 3),\n",
    "          nn.ReLU(),\n",
    "          nn.MaxPool2d(2, 2),\n",
    "          nn.Dropout(0.2)\n",
    "        )\n",
    "\n",
    "\n",
    "        self.fc1 = nn.Linear(1024, 120)\n",
    "        self.bn1 = nn.BatchNorm1d(120)\n",
    "        self.bn2 = nn.BatchNorm1d(84)\n",
    "        self.fc2 = nn.Linear(120, 84)\n",
    "        self.fc3 = nn.Linear(84, 10)\n",
    "\n",
    "\n",
    "    def forward(self, x):\n",
    "        x = self.layer1(x)\n",
    "        x = self.layer2(x)\n",
    "        x = torch.flatten(x, 1) # 배치를 제외한 모든 차원을 평탄화(flatten)\n",
    "        x = F.relu(self.bn1(self.fc1(x)))\n",
    "        x = F.relu(self.bn2(self.fc2(x)))\n",
    "        x = self.fc3(x)\n",
    "        return x\n",
    "\n",
    "\n",
    "net = Net()\n",
    "\n",
    "if torch.cuda.device_count() > 1:\n",
    "    net = nn.DataParallel(net)\n",
    "\n",
    "net.to(device)"
   ]
  },
  {
   "cell_type": "code",
   "execution_count": 17,
   "metadata": {
    "id": "NmP7RK2FWytM"
   },
   "outputs": [],
   "source": [
    "import torch.optim as optim\n",
    "\n",
    "# criterion = nn.CrossEntropyLoss()\n",
    "optimizer = optim.Adam(net.parameters(), lr=0.001)"
   ]
  },
  {
   "cell_type": "code",
   "execution_count": 18,
   "metadata": {},
   "outputs": [],
   "source": [
    "def custom_CE(output,labels):\n",
    "    count_output = len(labels)\n",
    "    loss_total = 0.0\n",
    "    for i in range(count_output):\n",
    "        loss = torch.log(sum(torch.exp(output[i]))) - output[i][labels[i]]\n",
    "        loss_total += loss\n",
    "    return loss_total/count_output\n",
    "    "
   ]
  },
  {
   "cell_type": "code",
   "execution_count": 19,
   "metadata": {
    "colab": {
     "base_uri": "https://localhost:8080/"
    },
    "id": "sPYggzAfW0Be",
    "outputId": "14b7fb32-dfdf-4530-c83d-f03b72f2b92a"
   },
   "outputs": [
    {
     "name": "stdout",
     "output_type": "stream",
     "text": [
      "[1,    10] loss: 1.477\n",
      "[2,    10] loss: 0.585\n",
      "[3,    10] loss: 0.381\n",
      "[4,    10] loss: 0.288\n",
      "[5,    10] loss: 0.236\n",
      "[6,    10] loss: 0.199\n",
      "[7,    10] loss: 0.189\n",
      "[8,    10] loss: 0.167\n",
      "[9,    10] loss: 0.151\n",
      "[10,    10] loss: 0.140\n",
      "[11,    10] loss: 0.135\n",
      "[12,    10] loss: 0.130\n",
      "[13,    10] loss: 0.118\n",
      "[14,    10] loss: 0.115\n",
      "[15,    10] loss: 0.104\n",
      "[16,    10] loss: 0.102\n",
      "[17,    10] loss: 0.104\n",
      "[18,    10] loss: 0.096\n",
      "[19,    10] loss: 0.084\n",
      "[20,    10] loss: 0.084\n",
      "[21,    10] loss: 0.082\n",
      "[22,    10] loss: 0.078\n",
      "[23,    10] loss: 0.077\n",
      "[24,    10] loss: 0.067\n",
      "[25,    10] loss: 0.070\n",
      "[26,    10] loss: 0.067\n",
      "[27,    10] loss: 0.067\n",
      "[28,    10] loss: 0.068\n",
      "[29,    10] loss: 0.060\n",
      "[30,    10] loss: 0.060\n",
      "[31,    10] loss: 0.053\n",
      "[32,    10] loss: 0.051\n",
      "[33,    10] loss: 0.052\n",
      "[34,    10] loss: 0.049\n",
      "[35,    10] loss: 0.045\n",
      "[36,    10] loss: 0.046\n",
      "[37,    10] loss: 0.044\n",
      "[38,    10] loss: 0.040\n",
      "[39,    10] loss: 0.046\n",
      "[40,    10] loss: 0.043\n",
      "[41,    10] loss: 0.038\n",
      "[42,    10] loss: 0.035\n",
      "[43,    10] loss: 0.036\n",
      "[44,    10] loss: 0.038\n",
      "[45,    10] loss: 0.041\n",
      "[46,    10] loss: 0.040\n",
      "[47,    10] loss: 0.036\n",
      "[48,    10] loss: 0.033\n",
      "[49,    10] loss: 0.030\n",
      "[50,    10] loss: 0.026\n",
      "[51,    10] loss: 0.027\n",
      "[52,    10] loss: 0.028\n",
      "[53,    10] loss: 0.026\n",
      "[54,    10] loss: 0.025\n",
      "[55,    10] loss: 0.028\n",
      "[56,    10] loss: 0.026\n",
      "[57,    10] loss: 0.022\n",
      "[58,    10] loss: 0.022\n",
      "[59,    10] loss: 0.022\n",
      "[60,    10] loss: 0.022\n",
      "[61,    10] loss: 0.019\n",
      "[62,    10] loss: 0.021\n",
      "[63,    10] loss: 0.019\n",
      "[64,    10] loss: 0.019\n",
      "[65,    10] loss: 0.018\n",
      "[66,    10] loss: 0.021\n",
      "[67,    10] loss: 0.024\n",
      "[68,    10] loss: 0.021\n",
      "[69,    10] loss: 0.017\n",
      "[70,    10] loss: 0.016\n",
      "[71,    10] loss: 0.018\n",
      "[72,    10] loss: 0.017\n",
      "[73,    10] loss: 0.018\n",
      "[74,    10] loss: 0.022\n",
      "[75,    10] loss: 0.022\n",
      "[76,    10] loss: 0.017\n",
      "[77,    10] loss: 0.015\n",
      "[78,    10] loss: 0.015\n",
      "[79,    10] loss: 0.014\n",
      "[80,    10] loss: 0.014\n",
      "[81,    10] loss: 0.011\n",
      "[82,    10] loss: 0.014\n",
      "[83,    10] loss: 0.013\n",
      "[84,    10] loss: 0.013\n",
      "[85,    10] loss: 0.014\n",
      "[86,    10] loss: 0.016\n",
      "[87,    10] loss: 0.017\n",
      "[88,    10] loss: 0.012\n",
      "[89,    10] loss: 0.014\n",
      "[90,    10] loss: 0.015\n",
      "[91,    10] loss: 0.011\n",
      "[92,    10] loss: 0.015\n",
      "[93,    10] loss: 0.015\n",
      "[94,    10] loss: 0.014\n",
      "[95,    10] loss: 0.013\n",
      "[96,    10] loss: 0.011\n",
      "[97,    10] loss: 0.011\n",
      "[98,    10] loss: 0.010\n",
      "[99,    10] loss: 0.010\n",
      "[100,    10] loss: 0.013\n",
      "[101,    10] loss: 0.012\n",
      "[102,    10] loss: 0.013\n",
      "[103,    10] loss: 0.011\n",
      "[104,    10] loss: 0.010\n",
      "[105,    10] loss: 0.008\n",
      "[106,    10] loss: 0.008\n",
      "[107,    10] loss: 0.007\n",
      "[108,    10] loss: 0.007\n",
      "[109,    10] loss: 0.007\n",
      "[110,    10] loss: 0.007\n",
      "[111,    10] loss: 0.006\n",
      "[112,    10] loss: 0.006\n",
      "[113,    10] loss: 0.008\n",
      "[114,    10] loss: 0.011\n",
      "[115,    10] loss: 0.008\n",
      "[116,    10] loss: 0.011\n",
      "[117,    10] loss: 0.011\n",
      "[118,    10] loss: 0.009\n",
      "[119,    10] loss: 0.009\n",
      "[120,    10] loss: 0.008\n",
      "[121,    10] loss: 0.014\n",
      "[122,    10] loss: 0.014\n",
      "[123,    10] loss: 0.015\n",
      "[124,    10] loss: 0.019\n",
      "[125,    10] loss: 0.016\n",
      "[126,    10] loss: 0.010\n",
      "[127,    10] loss: 0.009\n",
      "[128,    10] loss: 0.008\n",
      "[129,    10] loss: 0.010\n",
      "[130,    10] loss: 0.010\n",
      "[131,    10] loss: 0.010\n",
      "[132,    10] loss: 0.008\n",
      "[133,    10] loss: 0.007\n",
      "[134,    10] loss: 0.008\n",
      "[135,    10] loss: 0.006\n",
      "[136,    10] loss: 0.007\n",
      "[137,    10] loss: 0.007\n",
      "[138,    10] loss: 0.008\n",
      "[139,    10] loss: 0.010\n",
      "[140,    10] loss: 0.010\n",
      "[141,    10] loss: 0.009\n",
      "[142,    10] loss: 0.009\n",
      "[143,    10] loss: 0.009\n",
      "[144,    10] loss: 0.007\n",
      "[145,    10] loss: 0.012\n",
      "[146,    10] loss: 0.008\n",
      "[147,    10] loss: 0.007\n",
      "[148,    10] loss: 0.008\n",
      "[149,    10] loss: 0.006\n",
      "[150,    10] loss: 0.006\n",
      "[151,    10] loss: 0.009\n",
      "[152,    10] loss: 0.008\n",
      "[153,    10] loss: 0.007\n",
      "[154,    10] loss: 0.007\n",
      "[155,    10] loss: 0.005\n",
      "[156,    10] loss: 0.006\n",
      "[157,    10] loss: 0.008\n",
      "[158,    10] loss: 0.011\n",
      "[159,    10] loss: 0.011\n",
      "[160,    10] loss: 0.011\n",
      "[161,    10] loss: 0.010\n",
      "[162,    10] loss: 0.009\n",
      "[163,    10] loss: 0.007\n",
      "[164,    10] loss: 0.006\n",
      "[165,    10] loss: 0.008\n",
      "[166,    10] loss: 0.007\n",
      "[167,    10] loss: 0.008\n",
      "[168,    10] loss: 0.007\n",
      "[169,    10] loss: 0.005\n",
      "[170,    10] loss: 0.005\n",
      "[171,    10] loss: 0.007\n",
      "[172,    10] loss: 0.007\n",
      "[173,    10] loss: 0.006\n",
      "[174,    10] loss: 0.008\n",
      "[175,    10] loss: 0.008\n",
      "[176,    10] loss: 0.007\n",
      "[177,    10] loss: 0.011\n",
      "[178,    10] loss: 0.010\n",
      "[179,    10] loss: 0.010\n",
      "[180,    10] loss: 0.011\n",
      "[181,    10] loss: 0.008\n",
      "[182,    10] loss: 0.007\n",
      "[183,    10] loss: 0.005\n",
      "[184,    10] loss: 0.005\n",
      "[185,    10] loss: 0.006\n",
      "[186,    10] loss: 0.005\n",
      "[187,    10] loss: 0.006\n",
      "[188,    10] loss: 0.005\n",
      "[189,    10] loss: 0.005\n",
      "[190,    10] loss: 0.005\n",
      "[191,    10] loss: 0.004\n",
      "[192,    10] loss: 0.003\n",
      "[193,    10] loss: 0.004\n",
      "[194,    10] loss: 0.004\n",
      "[195,    10] loss: 0.003\n",
      "[196,    10] loss: 0.004\n",
      "[197,    10] loss: 0.002\n",
      "[198,    10] loss: 0.003\n",
      "[199,    10] loss: 0.003\n",
      "[200,    10] loss: 0.003\n",
      "Finished Training\n"
     ]
    }
   ],
   "source": [
    "net.train()\n",
    "for epoch in range(200):   # 데이터셋을 수차례 반복합니다.\n",
    "    running_loss = 0.0\n",
    "    for i, data in enumerate(trainloader, 0):\n",
    "        # [inputs, labels]의 목록인 data로부터 입력을 받은 후;\n",
    "        inputs, labels = data[0].to(device), data[1].to(device)\n",
    "\n",
    "        # 변화도(Gradient) 매개변수를 0으로 만들고\n",
    "        optimizer.zero_grad()\n",
    "\n",
    "        # 순전파 + 역전파 + 최적화를 한 후\n",
    "        outputs = net(inputs)\n",
    "        loss = custom_CE(outputs, labels)\n",
    "        loss.backward()\n",
    "        optimizer.step()\n",
    "\n",
    "        # 통계를 출력합니다.\n",
    "        running_loss += loss.item()\n",
    "        if i % 10 == 9:    # print every 2000 mini-batches\n",
    "            print('[%d, %5d] loss: %.3f' %\n",
    "                  (epoch + 1, i + 1, running_loss / 10))\n",
    "            running_loss = 0.0\n",
    "\n",
    "print('Finished Training')"
   ]
  },
  {
   "cell_type": "code",
   "execution_count": null,
   "metadata": {
    "id": "SYFO6TofWz-0"
   },
   "outputs": [],
   "source": [
    "# PATH = './fashion_net.pth'\n",
    "# torch.save(net.state_dict(), PATH)"
   ]
  },
  {
   "cell_type": "code",
   "execution_count": 20,
   "metadata": {
    "colab": {
     "base_uri": "https://localhost:8080/"
    },
    "id": "xi8HjximWz5-",
    "outputId": "688f3e8e-f55b-4d0d-b51c-d29a5e2c8c53"
   },
   "outputs": [
    {
     "name": "stdout",
     "output_type": "stream",
     "text": [
      "GroundTruth:  Ankle boot Sneaker Dress Sandal Pullover  Coat   Bag Trouser Pullover Ankle boot Sneaker Ankle boot  Coat Shirt  Coat Shirt Trouser   Bag   Bag Pullover   Bag  Coat  Coat Pullover Sneaker   Bag Trouser   Bag   Bag Sandal Trouser Pullover Trouser Sandal Pullover Sneaker   Bag Trouser Sandal  Coat Ankle boot Shirt Sandal  Coat Shirt Shirt   Bag T-shirt/top Pullover Ankle boot Shirt Trouser Ankle boot   Bag Sandal Pullover   Bag   Bag Sandal Ankle boot Shirt Ankle boot T-shirt/top Sneaker\n"
     ]
    }
   ],
   "source": [
    "dataiter = iter(testloader)\n",
    "images, labels = dataiter.next()\n",
    "images = images.to(device)\n",
    "labels = labels.to(device)\n",
    "# 이미지를 출력합니다.\n",
    "# imshow(torchvision.utils.make_grid(images))\n",
    "print('GroundTruth: ', ' '.join('%5s' % classes[labels[j]] for j in range(64)))"
   ]
  },
  {
   "cell_type": "code",
   "execution_count": 21,
   "metadata": {
    "id": "eAQ14i67Xzdk"
   },
   "outputs": [],
   "source": [
    "# net = Net()\n",
    "# net.to(device)\n",
    "# net.load_state_dict(torch.load(PATH))"
   ]
  },
  {
   "cell_type": "code",
   "execution_count": 22,
   "metadata": {
    "id": "xW5s_VvOX2Kr"
   },
   "outputs": [],
   "source": [
    "net.train()\n",
    "outputs = net(images)"
   ]
  },
  {
   "cell_type": "code",
   "execution_count": 23,
   "metadata": {},
   "outputs": [
    {
     "name": "stdout",
     "output_type": "stream",
     "text": [
      "tensor([-5.7037, -4.0506, -5.7668, -7.9462, -5.5859, -5.2237, -5.9872, 12.3142,\n",
      "        -6.8169, -4.0218], device='cuda:0', grad_fn=<SelectBackward>)\n"
     ]
    }
   ],
   "source": [
    "print(outputs[1])"
   ]
  },
  {
   "cell_type": "code",
   "execution_count": 24,
   "metadata": {},
   "outputs": [
    {
     "name": "stdout",
     "output_type": "stream",
     "text": [
      "tensor([9, 7], device='cuda:0')\n"
     ]
    }
   ],
   "source": [
    "_, predicted = torch.max(outputs[0:2], 1)\n",
    "print(predicted)"
   ]
  },
  {
   "cell_type": "code",
   "execution_count": 25,
   "metadata": {
    "colab": {
     "base_uri": "https://localhost:8080/"
    },
    "id": "-EUVmr_-X2IL",
    "outputId": "07dd4599-2c71-46e0-f132-e1f09e678af2"
   },
   "outputs": [
    {
     "name": "stdout",
     "output_type": "stream",
     "text": [
      "Predicted:  Ankle boot Sneaker Dress Sandal Pullover Dress   Bag Trouser Pullover Ankle boot Sneaker Ankle boot  Coat Shirt  Coat Shirt Trouser   Bag   Bag Dress   Bag  Coat  Coat Shirt Sneaker   Bag Trouser   Bag   Bag Sandal Trouser Ankle boot Trouser Sandal Pullover Sneaker   Bag Trouser Sandal Dress Ankle boot Dress Sandal  Coat Shirt Shirt Dress T-shirt/top Pullover Ankle boot T-shirt/top Trouser Ankle boot   Bag Sandal Pullover Pullover   Bag Sandal Ankle boot Dress Ankle boot T-shirt/top Sneaker Trouser Pullover Ankle boot Sneaker Shirt Trouser Trouser Dress T-shirt/top Ankle boot Ankle boot Trouser Dress Dress Shirt Trouser  Coat T-shirt/top T-shirt/top Trouser Dress Pullover   Bag Dress Dress Ankle boot Pullover T-shirt/top  Coat Trouser Sneaker Pullover Dress Ankle boot Ankle boot Pullover Dress Shirt Ankle boot Dress Dress T-shirt/top Ankle boot  Coat Dress Ankle boot Sneaker Trouser  Coat Sandal Dress Pullover Sneaker Pullover Sneaker   Bag Ankle boot Dress Sneaker Ankle boot Sneaker Pullover   Bag Sneaker Sandal Pullover Sandal Trouser Sandal T-shirt/top Sandal   Bag Sandal Trouser Sneaker T-shirt/top Sneaker Pullover Sandal Ankle boot Trouser Dress T-shirt/top Shirt   Bag  Coat   Bag Sandal Shirt Sneaker Dress Trouser Sandal Ankle boot Dress   Bag Ankle boot Ankle boot T-shirt/top Dress Sneaker  Coat   Bag Ankle boot Ankle boot Sneaker Dress  Coat Shirt Shirt T-shirt/top Sneaker Sneaker T-shirt/top   Bag Trouser Trouser Sneaker Pullover Sandal Dress Pullover Dress Ankle boot Trouser Trouser  Coat Trouser Pullover Trouser Pullover Ankle boot Dress Sandal Ankle boot Ankle boot Dress   Bag Ankle boot Sneaker Trouser Pullover Sneaker  Coat   Bag Trouser Sandal Dress Ankle boot   Bag Pullover Dress T-shirt/top  Coat Ankle boot Shirt Sandal Sandal Ankle boot  Coat Trouser Sneaker   Bag Pullover Dress Ankle boot Ankle boot Sneaker Ankle boot Ankle boot   Bag Dress Dress Trouser   Bag Sneaker Pullover T-shirt/top Dress Sandal Sandal Pullover Dress   Bag Pullover Dress T-shirt/top Trouser Trouser Dress  Coat Dress Dress Pullover Trouser Ankle boot  Coat Dress Sandal Sneaker Trouser Ankle boot Trouser Sandal Sandal Trouser Sneaker T-shirt/top Dress  Coat Trouser Ankle boot Dress Dress Shirt  Coat Sneaker Sneaker Ankle boot  Coat Dress Shirt Sneaker   Bag Ankle boot Sneaker Dress Pullover Trouser Ankle boot Sneaker   Bag Pullover Pullover  Coat   Bag Sneaker Dress Sandal Dress Trouser   Bag Sandal   Bag Dress Shirt Sandal Shirt Sneaker Sneaker Pullover Dress Sandal Dress  Coat Trouser Dress Dress Shirt Trouser Sandal T-shirt/top Pullover Sandal Sandal Ankle boot Dress Dress Dress Dress Sneaker Sneaker Dress Dress   Bag   Bag   Bag Dress   Bag Trouser Sneaker Sandal Sneaker   Bag Dress Sneaker   Bag Dress Ankle boot Sandal Ankle boot T-shirt/top Sneaker T-shirt/top Shirt Dress Ankle boot Sneaker   Bag Sneaker Sandal Dress Sandal Dress  Coat Pullover Dress Sandal Sneaker Dress Trouser Shirt   Bag Dress Ankle boot  Coat Ankle boot T-shirt/top Trouser Sneaker   Bag Dress Sneaker  Coat  Coat Sneaker Pullover   Bag Sandal Dress Dress Trouser Pullover Trouser   Bag Ankle boot Sandal   Bag T-shirt/top Sandal T-shirt/top Sneaker Dress Sneaker T-shirt/top Shirt Pullover Ankle boot Pullover Shirt Sandal Dress Sandal Ankle boot Sandal Sandal T-shirt/top Sandal Sneaker T-shirt/top Sandal  Coat Sandal Dress   Bag Dress Shirt Dress Trouser Sneaker Ankle boot Shirt Sneaker Sandal Sandal Shirt Dress  Coat T-shirt/top Pullover  Coat Dress Trouser Sandal Sneaker T-shirt/top Trouser Dress  Coat Sneaker Sandal Dress Shirt Shirt Dress Sandal Dress Sneaker Dress T-shirt/top  Coat Sandal Sneaker Pullover Pullover Dress Ankle boot Trouser Sandal Ankle boot Ankle boot   Bag  Coat Ankle boot Pullover   Bag Pullover Pullover Dress Ankle boot Ankle boot Shirt  Coat Sneaker T-shirt/top Dress Dress Dress Shirt Sneaker Trouser Dress   Bag Sneaker T-shirt/top T-shirt/top Sandal Shirt Dress Ankle boot  Coat Shirt Shirt Sandal Pullover Sandal Dress Sneaker Sandal Ankle boot T-shirt/top Ankle boot T-shirt/top Shirt Ankle boot Trouser Dress Sandal Trouser Dress T-shirt/top   Bag T-shirt/top   Bag  Coat Sneaker Dress Dress T-shirt/top   Bag T-shirt/top Sandal  Coat Ankle boot Trouser Sneaker Pullover Shirt Pullover Dress   Bag T-shirt/top  Coat Ankle boot   Bag Pullover T-shirt/top Ankle boot Trouser Ankle boot   Bag Pullover Sneaker Sandal Dress Sandal Pullover Pullover T-shirt/top Pullover Sandal Dress Sneaker Shirt Ankle boot Dress Shirt Dress Sneaker Pullover Sneaker  Coat Trouser Dress Sneaker Pullover Dress Trouser Shirt   Bag Sneaker Sneaker  Coat Sneaker   Bag Sneaker Pullover Sneaker   Bag Sandal Dress Shirt Pullover   Bag Pullover Pullover Trouser Sandal Sneaker Pullover  Coat   Bag Ankle boot Pullover Sneaker   Bag Trouser Pullover Shirt Sandal Dress  Coat Sandal Ankle boot   Bag   Bag Trouser Pullover Ankle boot Pullover   Bag  Coat Sandal Sandal Sneaker Trouser Pullover T-shirt/top   Bag Dress Dress Trouser Sandal Ankle boot Dress Dress T-shirt/top Dress Sneaker Trouser Trouser   Bag Trouser Sandal Dress Dress Shirt Sneaker Dress   Bag Ankle boot  Coat Pullover Sandal Ankle boot Sneaker T-shirt/top Pullover   Bag T-shirt/top Sandal Ankle boot Sandal Pullover   Bag Sneaker   Bag Sneaker Trouser Sandal Sandal Shirt  Coat  Coat Dress Sandal Pullover Trouser Pullover Sneaker Pullover Dress Dress Trouser Trouser Dress Sneaker Shirt Ankle boot Pullover Sandal Trouser T-shirt/top Pullover Dress Dress Trouser  Coat Ankle boot Dress T-shirt/top Sandal Pullover Sneaker T-shirt/top Ankle boot Pullover Trouser  Coat Ankle boot Dress Pullover T-shirt/top  Coat Sandal T-shirt/top Ankle boot Dress Dress Dress Trouser T-shirt/top Dress Pullover   Bag Sneaker Shirt T-shirt/top T-shirt/top Pullover Sneaker  Coat  Coat Trouser Trouser T-shirt/top Pullover Pullover Trouser Trouser   Bag Ankle boot Pullover Pullover Trouser Sneaker Sandal Trouser Sandal Sneaker Pullover T-shirt/top   Bag  Coat   Bag Ankle boot Sandal Dress Ankle boot Trouser Trouser Trouser Dress Trouser Ankle boot  Coat Dress Trouser Sandal Sandal Sandal Trouser   Bag Ankle boot Trouser Sandal Dress Ankle boot T-shirt/top Sneaker Shirt Shirt Ankle boot Sandal   Bag Sandal Sandal Dress Dress Sneaker  Coat Sandal Sandal Dress Shirt Shirt Sandal Dress Sandal  Coat  Coat Dress Sandal Trouser Ankle boot Pullover Sneaker Dress Dress T-shirt/top Dress Dress Pullover Trouser  Coat Sandal T-shirt/top Sandal Trouser  Coat Sandal T-shirt/top T-shirt/top   Bag Dress Trouser Pullover Sandal   Bag Dress Dress T-shirt/top Trouser Trouser Trouser  Coat   Bag Sneaker Ankle boot Ankle boot Pullover Sandal Trouser T-shirt/top Dress Ankle boot Dress  Coat Sandal Shirt Ankle boot  Coat Dress Shirt Sandal Trouser Pullover Sneaker Trouser   Bag Dress Dress Sandal Dress T-shirt/top Pullover Sandal Dress   Bag Trouser  Coat Shirt Dress   Bag Ankle boot Dress Dress Ankle boot Sneaker   Bag Dress Pullover Shirt T-shirt/top Pullover   Bag Dress T-shirt/top   Bag Ankle boot Sneaker Sandal Trouser T-shirt/top T-shirt/top   Bag Trouser   Bag Sneaker Trouser Sneaker Dress Dress Sandal Dress  Coat Sneaker Sandal Shirt Dress   Bag Shirt Trouser   Bag Sandal  Coat Pullover Trouser Sandal Dress Dress T-shirt/top Ankle boot Ankle boot  Coat Sneaker Ankle boot   Bag Ankle boot Dress T-shirt/top Ankle boot Ankle boot Pullover Trouser T-shirt/top Dress   Bag Trouser Dress   Bag Sneaker Sneaker Sandal Pullover   Bag Trouser   Bag Trouser Sneaker Sandal Ankle boot Sandal Ankle boot   Bag Shirt Pullover Trouser Sandal Shirt Ankle boot T-shirt/top Sandal Pullover Sandal Dress Dress Dress Ankle boot Sandal Sneaker Ankle boot Ankle boot Sandal Pullover Ankle boot Dress Shirt Sneaker Sneaker Sandal Pullover Dress Sneaker Dress Shirt Pullover Ankle boot Sneaker Dress Trouser Sneaker Sneaker Dress Pullover Sandal Pullover Sneaker   Bag Dress Pullover Ankle boot Dress Pullover  Coat Sneaker Trouser Dress Pullover Sandal Trouser Shirt   Bag Trouser Sandal   Bag Trouser Pullover  Coat T-shirt/top Dress T-shirt/top Sneaker Sneaker Dress Trouser Pullover Sandal T-shirt/top Ankle boot Pullover Sandal Trouser Sandal T-shirt/top Sandal Dress Ankle boot   Bag Sandal Trouser Trouser Dress Sneaker Dress Pullover Ankle boot   Bag Sneaker  Coat Sneaker Sneaker Shirt Sneaker Sandal Sneaker T-shirt/top Trouser Ankle boot Trouser T-shirt/top Sandal Sneaker Dress Ankle boot   Bag  Coat Trouser Ankle boot   Bag Dress   Bag Ankle boot Ankle boot Sneaker  Coat Dress Trouser Shirt Ankle boot Pullover Dress Trouser Pullover Ankle boot Sandal Trouser Sandal  Coat  Coat   Bag Sneaker Ankle boot Pullover Pullover Sandal Sandal Pullover Dress Shirt Pullover Pullover   Bag Sneaker  Coat Shirt Dress Sneaker Pullover Sandal Ankle boot Ankle boot  Coat   Bag Ankle boot Ankle boot T-shirt/top Pullover   Bag Shirt Ankle boot Ankle boot Ankle boot Ankle boot Sandal Ankle boot Sneaker Dress Dress   Bag Ankle boot Pullover Sneaker Trouser Dress   Bag Dress Pullover  Coat  Coat Trouser Sneaker Dress Dress T-shirt/top  Coat Ankle boot Dress Sneaker Trouser  Coat Sandal T-shirt/top  Coat Sneaker Dress Trouser Ankle boot Dress Ankle boot Sneaker  Coat Shirt Trouser Sandal  Coat Dress Pullover Sneaker Sandal Dress Ankle boot Dress Shirt Sneaker Trouser T-shirt/top Ankle boot Dress Ankle boot Dress Sneaker Sneaker   Bag   Bag  Coat Ankle boot Sandal Dress Ankle boot Dress Sneaker Sandal   Bag Shirt Trouser   Bag Pullover Pullover Pullover Shirt Sneaker Dress Sandal T-shirt/top Sandal Ankle boot T-shirt/top  Coat   Bag Sneaker Trouser Ankle boot Sandal Ankle boot Sneaker   Bag  Coat Dress Sandal Trouser Ankle boot Ankle boot Trouser Dress Ankle boot Pullover  Coat  Coat Dress Dress Sneaker Dress Sandal  Coat Shirt   Bag  Coat Dress  Coat  Coat Sandal T-shirt/top Dress   Bag Shirt Dress Dress Shirt T-shirt/top T-shirt/top Pullover Trouser Sandal  Coat Ankle boot Dress  Coat  Coat   Bag Trouser Ankle boot Pullover Pullover Sneaker Sneaker Sneaker  Coat Ankle boot Sandal   Bag Trouser  Coat Ankle boot Ankle boot Trouser   Bag  Coat Pullover Sandal Sandal Trouser Sandal Sandal Sandal T-shirt/top Sneaker Ankle boot  Coat Sneaker   Bag Sneaker Ankle boot   Bag Dress T-shirt/top Sneaker  Coat T-shirt/top Sneaker Trouser Dress Trouser Sneaker Trouser Sneaker Dress Ankle boot Sandal Ankle boot Trouser Sandal Dress Dress Sandal Ankle boot Shirt T-shirt/top Dress Sandal Dress Dress Sneaker Sandal  Coat Ankle boot Dress Sandal Dress   Bag  Coat Trouser Sneaker Sandal Ankle boot Sneaker Dress Dress Dress Pullover  Coat  Coat   Bag T-shirt/top Sandal Pullover Pullover Shirt Sandal Sneaker T-shirt/top Dress Trouser Pullover Ankle boot T-shirt/top Shirt  Coat Ankle boot Pullover T-shirt/top T-shirt/top Dress Dress Shirt Sneaker Pullover Sneaker Pullover T-shirt/top Sneaker Sneaker Sandal  Coat Sneaker Sandal Sneaker Shirt  Coat Trouser Ankle boot Sandal Sneaker Sneaker Sandal Pullover Sandal Dress Pullover  Coat Ankle boot   Bag Shirt  Coat Pullover T-shirt/top Ankle boot  Coat Sneaker Ankle boot Pullover Shirt Ankle boot Sandal Shirt Trouser Sandal Sandal   Bag Dress Sandal T-shirt/top Shirt Trouser   Bag Sandal Dress T-shirt/top   Bag Sandal Trouser  Coat Shirt Sneaker Pullover Trouser Dress Dress Dress Dress Shirt Trouser Shirt Sandal   Bag Sandal Pullover T-shirt/top Ankle boot Dress Dress Pullover Dress Dress Shirt Shirt Sneaker   Bag Sandal   Bag Pullover Sneaker T-shirt/top Dress T-shirt/top T-shirt/top Trouser Shirt  Coat Dress T-shirt/top   Bag Sandal   Bag   Bag Trouser Pullover   Bag Ankle boot Sandal Trouser  Coat Sneaker Shirt Trouser Ankle boot Dress Shirt Sandal Ankle boot   Bag Sandal Pullover T-shirt/top Sneaker  Coat Dress   Bag Shirt Trouser  Coat   Bag Sneaker T-shirt/top Trouser Sneaker Pullover T-shirt/top Ankle boot Dress Sneaker Shirt Sandal Sandal Ankle boot Pullover T-shirt/top Dress Pullover Trouser Trouser Dress T-shirt/top Sneaker Sandal Sandal Sandal Dress   Bag Sneaker T-shirt/top Ankle boot T-shirt/top Sandal Shirt Sandal Ankle boot T-shirt/top Ankle boot Pullover Dress   Bag Ankle boot Shirt  Coat Sandal   Bag Pullover T-shirt/top  Coat Sneaker Dress Dress Dress Ankle boot T-shirt/top Ankle boot Ankle boot Dress T-shirt/top T-shirt/top Dress Shirt Pullover Shirt Sandal Dress Dress   Bag Sneaker Trouser Trouser Dress T-shirt/top Trouser Dress Dress   Bag Sneaker T-shirt/top Ankle boot  Coat Sneaker Sneaker Ankle boot   Bag Sneaker T-shirt/top Pullover Trouser  Coat Ankle boot T-shirt/top Pullover Dress Shirt Shirt Trouser   Bag Ankle boot Ankle boot  Coat Sandal Trouser  Coat Pullover Ankle boot  Coat  Coat Dress T-shirt/top Sandal Trouser  Coat Ankle boot T-shirt/top   Bag   Bag Ankle boot Sandal Dress Sneaker Ankle boot Dress Dress T-shirt/top Pullover Dress Dress Shirt Ankle boot   Bag Sandal Sandal Ankle boot Dress Sandal Dress Trouser Ankle boot Ankle boot   Bag Dress Dress Shirt Sneaker Sneaker Sneaker Dress Dress T-shirt/top Ankle boot Dress Pullover Sandal Sandal Sandal T-shirt/top Sandal Sneaker Dress Trouser   Bag Dress Sandal   Bag  Coat Sandal Dress Ankle boot Dress Trouser Pullover Dress Trouser   Bag Trouser Ankle boot Sneaker T-shirt/top Sneaker Sneaker Dress Dress Trouser  Coat   Bag Dress Dress Dress Dress Ankle boot T-shirt/top Ankle boot Trouser Pullover Ankle boot T-shirt/top Dress Shirt   Bag Ankle boot Trouser Pullover Shirt Ankle boot Trouser   Bag Trouser Trouser Trouser Sandal   Bag Sneaker Shirt Dress T-shirt/top Shirt Trouser Shirt Dress Sandal Ankle boot Dress  Coat Ankle boot T-shirt/top Ankle boot  Coat Ankle boot Trouser Dress Dress T-shirt/top Pullover Sandal Trouser T-shirt/top Sandal   Bag  Coat Trouser Ankle boot   Bag Dress T-shirt/top Ankle boot Shirt Pullover Trouser Pullover T-shirt/top Ankle boot Pullover Pullover Dress Sneaker Dress Trouser Trouser Ankle boot Trouser Pullover T-shirt/top   Bag T-shirt/top T-shirt/top Sneaker Dress Sandal Trouser Ankle boot Sneaker Sneaker T-shirt/top T-shirt/top Dress Sandal Trouser Ankle boot Sneaker T-shirt/top Pullover Shirt Trouser   Bag   Bag T-shirt/top Sneaker   Bag Sneaker Dress Shirt Sneaker Sneaker T-shirt/top T-shirt/top  Coat Trouser Trouser Sandal Sneaker Sandal Sneaker  Coat Shirt Sneaker Sneaker T-shirt/top Pullover Sandal Sandal Trouser Pullover T-shirt/top Ankle boot Sandal Shirt  Coat Trouser T-shirt/top Dress T-shirt/top  Coat Ankle boot Trouser   Bag T-shirt/top Sandal Trouser Ankle boot Pullover T-shirt/top Dress Dress Dress Trouser Ankle boot Trouser Shirt Trouser Sandal  Coat  Coat Sandal Trouser   Bag Pullover Pullover Pullover T-shirt/top  Coat Sneaker Sneaker Sandal Sandal Trouser Dress  Coat  Coat Shirt Trouser T-shirt/top  Coat Trouser Trouser Pullover Trouser Ankle boot T-shirt/top Sandal T-shirt/top   Bag T-shirt/top Shirt Sneaker Dress Sandal Dress T-shirt/top Pullover Trouser Sandal Dress Trouser Shirt Pullover Shirt T-shirt/top Dress Dress T-shirt/top  Coat Pullover Sandal Shirt Pullover Sandal Pullover Pullover   Bag Sandal Trouser Sandal Ankle boot Shirt Dress Dress  Coat T-shirt/top Sneaker Ankle boot  Coat Dress Ankle boot Dress Sneaker Sneaker Pullover T-shirt/top Dress Shirt Ankle boot T-shirt/top Trouser T-shirt/top  Coat Trouser Trouser T-shirt/top Ankle boot Dress Sandal Sneaker Pullover Dress Dress Dress Pullover Ankle boot T-shirt/top T-shirt/top Sandal Dress T-shirt/top Ankle boot   Bag T-shirt/top Trouser Sandal   Bag Ankle boot Sneaker Trouser Dress Sandal Dress T-shirt/top Dress Dress Trouser Sandal Dress Ankle boot Ankle boot Shirt Trouser Shirt Dress   Bag Trouser Trouser Ankle boot Sandal Sandal Dress   Bag Trouser   Bag Trouser Pullover   Bag  Coat Dress Sandal  Coat Ankle boot Sandal T-shirt/top Pullover Shirt Ankle boot Ankle boot T-shirt/top Pullover Shirt Ankle boot Sneaker Ankle boot Ankle boot Trouser Dress Dress Sneaker Pullover Trouser Dress T-shirt/top Trouser Ankle boot   Bag Trouser  Coat   Bag Dress Sandal Shirt Trouser Sandal   Bag   Bag Trouser Sneaker   Bag   Bag Sneaker Pullover Sneaker Shirt Dress Sandal Sandal Pullover Ankle boot Shirt Sandal Sandal Pullover Dress Sandal  Coat Dress Sneaker Sneaker Dress  Coat Pullover  Coat  Coat Pullover Pullover Trouser Pullover   Bag\n"
     ]
    }
   ],
   "source": [
    "_, predicted = torch.max(outputs, 1)\n",
    "\n",
    "print('Predicted: ', ' '.join('%5s' % classes[predicted[j]]\n",
    "                              for j in range(batch_size)))"
   ]
  },
  {
   "cell_type": "code",
   "execution_count": 26,
   "metadata": {
    "colab": {
     "base_uri": "https://localhost:8080/"
    },
    "id": "_fKdJHWbX2DR",
    "outputId": "038c26f6-4ab3-4954-c104-504a9fdd2d05"
   },
   "outputs": [
    {
     "name": "stdout",
     "output_type": "stream",
     "text": [
      "Accuracy of the network on the 10000 test images: 89 %\n"
     ]
    }
   ],
   "source": [
    "net.eval()\n",
    "correct = 0\n",
    "total = 0\n",
    "# 학습 중이 아니므로, 출력에 대한 변화도를 계산할 필요가 없습니다\n",
    "with torch.no_grad():\n",
    "    for data in testloader:\n",
    "        images, labels = data[0].to(device), data[1].to(device)\n",
    "\n",
    "        # 신경망에 이미지를 통과시켜 출력을 계산합니다\n",
    "        outputs = net(images)\n",
    "        # 가장 높은 값(energy)를 갖는 분류(class)를 정답으로 선택하겠습니다\n",
    "        _, predicted = torch.max(outputs.data, 1)\n",
    "        total += labels.size(0)\n",
    "        correct += (predicted == labels).sum().item()\n",
    "\n",
    "print('Accuracy of the network on the 10000 test images: %d %%' % (\n",
    "    100 * correct / total))"
   ]
  },
  {
   "cell_type": "code",
   "execution_count": 27,
   "metadata": {
    "colab": {
     "base_uri": "https://localhost:8080/"
    },
    "id": "zSiYXtBCYEJx",
    "outputId": "26710488-3eac-49fe-defb-67c03011007c"
   },
   "outputs": [
    {
     "name": "stdout",
     "output_type": "stream",
     "text": [
      "Accuracy for class T-shirt/top is: 80.4 %\n",
      "Accuracy for class Trouser is: 99.0 %\n",
      "Accuracy for class Pullover is: 88.5 %\n",
      "Accuracy for class Dress is: 97.7 %\n",
      "Accuracy for class Coat  is: 77.1 %\n",
      "Accuracy for class Sandal is: 98.8 %\n",
      "Accuracy for class Shirt is: 58.4 %\n",
      "Accuracy for class Sneaker is: 98.3 %\n",
      "Accuracy for class Bag   is: 96.2 %\n",
      "Accuracy for class Ankle boot is: 96.9 %\n"
     ]
    }
   ],
   "source": [
    "# 각 분류(class)에 대한 예측값 계산을 위해 준비\n",
    "correct_pred = {classname: 0 for classname in classes}\n",
    "total_pred = {classname: 0 for classname in classes}\n",
    "\n",
    "# 변화도는 여전히 필요하지 않습니다\n",
    "with torch.no_grad():\n",
    "    for data in testloader:\n",
    "        images, labels = data[0].to(device), data[1].to(device)\n",
    "        outputs = net(images)\n",
    "        _, predictions = torch.max(outputs, 1)\n",
    "        # 각 분류별로 올바른 예측 수를 모읍니다\n",
    "        for label, prediction in zip(labels, predictions):\n",
    "            if label == prediction:\n",
    "                correct_pred[classes[label]] += 1\n",
    "            total_pred[classes[label]] += 1\n",
    "\n",
    "\n",
    "# 각 분류별 정확도(accuracy)를 출력합니다\n",
    "for classname, correct_count in correct_pred.items():\n",
    "    accuracy = 100 * float(correct_count) / total_pred[classname]\n",
    "    print(\"Accuracy for class {:5s} is: {:.1f} %\".format(classname,\n",
    "                                                   accuracy))"
   ]
  },
  {
   "cell_type": "code",
   "execution_count": 28,
   "metadata": {
    "id": "0UorzWjiYEG7"
   },
   "outputs": [
    {
     "name": "stdout",
     "output_type": "stream",
     "text": [
      "Sneaker\n",
      "Coat\n",
      "Sandal\n",
      "Sandal\n",
      "Dress\n",
      "Pullover\n",
      "Coat\n",
      "Dress\n",
      "Shirt\n",
      "Ankle boot\n"
     ]
    }
   ],
   "source": [
    "for i in range(10):\n",
    "    print(classes[labels[i]])"
   ]
  },
  {
   "cell_type": "code",
   "execution_count": null,
   "metadata": {},
   "outputs": [],
   "source": []
  }
 ],
 "metadata": {
  "accelerator": "GPU",
  "colab": {
   "authorship_tag": "ABX9TyOJSwc78vQi4Iw7xpvGyCs6",
   "include_colab_link": true,
   "name": "Project 0. pytorch tutorial_jaewook.ipynb",
   "provenance": []
  },
  "kernelspec": {
   "display_name": "Environment (conda_pytorch_p36)",
   "language": "python",
   "name": "conda_pytorch_p36"
  },
  "language_info": {
   "codemirror_mode": {
    "name": "ipython",
    "version": 3
   },
   "file_extension": ".py",
   "mimetype": "text/x-python",
   "name": "python",
   "nbconvert_exporter": "python",
   "pygments_lexer": "ipython3",
   "version": "3.6.5"
  }
 },
 "nbformat": 4,
 "nbformat_minor": 1
}
