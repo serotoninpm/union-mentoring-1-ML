{
 "cells": [
  {
   "cell_type": "code",
   "execution_count": 1,
   "metadata": {},
   "outputs": [],
   "source": [
    "# https://minjoos.tistory.com/6"
   ]
  },
  {
   "cell_type": "code",
   "execution_count": 5,
   "metadata": {},
   "outputs": [],
   "source": [
    "import torch\n",
    "import torchvision\n",
    "import torchvision.transforms as transforms\n",
    "\n",
    "import torch.nn as nn\n",
    "import torch.nn.functional as F\n",
    "\n",
    "import matplotlib.pyplot as plt\n",
    "import numpy as np\n",
    "import scipy\n",
    "\n",
    "import json\n",
    "import os\n",
    "\n",
    "transform = transforms.Compose([\n",
    "    transforms.Resize((224, 224)),\n",
    "    transforms.ToTensor(),\n",
    "    transforms.Normalize((0.485, 0.456, 0.406), (0.229, 0.224, 0.225)),\n",
    "])\n",
    "\n",
    "trainset = torchvision.datasets.ImageNet('./datasets/imagenet', split='train', download=None, transform=transform)\n",
    "trainloader = torch.utils.data.DataLoader(trainset, batch_size=64, shuffle=True)\n",
    "\n",
    "testset = torchvision.datasets.ImageNet('./datasets/imagenet', split='val', download=None, transform=transform)\n",
    "testloader = torch.utils.data.DataLoader(testset, batch_size=64, shuffle=False)"
   ]
  },
  {
   "cell_type": "code",
   "execution_count": 3,
   "metadata": {},
   "outputs": [
    {
     "name": "stdout",
     "output_type": "stream",
     "text": [
      "amp_apply.py         \u001b[0m\u001b[01;34mcheckpoint\u001b[0m/              \u001b[01;34mmodels\u001b[0m/       utils.py\r\n",
      "\u001b[01;34mapex\u001b[0m/                \u001b[01;34mdatasets\u001b[0m/                \u001b[01;34m__pycache__\u001b[0m/\r\n",
      "basic_check_time.py  imagenet_download.ipynb  \u001b[01;34mresult\u001b[0m/\r\n"
     ]
    }
   ],
   "source": [
    "ls"
   ]
  },
  {
   "cell_type": "code",
   "execution_count": 4,
   "metadata": {},
   "outputs": [
    {
     "name": "stdout",
     "output_type": "stream",
     "text": [
      "/home/ubuntu/ml_union/union-mentoring-1-ML/low_precision/datasets\n"
     ]
    }
   ],
   "source": [
    "cd datasets"
   ]
  },
  {
   "cell_type": "code",
   "execution_count": 5,
   "metadata": {},
   "outputs": [
    {
     "name": "stdout",
     "output_type": "stream",
     "text": [
      "/home/ubuntu/ml_union/union-mentoring-1-ML/low_precision/datasets/imagenet\n"
     ]
    }
   ],
   "source": [
    "cd imagenet"
   ]
  },
  {
   "cell_type": "code",
   "execution_count": 6,
   "metadata": {},
   "outputs": [],
   "source": [
    "ls"
   ]
  },
  {
   "cell_type": "code",
   "execution_count": 7,
   "metadata": {},
   "outputs": [
    {
     "name": "stdout",
     "output_type": "stream",
     "text": [
      "--2021-08-21 16:30:18--  http://www.image-net.org/challenges/LSVRC/2012/nnoupb/ILSVRC2012_img_train.tar\n",
      "Resolving www.image-net.org (www.image-net.org)... 171.64.68.16\n",
      "Connecting to www.image-net.org (www.image-net.org)|171.64.68.16|:80... connected.\n",
      "HTTP request sent, awaiting response... 301 Moved Permanently\n",
      "Location: https://image-net.org/challenges/LSVRC/2012/nnoupb/ILSVRC2012_img_train.tar [following]\n",
      "--2021-08-21 16:30:19--  https://image-net.org/challenges/LSVRC/2012/nnoupb/ILSVRC2012_img_train.tar\n",
      "Resolving image-net.org (image-net.org)... 171.64.68.16\n",
      "Connecting to image-net.org (image-net.org)|171.64.68.16|:443... connected.\n",
      "HTTP request sent, awaiting response... 404 Not Found\n",
      "2021-08-21 16:30:19 ERROR 404: Not Found.\n",
      "\n"
     ]
    }
   ],
   "source": [
    "!wget http://www.image-net.org/challenges/LSVRC/2012/nnoupb/ILSVRC2012_img_train.tar"
   ]
  },
  {
   "cell_type": "code",
   "execution_count": 8,
   "metadata": {},
   "outputs": [
    {
     "name": "stdout",
     "output_type": "stream",
     "text": [
      "--2021-08-21 16:35:54--  http://www.image-net.org/challenges/LSVRC/2012/nnoupb/ILSVRC2012_img_train.tar\n",
      "Resolving www.image-net.org (www.image-net.org)... 171.64.68.16\n",
      "Connecting to www.image-net.org (www.image-net.org)|171.64.68.16|:80... connected.\n",
      "HTTP request sent, awaiting response... 301 Moved Permanently\n",
      "Location: https://image-net.org/challenges/LSVRC/2012/nnoupb/ILSVRC2012_img_train.tar [following]\n",
      "--2021-08-21 16:35:54--  https://image-net.org/challenges/LSVRC/2012/nnoupb/ILSVRC2012_img_train.tar\n",
      "Resolving image-net.org (image-net.org)... 171.64.68.16\n",
      "Connecting to image-net.org (image-net.org)|171.64.68.16|:443... connected.\n",
      "HTTP request sent, awaiting response... 404 Not Found\n",
      "2021-08-21 16:35:55 ERROR 404: Not Found.\n",
      "\n"
     ]
    }
   ],
   "source": [
    "!wget http://www.image-net.org/challenges/LSVRC/2012/nnoupb/ILSVRC2012_img_train.tar"
   ]
  },
  {
   "cell_type": "code",
   "execution_count": null,
   "metadata": {},
   "outputs": [],
   "source": []
  }
 ],
 "metadata": {
  "kernelspec": {
   "display_name": "Environment (conda_union2)",
   "language": "python",
   "name": "conda_union2"
  },
  "language_info": {
   "codemirror_mode": {
    "name": "ipython",
    "version": 3
   },
   "file_extension": ".py",
   "mimetype": "text/x-python",
   "name": "python",
   "nbconvert_exporter": "python",
   "pygments_lexer": "ipython3",
   "version": "3.8.11"
  }
 },
 "nbformat": 4,
 "nbformat_minor": 2
}
