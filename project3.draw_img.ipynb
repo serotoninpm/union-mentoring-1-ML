{
 "cells": [
  {
   "cell_type": "code",
   "execution_count": 1,
   "metadata": {},
   "outputs": [],
   "source": [
    "from matplotlib import pyplot as plt\n",
    "import pandas as pd"
   ]
  },
  {
   "cell_type": "code",
   "execution_count": 2,
   "metadata": {},
   "outputs": [],
   "source": [
    "from glob import glob\n",
    "import json"
   ]
  },
  {
   "cell_type": "code",
   "execution_count": 3,
   "metadata": {},
   "outputs": [],
   "source": [
    "output = glob('./weight_pruning/result/*.json')"
   ]
  },
  {
   "cell_type": "code",
   "execution_count": 4,
   "metadata": {},
   "outputs": [
    {
     "data": {
      "text/plain": [
       "['./weight_pruning/result/0.02.json',\n",
       " './weight_pruning/result/0.03.json',\n",
       " './weight_pruning/result/0.05.json',\n",
       " './weight_pruning/result/0.1.json',\n",
       " './weight_pruning/result/0.15.json',\n",
       " './weight_pruning/result/0.25.json',\n",
       " './weight_pruning/result/0.5.json',\n",
       " './weight_pruning/result/0.6.json',\n",
       " './weight_pruning/result/0.8.json',\n",
       " './weight_pruning/result/0.9.json']"
      ]
     },
     "execution_count": 4,
     "metadata": {},
     "output_type": "execute_result"
    }
   ],
   "source": [
    "output"
   ]
  },
  {
   "cell_type": "code",
   "execution_count": 5,
   "metadata": {},
   "outputs": [],
   "source": [
    "dic={}"
   ]
  },
  {
   "cell_type": "code",
   "execution_count": 6,
   "metadata": {},
   "outputs": [],
   "source": [
    "for file_path in output:\n",
    "    with open(file_path, \"r\") as json_file:\n",
    "        json_data = json.load(json_file)\n",
    "        dic[json_data[\"result\"][0][\"percent\"]]=json_data[\"result\"][0]"
   ]
  },
  {
   "cell_type": "code",
   "execution_count": 7,
   "metadata": {},
   "outputs": [],
   "source": [
    "df = pd.DataFrame(dic)"
   ]
  },
  {
   "cell_type": "code",
   "execution_count": 8,
   "metadata": {},
   "outputs": [],
   "source": [
    "df = df.T"
   ]
  },
  {
   "cell_type": "code",
   "execution_count": 9,
   "metadata": {},
   "outputs": [],
   "source": [
    "df = df.sort_values(by=\"percent\",ascending=True)"
   ]
  },
  {
   "cell_type": "code",
   "execution_count": 10,
   "metadata": {},
   "outputs": [
    {
     "data": {
      "text/html": [
       "<div>\n",
       "<style scoped>\n",
       "    .dataframe tbody tr th:only-of-type {\n",
       "        vertical-align: middle;\n",
       "    }\n",
       "\n",
       "    .dataframe tbody tr th {\n",
       "        vertical-align: top;\n",
       "    }\n",
       "\n",
       "    .dataframe thead th {\n",
       "        text-align: right;\n",
       "    }\n",
       "</style>\n",
       "<table border=\"1\" class=\"dataframe\">\n",
       "  <thead>\n",
       "    <tr style=\"text-align: right;\">\n",
       "      <th></th>\n",
       "      <th>percent</th>\n",
       "      <th>trainset_acc</th>\n",
       "      <th>testset_acc</th>\n",
       "      <th>zero_params</th>\n",
       "      <th>all_params</th>\n",
       "    </tr>\n",
       "  </thead>\n",
       "  <tbody>\n",
       "    <tr>\n",
       "      <th>0.02</th>\n",
       "      <td>0.02</td>\n",
       "      <td>90.564</td>\n",
       "      <td>86.50</td>\n",
       "      <td>5366.0</td>\n",
       "      <td>268500.0</td>\n",
       "    </tr>\n",
       "    <tr>\n",
       "      <th>0.03</th>\n",
       "      <td>0.03</td>\n",
       "      <td>90.454</td>\n",
       "      <td>86.14</td>\n",
       "      <td>8050.0</td>\n",
       "      <td>268500.0</td>\n",
       "    </tr>\n",
       "    <tr>\n",
       "      <th>0.05</th>\n",
       "      <td>0.05</td>\n",
       "      <td>89.274</td>\n",
       "      <td>84.82</td>\n",
       "      <td>13423.0</td>\n",
       "      <td>268500.0</td>\n",
       "    </tr>\n",
       "    <tr>\n",
       "      <th>0.10</th>\n",
       "      <td>0.10</td>\n",
       "      <td>86.478</td>\n",
       "      <td>82.62</td>\n",
       "      <td>26848.0</td>\n",
       "      <td>268500.0</td>\n",
       "    </tr>\n",
       "    <tr>\n",
       "      <th>0.15</th>\n",
       "      <td>0.15</td>\n",
       "      <td>85.304</td>\n",
       "      <td>81.17</td>\n",
       "      <td>40272.0</td>\n",
       "      <td>268500.0</td>\n",
       "    </tr>\n",
       "    <tr>\n",
       "      <th>0.25</th>\n",
       "      <td>0.25</td>\n",
       "      <td>77.372</td>\n",
       "      <td>75.76</td>\n",
       "      <td>67125.0</td>\n",
       "      <td>268500.0</td>\n",
       "    </tr>\n",
       "    <tr>\n",
       "      <th>0.50</th>\n",
       "      <td>0.50</td>\n",
       "      <td>20.542</td>\n",
       "      <td>21.66</td>\n",
       "      <td>134250.0</td>\n",
       "      <td>268500.0</td>\n",
       "    </tr>\n",
       "    <tr>\n",
       "      <th>0.60</th>\n",
       "      <td>0.60</td>\n",
       "      <td>12.980</td>\n",
       "      <td>13.70</td>\n",
       "      <td>161098.0</td>\n",
       "      <td>268500.0</td>\n",
       "    </tr>\n",
       "    <tr>\n",
       "      <th>0.80</th>\n",
       "      <td>0.80</td>\n",
       "      <td>10.000</td>\n",
       "      <td>10.00</td>\n",
       "      <td>214798.0</td>\n",
       "      <td>268500.0</td>\n",
       "    </tr>\n",
       "    <tr>\n",
       "      <th>0.90</th>\n",
       "      <td>0.90</td>\n",
       "      <td>10.000</td>\n",
       "      <td>10.00</td>\n",
       "      <td>241647.0</td>\n",
       "      <td>268500.0</td>\n",
       "    </tr>\n",
       "  </tbody>\n",
       "</table>\n",
       "</div>"
      ],
      "text/plain": [
       "      percent  trainset_acc  testset_acc  zero_params  all_params\n",
       "0.02     0.02        90.564        86.50       5366.0    268500.0\n",
       "0.03     0.03        90.454        86.14       8050.0    268500.0\n",
       "0.05     0.05        89.274        84.82      13423.0    268500.0\n",
       "0.10     0.10        86.478        82.62      26848.0    268500.0\n",
       "0.15     0.15        85.304        81.17      40272.0    268500.0\n",
       "0.25     0.25        77.372        75.76      67125.0    268500.0\n",
       "0.50     0.50        20.542        21.66     134250.0    268500.0\n",
       "0.60     0.60        12.980        13.70     161098.0    268500.0\n",
       "0.80     0.80        10.000        10.00     214798.0    268500.0\n",
       "0.90     0.90        10.000        10.00     241647.0    268500.0"
      ]
     },
     "execution_count": 10,
     "metadata": {},
     "output_type": "execute_result"
    }
   ],
   "source": [
    "df"
   ]
  },
  {
   "cell_type": "code",
   "execution_count": null,
   "metadata": {},
   "outputs": [],
   "source": []
  },
  {
   "cell_type": "code",
   "execution_count": 11,
   "metadata": {},
   "outputs": [
    {
     "data": {
      "image/png": "[encoded data removed]",
      "text/plain": [
       "<Figure size 640x480 with 1 Axes>"
      ]
     },
     "metadata": {},
     "output_type": "display_data"
    }
   ],
   "source": [
    "percent = df['percent'].tolist()\n",
    "trainset_acc = df['trainset_acc'].tolist()\n",
    "testset_acc = df['testset_acc'].tolist()\n",
    "plt.plot(percent, trainset_acc, marker='o')\n",
    "plt.plot(percent, testset_acc, marker='o')\n",
    "plt.title('Weight pruning')\n",
    "plt.xlabel('Pruning Percent')\n",
    "plt.ylabel('Accuracy')\n",
    "plt.legend(['Train set', 'Test set'])\n",
    "\n",
    "# 화면에 그래프를 보여줍니다\n",
    "plt.show()"
   ]
  },
  {
   "cell_type": "code",
   "execution_count": null,
   "metadata": {},
   "outputs": [],
   "source": []
  }
 ],
 "metadata": {
  "kernelspec": {
   "display_name": "Environment (conda_union2)",
   "language": "python",
   "name": "conda_union2"
  },
  "language_info": {
   "codemirror_mode": {
    "name": "ipython",
    "version": 3
   },
   "file_extension": ".py",
   "mimetype": "text/x-python",
   "name": "python",
   "nbconvert_exporter": "python",
   "pygments_lexer": "ipython3",
   "version": "3.8.11"
  }
 },
 "nbformat": 4,
 "nbformat_minor": 2
}
